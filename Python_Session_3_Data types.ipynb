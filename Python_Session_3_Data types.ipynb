{
 "cells": [
  {
   "cell_type": "markdown",
   "id": "07ce7321-e5f9-4c09-be6e-00f5b1089c82",
   "metadata": {},
   "source": [
    "# Data types"
   ]
  },
  {
   "cell_type": "markdown",
   "id": "14be76bc-46a9-4dd9-9efe-cfa14fbeeddf",
   "metadata": {},
   "source": [
    "- Python can say data type of the value with out intializing\n",
    "- which means the data type automatically consider\n",
    "- Python has some inbuilt datatype structure\n",
    "- int : integer\n",
    "- float \n",
    "- str : String \n",
    "- bool: boolean \n",
    "- complex\n",
    "- list\n",
    "- tuple\n",
    "- dict : dictionary\n",
    "- set \n",
    "- frozenset\n",
    "- bytes\n",
    "- bytearray\n",
    "- memoryview"
   ]
  },
  {
   "cell_type": "markdown",
   "id": "07986928-dcab-47ae-93cd-7592a31b5346",
   "metadata": {},
   "source": [
    "**integer**"
   ]
  },
  {
   "cell_type": "code",
   "execution_count": 6,
   "id": "46b6c253-e565-41a1-9aaa-23e94b54c28c",
   "metadata": {},
   "outputs": [
    {
     "data": {
      "text/plain": [
       "int"
      ]
     },
     "execution_count": 6,
     "metadata": {},
     "output_type": "execute_result"
    }
   ],
   "source": [
    "num=100\n",
    "type(num)"
   ]
  },
  {
   "cell_type": "code",
   "execution_count": 8,
   "id": "56a15f6e-3793-4a16-863e-d9b37920ca94",
   "metadata": {},
   "outputs": [
    {
     "name": "stdout",
     "output_type": "stream",
     "text": [
      "100\n"
     ]
    }
   ],
   "source": [
    "print(num)"
   ]
  },
  {
   "cell_type": "code",
   "execution_count": 10,
   "id": "06fd70db-250e-494e-9935-57b43e1f1e05",
   "metadata": {},
   "outputs": [],
   "source": [
    "# we have numerical language\n",
    "# age = 20\n",
    "# distance =20\n",
    "# salary=20000\n",
    "# mars\n",
    "# mars == earch\n",
    "# how old are you = 7 years\n",
    "# earth === > marks\n",
    "# ob111"
   ]
  },
  {
   "cell_type": "markdown",
   "id": "e84df7cf-2efc-4438-85bd-350f0884405f",
   "metadata": {},
   "source": [
    "**binary number system**\n",
    "- digits: 0, 1,2,3,4,5,6,7,8,9\n",
    "\n",
    "- binary : bi means two : 0 and 1\n",
    "\n",
    "- representation is : 0b001,0b111,0b101\n",
    "\n",
    "- wrong representation is : 0b102"
   ]
  },
  {
   "cell_type": "code",
   "execution_count": 16,
   "id": "68e02af1-5037-4964-a870-dd075e7e8274",
   "metadata": {},
   "outputs": [
    {
     "data": {
      "text/plain": [
       "7"
      ]
     },
     "execution_count": 16,
     "metadata": {},
     "output_type": "execute_result"
    }
   ],
   "source": [
    "0b111"
   ]
  },
  {
   "cell_type": "code",
   "execution_count": 18,
   "id": "ed40b0d4-2fe6-45ab-a12a-940ce7f538e1",
   "metadata": {},
   "outputs": [
    {
     "data": {
      "text/plain": [
       "21"
      ]
     },
     "execution_count": 18,
     "metadata": {},
     "output_type": "execute_result"
    }
   ],
   "source": [
    "0b10101"
   ]
  },
  {
   "cell_type": "code",
   "execution_count": 20,
   "id": "d5d4b756-69c3-462e-a68d-ed8582c79477",
   "metadata": {},
   "outputs": [
    {
     "data": {
      "text/plain": [
       "10"
      ]
     },
     "execution_count": 20,
     "metadata": {},
     "output_type": "execute_result"
    }
   ],
   "source": [
    "0B1010"
   ]
  },
  {
   "cell_type": "code",
   "execution_count": null,
   "id": "94d6088f-ee90-49e3-b6a8-5f01a75fb869",
   "metadata": {},
   "outputs": [],
   "source": [
    "2^2 =4 2^1=2 2^0=1  \n",
    "0        0     0    \n",
    "0        0     1\n",
    "0        1     0\n",
    "0        1     1\n",
    "1        0     0\n",
    "1        0     1\n",
    "1        1     0\n",
    "1        1     1"
   ]
  },
  {
   "cell_type": "code",
   "execution_count": 24,
   "id": "4f131223-4f4e-4e45-87af-e84ca567fadf",
   "metadata": {},
   "outputs": [
    {
     "data": {
      "text/plain": [
       "(12, 14)"
      ]
     },
     "execution_count": 24,
     "metadata": {},
     "output_type": "execute_result"
    }
   ],
   "source": [
    "0b1100,0b1110"
   ]
  },
  {
   "cell_type": "markdown",
   "id": "48a03048-f5e8-45ec-b764-83f11bde6c82",
   "metadata": {},
   "source": [
    "**Octal number system**\n",
    "\n",
    "- digits: 0, 1,2,3,4,5,6,7,8,9\n",
    "\n",
    "- Octal : Octal means 8 : 0,1,2,3,4,5,6,7\n",
    "\n",
    "- representation is : 0o567,0o123,0o765\n",
    "\n",
    "- wrong representation is : 'o' as start, 0o789\n"
   ]
  },
  {
   "cell_type": "code",
   "execution_count": 32,
   "id": "911781b1-256c-4def-b911-517f4f958a30",
   "metadata": {},
   "outputs": [
    {
     "data": {
      "text/plain": [
       "4232"
      ]
     },
     "execution_count": 32,
     "metadata": {},
     "output_type": "execute_result"
    }
   ],
   "source": [
    "4224^8"
   ]
  },
  {
   "cell_type": "code",
   "execution_count": 38,
   "id": "fdc80de2-c2af-481d-9201-21378e7cfc89",
   "metadata": {},
   "outputs": [
    {
     "data": {
      "text/plain": [
       "2196"
      ]
     },
     "execution_count": 38,
     "metadata": {},
     "output_type": "execute_result"
    }
   ],
   "source": [
    "0o4224"
   ]
  },
  {
   "cell_type": "code",
   "execution_count": 43,
   "id": "04e3c06d-ef93-498e-93ee-885a3ed0db72",
   "metadata": {},
   "outputs": [
    {
     "data": {
      "text/plain": [
       "2833"
      ]
     },
     "execution_count": 43,
     "metadata": {},
     "output_type": "execute_result"
    }
   ],
   "source": [
    "0o5421"
   ]
  },
  {
   "cell_type": "code",
   "execution_count": 47,
   "id": "6269f275-44a3-4dc4-8e8b-977587916003",
   "metadata": {},
   "outputs": [
    {
     "data": {
      "text/plain": [
       "990"
      ]
     },
     "execution_count": 47,
     "metadata": {},
     "output_type": "execute_result"
    }
   ],
   "source": [
    "0o1736"
   ]
  },
  {
   "cell_type": "markdown",
   "id": "54224715-58bc-4808-a680-7014db55de62",
   "metadata": {},
   "source": [
    "**Hexa number system**\n",
    "\n",
    "- digits: 0, 1,2,3,4,5,6,7,8,9\n",
    "\n",
    "- Hexa : hexa means 16 : 0,1,2,3,4,5,6,7,8,9,A=10,B=11,C=12,D=13,E=14,F=15\n",
    "\n",
    "- representation is : 0X567,0X123,0Xabc\n",
    "\n",
    "- wrong representation is : 'o' as start, 0h67"
   ]
  },
  {
   "cell_type": "code",
   "execution_count": 50,
   "id": "2e90e223-2304-440b-b8bc-a9436a0377dc",
   "metadata": {},
   "outputs": [
    {
     "data": {
      "text/plain": [
       "291"
      ]
     },
     "execution_count": 50,
     "metadata": {},
     "output_type": "execute_result"
    }
   ],
   "source": [
    "0x123"
   ]
  },
  {
   "cell_type": "code",
   "execution_count": 52,
   "id": "8c1d9e43-1e0d-43e4-966f-1884675c84d9",
   "metadata": {},
   "outputs": [
    {
     "data": {
      "text/plain": [
       "2748"
      ]
     },
     "execution_count": 52,
     "metadata": {},
     "output_type": "execute_result"
    }
   ],
   "source": [
    "0xabc"
   ]
  },
  {
   "cell_type": "markdown",
   "id": "217f0116-bf78-4748-9e40-6146bc7f4c87",
   "metadata": {},
   "source": [
    "**float**\n",
    "\n",
    "- float numbers means continues points\n",
    "- float numbers means having some decimals\n",
    "- integer number means discrete points"
   ]
  },
  {
   "cell_type": "code",
   "execution_count": 55,
   "id": "11ec1ee8-98d8-4a9b-a0ee-a51305e4c74e",
   "metadata": {},
   "outputs": [
    {
     "data": {
      "text/plain": [
       "float"
      ]
     },
     "execution_count": 55,
     "metadata": {},
     "output_type": "execute_result"
    }
   ],
   "source": [
    "number=100.25\n",
    "type(number)"
   ]
  },
  {
   "cell_type": "markdown",
   "id": "997453e2-9e88-49ab-a93b-945fa281f3d4",
   "metadata": {},
   "source": [
    "- float points can represent as exponetial **e**"
   ]
  },
  {
   "cell_type": "code",
   "execution_count": 73,
   "id": "9bd09a70-43b8-43b6-b8d8-199700f7f983",
   "metadata": {},
   "outputs": [
    {
     "data": {
      "text/plain": [
       "1000.0"
      ]
     },
     "execution_count": 73,
     "metadata": {},
     "output_type": "execute_result"
    }
   ],
   "source": [
    "1e1 # 1*10\n",
    "1e2 # 1*100\n",
    "1e3 # 1*1000"
   ]
  },
  {
   "cell_type": "code",
   "execution_count": 62,
   "id": "aafa8e52-eafb-4a02-be2d-3528763e27ff",
   "metadata": {},
   "outputs": [
    {
     "data": {
      "text/plain": [
       "200.0"
      ]
     },
     "execution_count": 62,
     "metadata": {},
     "output_type": "execute_result"
    }
   ],
   "source": [
    "2e2 # 2*100"
   ]
  },
  {
   "cell_type": "code",
   "execution_count": 77,
   "id": "6521d772-24ab-4a5f-b1c6-659d8aa44e84",
   "metadata": {},
   "outputs": [
    {
     "name": "stdout",
     "output_type": "stream",
     "text": [
      "10.0\n",
      "100.0\n",
      "1000.0\n"
     ]
    }
   ],
   "source": [
    "print(1e1) #1*10\n",
    "print(1e2) #1*100\n",
    "print(1e+3) #1*1000"
   ]
  },
  {
   "cell_type": "code",
   "execution_count": 79,
   "id": "7def95d5-6e77-442a-ad1d-20ad5f5eb635",
   "metadata": {},
   "outputs": [
    {
     "data": {
      "text/plain": [
       "(10.0, 100.0, 1000.0)"
      ]
     },
     "execution_count": 79,
     "metadata": {},
     "output_type": "execute_result"
    }
   ],
   "source": [
    "1e+1,1e+2,1e+3"
   ]
  },
  {
   "cell_type": "code",
   "execution_count": 83,
   "id": "de1b91e4-4cb3-4ff8-bab9-2fea418158c0",
   "metadata": {},
   "outputs": [
    {
     "name": "stdout",
     "output_type": "stream",
     "text": [
      "0.1\n",
      "0.01\n",
      "0.001\n"
     ]
    }
   ],
   "source": [
    "print(1e-1) # 1/10\n",
    "print(1e-2) # 1/100\n",
    "print(1e-3) # 1/1000"
   ]
  },
  {
   "cell_type": "markdown",
   "id": "73b6a234-3874-417f-9e89-8b396d7d5631",
   "metadata": {},
   "source": [
    "**Strings**"
   ]
  },
  {
   "cell_type": "markdown",
   "id": "cd9750b2-ea45-496a-a259-1ae8e963452e",
   "metadata": {},
   "source": [
    "- Strings means english characters"
   ]
  },
  {
   "cell_type": "code",
   "execution_count": 93,
   "id": "351114b0-da77-4b75-82b3-48139c8b2dce",
   "metadata": {},
   "outputs": [
    {
     "data": {
      "text/plain": [
       "str"
      ]
     },
     "execution_count": 93,
     "metadata": {},
     "output_type": "execute_result"
    }
   ],
   "source": [
    "name=\"Python\"\n",
    "type(name)"
   ]
  },
  {
   "cell_type": "code",
   "execution_count": 95,
   "id": "9a438265-f789-446c-a12e-3fbac9420d01",
   "metadata": {},
   "outputs": [
    {
     "data": {
      "text/plain": [
       "str"
      ]
     },
     "execution_count": 95,
     "metadata": {},
     "output_type": "execute_result"
    }
   ],
   "source": [
    "number='10'\n",
    "type(number)"
   ]
  },
  {
   "cell_type": "code",
   "execution_count": 97,
   "id": "df6981d5-e975-41e9-a79e-ca138e3ba0c0",
   "metadata": {},
   "outputs": [
    {
     "name": "stdout",
     "output_type": "stream",
     "text": [
      "Hello I like 'python'\n"
     ]
    }
   ],
   "source": [
    "sen1=\"Hello I like 'python'\"\n",
    "print(sen1)"
   ]
  },
  {
   "cell_type": "code",
   "execution_count": 106,
   "id": "9aadd849-b8c3-464f-bbf8-fd3768a3fbb0",
   "metadata": {},
   "outputs": [
    {
     "name": "stdout",
     "output_type": "stream",
     "text": [
      "Hello I like \"python\"\n"
     ]
    }
   ],
   "source": [
    "sen2='Hello I like \"python\"'\n",
    "print(sen2)"
   ]
  },
  {
   "cell_type": "markdown",
   "id": "fae0743e-cb85-4913-abee-29ed433b4d91",
   "metadata": {},
   "source": [
    "- Entire sentence in single quotes, then use double quotes to highlite the word\n",
    "- Entire sentence in double quotes, then use single quotes to highlite the word"
   ]
  },
  {
   "cell_type": "code",
   "execution_count": 110,
   "id": "31b91942-d90d-43ff-8321-ae339a0e2383",
   "metadata": {},
   "outputs": [
    {
     "data": {
      "text/plain": [
       "'python'"
      ]
     },
     "execution_count": 110,
     "metadata": {},
     "output_type": "execute_result"
    }
   ],
   "source": [
    "name='python'\n",
    "name"
   ]
  },
  {
   "cell_type": "code",
   "execution_count": 112,
   "id": "6f608998-9977-454f-b15c-8923e9d1fad1",
   "metadata": {},
   "outputs": [
    {
     "name": "stdout",
     "output_type": "stream",
     "text": [
      "python\n"
     ]
    }
   ],
   "source": [
    "print(name)"
   ]
  },
  {
   "cell_type": "code",
   "execution_count": 114,
   "id": "762af337-7aca-4c43-af3a-f6573ab4d328",
   "metadata": {},
   "outputs": [
    {
     "name": "stdout",
     "output_type": "stream",
     "text": [
      "naresh\n",
      "Python\n"
     ]
    }
   ],
   "source": [
    "name1= 'Python'\n",
    "name2= 'naresh'\n",
    "print(name2)\n",
    "print(name1)"
   ]
  },
  {
   "cell_type": "code",
   "execution_count": null,
   "id": "4e0bbe66-6917-4b48-912d-aeedcec17373",
   "metadata": {},
   "outputs": [],
   "source": [
    "hello good morning\n",
    "how are you with out \\n"
   ]
  },
  {
   "cell_type": "code",
   "execution_count": 119,
   "id": "6ebd4725-1372-4912-9ac2-d9f3d8265dc4",
   "metadata": {},
   "outputs": [
    {
     "name": "stdout",
     "output_type": "stream",
     "text": [
      "Hello I like 'Python'\n",
      "           hai good morning\n",
      "           today class data types\n"
     ]
    }
   ],
   "source": [
    "Statements=\"\"\"Hello I like 'Python'\n",
    "           hai good morning\n",
    "           today class data types\"\"\"\n",
    "print(Statements)"
   ]
  },
  {
   "cell_type": "markdown",
   "id": "b444a2f1-2829-4639-bfa6-00488d2df992",
   "metadata": {},
   "source": [
    "**Doc String**"
   ]
  },
  {
   "cell_type": "markdown",
   "id": "d2acb4b3-b6c3-4394-86cf-519d23b631c0",
   "metadata": {},
   "source": [
    "- If we want to convey information to the user\n",
    "- we will write a statements before coding part \n",
    "- is called as Doc string\n",
    "- In jupyter notebook to convey information we have **markdown**\n",
    "- But in VScode we don't have a markdown option \n",
    "- we convey the information by using **triple quotes**\n",
    "- If we see anywhere triple quotes means the user trying to convey the information "
   ]
  },
  {
   "cell_type": "code",
   "execution_count": 123,
   "id": "ffb33dba-09dd-400b-9ac9-df612c3f0727",
   "metadata": {},
   "outputs": [
    {
     "data": {
      "text/plain": [
       "'\\n   write something\\n   '"
      ]
     },
     "execution_count": 123,
     "metadata": {},
     "output_type": "execute_result"
    }
   ],
   "source": [
    "\"\"\"\n",
    "  write something\n",
    "  \"\"\"\n",
    "\n",
    "'''\n",
    "   write something\n",
    "   '''"
   ]
  },
  {
   "cell_type": "markdown",
   "id": "b4250a5e-2626-4218-bf0e-324ec0acda7d",
   "metadata": {},
   "source": [
    "**Boolean**"
   ]
  },
  {
   "cell_type": "code",
   "execution_count": 126,
   "id": "820717ca-c372-40f4-a827-55734b74adf4",
   "metadata": {},
   "outputs": [
    {
     "data": {
      "text/plain": [
       "bool"
      ]
     },
     "execution_count": 126,
     "metadata": {},
     "output_type": "execute_result"
    }
   ],
   "source": [
    "value=True\n",
    "type(value)"
   ]
  },
  {
   "cell_type": "code",
   "execution_count": 128,
   "id": "ec247e9f-9e6e-452b-bfd4-82e42c7537c6",
   "metadata": {},
   "outputs": [],
   "source": [
    "true='True'\n",
    "true=True\n",
    "true=10"
   ]
  },
  {
   "cell_type": "code",
   "execution_count": null,
   "id": "6497714b-aefe-4abe-878e-20ca1f4ed086",
   "metadata": {},
   "outputs": [],
   "source": []
  }
 ],
 "metadata": {
  "kernelspec": {
   "display_name": "Python 3 (ipykernel)",
   "language": "python",
   "name": "python3"
  },
  "language_info": {
   "codemirror_mode": {
    "name": "ipython",
    "version": 3
   },
   "file_extension": ".py",
   "mimetype": "text/x-python",
   "name": "python",
   "nbconvert_exporter": "python",
   "pygments_lexer": "ipython3",
   "version": "3.12.4"
  }
 },
 "nbformat": 4,
 "nbformat_minor": 5
}
