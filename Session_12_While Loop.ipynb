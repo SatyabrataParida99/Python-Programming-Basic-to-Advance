{
 "cells": [
  {
   "cell_type": "markdown",
   "id": "266b0ddb-cd67-41bd-9dbb-8b0e55bade1d",
   "metadata": {},
   "source": [
    "**while loop**\n",
    "\n",
    "- A while loop in Python is used to execute a block of code repeatedly as long as a given\n",
    "- initialization\n",
    "- increment or decrement\n",
    "- Condition to stop\n"
   ]
  },
  {
   "cell_type": "markdown",
   "id": "e244ca1b-f62c-453b-87ee-18f1587f7dd6",
   "metadata": {},
   "source": [
    "**in the for loop all the above 3 will happen in a single statement**"
   ]
  },
  {
   "cell_type": "code",
   "execution_count": 5,
   "id": "490674d9-df8f-4181-a180-8a1cd8590877",
   "metadata": {},
   "outputs": [
    {
     "name": "stdout",
     "output_type": "stream",
     "text": [
      "2 4 6 8 10 12 14 16 18 "
     ]
    }
   ],
   "source": [
    "for i in range(2,20,2):\n",
    "    print(i,end=' ')\n",
    "\n",
    "# i=2\n",
    "# i==18\n",
    "# i=i+2"
   ]
  },
  {
   "cell_type": "markdown",
   "id": "96cdf66b-dc98-4e40-97b8-64829874da87",
   "metadata": {},
   "source": [
    "**but in while loop all 3 are happend in each line**"
   ]
  },
  {
   "cell_type": "code",
   "execution_count": null,
   "id": "24f67d94-088a-45ba-85ca-00947af824bc",
   "metadata": {},
   "outputs": [],
   "source": [
    "# initial value\n",
    "# condition\n",
    "   # write your code\n",
    "   # increment or decrement\n",
    "\n",
    "<initial value>\n",
    "while <condition>:\n",
    "    <write your code here>\n",
    "    <increment or decrement>\n",
    "\n",
    "# we need to write a condition\n",
    "    # while should give enter inside the loop\n",
    "    # after some time whenever the condition satisfies\n",
    "    #       the code should stop\n",
    "\n",
    "\n",
    "i>=2\n",
    "i<=18\n",
    "i<18\n",
    "i!=18"
   ]
  },
  {
   "cell_type": "code",
   "execution_count": null,
   "id": "c8975af0-6aef-413c-b13e-4b36c8889abc",
   "metadata": {},
   "outputs": [],
   "source": [
    "# Infinite loop condition\n",
    "i=2\n",
    "while i>=2:\n",
    "    print(i,end=' ')\n",
    "    i=i+2\n",
    "\n",
    "\n",
    "# step-1: i=2  while 2>=2  TRUE  print(2)  i=2+2=4\n",
    "# step-2: i=4  while 4>=2  True  print(4)  i=4+2=6\n",
    "# step-3: i=6  while 6>=2  True  print"
   ]
  },
  {
   "cell_type": "code",
   "execution_count": 3,
   "id": "67f0f83c-75fe-41e4-ad13-72ac1702bcc6",
   "metadata": {},
   "outputs": [
    {
     "name": "stdout",
     "output_type": "stream",
     "text": [
      "2 4 6 8 10 12 14 16 18 "
     ]
    }
   ],
   "source": [
    "i=2\n",
    "while i<=18:\n",
    "    print(i,end=' ')\n",
    "    i=i+2\n",
    "\n",
    "\n",
    "# step-1: i=2  while 2<=18  True  print(2)  i=2+2=4\n",
    "# step-2: i=4  while 4<=18  True  print(4)  i=4+2=6\n",
    "# step-3: i=6  while 6<=18   True  print(6) i=6+2=8\n",
    "# step   i=16  while 16<=18  True  print(16) i=16+2=18\n",
    "# step   i=18  while 18<=18   True print(18) i=18+2=20\n",
    "# step   i=20  while 20<=18   False"
   ]
  },
  {
   "cell_type": "code",
   "execution_count": 5,
   "id": "9b11fa95-72cb-4ac8-876a-31d54cdf4b81",
   "metadata": {},
   "outputs": [
    {
     "name": "stdout",
     "output_type": "stream",
     "text": [
      "2 4 6 8 10 12 14 16 "
     ]
    }
   ],
   "source": [
    "i=2\n",
    "while i<18:\n",
    "    print(i,end=' ')\n",
    "    i=i+2"
   ]
  },
  {
   "cell_type": "code",
   "execution_count": 7,
   "id": "8f101438-d504-45ac-82af-5947f239fd1a",
   "metadata": {},
   "outputs": [
    {
     "name": "stdout",
     "output_type": "stream",
     "text": [
      "2 4 6 8 10 12 14 16 "
     ]
    }
   ],
   "source": [
    "i=2\n",
    "while i!=18:\n",
    "    print(i,end=' ')\n",
    "    i=i+2"
   ]
  },
  {
   "cell_type": "code",
   "execution_count": 9,
   "id": "9b1f4bc1-3a65-411e-9bfa-b2c20251ecb1",
   "metadata": {},
   "outputs": [
    {
     "name": "stdout",
     "output_type": "stream",
     "text": [
      "10 9 8 7 6 5 4 3 2 1 "
     ]
    }
   ],
   "source": [
    "for i in range(10,0,-1):\n",
    "    print(i,end=' ')"
   ]
  },
  {
   "cell_type": "code",
   "execution_count": 11,
   "id": "42d554e3-3f5e-48a4-80dc-e8981abb4f1e",
   "metadata": {},
   "outputs": [
    {
     "name": "stdout",
     "output_type": "stream",
     "text": [
      "-10 -9 -8 -7 -6 -5 -4 -3 -2 -1 "
     ]
    }
   ],
   "source": [
    "for i in range(-10,0,1):\n",
    "    print(i,end=' ')"
   ]
  },
  {
   "cell_type": "code",
   "execution_count": 13,
   "id": "733366c9-0f82-4304-88e2-e9db51766404",
   "metadata": {},
   "outputs": [
    {
     "name": "stdout",
     "output_type": "stream",
     "text": [
      "-1 -2 -3 -4 -5 -6 -7 -8 -9 -10 "
     ]
    }
   ],
   "source": [
    "for i in range(-1,-11,-1):\n",
    "    print(i,end=' ')"
   ]
  },
  {
   "cell_type": "code",
   "execution_count": 17,
   "id": "d834856c-eec0-429b-8830-82f8c33f5558",
   "metadata": {},
   "outputs": [
    {
     "name": "stdout",
     "output_type": "stream",
     "text": [
      "10 9 8 7 6 5 4 3 2 1 "
     ]
    }
   ],
   "source": [
    "i=10\n",
    "while i>0:\n",
    "    print(i,end=' ')\n",
    "    i=i-1"
   ]
  },
  {
   "cell_type": "code",
   "execution_count": 19,
   "id": "60d8fe64-defb-4c86-9ba3-6ee8f27aa478",
   "metadata": {},
   "outputs": [
    {
     "name": "stdout",
     "output_type": "stream",
     "text": [
      "-10 -9 -8 -7 -6 -5 -4 -3 -2 -1 "
     ]
    }
   ],
   "source": [
    "i=-10\n",
    "while i<0:\n",
    "    print(i,end=' ')\n",
    "    i=i+1"
   ]
  },
  {
   "cell_type": "code",
   "execution_count": 23,
   "id": "5ba4f21d-61ad-4d71-a67a-c7aacd8725b5",
   "metadata": {},
   "outputs": [
    {
     "name": "stdout",
     "output_type": "stream",
     "text": [
      "-1 -2 -3 -4 -5 -6 -7 -8 -9 -10 "
     ]
    }
   ],
   "source": [
    "i=-1\n",
    "while i>-11:\n",
    "    print(i,end=' ')\n",
    "    i=i-1"
   ]
  },
  {
   "cell_type": "markdown",
   "id": "6edee594-d136-47a9-85b1-b9bd83918473",
   "metadata": {},
   "source": [
    "**True**\n",
    "\n",
    "- True is condition always give a permission to enter inside the loop\n",
    "\n",
    "- some time we can not fix the condition to enter inside the loop\n",
    "\n",
    "- but we know stop condition"
   ]
  },
  {
   "cell_type": "code",
   "execution_count": 26,
   "id": "dcc1b531-30ab-4e77-831f-a5b297f4ebb0",
   "metadata": {},
   "outputs": [
    {
     "name": "stdout",
     "output_type": "stream",
     "text": [
      "2 4 6 8 10 "
     ]
    }
   ],
   "source": [
    "i=2\n",
    "while True:\n",
    "    print(i,end=' ')\n",
    "    i=i+2\n",
    "    if i==12:\n",
    "        break"
   ]
  },
  {
   "cell_type": "code",
   "execution_count": 28,
   "id": "00d97518-1fef-470f-a2ac-b70c233a3ee0",
   "metadata": {},
   "outputs": [
    {
     "name": "stdout",
     "output_type": "stream",
     "text": [
      "-1 -2 -3 -4 -5 -6 -7 -8 -9 "
     ]
    }
   ],
   "source": [
    "i=-1\n",
    "while True:\n",
    "    print(i,end=' ')\n",
    "    i=i-1 # -1-1=-2\n",
    "    if i==-10:\n",
    "        break"
   ]
  },
  {
   "cell_type": "code",
   "execution_count": 30,
   "id": "f9986fa5-604d-4eca-b552-75ad10122b59",
   "metadata": {},
   "outputs": [
    {
     "name": "stdout",
     "output_type": "stream",
     "text": [
      "2 4 6 8 "
     ]
    }
   ],
   "source": [
    "i=2\n",
    "while True:\n",
    "    print(i,end=' ')\n",
    "    i=i+2\n",
    "    if i==10:\n",
    "        break"
   ]
  },
  {
   "cell_type": "markdown",
   "id": "95626a39-05eb-46d7-b50f-c99982c6e095",
   "metadata": {},
   "source": [
    "**when to use while and for**\n",
    "\n",
    "- if we observe for loop **start stop step**\n",
    "\n",
    "- there is no infinite loop situation here\n",
    "\n",
    "- if we want to give infinite loop situation\n",
    "\n",
    "    - based on correct value we want to stop the loop then we go for while loop"
   ]
  },
  {
   "cell_type": "code",
   "execution_count": 7,
   "id": "5a3016d2-2d17-4241-9ecc-c6085a1dfc55",
   "metadata": {},
   "outputs": [
    {
     "name": "stdout",
     "output_type": "stream",
     "text": [
      "2\n"
     ]
    },
    {
     "name": "stdin",
     "output_type": "stream",
     "text": [
      "enter the number: 2\n"
     ]
    },
    {
     "name": "stdout",
     "output_type": "stream",
     "text": [
      "won\n"
     ]
    }
   ],
   "source": [
    "# wap ask the user get a random number n1\n",
    "# wap ask the user enter a number n2\n",
    "# if both are match print won \n",
    "# otherwise lost\n",
    "# give infinite chances \n",
    "# the loop will stop when both values are matched\n",
    "\n",
    "import random \n",
    "n1=random.randint(1,10)\n",
    "print(n1)\n",
    "n2=eval(input(\"enter the number:\"))\n",
    "if n1==n2:\n",
    "    print('won')\n",
    "else:\n",
    "    print('lost')"
   ]
  },
  {
   "cell_type": "code",
   "execution_count": 9,
   "id": "2f85f006-c655-4ade-ad41-6e6e319e35b8",
   "metadata": {},
   "outputs": [
    {
     "name": "stdout",
     "output_type": "stream",
     "text": [
      "3\n"
     ]
    },
    {
     "name": "stdin",
     "output_type": "stream",
     "text": [
      "enter the number: 6\n"
     ]
    },
    {
     "name": "stdout",
     "output_type": "stream",
     "text": [
      "lost\n",
      "8\n"
     ]
    },
    {
     "name": "stdin",
     "output_type": "stream",
     "text": [
      "enter the number: 8\n"
     ]
    },
    {
     "name": "stdout",
     "output_type": "stream",
     "text": [
      "won\n"
     ]
    }
   ],
   "source": [
    "for i in range(3):\n",
    "    n1=random.randint(1,10)\n",
    "    print(n1)\n",
    "    n2=eval(input(\"enter the number:\"))\n",
    "    if n1==n2:\n",
    "        print('won')\n",
    "        break\n",
    "    else:\n",
    "        print('lost')"
   ]
  },
  {
   "cell_type": "code",
   "execution_count": 11,
   "id": "d7d099f7-416e-4bb7-b758-192008737d17",
   "metadata": {},
   "outputs": [
    {
     "name": "stdout",
     "output_type": "stream",
     "text": [
      "9\n"
     ]
    },
    {
     "name": "stdin",
     "output_type": "stream",
     "text": [
      "enter the number: 7\n"
     ]
    },
    {
     "name": "stdout",
     "output_type": "stream",
     "text": [
      "lost\n",
      "7\n"
     ]
    },
    {
     "name": "stdin",
     "output_type": "stream",
     "text": [
      "enter the number: 6\n"
     ]
    },
    {
     "name": "stdout",
     "output_type": "stream",
     "text": [
      "lost\n",
      "6\n"
     ]
    },
    {
     "name": "stdin",
     "output_type": "stream",
     "text": [
      "enter the number: 6\n"
     ]
    },
    {
     "name": "stdout",
     "output_type": "stream",
     "text": [
      "won\n"
     ]
    }
   ],
   "source": [
    "while True:\n",
    "    n1=random.randint(1,10)\n",
    "    print(n1)\n",
    "    n2=eval(input(\"enter the number:\"))\n",
    "    if n1==n2:\n",
    "        print('won')\n",
    "        break\n",
    "    else:\n",
    "        print('lost')"
   ]
  },
  {
   "cell_type": "code",
   "execution_count": 13,
   "id": "d2daece2-3924-4dbd-99d8-ee62d17d6b66",
   "metadata": {},
   "outputs": [
    {
     "name": "stdout",
     "output_type": "stream",
     "text": [
      "2\n"
     ]
    },
    {
     "name": "stdin",
     "output_type": "stream",
     "text": [
      "enter the number: 3\n"
     ]
    },
    {
     "name": "stdout",
     "output_type": "stream",
     "text": [
      "lost\n",
      "2\n"
     ]
    },
    {
     "name": "stdin",
     "output_type": "stream",
     "text": [
      "enter the number: 9\n"
     ]
    },
    {
     "name": "stdout",
     "output_type": "stream",
     "text": [
      "lost\n",
      "3\n"
     ]
    },
    {
     "name": "stdin",
     "output_type": "stream",
     "text": [
      "enter the number: 7\n"
     ]
    },
    {
     "name": "stdout",
     "output_type": "stream",
     "text": [
      "lost\n",
      "9\n"
     ]
    },
    {
     "name": "stdin",
     "output_type": "stream",
     "text": [
      "enter the number: 9\n"
     ]
    },
    {
     "name": "stdout",
     "output_type": "stream",
     "text": [
      "won\n"
     ]
    }
   ],
   "source": [
    "while True:\n",
    "    n1=random.randint(1,10)\n",
    "    print(n1)\n",
    "    n2=eval(input(\"enter the number:\"))\n",
    "    if n1==n2:\n",
    "        print('won')\n",
    "        break\n",
    "    else:\n",
    "        print('lost')"
   ]
  },
  {
   "cell_type": "code",
   "execution_count": 15,
   "id": "00041a4f-ad93-4f5a-8d82-df1a2602dec0",
   "metadata": {},
   "outputs": [
    {
     "name": "stdout",
     "output_type": "stream",
     "text": [
      "1\n"
     ]
    },
    {
     "name": "stdin",
     "output_type": "stream",
     "text": [
      "enter the number: 1\n"
     ]
    },
    {
     "name": "stdout",
     "output_type": "stream",
     "text": [
      "won\n"
     ]
    }
   ],
   "source": [
    "n1=random.randint(1,10)\n",
    "print(n1) # 6\n",
    "n2=eval(input(\"enter the number:\"))\n",
    "while True:\n",
    "    if n1==n2:\n",
    "        print('won')\n",
    "        break\n",
    "    else:\n",
    "        print('lost')\n",
    "\n",
    "# 6==8 F lost\n",
    "# 6==8 lost"
   ]
  },
  {
   "cell_type": "code",
   "execution_count": 19,
   "id": "d026e9f6-b1f2-421a-a3ae-8700ca9458ab",
   "metadata": {},
   "outputs": [
    {
     "name": "stdin",
     "output_type": "stream",
     "text": [
      "enter the number 10\n"
     ]
    },
    {
     "name": "stdout",
     "output_type": "stream",
     "text": [
      "Hello\n"
     ]
    },
    {
     "name": "stdin",
     "output_type": "stream",
     "text": [
      "enter the number 9\n"
     ]
    },
    {
     "name": "stdout",
     "output_type": "stream",
     "text": [
      "Hello\n"
     ]
    },
    {
     "name": "stdin",
     "output_type": "stream",
     "text": [
      "enter the number 8\n"
     ]
    },
    {
     "name": "stdout",
     "output_type": "stream",
     "text": [
      "Hello\n"
     ]
    }
   ],
   "source": [
    "for i in range(3):\n",
    "    n1=eval(input(\"enter the number\"))\n",
    "    print(\"Hello\")"
   ]
  },
  {
   "cell_type": "code",
   "execution_count": 43,
   "id": "7a3c971b-8f8f-454c-8aac-29242d23875a",
   "metadata": {},
   "outputs": [
    {
     "name": "stdin",
     "output_type": "stream",
     "text": [
      "enter one number a: 5\n",
      "enter one number b: 6\n"
     ]
    },
    {
     "name": "stdout",
     "output_type": "stream",
     "text": [
      "a = 6\n",
      "b = 5\n"
     ]
    }
   ],
   "source": [
    "#Swap two varisbles\n",
    "a=eval(input(\"enter one number a:\"))\n",
    "b=eval(input(\"enter one number b:\"))\n",
    "a,b=b,a\n",
    "print(\"a =\",a)\n",
    "print(\"b =\",b)"
   ]
  },
  {
   "cell_type": "code",
   "execution_count": 53,
   "id": "0fec0da9-5c7d-4cce-9e46-18063a75727c",
   "metadata": {},
   "outputs": [
    {
     "name": "stdout",
     "output_type": "stream",
     "text": [
      "8\n"
     ]
    },
    {
     "name": "stdin",
     "output_type": "stream",
     "text": [
      "enter the number: 6\n"
     ]
    },
    {
     "name": "stdout",
     "output_type": "stream",
     "text": [
      "lost\n"
     ]
    },
    {
     "name": "stdin",
     "output_type": "stream",
     "text": [
      "enter the number: 9\n"
     ]
    },
    {
     "name": "stdout",
     "output_type": "stream",
     "text": [
      "lost\n"
     ]
    },
    {
     "name": "stdin",
     "output_type": "stream",
     "text": [
      "enter the number: 8\n"
     ]
    },
    {
     "name": "stdout",
     "output_type": "stream",
     "text": [
      "won\n"
     ]
    }
   ],
   "source": [
    "n1=random.randint(1,10)\n",
    "print(n1)\n",
    "while True:\n",
    "    n2=eval(input(\"enter the number:\"))\n",
    "    if n1==n2:\n",
    "        print('won')\n",
    "        break\n",
    "    else:\n",
    "        print('lost')"
   ]
  },
  {
   "cell_type": "code",
   "execution_count": null,
   "id": "04f7c87f-3ad2-4656-8d7a-bb1a5df8cd0e",
   "metadata": {},
   "outputs": [],
   "source": [
    "#Q1)wap ask the user enter a number and get the square of the number\n",
    "# the user should enter 5 values one by one\n",
    "# the prompt should ask 5 times\n",
    "\n",
    "#Q2)wap ask the user enter 5 numbers\n",
    "# print it is a even number or odd\n",
    "# loop should run 5 times\n",
    "# code should ask 5 times enter the number\n",
    "\n",
    "#Q3)wap ask the user print 7th table\n",
    "# o/p\n",
    "#  7x1=7\n",
    "#  7x2=14\n",
    "\n",
    "#Q4)WAP ask the user enter the number and find the divisors of the number\n",
    "# 75 ====> 1,3,5,15,75 \n",
    "\n",
    "#Q5)wap ask the user print first 10 natural numbers\n",
    "# 1+2+3+4+5+6+7+8+9+10=55\n",
    "\n",
    "#Q6)wap ask the user find the count of divisors\n",
    "\n",
    "#Q7)wap ask the user to enter a number 5 times\n",
    " # the loop should ask 5 times\n",
    " # you should calculate even odd\n",
    " # get the count of even and count of odd number"
   ]
  }
 ],
 "metadata": {
  "kernelspec": {
   "display_name": "Python 3 (ipykernel)",
   "language": "python",
   "name": "python3"
  },
  "language_info": {
   "codemirror_mode": {
    "name": "ipython",
    "version": 3
   },
   "file_extension": ".py",
   "mimetype": "text/x-python",
   "name": "python",
   "nbconvert_exporter": "python",
   "pygments_lexer": "ipython3",
   "version": "3.12.4"
  }
 },
 "nbformat": 4,
 "nbformat_minor": 5
}
