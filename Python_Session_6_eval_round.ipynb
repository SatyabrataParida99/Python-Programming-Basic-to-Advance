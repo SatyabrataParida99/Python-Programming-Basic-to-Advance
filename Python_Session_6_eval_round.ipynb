{
 "cells": [
  {
   "cell_type": "markdown",
   "id": "cd4274ff-0f4f-408a-ad50-a9e51d134ea4",
   "metadata": {},
   "source": [
    "- Generally if you observe any application\n",
    "- user will provide the values\n",
    "- backend some programming language will work\n",
    "- if any code the values we give is called **Hard Code**\n",
    "- always the code should be generic\n",
    "- in python the use can provide the values from keyboard using **input**"
   ]
  },
  {
   "cell_type": "code",
   "execution_count": 6,
   "id": "3f0f10ee-52b4-424e-8d32-99d51cfc52a1",
   "metadata": {},
   "outputs": [
    {
     "name": "stdin",
     "output_type": "stream",
     "text": [
      " Hello\n"
     ]
    },
    {
     "data": {
      "text/plain": [
       "'Hello'"
      ]
     },
     "execution_count": 6,
     "metadata": {},
     "output_type": "execute_result"
    }
   ],
   "source": [
    "input()"
   ]
  },
  {
   "cell_type": "code",
   "execution_count": 8,
   "id": "d3541a68-45d9-4791-9604-916ece8724c1",
   "metadata": {},
   "outputs": [
    {
     "name": "stdin",
     "output_type": "stream",
     "text": [
      " 20\n",
      " 30\n",
      " done\n"
     ]
    },
    {
     "data": {
      "text/plain": [
       "'done'"
      ]
     },
     "execution_count": 8,
     "metadata": {},
     "output_type": "execute_result"
    }
   ],
   "source": [
    "input()\n",
    "input()\n",
    "input()"
   ]
  },
  {
   "cell_type": "code",
   "execution_count": 10,
   "id": "1ce2f210-23b8-4d0f-9126-93cbaf0f2f5b",
   "metadata": {},
   "outputs": [
    {
     "name": "stdin",
     "output_type": "stream",
     "text": [
      " Satyabrata Parida\n"
     ]
    },
    {
     "data": {
      "text/plain": [
       "'Satyabrata Parida'"
      ]
     },
     "execution_count": 10,
     "metadata": {},
     "output_type": "execute_result"
    }
   ],
   "source": [
    "input()"
   ]
  },
  {
   "cell_type": "code",
   "execution_count": 14,
   "id": "56ec8ae1-c3c3-464d-a654-1f8a5b09eb27",
   "metadata": {},
   "outputs": [
    {
     "name": "stdin",
     "output_type": "stream",
     "text": [
      "enter a number1: 30\n"
     ]
    },
    {
     "data": {
      "text/plain": [
       "'30'"
      ]
     },
     "execution_count": 14,
     "metadata": {},
     "output_type": "execute_result"
    }
   ],
   "source": [
    "input('enter a number1:')"
   ]
  },
  {
   "cell_type": "code",
   "execution_count": 16,
   "id": "160444ca-4996-47e5-b354-8b734a6a2794",
   "metadata": {},
   "outputs": [
    {
     "name": "stdin",
     "output_type": "stream",
     "text": [
      "enter your name: Satyabrata Parida\n",
      "enter age: 25\n",
      "enter city: Hyderabad\n"
     ]
    },
    {
     "data": {
      "text/plain": [
       "'Hyderabad'"
      ]
     },
     "execution_count": 16,
     "metadata": {},
     "output_type": "execute_result"
    }
   ],
   "source": [
    "input('enter your name:')\n",
    "input('enter age:')\n",
    "input('enter city:')"
   ]
  },
  {
   "cell_type": "code",
   "execution_count": 18,
   "id": "6d0a683d-b5c2-4bf9-ac77-dcf8c14be702",
   "metadata": {},
   "outputs": [
    {
     "data": {
      "text/plain": [
       "'hyd'"
      ]
     },
     "execution_count": 18,
     "metadata": {},
     "output_type": "execute_result"
    }
   ],
   "source": [
    "'python'\n",
    "10\n",
    "'hyd'"
   ]
  },
  {
   "cell_type": "code",
   "execution_count": 20,
   "id": "d7d58b95-6b32-4af5-a7b2-f37ef335e184",
   "metadata": {},
   "outputs": [
    {
     "data": {
      "text/plain": [
       "30"
      ]
     },
     "execution_count": 20,
     "metadata": {},
     "output_type": "execute_result"
    }
   ],
   "source": [
    "a=10\n",
    "b=20\n",
    "a+b"
   ]
  },
  {
   "cell_type": "code",
   "execution_count": 24,
   "id": "f73db72d-f4d8-426a-aa37-8f7568f1ee32",
   "metadata": {},
   "outputs": [
    {
     "name": "stdin",
     "output_type": "stream",
     "text": [
      "enter value1: 100\n",
      "enter value2: 200\n"
     ]
    },
    {
     "data": {
      "text/plain": [
       "300"
      ]
     },
     "execution_count": 24,
     "metadata": {},
     "output_type": "execute_result"
    }
   ],
   "source": [
    "a=int(input('enter value1:'))  # a='100'\n",
    "b=int(input('enter value2:'))  # b ='200'\n",
    "a+b # '100'+'200'='100200'"
   ]
  },
  {
   "cell_type": "code",
   "execution_count": 1,
   "id": "efd2c684-600a-401a-afa4-122a911cef9e",
   "metadata": {},
   "outputs": [
    {
     "name": "stdin",
     "output_type": "stream",
     "text": [
      "enter a value 100\n"
     ]
    },
    {
     "data": {
      "text/plain": [
       "'100'"
      ]
     },
     "execution_count": 1,
     "metadata": {},
     "output_type": "execute_result"
    }
   ],
   "source": [
    "input(\"enter a value\")"
   ]
  },
  {
   "cell_type": "code",
   "execution_count": 3,
   "id": "883ade68-cbb3-464a-824c-7ea85df760bd",
   "metadata": {},
   "outputs": [
    {
     "name": "stdin",
     "output_type": "stream",
     "text": [
      " python\n"
     ]
    },
    {
     "data": {
      "text/plain": [
       "'python'"
      ]
     },
     "execution_count": 3,
     "metadata": {},
     "output_type": "execute_result"
    }
   ],
   "source": [
    "input()"
   ]
  },
  {
   "cell_type": "code",
   "execution_count": 5,
   "id": "20433c91-8ba1-450e-97ac-a37b2231c15f",
   "metadata": {},
   "outputs": [
    {
     "data": {
      "text/plain": [
       "300"
      ]
     },
     "execution_count": 5,
     "metadata": {},
     "output_type": "execute_result"
    }
   ],
   "source": [
    "int('100')+int('200')"
   ]
  },
  {
   "cell_type": "code",
   "execution_count": 7,
   "id": "1a5313e9-a3f6-41ac-8dcc-fe0559b95aa2",
   "metadata": {},
   "outputs": [
    {
     "data": {
      "text/plain": [
       "'100200'"
      ]
     },
     "execution_count": 7,
     "metadata": {},
     "output_type": "execute_result"
    }
   ],
   "source": [
    "'100'+'200'"
   ]
  },
  {
   "cell_type": "code",
   "execution_count": 9,
   "id": "4bf15e92-4b4d-4f1a-b1a6-0a5728b247a0",
   "metadata": {},
   "outputs": [
    {
     "name": "stdin",
     "output_type": "stream",
     "text": [
      "enter a number1: 100\n",
      "enter a number2: 300\n"
     ]
    },
    {
     "data": {
      "text/plain": [
       "400"
      ]
     },
     "execution_count": 9,
     "metadata": {},
     "output_type": "execute_result"
    }
   ],
   "source": [
    "n1=int(input(\"enter a number1:\")) # n1=int('100')=100\n",
    "n2=int(input(\"enter a number2:\")) # n2=int('300')=300\n",
    "n1+n2 # 100+300=400"
   ]
  },
  {
   "cell_type": "code",
   "execution_count": 13,
   "id": "9507f05e-dcf1-4360-825d-9ae9d2420347",
   "metadata": {},
   "outputs": [
    {
     "name": "stdin",
     "output_type": "stream",
     "text": [
      "enter the n1: 100\n",
      "enter the n2: 200\n"
     ]
    },
    {
     "data": {
      "text/plain": [
       "300"
      ]
     },
     "execution_count": 13,
     "metadata": {},
     "output_type": "execute_result"
    }
   ],
   "source": [
    "n1=input(\"enter the n1:\")\n",
    "n2=input('enter the n2:')\n",
    "add=int(n1)+int(n2) # add = int('100')+int('200')=100+200\n",
    "add"
   ]
  },
  {
   "cell_type": "code",
   "execution_count": 17,
   "id": "58a7aa3e-ce68-4999-ab91-55419f06979e",
   "metadata": {},
   "outputs": [
    {
     "name": "stdin",
     "output_type": "stream",
     "text": [
      "enter n1: 100\n",
      "enter n2: 200\n"
     ]
    },
    {
     "data": {
      "text/plain": [
       "300.0"
      ]
     },
     "execution_count": 17,
     "metadata": {},
     "output_type": "execute_result"
    }
   ],
   "source": [
    "n1 = float(input('enter n1:'))\n",
    "n2 = float(input('enter n2:'))\n",
    "n1+n2"
   ]
  },
  {
   "cell_type": "markdown",
   "id": "6e7f8742-6e95-49d0-9a55-195cb4655b3c",
   "metadata": {},
   "source": [
    "**eval**\n",
    "\n",
    "- Whenever we listen about eval it represents math term **evaluate**\n",
    "\n",
    "- instead of focus on int and float every time \n",
    "\n",
    "- simply use **eval** conversion always\n",
    "\n",
    "- if you apply eval it will convert the value based on base data type\n",
    "\n",
    "- if user will provide the integer, it will convert into integer value\n",
    "\n",
    "- if user will provide the float, it will convert into float \n",
    "\n",
    "- if user will provide the string, it will give the error"
   ]
  },
  {
   "cell_type": "code",
   "execution_count": 24,
   "id": "7b03b96b-c934-4bd8-b557-08edd3ef02ed",
   "metadata": {},
   "outputs": [
    {
     "name": "stdin",
     "output_type": "stream",
     "text": [
      "enter a number1: 100.50\n",
      "enter a number2: 200.50\n"
     ]
    },
    {
     "name": "stdout",
     "output_type": "stream",
     "text": [
      "the addition of 100.5 and 200.5 is 301.0\n"
     ]
    }
   ],
   "source": [
    "n1=eval(input(\"enter a number1:\")) # n1=int('100')=100\n",
    "n2=eval(input(\"enter a number2:\")) # n2=int('300')=300\n",
    "n1+n2 # 100+300=400\n",
    "print(f\"the addition of {n1} and {n2} is {n1+n2}\")"
   ]
  },
  {
   "cell_type": "markdown",
   "id": "ebec4912-98c9-458c-8a15-dddd92a356f5",
   "metadata": {},
   "source": [
    "- error-1:(never closed\n",
    "    - you open the bracket, you forgot to close\n",
    "- error-2:unterminated string literal\n",
    "    - check at last of string the quotes provide or not"
   ]
  },
  {
   "cell_type": "code",
   "execution_count": null,
   "id": "c1845cf0-099f-43bc-ab2c-e5d25f6ca7e0",
   "metadata": {},
   "outputs": [],
   "source": [
    "# wap ask the user take three number from keyboard and print average\n",
    "   #     (n1+n2+n3)/3\n",
    "# wap ask the user take the breadth and height from keyboard\n",
    "    # calculate are of right angle traingle \n",
    "    # Formula= 0.5*b*h\n",
    "\n",
    "# wap ask the take the radius from key board \n",
    "     # calculate the area of circle \n",
    "     # Formulae = pi*r*r pi= 3.14\n",
    "\n",
    "# wap ask the user enter the bill amount\n",
    "    # ask the user provide how much tip amount he wants to give \n",
    "    # calculate the total bill\n",
    "\n",
    "# wap ask the user enter the bill amount\n",
    "    # ask the user how much tip percentage how much to give \n",
    "    # calculate the total bill\n"
   ]
  },
  {
   "cell_type": "code",
   "execution_count": 29,
   "id": "e37cbdad-e0af-4c18-883c-35b6e0d69784",
   "metadata": {},
   "outputs": [
    {
     "name": "stdin",
     "output_type": "stream",
     "text": [
      "enter the n1: 1\n",
      "enter the n2: 11\n",
      "enter the n3: 47\n"
     ]
    },
    {
     "name": "stdout",
     "output_type": "stream",
     "text": [
      "the avg of 1,11 and 47 is 19.666666666666668\n"
     ]
    }
   ],
   "source": [
    "# Q.1 # wap ask the user take three number from keyboard and print average\n",
    "   #     (n1+n2+n3)/3 \n",
    "n1=eval(input(\"enter the n1:\"))\n",
    "n2=eval(input(\"enter the n2:\"))\n",
    "n3=eval(input(\"enter the n3:\"))\n",
    "avg=(n1+n2+n3)/3\n",
    "print(f\"the avg of {n1},{n2} and {n3} is {avg}\")"
   ]
  },
  {
   "cell_type": "markdown",
   "id": "97efa705-278f-4094-a2ef-78f0d2bba684",
   "metadata": {},
   "source": [
    "**round**"
   ]
  },
  {
   "cell_type": "code",
   "execution_count": 32,
   "id": "91c51876-8398-4346-a3fd-e5cc02547f18",
   "metadata": {},
   "outputs": [
    {
     "data": {
      "text/plain": [
       "10"
      ]
     },
     "execution_count": 32,
     "metadata": {},
     "output_type": "execute_result"
    }
   ],
   "source": [
    "eval('10.5')\n",
    "eval('10')\n",
    "\n",
    "# eval will convert string values to number \n",
    "# int() float() eval()"
   ]
  },
  {
   "cell_type": "code",
   "execution_count": 34,
   "id": "4513c290-c307-466a-9e93-ee95d911d899",
   "metadata": {},
   "outputs": [
    {
     "data": {
      "text/plain": [
       "20"
      ]
     },
     "execution_count": 34,
     "metadata": {},
     "output_type": "execute_result"
    }
   ],
   "source": [
    "round(19.666666)"
   ]
  },
  {
   "cell_type": "code",
   "execution_count": 44,
   "id": "e44b890a-740c-4511-8b98-23cf7f279333",
   "metadata": {},
   "outputs": [
    {
     "data": {
      "text/plain": [
       "19.667"
      ]
     },
     "execution_count": 44,
     "metadata": {},
     "output_type": "execute_result"
    }
   ],
   "source": [
    "round(19.666666,3) # inside round of the provide of value "
   ]
  },
  {
   "cell_type": "code",
   "execution_count": 48,
   "id": "b499329e-73d0-4ab5-8d52-6611eed5309a",
   "metadata": {},
   "outputs": [
    {
     "name": "stdin",
     "output_type": "stream",
     "text": [
      "enter the n1: 1\n",
      "enter the n2: 11\n",
      "enter the n3: 47\n"
     ]
    },
    {
     "name": "stdout",
     "output_type": "stream",
     "text": [
      "the avg of 1,11 and 47 is 19.67\n"
     ]
    }
   ],
   "source": [
    "n1=eval(input(\"enter the n1:\"))\n",
    "n2=eval(input(\"enter the n2:\"))\n",
    "n3=eval(input(\"enter the n3:\"))\n",
    "avg=(n1+n2+n3)/3\n",
    "avg1=round(avg,2)\n",
    "print(f\"the avg of {n1},{n2} and {n3} is {avg1}\")"
   ]
  },
  {
   "cell_type": "code",
   "execution_count": 50,
   "id": "5e1bc058-4669-43e0-9d5d-f27957b79616",
   "metadata": {},
   "outputs": [
    {
     "data": {
      "text/plain": [
       "20.12"
      ]
     },
     "execution_count": 50,
     "metadata": {},
     "output_type": "execute_result"
    }
   ],
   "source": [
    "round(20.12345,2)"
   ]
  },
  {
   "cell_type": "code",
   "execution_count": 54,
   "id": "788f4956-3d36-40b3-8e86-bf2bb29bf9bd",
   "metadata": {},
   "outputs": [
    {
     "name": "stdin",
     "output_type": "stream",
     "text": [
      "enter the n1: 14\n",
      "enter the n2: 25\n",
      "enter the n3: 47\n"
     ]
    },
    {
     "name": "stdout",
     "output_type": "stream",
     "text": [
      "the avg of 14,25 and 47 is 27.33\n"
     ]
    }
   ],
   "source": [
    "n1=eval(input(\"enter the n1:\"))\n",
    "n2=eval(input(\"enter the n2:\"))\n",
    "n3=eval(input(\"enter the n3:\"))\n",
    "avg=round((n1+n2+n3)/3,2)\n",
    "\n",
    "print(f\"the avg of {n1},{n2} and {n3} is {avg1}\")"
   ]
  },
  {
   "cell_type": "code",
   "execution_count": 60,
   "id": "54b6901e-372e-4acc-8a2c-c6218ecc364f",
   "metadata": {},
   "outputs": [
    {
     "name": "stdin",
     "output_type": "stream",
     "text": [
      "enter the breadth: 20\n",
      "enter the height 30\n"
     ]
    },
    {
     "name": "stdout",
     "output_type": "stream",
     "text": [
      "the area of right aggle traingle is: 300.0\n"
     ]
    }
   ],
   "source": [
    "# Q.2 wap ask the user take the breadth and height from keyboard\n",
    "    # calculate are of right angle traingle \n",
    "    # Formula= 0.5*b*h\n",
    "breadth=eval(input(\"enter the breadth:\"))\n",
    "height=eval(input(\"enter the height\"))\n",
    "area=0.5*breadth*height\n",
    "print(f\"the area of right aggle traingle is: {area}\")"
   ]
  },
  {
   "cell_type": "code",
   "execution_count": 64,
   "id": "351f78dd-4bf7-4aa6-90c2-bdec8d34f219",
   "metadata": {},
   "outputs": [
    {
     "name": "stdin",
     "output_type": "stream",
     "text": [
      "enter the radius 30\n"
     ]
    },
    {
     "name": "stdout",
     "output_type": "stream",
     "text": [
      "the area of circle is: 2826.0\n"
     ]
    }
   ],
   "source": [
    "# Q.3 wap ask the take the radius from key board \n",
    "     # calculate the area of circle \n",
    "     # Formulae = pi*r*r pi= 3.14\n",
    "\n",
    "radius= eval(input(\"enter the radius\"))\n",
    "pi=3.14\n",
    "area=pi*radius*radius\n",
    "print(f\"the area of circle is: {area}\")"
   ]
  },
  {
   "cell_type": "code",
   "execution_count": 68,
   "id": "be462f42-a9ce-48e0-b5bc-a4d64153a38a",
   "metadata": {},
   "outputs": [
    {
     "name": "stdin",
     "output_type": "stream",
     "text": [
      "enter the bill amount: 1000\n",
      "Enter the tip amount: 200\n"
     ]
    },
    {
     "name": "stdout",
     "output_type": "stream",
     "text": [
      "the total bill is : 1200\n"
     ]
    }
   ],
   "source": [
    "# Q.4 wap ask the user enter the bill amount\n",
    "    # ask the user provide how much tip amount he wants to give \n",
    "    # calculate the total bill\n",
    "\n",
    "bill_amount=eval(input(\"enter the bill amount:\"))\n",
    "tip_amount=eval(input(\"Enter the tip amount:\"))\n",
    "total_bill=bill_amount+tip_amount\n",
    "print(f\"the total bill is : {total_bill}\")"
   ]
  },
  {
   "cell_type": "code",
   "execution_count": 78,
   "id": "a5b4100d-7c06-423c-9da1-3c665672f924",
   "metadata": {},
   "outputs": [
    {
     "name": "stdin",
     "output_type": "stream",
     "text": [
      "enter the bill amount: 1000\n",
      "Enter the tip per: 2\n"
     ]
    },
    {
     "name": "stdout",
     "output_type": "stream",
     "text": [
      "the total bill is : 1020.0\n"
     ]
    }
   ],
   "source": [
    "# Q.5 wap ask the user enter the bill amount\n",
    "    # ask the user how much tip percentage how much to give \n",
    "    # calculate the total bill\n",
    "\n",
    "bill_amount=eval(input(\"enter the bill amount:\"))\n",
    "tip_per=eval(input(\"Enter the tip per:\"))\n",
    "tip_amount=bill_amount*tip_per/100\n",
    "total_bill=bill_amount+tip_amount\n",
    "print(f\"the total bill is : {total_bill}\")"
   ]
  },
  {
   "cell_type": "code",
   "execution_count": 5,
   "id": "594becfe-5d14-4b65-bd41-33f0146b7b66",
   "metadata": {},
   "outputs": [
    {
     "name": "stdin",
     "output_type": "stream",
     "text": [
      "Father: hey beta\n",
      "son: Hello papa\n",
      "Father: I heared your results came out\n",
      "son: yes Dad\n",
      "Father: Great! how much percentage we got\n",
      "son: I will tell the sub marks you tell me the percentage\n",
      "Father: Wow that's super game, let's starts\n",
      "enter the marks: 100\n",
      "enter the marks: 75\n",
      "enter the marks: 85\n",
      "enter the marks: 65\n",
      "enter the marks: 75\n",
      "enter the marks: 75\n"
     ]
    },
    {
     "name": "stdout",
     "output_type": "stream",
     "text": [
      "the percentage of marks is:79.17\n"
     ]
    }
   ],
   "source": [
    "# Father and son \n",
    "# Son has written the exam\n",
    "# the results got out \n",
    "# father percentage of marks to the son \n",
    "# so son says dad i will give the marks\n",
    "# you calculate percentage \n",
    "\n",
    "# Father: hey beta\n",
    "# son: hai papa\n",
    "# Father: I heared your results came out\n",
    "# son : yes Dad\n",
    "# Father : Great! how much percentage we got\n",
    "# son : I will tell the sub marks you tell me the percentage\n",
    "# Father : Wow that's super game, let's starts\n",
    "# Odia = eval(input())\n",
    "# Hindi\n",
    "# English\n",
    "# Math\n",
    "# Science\n",
    "# Social\n",
    "# Avg = Odia+Hindi+Eng+Sc+Soc)/6\n",
    "input ('Father:')\n",
    "input('son:')\n",
    "input ('Father:')\n",
    "input('son:')\n",
    "input ('Father:')\n",
    "input('son:')\n",
    "input ('Father:')\n",
    "odia=eval(input('enter the marks:'))\n",
    "hindi=eval(input('enter the marks:'))\n",
    "eng=eval(input('enter the marks:'))\n",
    "Maths=eval(input('enter the marks:'))\n",
    "Science=eval(input('enter the marks:'))\n",
    "Social=eval(input('enter the marks:'))\n",
    "avg=(telugu+hindi+eng+Maths+Science+Social)/6\n",
    "avg1=round(avg,2)\n",
    "print(f\"the percentage of marks is:{avg1}\")"
   ]
  },
  {
   "cell_type": "code",
   "execution_count": null,
   "id": "2612db1a-6659-46f4-b29e-8d096bbc4f34",
   "metadata": {},
   "outputs": [],
   "source": [
    "# Mistake-1: assign the variable which is we are not using\n",
    "# father=input('Father')\n",
    "# Mistake-2: type casting of englishe sentence\n",
    "# eval(input('Father'))\n",
    "# Mistake-3: Closing and opening brackets\n",
    "################################################\n",
    "1.python is step by step process\n",
    "2. when to use variables\n",
    "3. when to apply eval"
   ]
  }
 ],
 "metadata": {
  "kernelspec": {
   "display_name": "Python 3 (ipykernel)",
   "language": "python",
   "name": "python3"
  },
  "language_info": {
   "codemirror_mode": {
    "name": "ipython",
    "version": 3
   },
   "file_extension": ".py",
   "mimetype": "text/x-python",
   "name": "python",
   "nbconvert_exporter": "python",
   "pygments_lexer": "ipython3",
   "version": "3.12.4"
  }
 },
 "nbformat": 4,
 "nbformat_minor": 5
}
