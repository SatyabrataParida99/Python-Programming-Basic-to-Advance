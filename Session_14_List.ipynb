{
 "cells": [
  {
   "cell_type": "markdown",
   "id": "653b10f5-7824-4b3b-b052-d842f5d1071d",
   "metadata": {},
   "source": [
    "- intilaization\n",
    "  \n",
    "- inbulit funtions\n",
    "\n",
    "- min\n",
    "\n",
    "- max\n",
    "\n",
    "- len\n",
    "\n",
    "- sorted\n",
    "\n",
    "- revered\n",
    "\n",
    "- print\n",
    "\n",
    "- type\n",
    "\n",
    "- index operations (for loop range vs in)\n",
    "\n",
    "- mutable vs immutable\n",
    "\n",
    "- concatenation\n",
    "\n",
    "- slicing\n",
    "\n",
    "- list methods"
   ]
  },
  {
   "cell_type": "code",
   "execution_count": null,
   "id": "b5e8018b-2452-42ec-a1be-48b36825d81a",
   "metadata": {},
   "outputs": [],
   "source": []
  },
  {
   "cell_type": "markdown",
   "id": "f21e8021-8e39-4ceb-a89d-2b2aebf848f9",
   "metadata": {},
   "source": [
    "- strings denoted with quotes\n",
    "\n",
    "- list denoted with square brackets\n",
    "\n",
    "- list means array of elements\n",
    "\n",
    "- list can access any data type to gether"
   ]
  },
  {
   "cell_type": "code",
   "execution_count": 3,
   "id": "798b5106-e1f5-439b-9e7e-e85f758afc93",
   "metadata": {},
   "outputs": [
    {
     "data": {
      "text/plain": [
       "[1, 2, 3, 4]"
      ]
     },
     "execution_count": 3,
     "metadata": {},
     "output_type": "execute_result"
    }
   ],
   "source": [
    "l1=[1,2,3,4]\n",
    "l1"
   ]
  },
  {
   "cell_type": "code",
   "execution_count": 5,
   "id": "c3202213-4d18-4b42-b330-b1d1bf0e4323",
   "metadata": {},
   "outputs": [
    {
     "data": {
      "text/plain": [
       "list"
      ]
     },
     "execution_count": 5,
     "metadata": {},
     "output_type": "execute_result"
    }
   ],
   "source": [
    "type(l1)"
   ]
  },
  {
   "cell_type": "code",
   "execution_count": 19,
   "id": "adfc9ef9-cb95-45a6-9ec1-c250688ea7ec",
   "metadata": {},
   "outputs": [
    {
     "data": {
      "text/plain": [
       "['A', 'B', 'C']"
      ]
     },
     "execution_count": 19,
     "metadata": {},
     "output_type": "execute_result"
    }
   ],
   "source": [
    "l2=['A','B','C']\n",
    "l2"
   ]
  },
  {
   "cell_type": "code",
   "execution_count": 21,
   "id": "151fb1d7-c168-4ebb-a0ca-c743000bd1cd",
   "metadata": {},
   "outputs": [
    {
     "data": {
      "text/plain": [
       "[1, 2, 3, 4, 'A', 'B', 'C']"
      ]
     },
     "execution_count": 21,
     "metadata": {},
     "output_type": "execute_result"
    }
   ],
   "source": [
    "l3=[1,2,3,4,'A','B','C']\n",
    "l3"
   ]
  },
  {
   "cell_type": "code",
   "execution_count": null,
   "id": "97bd2476-ac34-485e-b3f4-2e213e4d0f52",
   "metadata": {},
   "outputs": [],
   "source": [
    "# create as many as lists witth different ways means different data types"
   ]
  },
  {
   "cell_type": "code",
   "execution_count": 27,
   "id": "2a0cb41b-3c5b-4fc3-a449-2bc646394a9f",
   "metadata": {},
   "outputs": [
    {
     "data": {
      "text/plain": [
       "[10, 20, 30, 'Apple', 'Banana', 'Cherry', True, False, 10.5, 20.5, (20+30j)]"
      ]
     },
     "execution_count": 27,
     "metadata": {},
     "output_type": "execute_result"
    }
   ],
   "source": [
    "l4=[10,20,30,'Apple','Banana','Cherry',True,False,10.5,20.5,20+30j]\n",
    "l4\n",
    "# list can represnt with any data types"
   ]
  },
  {
   "cell_type": "code",
   "execution_count": 29,
   "id": "1ece9fed-0972-487c-8e0c-ca9abc399515",
   "metadata": {},
   "outputs": [
    {
     "data": {
      "text/plain": [
       "[10, 10, 10]"
      ]
     },
     "execution_count": 29,
     "metadata": {},
     "output_type": "execute_result"
    }
   ],
   "source": [
    "l5=[10,10,10]\n",
    "l5\n",
    "# Duplicates are allowed"
   ]
  },
  {
   "cell_type": "code",
   "execution_count": 31,
   "id": "e1b4c0f0-31ed-4e17-804a-44d1870ab874",
   "metadata": {},
   "outputs": [
    {
     "data": {
      "text/plain": [
       "[10, 20, 30, ['A', 'B', 'C']]"
      ]
     },
     "execution_count": 31,
     "metadata": {},
     "output_type": "execute_result"
    }
   ],
   "source": [
    "l6=[10,20,30,['A','B','C']]\n",
    "l6"
   ]
  },
  {
   "cell_type": "code",
   "execution_count": 33,
   "id": "08139453-55f8-4e86-85a7-0d6635953ee3",
   "metadata": {},
   "outputs": [
    {
     "data": {
      "text/plain": [
       "[]"
      ]
     },
     "execution_count": 33,
     "metadata": {},
     "output_type": "execute_result"
    }
   ],
   "source": [
    "l7=[]\n",
    "l7"
   ]
  },
  {
   "cell_type": "code",
   "execution_count": 7,
   "id": "688a3729-505d-44f7-8b0d-e5768c5aec3b",
   "metadata": {},
   "outputs": [
    {
     "data": {
      "text/plain": [
       "['{\"dataframes\": [], \"user\": \"satyabrata\"}']"
      ]
     },
     "execution_count": 7,
     "metadata": {},
     "output_type": "execute_result"
    }
   ],
   "source": [
    "l8=[_]\n",
    "l8\n",
    "# _ underscore means a variable"
   ]
  },
  {
   "cell_type": "code",
   "execution_count": 9,
   "id": "aff2ae3c-3551-4486-8f10-f02812b9d964",
   "metadata": {},
   "outputs": [
    {
     "ename": "NameError",
     "evalue": "name 'python' is not defined",
     "output_type": "error",
     "traceback": [
      "\u001b[1;31m---------------------------------------------------------------------------\u001b[0m",
      "\u001b[1;31mNameError\u001b[0m                                 Traceback (most recent call last)",
      "Cell \u001b[1;32mIn[9], line 1\u001b[0m\n\u001b[1;32m----> 1\u001b[0m [python] \u001b[38;5;66;03m# error\u001b[39;00m\n\u001b[0;32m      2\u001b[0m [_]\n",
      "\u001b[1;31mNameError\u001b[0m: name 'python' is not defined"
     ]
    }
   ],
   "source": [
    "[python] # error\n",
    "[_] # answer"
   ]
  },
  {
   "cell_type": "code",
   "execution_count": 11,
   "id": "ee0aa537-f9f0-4f10-8d9c-d940c9db76ff",
   "metadata": {},
   "outputs": [],
   "source": [
    "l1=[1,2,3,4]\n",
    "l2=['A','B','C']\n",
    "l3=[1,2,3,4,'A','B','C',]\n",
    "l4=[10,20,30,'Apple','Banana','Cherry',True,False,10.5,20.5,20+30j]\n",
    "l5=[10,10,10]\n",
    "l6=[10,20,30,['A','B','C']]\n",
    "l7=[]"
   ]
  },
  {
   "cell_type": "markdown",
   "id": "ba4eb9ff-23a3-4bc7-bac9-78d3d5fbae54",
   "metadata": {},
   "source": [
    "- List can access with square brackets\n",
    "\n",
    "- List can have any data type of elememts\n",
    "    - Heterogeneous\n",
    "- List can have duplicates\n",
    "\n",
    "- List in List is possible\n",
    "\n",
    "- Empty List can also possibile\n",
    "\n",
    "- The values inside list is called as elements"
   ]
  },
  {
   "cell_type": "code",
   "execution_count": 14,
   "id": "11422d3d-8d6a-4a9f-8054-e1a2aa87af3b",
   "metadata": {},
   "outputs": [
    {
     "data": {
      "text/plain": [
       "(4, 3, 7, 11, 3, 4, 0)"
      ]
     },
     "execution_count": 14,
     "metadata": {},
     "output_type": "execute_result"
    }
   ],
   "source": [
    "len(l1),len(l2),len(l3),len(l4),len(l5),len(l6),len(l7)"
   ]
  },
  {
   "cell_type": "code",
   "execution_count": 16,
   "id": "318c18b8-06c2-4ef1-91d9-f401a9fffc9d",
   "metadata": {},
   "outputs": [
    {
     "data": {
      "text/plain": [
       "[1, 2, 3, 4]"
      ]
     },
     "execution_count": 16,
     "metadata": {},
     "output_type": "execute_result"
    }
   ],
   "source": [
    "l1"
   ]
  },
  {
   "cell_type": "code",
   "execution_count": 18,
   "id": "9ea843db-7649-4075-ae32-db868a00c285",
   "metadata": {},
   "outputs": [
    {
     "data": {
      "text/plain": [
       "(1, 4)"
      ]
     },
     "execution_count": 18,
     "metadata": {},
     "output_type": "execute_result"
    }
   ],
   "source": [
    "min(l1),max(l1)"
   ]
  },
  {
   "cell_type": "code",
   "execution_count": 20,
   "id": "e6294bdf-6eaf-4b87-a63f-da36f7e11e20",
   "metadata": {},
   "outputs": [
    {
     "data": {
      "text/plain": [
       "['A', 'B', 'C']"
      ]
     },
     "execution_count": 20,
     "metadata": {},
     "output_type": "execute_result"
    }
   ],
   "source": [
    "l2"
   ]
  },
  {
   "cell_type": "code",
   "execution_count": 22,
   "id": "b7185fd9-9a05-47fd-b0de-63bea3d11d3c",
   "metadata": {},
   "outputs": [
    {
     "data": {
      "text/plain": [
       "('A', 'C')"
      ]
     },
     "execution_count": 22,
     "metadata": {},
     "output_type": "execute_result"
    }
   ],
   "source": [
    "min(l2),max(l2)"
   ]
  },
  {
   "cell_type": "code",
   "execution_count": 24,
   "id": "8324369c-f95b-4abb-819e-dee07fd547c5",
   "metadata": {},
   "outputs": [
    {
     "data": {
      "text/plain": [
       "[1, 2, 3, 4, 'A', 'B', 'C']"
      ]
     },
     "execution_count": 24,
     "metadata": {},
     "output_type": "execute_result"
    }
   ],
   "source": [
    "l3"
   ]
  },
  {
   "cell_type": "code",
   "execution_count": 26,
   "id": "26b737d4-8fcf-4a7f-8af7-9d411181f05b",
   "metadata": {},
   "outputs": [
    {
     "ename": "TypeError",
     "evalue": "'<' not supported between instances of 'str' and 'int'",
     "output_type": "error",
     "traceback": [
      "\u001b[1;31m---------------------------------------------------------------------------\u001b[0m",
      "\u001b[1;31mTypeError\u001b[0m                                 Traceback (most recent call last)",
      "Cell \u001b[1;32mIn[26], line 1\u001b[0m\n\u001b[1;32m----> 1\u001b[0m \u001b[38;5;28mmin\u001b[39m(l3)\n",
      "\u001b[1;31mTypeError\u001b[0m: '<' not supported between instances of 'str' and 'int'"
     ]
    }
   ],
   "source": [
    "min(l3)\n",
    "# same data type should be compare\n",
    "# 'A' ==== some level\n",
    "#  1 ==== some level (not happend)"
   ]
  },
  {
   "cell_type": "code",
   "execution_count": 28,
   "id": "3c791830-b7d6-4230-a15a-99e5e05686f5",
   "metadata": {},
   "outputs": [
    {
     "data": {
      "text/plain": [
       "[10, 20, 30, 'Apple', 'Banana', 'Cherry', True, False, 10.5, 20.5, (20+30j)]"
      ]
     },
     "execution_count": 28,
     "metadata": {},
     "output_type": "execute_result"
    }
   ],
   "source": [
    "l4\n",
    "# min max fail"
   ]
  },
  {
   "cell_type": "code",
   "execution_count": 30,
   "id": "3427dbde-bfbb-42e0-a266-8e9d3fa35fb9",
   "metadata": {},
   "outputs": [
    {
     "data": {
      "text/plain": [
       "[10, 10, 10]"
      ]
     },
     "execution_count": 30,
     "metadata": {},
     "output_type": "execute_result"
    }
   ],
   "source": [
    "l5"
   ]
  },
  {
   "cell_type": "code",
   "execution_count": 34,
   "id": "d882b228-ad3e-4ab3-b05a-dbf9c879cd61",
   "metadata": {},
   "outputs": [
    {
     "data": {
      "text/plain": [
       "(10, 10)"
      ]
     },
     "execution_count": 34,
     "metadata": {},
     "output_type": "execute_result"
    }
   ],
   "source": [
    "min(l5),max(l5)"
   ]
  },
  {
   "cell_type": "code",
   "execution_count": 36,
   "id": "4cca6fd9-78a2-4585-871b-50f2debeb03f",
   "metadata": {},
   "outputs": [
    {
     "data": {
      "text/plain": [
       "[10, 20, 30, ['A', 'B', 'C']]"
      ]
     },
     "execution_count": 36,
     "metadata": {},
     "output_type": "execute_result"
    }
   ],
   "source": [
    "l6"
   ]
  },
  {
   "cell_type": "code",
   "execution_count": 38,
   "id": "2067d17e-f9d7-4d3b-9f0b-c50b2e984ad6",
   "metadata": {},
   "outputs": [
    {
     "data": {
      "text/plain": [
       "'\\n'"
      ]
     },
     "execution_count": 38,
     "metadata": {},
     "output_type": "execute_result"
    }
   ],
   "source": [
    "chr(10)"
   ]
  },
  {
   "cell_type": "code",
   "execution_count": 40,
   "id": "a82d7485-09bb-47fb-8db3-1153a93694b1",
   "metadata": {},
   "outputs": [
    {
     "ename": "TypeError",
     "evalue": "'list' object cannot be interpreted as an integer",
     "output_type": "error",
     "traceback": [
      "\u001b[1;31m---------------------------------------------------------------------------\u001b[0m",
      "\u001b[1;31mTypeError\u001b[0m                                 Traceback (most recent call last)",
      "Cell \u001b[1;32mIn[40], line 1\u001b[0m\n\u001b[1;32m----> 1\u001b[0m \u001b[38;5;28mchr\u001b[39m([])\n",
      "\u001b[1;31mTypeError\u001b[0m: 'list' object cannot be interpreted as an integer"
     ]
    }
   ],
   "source": [
    "chr([])"
   ]
  },
  {
   "cell_type": "code",
   "execution_count": 42,
   "id": "1c4a9e7c-b2c1-4140-a5ba-fb9c490dd393",
   "metadata": {},
   "outputs": [
    {
     "ename": "TypeError",
     "evalue": "ord() expected string of length 1, but list found",
     "output_type": "error",
     "traceback": [
      "\u001b[1;31m---------------------------------------------------------------------------\u001b[0m",
      "\u001b[1;31mTypeError\u001b[0m                                 Traceback (most recent call last)",
      "Cell \u001b[1;32mIn[42], line 1\u001b[0m\n\u001b[1;32m----> 1\u001b[0m \u001b[38;5;28mord\u001b[39m([])\n",
      "\u001b[1;31mTypeError\u001b[0m: ord() expected string of length 1, but list found"
     ]
    }
   ],
   "source": [
    "ord([])"
   ]
  },
  {
   "cell_type": "code",
   "execution_count": 44,
   "id": "9164d8ce-5f8f-4809-87b1-c87c3a1fa555",
   "metadata": {},
   "outputs": [
    {
     "ename": "TypeError",
     "evalue": "'<' not supported between instances of 'list' and 'int'",
     "output_type": "error",
     "traceback": [
      "\u001b[1;31m---------------------------------------------------------------------------\u001b[0m",
      "\u001b[1;31mTypeError\u001b[0m                                 Traceback (most recent call last)",
      "Cell \u001b[1;32mIn[44], line 1\u001b[0m\n\u001b[1;32m----> 1\u001b[0m \u001b[38;5;28mmin\u001b[39m(l6)\n",
      "\u001b[1;31mTypeError\u001b[0m: '<' not supported between instances of 'list' and 'int'"
     ]
    }
   ],
   "source": [
    "min(l6)"
   ]
  },
  {
   "cell_type": "code",
   "execution_count": 46,
   "id": "45ef1284-b9ef-4348-bfe0-7e4d3e160421",
   "metadata": {},
   "outputs": [
    {
     "ename": "ValueError",
     "evalue": "min() iterable argument is empty",
     "output_type": "error",
     "traceback": [
      "\u001b[1;31m---------------------------------------------------------------------------\u001b[0m",
      "\u001b[1;31mValueError\u001b[0m                                Traceback (most recent call last)",
      "Cell \u001b[1;32mIn[46], line 1\u001b[0m\n\u001b[1;32m----> 1\u001b[0m \u001b[38;5;28mmin\u001b[39m(l7),\u001b[38;5;28mmax\u001b[39m(l7)\n",
      "\u001b[1;31mValueError\u001b[0m: min() iterable argument is empty"
     ]
    }
   ],
   "source": [
    "min(l7),max(l7)"
   ]
  },
  {
   "cell_type": "code",
   "execution_count": 52,
   "id": "45cd090b-eecf-437a-b54f-6a39d111b251",
   "metadata": {},
   "outputs": [
    {
     "ename": "ValueError",
     "evalue": "min() iterable argument is empty",
     "output_type": "error",
     "traceback": [
      "\u001b[1;31m---------------------------------------------------------------------------\u001b[0m",
      "\u001b[1;31mValueError\u001b[0m                                Traceback (most recent call last)",
      "Cell \u001b[1;32mIn[52], line 1\u001b[0m\n\u001b[1;32m----> 1\u001b[0m \u001b[38;5;28mmin\u001b[39m([])\n",
      "\u001b[1;31mValueError\u001b[0m: min() iterable argument is empty"
     ]
    }
   ],
   "source": [
    "min([])"
   ]
  },
  {
   "cell_type": "code",
   "execution_count": 54,
   "id": "bd2e68a4-991f-4fe9-82c2-9299a9a7d67f",
   "metadata": {},
   "outputs": [
    {
     "data": {
      "text/plain": [
       "(0, 1, 1)"
      ]
     },
     "execution_count": 54,
     "metadata": {},
     "output_type": "execute_result"
    }
   ],
   "source": [
    "len([]),len([100]),len([''])\n",
    "# is list  has element"
   ]
  },
  {
   "cell_type": "code",
   "execution_count": 56,
   "id": "2004a117-696b-4c2a-9ac1-601c0139ea70",
   "metadata": {},
   "outputs": [
    {
     "data": {
      "text/plain": [
       "''"
      ]
     },
     "execution_count": 56,
     "metadata": {},
     "output_type": "execute_result"
    }
   ],
   "source": [
    "min(['','a'])"
   ]
  },
  {
   "cell_type": "code",
   "execution_count": 62,
   "id": "c2d21b38-66ed-44c6-84dc-baea161a1bb9",
   "metadata": {},
   "outputs": [
    {
     "data": {
      "text/plain": [
       "4"
      ]
     },
     "execution_count": 62,
     "metadata": {},
     "output_type": "execute_result"
    }
   ],
   "source": [
    "# sir y list([100]) is 1???\n",
    "[100] # 1\n",
    "[1,0,0] # 3\n",
    "['100'] # 1 \n",
    "len('1000') # 3"
   ]
  },
  {
   "cell_type": "code",
   "execution_count": 64,
   "id": "e4ec6935-a348-4831-ac83-8a6fcb561caf",
   "metadata": {},
   "outputs": [
    {
     "data": {
      "text/plain": [
       "''"
      ]
     },
     "execution_count": 64,
     "metadata": {},
     "output_type": "execute_result"
    }
   ],
   "source": [
    "min(['','a'])\n",
    "# '' 32\n",
    "# 'a' 97"
   ]
  },
  {
   "cell_type": "code",
   "execution_count": null,
   "id": "3f76f789-0855-49d8-8bb0-cd342ef3aed3",
   "metadata": {},
   "outputs": [],
   "source": [
    "# sir chars also have ascii values \n",
    "# why they cannot be compared with numbers \n",
    "# if we do min or max comaparison with list \n",
    "# containing hetrogeneous data type i.e char and string?\n",
    "\n",
    "# Rule: strings and number can not compare\n",
    "\n",
    "10 with 'A'\n",
    "10 L0 ===== No other level\n",
    "'A' ==== > 65 L1\n",
    "'B' ===== > 66 L1"
   ]
  },
  {
   "cell_type": "code",
   "execution_count": 66,
   "id": "4df12527-e004-48cd-8c1f-d7652f69a5b2",
   "metadata": {},
   "outputs": [
    {
     "data": {
      "text/plain": [
       "[]"
      ]
     },
     "execution_count": 66,
     "metadata": {},
     "output_type": "execute_result"
    }
   ],
   "source": [
    "l1 # w\n",
    "l2 # w\n",
    "l3 # Hetero  NW\n",
    "l4 # NW\n",
    "l5 # W\n",
    "l6 # NW\n",
    "l7"
   ]
  },
  {
   "cell_type": "code",
   "execution_count": 68,
   "id": "b7975e3b-73c9-4d80-a829-e9b6dd8cda25",
   "metadata": {},
   "outputs": [
    {
     "data": {
      "text/plain": [
       "[]"
      ]
     },
     "execution_count": 68,
     "metadata": {},
     "output_type": "execute_result"
    }
   ],
   "source": [
    "sorted([])\n",
    "# empty list means\n",
    "# does not has any elements"
   ]
  },
  {
   "cell_type": "code",
   "execution_count": 76,
   "id": "f68eae0b-f91d-4457-aae0-0cf417d4b0d4",
   "metadata": {},
   "outputs": [
    {
     "ename": "ValueError",
     "evalue": "min() iterable argument is empty",
     "output_type": "error",
     "traceback": [
      "\u001b[1;31m---------------------------------------------------------------------------\u001b[0m",
      "\u001b[1;31mValueError\u001b[0m                                Traceback (most recent call last)",
      "Cell \u001b[1;32mIn[76], line 1\u001b[0m\n\u001b[1;32m----> 1\u001b[0m \u001b[38;5;28mmin\u001b[39m([])\n",
      "\u001b[1;31mValueError\u001b[0m: min() iterable argument is empty"
     ]
    }
   ],
   "source": [
    "min([])"
   ]
  },
  {
   "cell_type": "code",
   "execution_count": 80,
   "id": "9809c3a7-8bab-4ab3-9d40-b5573fd3826c",
   "metadata": {},
   "outputs": [
    {
     "data": {
      "text/plain": [
       "<list_reverseiterator at 0x1fc36b33130>"
      ]
     },
     "execution_count": 80,
     "metadata": {},
     "output_type": "execute_result"
    }
   ],
   "source": [
    "reversed(l1)"
   ]
  },
  {
   "cell_type": "code",
   "execution_count": 82,
   "id": "24a20094-d7f2-4169-95e8-a08584003aa0",
   "metadata": {},
   "outputs": [
    {
     "name": "stdout",
     "output_type": "stream",
     "text": [
      "4\n",
      "3\n",
      "2\n",
      "1\n"
     ]
    }
   ],
   "source": [
    "for i in reversed(l1):\n",
    "    print(i)"
   ]
  },
  {
   "cell_type": "code",
   "execution_count": 84,
   "id": "38ee917f-6638-4151-9eff-0a9a67a6c5b0",
   "metadata": {},
   "outputs": [
    {
     "data": {
      "text/plain": [
       "[4, 3, 2, 1]"
      ]
     },
     "execution_count": 84,
     "metadata": {},
     "output_type": "execute_result"
    }
   ],
   "source": [
    "list(reversed(l1))"
   ]
  },
  {
   "cell_type": "code",
   "execution_count": 86,
   "id": "ef8be563-dae5-40eb-a2ae-ecdd3bb6d105",
   "metadata": {},
   "outputs": [
    {
     "data": {
      "text/plain": [
       "[<list_reverseiterator at 0x1fc34ce5f60>]"
      ]
     },
     "execution_count": 86,
     "metadata": {},
     "output_type": "execute_result"
    }
   ],
   "source": [
    "[reversed(l1)]"
   ]
  },
  {
   "cell_type": "code",
   "execution_count": 88,
   "id": "68ef6dba-c58a-4ee8-8f92-89d0d26bc963",
   "metadata": {},
   "outputs": [
    {
     "data": {
      "text/plain": [
       "['A', 'B', 'C']"
      ]
     },
     "execution_count": 88,
     "metadata": {},
     "output_type": "execute_result"
    }
   ],
   "source": [
    "l2"
   ]
  },
  {
   "cell_type": "code",
   "execution_count": 90,
   "id": "0edc9219-b754-4bcf-b8aa-52c3187df7cd",
   "metadata": {},
   "outputs": [
    {
     "data": {
      "text/plain": [
       "['C', 'B', 'A', 4, 3, 2, 1]"
      ]
     },
     "execution_count": 90,
     "metadata": {},
     "output_type": "execute_result"
    }
   ],
   "source": [
    "list(reversed(l3))"
   ]
  },
  {
   "cell_type": "code",
   "execution_count": 92,
   "id": "1c3b8e3b-bb56-4fe9-a408-6338aaa92ff5",
   "metadata": {},
   "outputs": [
    {
     "data": {
      "text/plain": [
       "[10, 10, 10]"
      ]
     },
     "execution_count": 92,
     "metadata": {},
     "output_type": "execute_result"
    }
   ],
   "source": [
    "l5"
   ]
  },
  {
   "cell_type": "code",
   "execution_count": 94,
   "id": "e49367bf-5750-4534-a57a-b7726ed8966b",
   "metadata": {},
   "outputs": [
    {
     "data": {
      "text/plain": [
       "[10, 20, 30, ['A', 'B', 'C']]"
      ]
     },
     "execution_count": 94,
     "metadata": {},
     "output_type": "execute_result"
    }
   ],
   "source": [
    "l6"
   ]
  },
  {
   "cell_type": "code",
   "execution_count": 96,
   "id": "76306a88-e7f7-46f5-829e-a6790d9b9b92",
   "metadata": {},
   "outputs": [
    {
     "data": {
      "text/plain": [
       "[['A', 'B', 'C'], 30, 20, 10]"
      ]
     },
     "execution_count": 96,
     "metadata": {},
     "output_type": "execute_result"
    }
   ],
   "source": [
    "list(reversed(l6))"
   ]
  },
  {
   "cell_type": "markdown",
   "id": "1ded4197-6238-4bf9-a55f-b1860b8fb64e",
   "metadata": {},
   "source": [
    "- sorted will compare the elements\n",
    "\n",
    "- the same rules applicable for min and max\n",
    "\n",
    "- sorted never return any error eventhough we have an empty list\n",
    "\n",
    "- min and max will give error if it has empty list\n",
    "\n",
    "- Reveresed only do reveres elements"
   ]
  },
  {
   "cell_type": "code",
   "execution_count": null,
   "id": "2c33a7aa-f70b-48cb-8317-8c9d35601e95",
   "metadata": {},
   "outputs": [],
   "source": [
    "min/max/sorted/reveresed/len"
   ]
  },
  {
   "cell_type": "markdown",
   "id": "45ea495b-2a0d-4bc8-b925-184e2e102bbd",
   "metadata": {},
   "source": [
    "**sum**"
   ]
  },
  {
   "cell_type": "code",
   "execution_count": 102,
   "id": "def49c05-755f-4fe8-bf09-3cd98f3f9567",
   "metadata": {},
   "outputs": [
    {
     "data": {
      "text/plain": [
       "600"
      ]
     },
     "execution_count": 102,
     "metadata": {},
     "output_type": "execute_result"
    }
   ],
   "source": [
    "sum([100,200,300])"
   ]
  },
  {
   "cell_type": "code",
   "execution_count": 104,
   "id": "a101a968-6696-4a5a-af2f-678d2db47a08",
   "metadata": {},
   "outputs": [
    {
     "ename": "TypeError",
     "evalue": "unsupported operand type(s) for +: 'int' and 'str'",
     "output_type": "error",
     "traceback": [
      "\u001b[1;31m---------------------------------------------------------------------------\u001b[0m",
      "\u001b[1;31mTypeError\u001b[0m                                 Traceback (most recent call last)",
      "Cell \u001b[1;32mIn[104], line 1\u001b[0m\n\u001b[1;32m----> 1\u001b[0m \u001b[38;5;28msum\u001b[39m([\u001b[38;5;124m'\u001b[39m\u001b[38;5;124mA\u001b[39m\u001b[38;5;124m'\u001b[39m,\u001b[38;5;124m'\u001b[39m\u001b[38;5;124mB\u001b[39m\u001b[38;5;124m'\u001b[39m,\u001b[38;5;124m'\u001b[39m\u001b[38;5;124mC\u001b[39m\u001b[38;5;124m'\u001b[39m])\n",
      "\u001b[1;31mTypeError\u001b[0m: unsupported operand type(s) for +: 'int' and 'str'"
     ]
    }
   ],
   "source": [
    "sum(['A','B','C'])"
   ]
  },
  {
   "cell_type": "code",
   "execution_count": 106,
   "id": "a93e964f-fa03-4395-9805-359077b7f2e2",
   "metadata": {},
   "outputs": [
    {
     "data": {
      "text/plain": [
       "160"
      ]
     },
     "execution_count": 106,
     "metadata": {},
     "output_type": "execute_result"
    }
   ],
   "source": [
    "sum([10,20,30],start=100)"
   ]
  },
  {
   "cell_type": "code",
   "execution_count": 108,
   "id": "deacd7d8-43bc-46f6-8484-069d00741ae5",
   "metadata": {},
   "outputs": [],
   "source": [
    "sum=100\n",
    "sum=sum+i"
   ]
  },
  {
   "cell_type": "code",
   "execution_count": 114,
   "id": "fd24eb1d-298d-44ed-94dd-5f5ed0fe7b34",
   "metadata": {},
   "outputs": [
    {
     "ename": "TypeError",
     "evalue": "'int' object is not callable",
     "output_type": "error",
     "traceback": [
      "\u001b[1;31m---------------------------------------------------------------------------\u001b[0m",
      "\u001b[1;31mTypeError\u001b[0m                                 Traceback (most recent call last)",
      "Cell \u001b[1;32mIn[114], line 1\u001b[0m\n\u001b[1;32m----> 1\u001b[0m \u001b[38;5;28msum\u001b[39m([])\n",
      "\u001b[1;31mTypeError\u001b[0m: 'int' object is not callable"
     ]
    }
   ],
   "source": [
    "sum([])"
   ]
  },
  {
   "cell_type": "markdown",
   "id": "c685bde0-2fce-4a17-9355-23fbd6b29918",
   "metadata": {},
   "source": [
    "**index**"
   ]
  },
  {
   "cell_type": "code",
   "execution_count": null,
   "id": "6a1dad11-0cff-4002-8a0c-9d8da9326714",
   "metadata": {},
   "outputs": [],
   "source": [
    "l1=[1,2,3,4,'A','B','C']\n",
    " # -7  -6  -5  -4  -3  -2  -1\n",
    " #[1,   2,  3,  4, 'A','B','C']\n",
    " # 0    1   2   3   4   5   6"
   ]
  },
  {
   "cell_type": "code",
   "execution_count": 121,
   "id": "4431e195-e761-42cd-9277-f6630bb55a83",
   "metadata": {},
   "outputs": [
    {
     "ename": "IndexError",
     "evalue": "list index out of range",
     "output_type": "error",
     "traceback": [
      "\u001b[1;31m---------------------------------------------------------------------------\u001b[0m",
      "\u001b[1;31mIndexError\u001b[0m                                Traceback (most recent call last)",
      "Cell \u001b[1;32mIn[121], line 1\u001b[0m\n\u001b[1;32m----> 1\u001b[0m l1[\u001b[38;5;241m0\u001b[39m],l1[\u001b[38;5;241m-\u001b[39m\u001b[38;5;241m7\u001b[39m]\n",
      "\u001b[1;31mIndexError\u001b[0m: list index out of range"
     ]
    }
   ],
   "source": [
    "l1[0],l1[-7]"
   ]
  },
  {
   "cell_type": "code",
   "execution_count": null,
   "id": "b1a0c01a-49a9-4325-9036-55870600cb2e",
   "metadata": {},
   "outputs": [],
   "source": [
    "# by using for loop print the postive index\n",
    "# by using for loop print the negative index\n",
    "# by using for loop print both postive and negtaive index"
   ]
  },
  {
   "cell_type": "code",
   "execution_count": 133,
   "id": "69c1d9d1-82ff-48cb-b76b-49bd688974fd",
   "metadata": {},
   "outputs": [
    {
     "ename": "SyntaxError",
     "evalue": "unterminated f-string literal (detected at line 5) (3062954840.py, line 5)",
     "output_type": "error",
     "traceback": [
      "\u001b[1;36m  Cell \u001b[1;32mIn[133], line 5\u001b[1;36m\u001b[0m\n\u001b[1;33m    printprint(f\"the postive index of {l1[i]} is:{i} and negative index is: {i-len(l1)})\u001b[0m\n\u001b[1;37m               ^\u001b[0m\n\u001b[1;31mSyntaxError\u001b[0m\u001b[1;31m:\u001b[0m unterminated f-string literal (detected at line 5)\n"
     ]
    }
   ],
   "source": [
    "l1=[10,20,30,40,'A','B','C']\n",
    "for i in range(len(l1)):\n",
    "    print(f\"the postive index of {l1[i]} is:{i}\")\n",
    "    print(f\"the negative index of {l1[i]} is:{i-len(l1)}\")\n",
    "    printprint(f\"the postive index of {l1[i]} is:{i} and negative index is: {i-len(l1)})\n",
    "    print(\"========================================\")"
   ]
  },
  {
   "cell_type": "code",
   "execution_count": 135,
   "id": "cec8648f-3654-4198-96c8-665e4b95780f",
   "metadata": {},
   "outputs": [
    {
     "data": {
      "text/plain": [
       "10"
      ]
     },
     "execution_count": 135,
     "metadata": {},
     "output_type": "execute_result"
    }
   ],
   "source": [
    "l=[10,20,30]\n",
    "l[0]"
   ]
  },
  {
   "cell_type": "code",
   "execution_count": 137,
   "id": "f53a8978-379f-448f-9c30-bedf470141dd",
   "metadata": {},
   "outputs": [
    {
     "data": {
      "text/plain": [
       "1"
      ]
     },
     "execution_count": 137,
     "metadata": {},
     "output_type": "execute_result"
    }
   ],
   "source": [
    "l=[[10,20,30]]\n",
    "# how to access the 10\n",
    "len(l)"
   ]
  },
  {
   "cell_type": "code",
   "execution_count": 141,
   "id": "a4a3b0df-edd6-42c8-bc0d-28d70d3faebd",
   "metadata": {},
   "outputs": [
    {
     "data": {
      "text/plain": [
       "(10, 20, 30)"
      ]
     },
     "execution_count": 141,
     "metadata": {},
     "output_type": "execute_result"
    }
   ],
   "source": [
    "l=[\n",
    "    [10,20,30]\n",
    "]\n",
    "# how many elements are there in a list: 1 element\n",
    "len(l)\n",
    "l[0][0],l[0][1],l[0][2]"
   ]
  },
  {
   "cell_type": "code",
   "execution_count": 143,
   "id": "97234c21-f4b9-4e4e-9290-3f8f2de493c3",
   "metadata": {},
   "outputs": [
    {
     "data": {
      "text/plain": [
       "'A'"
      ]
     },
     "execution_count": 143,
     "metadata": {},
     "output_type": "execute_result"
    }
   ],
   "source": [
    "l1=[10,20,['A','B']]\n",
    "# retrive the A \n",
    "# how many elements are there : 3\n",
    "len(l1)\n",
    "# how can we access 0,1,2\n",
    "l1[2][0]"
   ]
  },
  {
   "cell_type": "code",
   "execution_count": 145,
   "id": "c7a4d0e5-bd96-4903-8b2a-6bd33e38a196",
   "metadata": {},
   "outputs": [
    {
     "data": {
      "text/plain": [
       "'Apple'"
      ]
     },
     "execution_count": 145,
     "metadata": {},
     "output_type": "execute_result"
    }
   ],
   "source": [
    "l1=[1,2,3,4,[5,6,['Apple']]]\n",
    "l1[4][2][0]"
   ]
  },
  {
   "cell_type": "code",
   "execution_count": 147,
   "id": "381fe10c-46d7-4e14-a4eb-93e638bfe9d1",
   "metadata": {},
   "outputs": [
    {
     "data": {
      "text/plain": [
       "'cherry'"
      ]
     },
     "execution_count": 147,
     "metadata": {},
     "output_type": "execute_result"
    }
   ],
   "source": [
    "l1=[1,2,3,[4,[5,['cherry']]]]\n",
    "len(l1)\n",
    "l1[3][1][1][0]"
   ]
  },
  {
   "cell_type": "code",
   "execution_count": 149,
   "id": "705d4695-ccad-42c5-a608-b30a08d090a1",
   "metadata": {},
   "outputs": [
    {
     "data": {
      "text/plain": [
       "'onion'"
      ]
     },
     "execution_count": 149,
     "metadata": {},
     "output_type": "execute_result"
    }
   ],
   "source": [
    "l1=[[[[[[[[['onion']]]]]]]]]\n",
    "l1[0][0][0][0][0][0][0][0][0]"
   ]
  },
  {
   "cell_type": "code",
   "execution_count": 151,
   "id": "d72b6245-c7c7-470d-a7ab-ee0b4938cfcc",
   "metadata": {},
   "outputs": [
    {
     "data": {
      "text/plain": [
       "['Apple', ['Kashmir', ['India', ['Mumbai', ['Sharuk', ['Film', ['DDLJ']]]]]]]"
      ]
     },
     "execution_count": 151,
     "metadata": {},
     "output_type": "execute_result"
    }
   ],
   "source": [
    "l1=['Apple',['Kashmir',['India',['Mumbai',['Sharuk',['Film',['DDLJ']]]]]]]\n",
    "l1"
   ]
  },
  {
   "cell_type": "code",
   "execution_count": 153,
   "id": "3e834f6a-804a-4083-a97c-f80c778f7153",
   "metadata": {},
   "outputs": [
    {
     "data": {
      "text/plain": [
       "'DDLJ'"
      ]
     },
     "execution_count": 153,
     "metadata": {},
     "output_type": "execute_result"
    }
   ],
   "source": [
    "l1[1][1][1][1][1][1][0]"
   ]
  },
  {
   "cell_type": "markdown",
   "id": "030ea3e5-e1bb-4265-9cff-ebcee1d2b4b1",
   "metadata": {},
   "source": [
    "**mutable vs immutable**"
   ]
  },
  {
   "cell_type": "code",
   "execution_count": 156,
   "id": "660cc10f-9fea-4226-825b-755463f9eba8",
   "metadata": {},
   "outputs": [
    {
     "ename": "TypeError",
     "evalue": "'str' object does not support item assignment",
     "output_type": "error",
     "traceback": [
      "\u001b[1;31m---------------------------------------------------------------------------\u001b[0m",
      "\u001b[1;31mTypeError\u001b[0m                                 Traceback (most recent call last)",
      "Cell \u001b[1;32mIn[156], line 2\u001b[0m\n\u001b[0;32m      1\u001b[0m str1\u001b[38;5;241m=\u001b[39m\u001b[38;5;124m'\u001b[39m\u001b[38;5;124mwelcome\u001b[39m\u001b[38;5;124m'\u001b[39m\n\u001b[1;32m----> 2\u001b[0m str1[\u001b[38;5;241m2\u001b[39m]\u001b[38;5;241m=\u001b[39m\u001b[38;5;124m'\u001b[39m\u001b[38;5;124mL\u001b[39m\u001b[38;5;124m'\u001b[39m\n\u001b[0;32m      3\u001b[0m str1\n",
      "\u001b[1;31mTypeError\u001b[0m: 'str' object does not support item assignment"
     ]
    }
   ],
   "source": [
    "str1='welcome'\n",
    "str1[2]='L'\n",
    "str1"
   ]
  },
  {
   "cell_type": "code",
   "execution_count": 158,
   "id": "03f50988-6515-46a6-8159-b8f8cd94b94e",
   "metadata": {},
   "outputs": [
    {
     "data": {
      "text/plain": [
       "['w', 'e', 'L', 'c', 'o', 'm', 'e']"
      ]
     },
     "execution_count": 158,
     "metadata": {},
     "output_type": "execute_result"
    }
   ],
   "source": [
    "l1=['w','e','l','c','o','m','e']\n",
    "l1[2]='L'\n",
    "l1"
   ]
  },
  {
   "cell_type": "markdown",
   "id": "c7466ccf-3209-4741-b56f-7f478bec0440",
   "metadata": {},
   "source": [
    "- we can change the list elements using index"
   ]
  },
  {
   "cell_type": "code",
   "execution_count": 161,
   "id": "b24f4bec-36a0-4c80-9313-dcd017aac7c4",
   "metadata": {},
   "outputs": [
    {
     "data": {
      "text/plain": [
       "'hellowelcome'"
      ]
     },
     "execution_count": 161,
     "metadata": {},
     "output_type": "execute_result"
    }
   ],
   "source": [
    "s1='hello'\n",
    "s2='welcome'\n",
    "s1+s2"
   ]
  },
  {
   "cell_type": "code",
   "execution_count": 163,
   "id": "a988e06e-9ef7-44b7-87ad-873db4fb4e93",
   "metadata": {},
   "outputs": [
    {
     "ename": "TypeError",
     "evalue": "can't multiply sequence by non-int of type 'str'",
     "output_type": "error",
     "traceback": [
      "\u001b[1;31m---------------------------------------------------------------------------\u001b[0m",
      "\u001b[1;31mTypeError\u001b[0m                                 Traceback (most recent call last)",
      "Cell \u001b[1;32mIn[163], line 1\u001b[0m\n\u001b[1;32m----> 1\u001b[0m s1\u001b[38;5;241m*\u001b[39ms2 \u001b[38;5;66;03m# fail\u001b[39;00m\n\u001b[0;32m      2\u001b[0m s1\u001b[38;5;241m-\u001b[39ms2\n",
      "\u001b[1;31mTypeError\u001b[0m: can't multiply sequence by non-int of type 'str'"
     ]
    }
   ],
   "source": [
    "s1*s2 # fail\n",
    "s1-s2 # fail"
   ]
  },
  {
   "cell_type": "code",
   "execution_count": 165,
   "id": "a637fe87-5876-41ef-a55e-ca95d280f065",
   "metadata": {},
   "outputs": [
    {
     "data": {
      "text/plain": [
       "'hellohello'"
      ]
     },
     "execution_count": 165,
     "metadata": {},
     "output_type": "execute_result"
    }
   ],
   "source": [
    "s1*2"
   ]
  },
  {
   "cell_type": "code",
   "execution_count": 167,
   "id": "7f284fc9-428d-42c4-bd2a-26a9871aa795",
   "metadata": {},
   "outputs": [
    {
     "data": {
      "text/plain": [
       "['h', 'e', 'l', 'l', 'o', 'w', 'e', 'l', 'c', 'o', 'm', 'e']"
      ]
     },
     "execution_count": 167,
     "metadata": {},
     "output_type": "execute_result"
    }
   ],
   "source": [
    "l1=['h','e','l','l','o']\n",
    "l2=['w','e','l','c','o','m','e']\n",
    "l1+l2"
   ]
  },
  {
   "cell_type": "code",
   "execution_count": 169,
   "id": "3b4d7be1-70c6-4e36-8760-c38af0329a8d",
   "metadata": {},
   "outputs": [
    {
     "ename": "TypeError",
     "evalue": "can't multiply sequence by non-int of type 'list'",
     "output_type": "error",
     "traceback": [
      "\u001b[1;31m---------------------------------------------------------------------------\u001b[0m",
      "\u001b[1;31mTypeError\u001b[0m                                 Traceback (most recent call last)",
      "Cell \u001b[1;32mIn[169], line 1\u001b[0m\n\u001b[1;32m----> 1\u001b[0m l1\u001b[38;5;241m*\u001b[39ml2 \u001b[38;5;66;03m# error\u001b[39;00m\n\u001b[0;32m      2\u001b[0m l1\u001b[38;5;241m-\u001b[39ml2 \u001b[38;5;66;03m# error\u001b[39;00m\n\u001b[0;32m      3\u001b[0m l1\u001b[38;5;241m/\u001b[39ml2\n",
      "\u001b[1;31mTypeError\u001b[0m: can't multiply sequence by non-int of type 'list'"
     ]
    }
   ],
   "source": [
    "l1*l2 # error\n",
    "l1-l2 # error\n",
    "l1/l2 # error"
   ]
  },
  {
   "cell_type": "code",
   "execution_count": 171,
   "id": "70fb9cd0-acc6-42b9-9640-5bda1e4aaecd",
   "metadata": {},
   "outputs": [
    {
     "data": {
      "text/plain": [
       "['h', 'e', 'l', 'l', 'o', 'h', 'e', 'l', 'l', 'o']"
      ]
     },
     "execution_count": 171,
     "metadata": {},
     "output_type": "execute_result"
    }
   ],
   "source": [
    "l1*2"
   ]
  },
  {
   "cell_type": "markdown",
   "id": "8c44ec09-963a-4c28-a651-52107f6308ac",
   "metadata": {},
   "source": [
    "**slicing**"
   ]
  },
  {
   "cell_type": "code",
   "execution_count": 176,
   "id": "0df48bdd-e857-4bec-aa17-26a3caff8931",
   "metadata": {},
   "outputs": [
    {
     "data": {
      "text/plain": [
       "[]"
      ]
     },
     "execution_count": 176,
     "metadata": {},
     "output_type": "execute_result"
    }
   ],
   "source": [
    "l1=[1,2,3,4,5,'A','B','C','D','10.5',True,10.5,100,200]\n",
    "l1[:] # same list  1\n",
    "l1[::] # same list 2\n",
    "l1[::-1] # reverse list 3\n",
    "l1[2:14:2] # w 4\n",
    "l1[2:14:-2] #nw 5\n",
    "l1[2:-14:2] # check this (nw) 6\n",
    "l1[-2:14:2] # check this (w) 7\n",
    "l1[-2:-14:-2] # works  8\n",
    "l1[14:2:2] # nw  9\n",
    "l1[14:2:-2] # w  10\n",
    "l1[14:-2:2] # check  this (nw) 11\n",
    "l1[-14:2:2] # check this (w)  12\n",
    "l1[-14:-2:-2] # check this (nw) 13"
   ]
  },
  {
   "cell_type": "markdown",
   "id": "f14be047-d27c-4163-947b-2ea06ae8849f",
   "metadata": {},
   "source": [
    "**methods**"
   ]
  },
  {
   "cell_type": "code",
   "execution_count": 179,
   "id": "b02da0cb-9f6d-409c-87b2-5484adbd26d0",
   "metadata": {},
   "outputs": [
    {
     "data": {
      "text/plain": [
       "['__add__',\n",
       " '__class__',\n",
       " '__contains__',\n",
       " '__delattr__',\n",
       " '__dir__',\n",
       " '__doc__',\n",
       " '__eq__',\n",
       " '__format__',\n",
       " '__ge__',\n",
       " '__getattribute__',\n",
       " '__getitem__',\n",
       " '__getnewargs__',\n",
       " '__getstate__',\n",
       " '__gt__',\n",
       " '__hash__',\n",
       " '__init__',\n",
       " '__init_subclass__',\n",
       " '__iter__',\n",
       " '__le__',\n",
       " '__len__',\n",
       " '__lt__',\n",
       " '__mod__',\n",
       " '__mul__',\n",
       " '__ne__',\n",
       " '__new__',\n",
       " '__reduce__',\n",
       " '__reduce_ex__',\n",
       " '__repr__',\n",
       " '__rmod__',\n",
       " '__rmul__',\n",
       " '__setattr__',\n",
       " '__sizeof__',\n",
       " '__str__',\n",
       " '__subclasshook__',\n",
       " 'capitalize',\n",
       " 'casefold',\n",
       " 'center',\n",
       " 'count',\n",
       " 'encode',\n",
       " 'endswith',\n",
       " 'expandtabs',\n",
       " 'find',\n",
       " 'format',\n",
       " 'format_map',\n",
       " 'index',\n",
       " 'isalnum',\n",
       " 'isalpha',\n",
       " 'isascii',\n",
       " 'isdecimal',\n",
       " 'isdigit',\n",
       " 'isidentifier',\n",
       " 'islower',\n",
       " 'isnumeric',\n",
       " 'isprintable',\n",
       " 'isspace',\n",
       " 'istitle',\n",
       " 'isupper',\n",
       " 'join',\n",
       " 'ljust',\n",
       " 'lower',\n",
       " 'lstrip',\n",
       " 'maketrans',\n",
       " 'partition',\n",
       " 'removeprefix',\n",
       " 'removesuffix',\n",
       " 'replace',\n",
       " 'rfind',\n",
       " 'rindex',\n",
       " 'rjust',\n",
       " 'rpartition',\n",
       " 'rsplit',\n",
       " 'rstrip',\n",
       " 'split',\n",
       " 'splitlines',\n",
       " 'startswith',\n",
       " 'strip',\n",
       " 'swapcase',\n",
       " 'title',\n",
       " 'translate',\n",
       " 'upper',\n",
       " 'zfill']"
      ]
     },
     "execution_count": 179,
     "metadata": {},
     "output_type": "execute_result"
    }
   ],
   "source": [
    "dir('')"
   ]
  },
  {
   "cell_type": "code",
   "execution_count": 181,
   "id": "bd1970ca-2c0c-43db-a132-acd5c57ffc9e",
   "metadata": {},
   "outputs": [
    {
     "data": {
      "text/plain": [
       "['__add__',\n",
       " '__class__',\n",
       " '__class_getitem__',\n",
       " '__contains__',\n",
       " '__delattr__',\n",
       " '__delitem__',\n",
       " '__dir__',\n",
       " '__doc__',\n",
       " '__eq__',\n",
       " '__format__',\n",
       " '__ge__',\n",
       " '__getattribute__',\n",
       " '__getitem__',\n",
       " '__getstate__',\n",
       " '__gt__',\n",
       " '__hash__',\n",
       " '__iadd__',\n",
       " '__imul__',\n",
       " '__init__',\n",
       " '__init_subclass__',\n",
       " '__iter__',\n",
       " '__le__',\n",
       " '__len__',\n",
       " '__lt__',\n",
       " '__mul__',\n",
       " '__ne__',\n",
       " '__new__',\n",
       " '__reduce__',\n",
       " '__reduce_ex__',\n",
       " '__repr__',\n",
       " '__reversed__',\n",
       " '__rmul__',\n",
       " '__setattr__',\n",
       " '__setitem__',\n",
       " '__sizeof__',\n",
       " '__str__',\n",
       " '__subclasshook__',\n",
       " 'append',\n",
       " 'clear',\n",
       " 'copy',\n",
       " 'count',\n",
       " 'extend',\n",
       " 'index',\n",
       " 'insert',\n",
       " 'pop',\n",
       " 'remove',\n",
       " 'reverse',\n",
       " 'sort']"
      ]
     },
     "execution_count": 181,
     "metadata": {},
     "output_type": "execute_result"
    }
   ],
   "source": [
    "dir([])"
   ]
  },
  {
   "cell_type": "code",
   "execution_count": 183,
   "id": "8ce0f679-87da-436a-aa8a-323081888184",
   "metadata": {},
   "outputs": [
    {
     "data": {
      "text/plain": [
       "[10, 20, 30, 40]"
      ]
     },
     "execution_count": 183,
     "metadata": {},
     "output_type": "execute_result"
    }
   ],
   "source": [
    "l1=[10,20,30,40]\n",
    "l1"
   ]
  },
  {
   "cell_type": "code",
   "execution_count": null,
   "id": "451b60fd-22eb-413c-a2b9-d94331005854",
   "metadata": {},
   "outputs": [],
   "source": [
    "############### inbuilt functions ##############\n",
    "print()\n",
    "max()\n",
    "min()\n",
    "################## Methods ###################\n",
    "l1.<method_name>()\n",
    "method_name(l1) # MISTAKE"
   ]
  },
  {
   "cell_type": "markdown",
   "id": "b6980e7f-ec65-4fc5-b792-ce3706634a1b",
   "metadata": {},
   "source": [
    "**clear**"
   ]
  },
  {
   "cell_type": "code",
   "execution_count": 192,
   "id": "762deca1-ac18-4ffc-8e5f-90f79b75d85d",
   "metadata": {},
   "outputs": [],
   "source": [
    "l1=[10,20,30,40]\n",
    "l1.clear()"
   ]
  },
  {
   "cell_type": "code",
   "execution_count": 188,
   "id": "e21a581c-feb6-4b7e-861c-f11b7c1ecd6d",
   "metadata": {},
   "outputs": [
    {
     "data": {
      "text/plain": [
       "[]"
      ]
     },
     "execution_count": 188,
     "metadata": {},
     "output_type": "execute_result"
    }
   ],
   "source": [
    "l1"
   ]
  },
  {
   "cell_type": "markdown",
   "id": "e29bdeb2-e763-48cc-94d7-26966cc94cd2",
   "metadata": {},
   "source": [
    "**copy**"
   ]
  },
  {
   "cell_type": "code",
   "execution_count": 195,
   "id": "782e1b8f-c874-4032-b818-4637502bc757",
   "metadata": {},
   "outputs": [
    {
     "name": "stdout",
     "output_type": "stream",
     "text": [
      "l2: [10, 20, 30, 40]\n",
      "l1: []\n"
     ]
    }
   ],
   "source": [
    "l1=[10,20,30,40]\n",
    "l2=l1.copy()\n",
    "l1.clear()\n",
    "print('l2:',l2)\n",
    "print('l1:',l1)"
   ]
  },
  {
   "cell_type": "markdown",
   "id": "f630735c-1c54-407f-9274-0b579ab59431",
   "metadata": {},
   "source": [
    "**reverse vs reversed**\n",
    "\n",
    "- reversed is a inbuilt function\n",
    "\n",
    "- reversed can be applicable all **iterable**\n",
    "\n",
    "- reversed applicable for **strings,list,tuple,dict etc**\n",
    "\n",
    "- reversed(string), revrsed(list),reversed(tuple) etc"
   ]
  },
  {
   "cell_type": "markdown",
   "id": "f4ac1eec-c4f7-499f-abfe-cffe9db9ccf5",
   "metadata": {},
   "source": [
    "**reverse**"
   ]
  },
  {
   "cell_type": "markdown",
   "id": "8e901e91-69f6-4754-8bc7-01f1054282b9",
   "metadata": {},
   "source": [
    "- reverse is a method is belongs to only list\n",
    "\n",
    "- reverse method can not applicable to strings, tuple and dict\n",
    "\n",
    "- list.reverse()"
   ]
  },
  {
   "cell_type": "code",
   "execution_count": 201,
   "id": "5bc021e8-b3da-44f4-9b67-3d6e688dc048",
   "metadata": {},
   "outputs": [
    {
     "data": {
      "text/plain": [
       "['C', 'B', 'A', 40, 30, 20, 10]"
      ]
     },
     "execution_count": 201,
     "metadata": {},
     "output_type": "execute_result"
    }
   ],
   "source": [
    "l1=[10,20,30,40,'A','B','C']\n",
    "l1.reverse()\n",
    "l1\n",
    "# reverse the elements save the output in same variable\n",
    "# it is indicates as **INPLACE**\n",
    "# some times inplace=True avaialbel"
   ]
  },
  {
   "cell_type": "code",
   "execution_count": 203,
   "id": "8b85cbca-878b-4c3a-a284-118185441087",
   "metadata": {},
   "outputs": [
    {
     "ename": "AttributeError",
     "evalue": "'str' object has no attribute 'reverse'",
     "output_type": "error",
     "traceback": [
      "\u001b[1;31m---------------------------------------------------------------------------\u001b[0m",
      "\u001b[1;31mAttributeError\u001b[0m                            Traceback (most recent call last)",
      "Cell \u001b[1;32mIn[203], line 2\u001b[0m\n\u001b[0;32m      1\u001b[0m str1\u001b[38;5;241m=\u001b[39m\u001b[38;5;124m'\u001b[39m\u001b[38;5;124mhello how are you\u001b[39m\u001b[38;5;124m'\u001b[39m\n\u001b[1;32m----> 2\u001b[0m str1\u001b[38;5;241m.\u001b[39mreverse()\n",
      "\u001b[1;31mAttributeError\u001b[0m: 'str' object has no attribute 'reverse'"
     ]
    }
   ],
   "source": [
    "str1='hello how are you'\n",
    "str1.reverse()"
   ]
  },
  {
   "cell_type": "code",
   "execution_count": 205,
   "id": "01d2d756-5464-419a-9cb2-048815c66da2",
   "metadata": {},
   "outputs": [
    {
     "data": {
      "text/plain": [
       "[10, 20, 30, 40, 'A', 'B', 'C']"
      ]
     },
     "execution_count": 205,
     "metadata": {},
     "output_type": "execute_result"
    }
   ],
   "source": [
    "list(reversed(str1))\n",
    "list(reversed(l1))"
   ]
  },
  {
   "cell_type": "code",
   "execution_count": 207,
   "id": "55e861ae-a899-466e-9d5a-1540fa989043",
   "metadata": {},
   "outputs": [
    {
     "ename": "AttributeError",
     "evalue": "'str' object has no attribute 'reverse'",
     "output_type": "error",
     "traceback": [
      "\u001b[1;31m---------------------------------------------------------------------------\u001b[0m",
      "\u001b[1;31mAttributeError\u001b[0m                            Traceback (most recent call last)",
      "Cell \u001b[1;32mIn[207], line 2\u001b[0m\n\u001b[0;32m      1\u001b[0m l1\u001b[38;5;241m.\u001b[39mreverse() \u001b[38;5;66;03m# answer\u001b[39;00m\n\u001b[1;32m----> 2\u001b[0m str1\u001b[38;5;241m.\u001b[39mreverse()\n",
      "\u001b[1;31mAttributeError\u001b[0m: 'str' object has no attribute 'reverse'"
     ]
    }
   ],
   "source": [
    "l1.reverse() # answer\n",
    "str1.reverse() # error"
   ]
  },
  {
   "cell_type": "markdown",
   "id": "dfd26a5f-3b3a-4553-a1cb-cc1f4e11f4f9",
   "metadata": {},
   "source": [
    "**sort vs sorted**"
   ]
  },
  {
   "cell_type": "code",
   "execution_count": 211,
   "id": "3ee69322-0740-49a0-b060-6798452b5e39",
   "metadata": {},
   "outputs": [
    {
     "data": {
      "text/plain": [
       "list"
      ]
     },
     "execution_count": 211,
     "metadata": {},
     "output_type": "execute_result"
    }
   ],
   "source": [
    "type([])  # do not give list as variable"
   ]
  },
  {
   "cell_type": "code",
   "execution_count": 217,
   "id": "a87daae6-3838-44eb-99ff-43e834051a35",
   "metadata": {},
   "outputs": [
    {
     "data": {
      "text/plain": [
       "[3, 5, 19, 25, 45]"
      ]
     },
     "execution_count": 217,
     "metadata": {},
     "output_type": "execute_result"
    }
   ],
   "source": [
    "list1=[19,25,3,45,5]\n",
    "list1.sort()\n",
    "list1"
   ]
  },
  {
   "cell_type": "code",
   "execution_count": 219,
   "id": "bb3a3203-da78-43a7-b367-e58a90ccce04",
   "metadata": {},
   "outputs": [
    {
     "data": {
      "text/plain": [
       "[45, 25, 19, 5, 3]"
      ]
     },
     "execution_count": 219,
     "metadata": {},
     "output_type": "execute_result"
    }
   ],
   "source": [
    "list1=[19,25,3,45,5]\n",
    "list1.sort(reverse=True)\n",
    "list1"
   ]
  },
  {
   "cell_type": "code",
   "execution_count": 221,
   "id": "55d4d6fd-0c29-4829-b231-3055747cd2ce",
   "metadata": {},
   "outputs": [
    {
     "data": {
      "text/plain": [
       "[3, 5, 19, 25, 45]"
      ]
     },
     "execution_count": 221,
     "metadata": {},
     "output_type": "execute_result"
    }
   ],
   "source": [
    "sorted(list1)"
   ]
  },
  {
   "cell_type": "code",
   "execution_count": null,
   "id": "b0045d3a-6707-46f2-9178-ce3f38677fa7",
   "metadata": {},
   "outputs": [],
   "source": [
    "sorted(string) # works\n",
    "sorted(list) # works\n",
    "\n",
    "list.sort() # works\n",
    "string.sort() # fail"
   ]
  },
  {
   "cell_type": "markdown",
   "id": "6bc79cfa-7bba-4faf-89cc-7dc24a1b5068",
   "metadata": {},
   "source": [
    "**append**\n",
    "\n",
    "- append means add an element at the end of the list\n",
    "\n",
    "- append is a method very important\n",
    "\n",
    "- append is used to store the outputs in a list\n",
    "\n",
    "- till last class we just printed all the outputs\n",
    "\n",
    "- if we want to save the outputs we need to do append only\n",
    "\n",
    "- append method we will use very very frequently"
   ]
  },
  {
   "cell_type": "code",
   "execution_count": 226,
   "id": "563eb411-c5d0-4066-9530-ab28ee2e082f",
   "metadata": {},
   "outputs": [
    {
     "data": {
      "text/plain": [
       "[10]"
      ]
     },
     "execution_count": 226,
     "metadata": {},
     "output_type": "execute_result"
    }
   ],
   "source": [
    "# empty list\n",
    "l1=[]\n",
    "l1.append(10)\n",
    "l1"
   ]
  },
  {
   "cell_type": "code",
   "execution_count": 228,
   "id": "13dd7507-8d0d-4fcb-9d9f-3f6c83586241",
   "metadata": {},
   "outputs": [
    {
     "data": {
      "text/plain": [
       "[1, 2, 3, 'apple']"
      ]
     },
     "execution_count": 228,
     "metadata": {},
     "output_type": "execute_result"
    }
   ],
   "source": [
    "l1=[1,2,3]\n",
    "l1.append('apple')\n",
    "l1"
   ]
  },
  {
   "cell_type": "code",
   "execution_count": 230,
   "id": "536c8776-7aa5-4415-83ae-ffbbb84e73e5",
   "metadata": {},
   "outputs": [
    {
     "data": {
      "text/plain": [
       "[1, 2, 3, 4, 'apple', 'banana', [True, False]]"
      ]
     },
     "execution_count": 230,
     "metadata": {},
     "output_type": "execute_result"
    }
   ],
   "source": [
    "l1=[1,2,3,4]\n",
    "l1.append('apple')\n",
    "l1.append('banana')\n",
    "l1.append([True,False])\n",
    "l1"
   ]
  },
  {
   "cell_type": "code",
   "execution_count": 232,
   "id": "98802cc2-6746-4459-82db-c80a9f40a54a",
   "metadata": {},
   "outputs": [
    {
     "name": "stdout",
     "output_type": "stream",
     "text": [
      "1\n",
      "2\n",
      "3\n",
      "4\n",
      "5\n",
      "6\n",
      "7\n",
      "8\n",
      "9\n",
      "10\n"
     ]
    }
   ],
   "source": [
    "#Q1) create a list of 10 numbers using for loop\n",
    "for i in range(1,11):\n",
    "    print(i)"
   ]
  },
  {
   "cell_type": "code",
   "execution_count": 234,
   "id": "96b7a981-1f06-46c7-811e-57dc82c104c3",
   "metadata": {},
   "outputs": [],
   "source": [
    "l1=[]\n",
    "l1.append(1)\n",
    "l1.append(2)\n",
    "l1.append(3)\n",
    "\n",
    "l1.append(i)"
   ]
  },
  {
   "cell_type": "code",
   "execution_count": 240,
   "id": "671a3762-b0d2-49e2-b66c-5a3be66af265",
   "metadata": {},
   "outputs": [
    {
     "data": {
      "text/plain": [
       "[0, 1, 2, 3, 4, 5, 6, 7, 8, 9]"
      ]
     },
     "execution_count": 240,
     "metadata": {},
     "output_type": "execute_result"
    }
   ],
   "source": [
    "l1=[]\n",
    "for i in range(10):\n",
    "    l1.append(i)\n",
    "l1"
   ]
  },
  {
   "cell_type": "code",
   "execution_count": 244,
   "id": "8b29b751-a24e-4a6b-afee-e5cd410c212f",
   "metadata": {},
   "outputs": [
    {
     "data": {
      "text/plain": [
       "[3364, 3249, 36, 9, 3025]"
      ]
     },
     "execution_count": 244,
     "metadata": {},
     "output_type": "execute_result"
    }
   ],
   "source": [
    "# Q2) wap ask the user get 5 random numbers\n",
    "#     perform the square of the random numbers\n",
    "#     save in a list\n",
    "import random\n",
    "l=[]\n",
    "for i in range(5):\n",
    "    num=random.randint(1,100)\n",
    "    l.append(num*num)\n",
    "l"
   ]
  },
  {
   "cell_type": "code",
   "execution_count": 248,
   "id": "286f9d23-a16c-40d2-a081-6eadea6860cd",
   "metadata": {},
   "outputs": [
    {
     "data": {
      "text/plain": [
       "['72:5184', '91:8281', '53:2809', '33:1089', '25:625']"
      ]
     },
     "execution_count": 248,
     "metadata": {},
     "output_type": "execute_result"
    }
   ],
   "source": [
    "import random\n",
    "l=[]\n",
    "for i in range(5):\n",
    "    num=random.randint(1,100)\n",
    "    l.append(f\"{num}:{num*num}\")\n",
    "l"
   ]
  },
  {
   "cell_type": "code",
   "execution_count": 254,
   "id": "e5149548-6bd8-4aa4-9274-8795b65c75af",
   "metadata": {},
   "outputs": [
    {
     "data": {
      "text/plain": [
       "([20, 38, 52, 100], [27, 47, 87])"
      ]
     },
     "execution_count": 254,
     "metadata": {},
     "output_type": "execute_result"
    }
   ],
   "source": [
    "# Q3) list1=[100,20,27,38,47,52,87]\n",
    "# using this we need to extract even and odd numbers\n",
    "# even_list=[20.38,52,100] the output should be sorted\n",
    "# odd_list=[27,47,38,87] the output should be sorted\n",
    "list1=[100,20,27,38,47,52,87]\n",
    "even_list,odd_list=[],[]\n",
    "for i in list1:\n",
    "    if i%2==0:\n",
    "        even_list.append(i)\n",
    "    else:\n",
    "        odd_list.append(i)\n",
    "even_list.sort()\n",
    "odd_list.sort()\n",
    "even_list,odd_list"
   ]
  },
  {
   "cell_type": "code",
   "execution_count": 256,
   "id": "d9f4c89c-a61f-46ae-8d54-5e081decff5a",
   "metadata": {},
   "outputs": [
    {
     "data": {
      "text/plain": [
       "['Hyd', 'Chennai', 'Mumbai', 'Pune']"
      ]
     },
     "execution_count": 256,
     "metadata": {},
     "output_type": "execute_result"
    }
   ],
   "source": [
    "# Q4)  l1=['hyd','chennai','mumbai','pune']\n",
    "#     ans=['Hyd','Chennai','Mumabi','Pune']\n",
    "l1=['hyd','chennai','mumbai','pune']\n",
    "ans=[]\n",
    "for i in l1:\n",
    "    ans.append(i.capitalize())\n",
    "ans"
   ]
  },
  {
   "cell_type": "code",
   "execution_count": 3,
   "id": "323c786d-9f63-4eae-8f17-cd553d379fc2",
   "metadata": {},
   "outputs": [
    {
     "data": {
      "text/plain": [
       "['HYD', 'CHENNAI', 'MUMBAI', 'PUNE']"
      ]
     },
     "execution_count": 3,
     "metadata": {},
     "output_type": "execute_result"
    }
   ],
   "source": [
    "#Q5)  l1=['hyd','chennai','mumbai','pune']\n",
    "#     ans=['HYD','CHENNAI','MUMBAI','PUNE']\n",
    "l1=['hyd','chennai','mumbai','pune']\n",
    "ans=[]\n",
    "for i in l1:\n",
    "    ans.append(i.upper())\n",
    "ans"
   ]
  },
  {
   "cell_type": "code",
   "execution_count": 7,
   "id": "c9db8507-6404-428c-8daa-0c60eae4ad26",
   "metadata": {},
   "outputs": [
    {
     "data": {
      "text/plain": [
       "(['chen#ai', 'mu#bai'], ['hyd', 'pune'])"
      ]
     },
     "execution_count": 7,
     "metadata": {},
     "output_type": "execute_result"
    }
   ],
   "source": [
    "#Q6)  l1=['hyd','chen#ai','mu#bai','pune']\n",
    "#     ans=['chen#ai','mu#bai']\n",
    "l1=['hyd','chen#ai','mu#bai','pune']\n",
    "ans1=[]\n",
    "ans2=[]\n",
    "for i in l1:\n",
    "    if '#' in i:\n",
    "        ans1.append(i)\n",
    "    if '#' not in i:\n",
    "        ans2.append(i)\n",
    "ans1 ,ans2"
   ]
  },
  {
   "cell_type": "code",
   "execution_count": 9,
   "id": "5c496574-62d6-46f2-9871-5256ba85ba51",
   "metadata": {},
   "outputs": [
    {
     "data": {
      "text/plain": [
       "['Hello', 'Hai', 'How', 'Are', 'You']"
      ]
     },
     "execution_count": 9,
     "metadata": {},
     "output_type": "execute_result"
    }
   ],
   "source": [
    "#Q8) str1= 'hello hai how are you'\n",
    "#    ans=['Hello','Hai','How','Are','You']\n",
    "\n",
    "str1= 'hello hai how are you'\n",
    "str1.title().split()"
   ]
  },
  {
   "cell_type": "code",
   "execution_count": 11,
   "id": "59e19150-c63e-478a-a317-d3134f4cd03f",
   "metadata": {},
   "outputs": [
    {
     "data": {
      "text/plain": [
       "['Hello', 'Hai', 'How', 'Are', 'You']"
      ]
     },
     "execution_count": 11,
     "metadata": {},
     "output_type": "execute_result"
    }
   ],
   "source": [
    "str1= 'hello hai how are you'\n",
    "l=str1.split()\n",
    "ans=[]\n",
    "for i in l:\n",
    "    ans.append(i.capitalize())\n",
    "ans"
   ]
  },
  {
   "cell_type": "code",
   "execution_count": 13,
   "id": "a209db77-431a-425c-822b-04385b25f469",
   "metadata": {},
   "outputs": [
    {
     "data": {
      "text/plain": [
       "'Hello Hai How Are You'"
      ]
     },
     "execution_count": 13,
     "metadata": {},
     "output_type": "execute_result"
    }
   ],
   "source": [
    "' '.join(ans)"
   ]
  },
  {
   "cell_type": "markdown",
   "id": "79a435a2-a297-4c5f-ba58-c845df5b74f0",
   "metadata": {},
   "source": [
    "**joining the list of elements**\n",
    "\n",
    "- we can convert string to list by using **string.split**\n",
    "\n",
    "- we can convert list to string by using **join(list)**"
   ]
  },
  {
   "cell_type": "code",
   "execution_count": 17,
   "id": "67e7b984-239d-414c-965d-76fe2972c9cc",
   "metadata": {},
   "outputs": [
    {
     "data": {
      "text/plain": [
       "['', 'ai ', 'ow are you']"
      ]
     },
     "execution_count": 17,
     "metadata": {},
     "output_type": "execute_result"
    }
   ],
   "source": [
    "str1='hai how are you'\n",
    "str1.split('h')"
   ]
  },
  {
   "cell_type": "code",
   "execution_count": 19,
   "id": "5880ab4f-c796-4b5e-be6a-e287984a1907",
   "metadata": {},
   "outputs": [
    {
     "data": {
      "text/plain": [
       "'haihhowharehyou'"
      ]
     },
     "execution_count": 19,
     "metadata": {},
     "output_type": "execute_result"
    }
   ],
   "source": [
    "l1=['hai', 'how', 'are', 'you']\n",
    "str1=' '\n",
    "str1.join(l1)\n",
    "'h'.join(l1)"
   ]
  },
  {
   "cell_type": "code",
   "execution_count": 21,
   "id": "c50fd16a-d3be-4323-8357-1e3545b54c8d",
   "metadata": {},
   "outputs": [
    {
     "data": {
      "text/plain": [
       "['virat', ' rohit', ' dhoni']"
      ]
     },
     "execution_count": 21,
     "metadata": {},
     "output_type": "execute_result"
    }
   ],
   "source": [
    "str1='virat.kohli@rcb.com; rohit.sharma@mi.com; dhoni.ms@csk.com'\n",
    "l=str1.split(';')\n",
    "f_name,s_name,c_name=[],[],[]\n",
    "for i in l:\n",
    "    first_dot=i.find('.')\n",
    "    second_dot=i.find('.',first_dot+1)\n",
    "    at_index=i.find('@')\n",
    "    f_name.append(i[:first_dot])\n",
    "    s_name.append(i[first_dot+1:at_index])\n",
    "    c_name.append(i[at_index+1:second_dot])"
   ]
  },
  {
   "cell_type": "code",
   "execution_count": 23,
   "id": "31bfc247-5f2f-4066-b051-8e111f87c801",
   "metadata": {},
   "outputs": [
    {
     "data": {
      "text/plain": [
       "['virat', ' rohit', ' dhoni']"
      ]
     },
     "execution_count": 23,
     "metadata": {},
     "output_type": "execute_result"
    }
   ],
   "source": [
    "f_name"
   ]
  },
  {
   "cell_type": "code",
   "execution_count": 25,
   "id": "ca6ac994-991e-4a93-bab2-0ccbfbc955e0",
   "metadata": {},
   "outputs": [
    {
     "name": "stdout",
     "output_type": "stream",
     "text": [
      "virat.kohli@rcb.com\n",
      " rohit.sharma@mi.com\n",
      " dhoni.ms@csk.com\n"
     ]
    }
   ],
   "source": [
    "l[0],l[1],l[2]\n",
    "for i in l:\n",
    "    print(i)"
   ]
  },
  {
   "cell_type": "code",
   "execution_count": 48,
   "id": "d3007d5b-72ef-425d-a7f1-8c939772935e",
   "metadata": {},
   "outputs": [
    {
     "data": {
      "text/plain": [
       "[23, 11, 28, 27, 61, 82, 89]"
      ]
     },
     "execution_count": 48,
     "metadata": {},
     "output_type": "execute_result"
    }
   ],
   "source": [
    "# q10) get the 7 random numbers in a list between 1 to 100\n",
    "#      find the min and max value with out using min and max function\n",
    "\n",
    "import random\n",
    "\n",
    "l=[]\n",
    "for i in range(7):\n",
    "    num=random.randint(1,100)\n",
    "    l.append(num)\n",
    "\n",
    "l"
   ]
  },
  {
   "cell_type": "markdown",
   "id": "b736766b-67d3-43bd-9141-fa90d61c1f9e",
   "metadata": {},
   "source": [
    "- Assume that first value is a maximum value\n",
    "\n",
    "- then iterate the loop from next value onwards\n",
    "\n",
    "- apply the condition if any value greater than assumed value\n",
    "\n",
    "- then replace max value with itertaed value"
   ]
  },
  {
   "cell_type": "code",
   "execution_count": 57,
   "id": "7980c75a-be44-4738-8547-3594a4e588e7",
   "metadata": {},
   "outputs": [
    {
     "name": "stdout",
     "output_type": "stream",
     "text": [
      "max_val: 89\n"
     ]
    }
   ],
   "source": [
    "max_val=l[0]\n",
    "for i in l[1:]:\n",
    "    if i>max_val:\n",
    "        max_val=i\n",
    "print('max_val:',max_val)"
   ]
  },
  {
   "cell_type": "code",
   "execution_count": 59,
   "id": "de788b29-421c-4a58-ad9a-3e1c07c3045b",
   "metadata": {},
   "outputs": [
    {
     "name": "stdout",
     "output_type": "stream",
     "text": [
      "max_val: 89\n"
     ]
    }
   ],
   "source": [
    "max_val=l[0]\n",
    "for i in l[1:]:\n",
    "    if i>max_val:\n",
    "        max_val=i\n",
    "print('max_val:',max_val)"
   ]
  },
  {
   "cell_type": "code",
   "execution_count": 65,
   "id": "441cb3d3-f805-44e4-99bc-6e5541c8f88d",
   "metadata": {},
   "outputs": [
    {
     "name": "stdout",
     "output_type": "stream",
     "text": [
      "min_val: 11\n"
     ]
    }
   ],
   "source": [
    "min_val=l[0]\n",
    "for i in l[1:]:\n",
    "    if i<min_val:\n",
    "        min_val=i\n",
    "print('min_val:',min_val)"
   ]
  },
  {
   "cell_type": "code",
   "execution_count": 67,
   "id": "f84b60f6-9c29-4b96-8c93-bc2cce22b242",
   "metadata": {},
   "outputs": [
    {
     "name": "stdout",
     "output_type": "stream",
     "text": [
      "['can', 'canner', 'can', 'not', 'can', 'you', 'canner', 'can', 'be', 'can', 'you', 'can', 'not']\n",
      "can 6\n",
      "canner 2\n",
      "not 2\n",
      "you 2\n",
      "be 1\n"
     ]
    }
   ],
   "source": [
    "# q11) str1='can canner can not can you canner can be can you can not'\n",
    "#      list=['can-6','canner-2','not-2','you-2','be-1']\n",
    "\n",
    "str1='can canner can not can you canner can be can you can not'\n",
    "l=str1.split()\n",
    "print(l)\n",
    "l2=[]\n",
    "for i in l:\n",
    "    if i not in l2:\n",
    "        print(i,l.count(i))\n",
    "        l2.append(i)"
   ]
  },
  {
   "cell_type": "code",
   "execution_count": 69,
   "id": "c8365dbe-e6f7-4276-b335-726e8494712e",
   "metadata": {},
   "outputs": [
    {
     "name": "stdout",
     "output_type": "stream",
     "text": [
      "['can', 'canner', 'can', 'not', 'can', 'you', 'canner', 'can', 'be', 'can', 'you', 'can', 'not']\n"
     ]
    }
   ],
   "source": [
    "str1='can canner can not can you canner can be can you can not'\n",
    "l=str1.split()\n",
    "print(l)"
   ]
  },
  {
   "cell_type": "code",
   "execution_count": 71,
   "id": "c41bb49e-16a1-44af-8135-877217a5cad2",
   "metadata": {},
   "outputs": [
    {
     "data": {
      "text/plain": [
       "['can-6', 'canner-2', 'not-2', 'you-2', 'be-1']"
      ]
     },
     "execution_count": 71,
     "metadata": {},
     "output_type": "execute_result"
    }
   ],
   "source": [
    "l1=[]\n",
    "l2=[]\n",
    "for i in l:\n",
    "    if i not in l2:\n",
    "        l2.append(i)\n",
    "        l1.append(f\"{i}-{l.count(i)}\")\n",
    "l1"
   ]
  },
  {
   "cell_type": "code",
   "execution_count": null,
   "id": "4a4cf597-2056-45df-90d5-8a71c8809f12",
   "metadata": {},
   "outputs": [],
   "source": [
    "# q12) qns= ['who is pm of india','who is ICT captain',\n",
    "#             'what is the capital of india']\n",
    "#      ans=['modi','rohit','delhi']\n",
    "#     step-1: iterate through each qn\n",
    "#     step-2: user will enter the answer\n",
    "#           check-1: the user given 'MODI' correct answer\n",
    "#           check-2: qn index and ans index should be\n",
    "#    step-3: count_marks=0 at the top\n",
    "#    step-4:  for every correct answer 1 marks\n",
    "#    step-5: how many correct answers and how many marks"
   ]
  },
  {
   "cell_type": "code",
   "execution_count": 77,
   "id": "e68cf584-fb25-4aaa-a537-a4fa178497a6",
   "metadata": {},
   "outputs": [
    {
     "name": "stdin",
     "output_type": "stream",
     "text": [
      "who is pm of india Narendra Modi\n",
      "who is ICT captain Rohit Sharma \n",
      "what is the capital of india Delhi\n"
     ]
    },
    {
     "name": "stdout",
     "output_type": "stream",
     "text": [
      "The total correct answer: 1\n"
     ]
    }
   ],
   "source": [
    "qns= ['who is pm of india','who is ICT captain','what is the capital of india']\n",
    "ans=['modi','rohit','delhi']\n",
    "count=0\n",
    "for i in range(len(qns)):\n",
    "    ANSWER=input(qns[i])\n",
    "    if ANSWER.lower()==ans[i].lower():\n",
    "        count=count+1\n",
    "print(\"The total correct answer:\",count)"
   ]
  },
  {
   "cell_type": "markdown",
   "id": "2a4b3920-61a7-4aff-861a-f402362e278e",
   "metadata": {},
   "source": [
    "**pop vs remove**"
   ]
  },
  {
   "cell_type": "code",
   "execution_count": 80,
   "id": "a14a2b1d-6072-4bc8-9451-ad9be9327ae1",
   "metadata": {},
   "outputs": [],
   "source": [
    "l=[100,200,300,'A','B','C']"
   ]
  },
  {
   "cell_type": "code",
   "execution_count": 82,
   "id": "644252cc-77e0-4c04-82d7-017a5f9f5a02",
   "metadata": {},
   "outputs": [
    {
     "data": {
      "text/plain": [
       "'C'"
      ]
     },
     "execution_count": 82,
     "metadata": {},
     "output_type": "execute_result"
    }
   ],
   "source": [
    "l.pop()\n",
    "# pop will remove the element based on index\n",
    "# if we dont give any index by default it wlill remove last value\n",
    "# the default value index=-1"
   ]
  },
  {
   "cell_type": "code",
   "execution_count": 84,
   "id": "24a8e453-13d6-4a08-9530-b22451d181d9",
   "metadata": {},
   "outputs": [
    {
     "data": {
      "text/plain": [
       "[100, 200, 300, 'A', 'B']"
      ]
     },
     "execution_count": 84,
     "metadata": {},
     "output_type": "execute_result"
    }
   ],
   "source": [
    "l"
   ]
  },
  {
   "cell_type": "code",
   "execution_count": 86,
   "id": "6b064af0-fdbc-42cf-9336-a45b0536f021",
   "metadata": {},
   "outputs": [
    {
     "data": {
      "text/plain": [
       "[100, 200, 'A', 'B', 'C']"
      ]
     },
     "execution_count": 86,
     "metadata": {},
     "output_type": "execute_result"
    }
   ],
   "source": [
    "l=[100,200,300,'A','B','C']\n",
    "l.pop(2)\n",
    "l"
   ]
  },
  {
   "cell_type": "code",
   "execution_count": 88,
   "id": "700426df-a763-497e-bc5f-e4f4a166b6bc",
   "metadata": {},
   "outputs": [
    {
     "ename": "IndexError",
     "evalue": "pop index out of range",
     "output_type": "error",
     "traceback": [
      "\u001b[1;31m---------------------------------------------------------------------------\u001b[0m",
      "\u001b[1;31mIndexError\u001b[0m                                Traceback (most recent call last)",
      "Cell \u001b[1;32mIn[88], line 2\u001b[0m\n\u001b[0;32m      1\u001b[0m l\u001b[38;5;241m=\u001b[39m[\u001b[38;5;241m100\u001b[39m,\u001b[38;5;241m200\u001b[39m,\u001b[38;5;241m300\u001b[39m,\u001b[38;5;124m'\u001b[39m\u001b[38;5;124mA\u001b[39m\u001b[38;5;124m'\u001b[39m,\u001b[38;5;124m'\u001b[39m\u001b[38;5;124mB\u001b[39m\u001b[38;5;124m'\u001b[39m,\u001b[38;5;124m'\u001b[39m\u001b[38;5;124mC\u001b[39m\u001b[38;5;124m'\u001b[39m]\n\u001b[1;32m----> 2\u001b[0m l\u001b[38;5;241m.\u001b[39mpop(\u001b[38;5;241m200\u001b[39m)\n",
      "\u001b[1;31mIndexError\u001b[0m: pop index out of range"
     ]
    }
   ],
   "source": [
    "l=[100,200,300,'A','B','C']\n",
    "l.pop(200)\n",
    "# what will return as output\n",
    "# [100,200,'A','B','C']    300"
   ]
  },
  {
   "cell_type": "code",
   "execution_count": 90,
   "id": "2f1b493f-dd82-4739-b27a-51bb12dc8bd3",
   "metadata": {},
   "outputs": [
    {
     "data": {
      "text/plain": [
       "[200, 300, 100, 100, 'A', 'B', 'C']"
      ]
     },
     "execution_count": 90,
     "metadata": {},
     "output_type": "execute_result"
    }
   ],
   "source": [
    "l=[100,200,300,100,100,'A','B','C']\n",
    "l.remove(100)\n",
    "l"
   ]
  },
  {
   "cell_type": "markdown",
   "id": "1fb635e9-db19-48c0-84f4-9363a583c7cf",
   "metadata": {},
   "source": [
    "- pop except a **index value**\n",
    "\n",
    "- remove expect a **value**"
   ]
  },
  {
   "cell_type": "code",
   "execution_count": 95,
   "id": "10def569-019c-4c45-bea3-28291fab2ae0",
   "metadata": {},
   "outputs": [
    {
     "data": {
      "text/plain": [
       "100"
      ]
     },
     "execution_count": 95,
     "metadata": {},
     "output_type": "execute_result"
    }
   ],
   "source": [
    "l=[100,200,300,100,100,'A','B','C']\n",
    "# i want to remove the second 100\n",
    "# remove or pop ==== \n",
    "# sukumar and kaif by using remove tell me\n",
    "# how can you remove the second 100\n",
    "l.pop()"
   ]
  },
  {
   "cell_type": "code",
   "execution_count": 97,
   "id": "cdd68680-5443-4aab-8da2-dd8894170956",
   "metadata": {},
   "outputs": [
    {
     "data": {
      "text/plain": [
       "['__add__',\n",
       " '__class__',\n",
       " '__class_getitem__',\n",
       " '__contains__',\n",
       " '__delattr__',\n",
       " '__delitem__',\n",
       " '__dir__',\n",
       " '__doc__',\n",
       " '__eq__',\n",
       " '__format__',\n",
       " '__ge__',\n",
       " '__getattribute__',\n",
       " '__getitem__',\n",
       " '__getstate__',\n",
       " '__gt__',\n",
       " '__hash__',\n",
       " '__iadd__',\n",
       " '__imul__',\n",
       " '__init__',\n",
       " '__init_subclass__',\n",
       " '__iter__',\n",
       " '__le__',\n",
       " '__len__',\n",
       " '__lt__',\n",
       " '__mul__',\n",
       " '__ne__',\n",
       " '__new__',\n",
       " '__reduce__',\n",
       " '__reduce_ex__',\n",
       " '__repr__',\n",
       " '__reversed__',\n",
       " '__rmul__',\n",
       " '__setattr__',\n",
       " '__setitem__',\n",
       " '__sizeof__',\n",
       " '__str__',\n",
       " '__subclasshook__',\n",
       " 'append',\n",
       " 'clear',\n",
       " 'copy',\n",
       " 'count',\n",
       " 'extend',\n",
       " 'index',\n",
       " 'insert',\n",
       " 'pop',\n",
       " 'remove',\n",
       " 'reverse',\n",
       " 'sort']"
      ]
     },
     "execution_count": 97,
     "metadata": {},
     "output_type": "execute_result"
    }
   ],
   "source": [
    "dir([])"
   ]
  },
  {
   "cell_type": "markdown",
   "id": "513f7a4f-178e-4281-9044-a0f6b886c7a8",
   "metadata": {},
   "source": [
    "**index**"
   ]
  },
  {
   "cell_type": "code",
   "execution_count": null,
   "id": "6f4eee4b-eb03-45b8-a72e-477603ac9576",
   "metadata": {},
   "outputs": [],
   "source": [
    "l=[100,200,300,100,100,'A','B','C']\n",
    "\n",
    "# pop is correct answer\n",
    "# pop wants a index\n",
    "# here only 8 elements are there, so we are able to count\n",
    "# imagine that there 80k elemnents so we are not ablle to count\n",
    "# when you are counting and giving: hard coded\n",
    "# python code should give the answer automatically\n",
    "# for that we need to use index method"
   ]
  },
  {
   "cell_type": "code",
   "execution_count": 100,
   "id": "f13efcf5-03bd-4f3e-b566-5480227bb265",
   "metadata": {},
   "outputs": [
    {
     "data": {
      "text/plain": [
       "[100, 200, 300, 100, 'A', 'B', 'C']"
      ]
     },
     "execution_count": 100,
     "metadata": {},
     "output_type": "execute_result"
    }
   ],
   "source": [
    "l=[100,200,300,100,100,'A','B','C']\n",
    "i1=l.index(100)\n",
    "i2=l.index(100,i1+1)\n",
    "l.pop(i2)\n",
    "l"
   ]
  },
  {
   "cell_type": "code",
   "execution_count": 102,
   "id": "0349c752-e457-4ec0-9b5b-84bf35541f62",
   "metadata": {},
   "outputs": [
    {
     "data": {
      "text/plain": [
       "['__add__',\n",
       " '__class__',\n",
       " '__class_getitem__',\n",
       " '__contains__',\n",
       " '__delattr__',\n",
       " '__dir__',\n",
       " '__doc__',\n",
       " '__eq__',\n",
       " '__format__',\n",
       " '__ge__',\n",
       " '__getattribute__',\n",
       " '__getitem__',\n",
       " '__getnewargs__',\n",
       " '__getstate__',\n",
       " '__gt__',\n",
       " '__hash__',\n",
       " '__init__',\n",
       " '__init_subclass__',\n",
       " '__iter__',\n",
       " '__le__',\n",
       " '__len__',\n",
       " '__lt__',\n",
       " '__mul__',\n",
       " '__ne__',\n",
       " '__new__',\n",
       " '__reduce__',\n",
       " '__reduce_ex__',\n",
       " '__repr__',\n",
       " '__rmul__',\n",
       " '__setattr__',\n",
       " '__sizeof__',\n",
       " '__str__',\n",
       " '__subclasshook__',\n",
       " 'count',\n",
       " 'index']"
      ]
     },
     "execution_count": 102,
     "metadata": {},
     "output_type": "execute_result"
    }
   ],
   "source": [
    "dir(())"
   ]
  },
  {
   "cell_type": "code",
   "execution_count": 104,
   "id": "7068cb6b-918b-4a40-b567-dee273d85df0",
   "metadata": {},
   "outputs": [
    {
     "data": {
      "text/plain": [
       "['__add__',\n",
       " '__class__',\n",
       " '__class_getitem__',\n",
       " '__contains__',\n",
       " '__delattr__',\n",
       " '__delitem__',\n",
       " '__dir__',\n",
       " '__doc__',\n",
       " '__eq__',\n",
       " '__format__',\n",
       " '__ge__',\n",
       " '__getattribute__',\n",
       " '__getitem__',\n",
       " '__getstate__',\n",
       " '__gt__',\n",
       " '__hash__',\n",
       " '__iadd__',\n",
       " '__imul__',\n",
       " '__init__',\n",
       " '__init_subclass__',\n",
       " '__iter__',\n",
       " '__le__',\n",
       " '__len__',\n",
       " '__lt__',\n",
       " '__mul__',\n",
       " '__ne__',\n",
       " '__new__',\n",
       " '__reduce__',\n",
       " '__reduce_ex__',\n",
       " '__repr__',\n",
       " '__reversed__',\n",
       " '__rmul__',\n",
       " '__setattr__',\n",
       " '__setitem__',\n",
       " '__sizeof__',\n",
       " '__str__',\n",
       " '__subclasshook__',\n",
       " 'append',\n",
       " 'clear',\n",
       " 'copy',\n",
       " 'count',\n",
       " 'extend',\n",
       " 'index',\n",
       " 'insert',\n",
       " 'pop',\n",
       " 'remove',\n",
       " 'reverse',\n",
       " 'sort']"
      ]
     },
     "execution_count": 104,
     "metadata": {},
     "output_type": "execute_result"
    }
   ],
   "source": [
    "dir([])"
   ]
  },
  {
   "cell_type": "markdown",
   "id": "7e2797a6-aa05-46cc-8204-ff3d6a7913f5",
   "metadata": {},
   "source": [
    "**Extend**\n",
    "\n",
    "- difference between concatenation vs append vs extend"
   ]
  },
  {
   "cell_type": "code",
   "execution_count": 1,
   "id": "4085dc73-9b0d-4c14-b236-17922ceb2241",
   "metadata": {},
   "outputs": [],
   "source": [
    "l1=[1,2,3,4]\n",
    "l2=['A','B','C']\n",
    "l1.append(l2)"
   ]
  },
  {
   "cell_type": "code",
   "execution_count": 3,
   "id": "c95427b8-8cd8-4c48-8507-2605dd374ee3",
   "metadata": {},
   "outputs": [
    {
     "data": {
      "text/plain": [
       "[1, 2, 3, 4, ['A', 'B', 'C']]"
      ]
     },
     "execution_count": 3,
     "metadata": {},
     "output_type": "execute_result"
    }
   ],
   "source": [
    "l1"
   ]
  },
  {
   "cell_type": "code",
   "execution_count": 5,
   "id": "3e8b5d65-411a-4c7e-89e9-a7c4660974ca",
   "metadata": {},
   "outputs": [
    {
     "data": {
      "text/plain": [
       "[1, 2, 3, 4, 'A', 'B', 'C']"
      ]
     },
     "execution_count": 5,
     "metadata": {},
     "output_type": "execute_result"
    }
   ],
   "source": [
    "l1=[1,2,3,4]\n",
    "l2=['A','B','C']\n",
    "l1+l2"
   ]
  },
  {
   "cell_type": "code",
   "execution_count": 7,
   "id": "72236c64-3546-4a96-96e3-c0b8a6338781",
   "metadata": {},
   "outputs": [
    {
     "data": {
      "text/plain": [
       "([1, 2, 3, 4], ['A', 'B', 'C'])"
      ]
     },
     "execution_count": 7,
     "metadata": {},
     "output_type": "execute_result"
    }
   ],
   "source": [
    "l1,l2"
   ]
  },
  {
   "cell_type": "code",
   "execution_count": 9,
   "id": "2d97f8e3-af2b-497f-9856-de64537fb083",
   "metadata": {},
   "outputs": [
    {
     "data": {
      "text/plain": [
       "[1, 2, 3, 4, 'A', 'B', 'C']"
      ]
     },
     "execution_count": 9,
     "metadata": {},
     "output_type": "execute_result"
    }
   ],
   "source": [
    "l1=[1,2,3,4]\n",
    "l2=['A','B','C']\n",
    "l1.extend(l2)\n",
    "l1"
   ]
  },
  {
   "cell_type": "code",
   "execution_count": 11,
   "id": "5de6f7c6-bbef-490c-9b61-56f333e20422",
   "metadata": {},
   "outputs": [
    {
     "data": {
      "text/plain": [
       "[1, 2, 3, 4, 'A', 'B', 'C']"
      ]
     },
     "execution_count": 11,
     "metadata": {},
     "output_type": "execute_result"
    }
   ],
   "source": [
    "l1=[1,2,3,4]\n",
    "l2=['A','B','C']\n",
    "l3=l1+l2\n",
    "l3"
   ]
  },
  {
   "cell_type": "code",
   "execution_count": 13,
   "id": "20cfeee6-30f7-4359-bdaa-e4fc11f9112a",
   "metadata": {},
   "outputs": [
    {
     "data": {
      "text/plain": [
       "(['A', 'B', 'C', 1, 2, 3, 4], [1, 2, 3, 4])"
      ]
     },
     "execution_count": 13,
     "metadata": {},
     "output_type": "execute_result"
    }
   ],
   "source": [
    "l1=[1,2,3,4]\n",
    "l2=['A','B','C']\n",
    "l2.extend(l1)\n",
    "l2,l1"
   ]
  },
  {
   "cell_type": "code",
   "execution_count": 15,
   "id": "e01c7380-df88-4cbd-9360-7fa0f19c70de",
   "metadata": {},
   "outputs": [
    {
     "data": {
      "text/plain": [
       "['Hardeep', 'Mrs Hardeep']"
      ]
     },
     "execution_count": 15,
     "metadata": {},
     "output_type": "execute_result"
    }
   ],
   "source": [
    "l1=['Hardeep']\n",
    "l2=['Mrs Hardeep']\n",
    "l1+l2  # adding you and yours\n",
    "l1     # only you coming\n",
    "l1.extend(l2) # adding you and yours\n",
    "l1    # both will come"
   ]
  },
  {
   "cell_type": "markdown",
   "id": "7523bf58-4b5a-4c00-a5b8-355e9744fc14",
   "metadata": {},
   "source": [
    "- extend and conatenation both has same behaviour\n",
    "\n",
    "- means add the two lists\n",
    "\n",
    "- but extend will overwrite the list"
   ]
  },
  {
   "cell_type": "markdown",
   "id": "dbc7e73b-f5b0-4fbe-a4ed-1d9562a970fa",
   "metadata": {},
   "source": [
    "**insert**"
   ]
  },
  {
   "cell_type": "markdown",
   "id": "857f0de4-0486-4fb1-a031-24a1387c0d34",
   "metadata": {},
   "source": [
    "- Difference between insert and append"
   ]
  },
  {
   "cell_type": "code",
   "execution_count": 20,
   "id": "e0f5a9e3-8668-4cd8-b059-7558ef93aafa",
   "metadata": {},
   "outputs": [
    {
     "data": {
      "text/plain": [
       "[1, 2, 3, 'A', 'B', 'C', 1000]"
      ]
     },
     "execution_count": 20,
     "metadata": {},
     "output_type": "execute_result"
    }
   ],
   "source": [
    "l1=[1,2,3,'A','B','C']\n",
    "l1.append(1000)\n",
    "l1"
   ]
  },
  {
   "cell_type": "code",
   "execution_count": 22,
   "id": "343d70cc-1651-4fc3-91d1-53e411eaf302",
   "metadata": {},
   "outputs": [
    {
     "data": {
      "text/plain": [
       "[1, 2, 3, 1000, 'A', 'B', 'C']"
      ]
     },
     "execution_count": 22,
     "metadata": {},
     "output_type": "execute_result"
    }
   ],
   "source": [
    "l1=[1,2,3,'A','B','C']\n",
    "#   0 1 2  3   4   5\n",
    "#   1,2,3,1000,'A','B','C'\n",
    "l1.insert(3,1000)\n",
    "# i want to inster 1000 before=3 (at 2)\n",
    "l1"
   ]
  },
  {
   "cell_type": "code",
   "execution_count": 24,
   "id": "a8576903-ea36-4ba7-85e8-6d50fe750521",
   "metadata": {},
   "outputs": [
    {
     "data": {
      "text/plain": [
       "[1, 2, 3, 'A', 1000, 'B', 'C']"
      ]
     },
     "execution_count": 24,
     "metadata": {},
     "output_type": "execute_result"
    }
   ],
   "source": [
    "l1=[1,2,3,'A','B','C']\n",
    "# i want inster 1000 before 'B'\n",
    "i1=l1.index('B')\n",
    "l1.insert(i1,1000)\n",
    "l1"
   ]
  },
  {
   "cell_type": "code",
   "execution_count": 26,
   "id": "073f50f3-4910-4805-93e8-201a5a6b5f29",
   "metadata": {},
   "outputs": [],
   "source": [
    "l1=[1,2,3,'A','B','C']\n",
    "for i in range(len(l1)):\n",
    "    if i ==\"B\":\n",
    "        print(i)\n",
    "l1.insert(i,1000)"
   ]
  },
  {
   "cell_type": "code",
   "execution_count": 30,
   "id": "b815d025-c446-4987-9ce6-0b4fe96b69d0",
   "metadata": {},
   "outputs": [
    {
     "data": {
      "text/plain": [
       "330"
      ]
     },
     "execution_count": 30,
     "metadata": {},
     "output_type": "execute_result"
    }
   ],
   "source": [
    "# wap ask the user add the elements of the lists\n",
    "#  l1=[100,200,300]\n",
    "#  l2=[10,20,30]\n",
    "#  ans=[110,220,330]\n",
    "l1=[100,200,300]\n",
    "l2=[10,20,30]\n",
    "l1[0]+l2[0] # 100+10=110\n",
    "l1[1]+l2[1] # 200+20=220\n",
    "l1[2]+l2[2] # 300+30=330"
   ]
  },
  {
   "cell_type": "code",
   "execution_count": 32,
   "id": "6a034e8c-28c8-4820-ac8d-071672b479ee",
   "metadata": {},
   "outputs": [
    {
     "data": {
      "text/plain": [
       "330"
      ]
     },
     "execution_count": 32,
     "metadata": {},
     "output_type": "execute_result"
    }
   ],
   "source": [
    "# wap ask the user add the elements of the lists\n",
    "#  l1=[100,200,300]\n",
    "#  l2=[10,20,30]\n",
    "#  ans=[110,220,330]\n",
    "l1=[100,200,300]\n",
    "l2=[10,20,30]\n",
    "l1[0]+l2[0] # 100+10=110\n",
    "l1[1]+l2[1] # 200+20=220\n",
    "l1[2]+l2[2] # 300+30=330"
   ]
  },
  {
   "cell_type": "code",
   "execution_count": 34,
   "id": "9e052bba-497f-482e-ac31-bdd0e78a848c",
   "metadata": {},
   "outputs": [
    {
     "data": {
      "text/plain": [
       "[110, 220, 330]"
      ]
     },
     "execution_count": 34,
     "metadata": {},
     "output_type": "execute_result"
    }
   ],
   "source": [
    "ans=[]\n",
    "for i in range(len(l1)):\n",
    "    ans.append(l1[i]+l2[i])\n",
    "ans"
   ]
  },
  {
   "cell_type": "code",
   "execution_count": 36,
   "id": "2e014e21-edff-4c0f-b3b8-cdf0737bce94",
   "metadata": {},
   "outputs": [
    {
     "data": {
      "text/plain": [
       "[110, 220, 330, 400]"
      ]
     },
     "execution_count": 36,
     "metadata": {},
     "output_type": "execute_result"
    }
   ],
   "source": [
    "l1=[100,200,300,400]\n",
    "l2=[10,20,30]\n",
    "ans=[110,220,330,400]\n",
    "\n",
    "# iterate the loop with max length iterations\n",
    "# if l2 values avaialbe then add those\n",
    "# otherwise append l1 value into ans list\n",
    "len1=len(l1)\n",
    "len2=len(l2)\n",
    "max_val=max(len1,len2)\n",
    "ans=[]\n",
    "for i in range(max_val):\n",
    "    if i < len(l2):\n",
    "        ans.append(l1[i]+l2[i])\n",
    "    else:\n",
    "        ans.append(l1[i])\n",
    "ans"
   ]
  },
  {
   "cell_type": "markdown",
   "id": "3302878c-7174-4362-9cf7-3a3784ce0d87",
   "metadata": {},
   "source": [
    "**Distance between two points**"
   ]
  },
  {
   "cell_type": "code",
   "execution_count": null,
   "id": "e310ded2-e96d-4d65-8d25-6eb3dfd95696",
   "metadata": {},
   "outputs": [],
   "source": [
    "d=root([x2-x1]**2+[y2-y1]**2)\n",
    "\n",
    "# step-1:  l1=[2,5]  l2=[4,9]\n",
    "#              x1,y2     x2,y2\n",
    "# step-2:    d1=x2-x1       d2=y2-y1\n",
    "# step-3:    (x2-x1)**2   (y2-y1)**2\n",
    "# step4:     d=d1^2 +d2^2\n",
    "# step"
   ]
  },
  {
   "cell_type": "code",
   "execution_count": null,
   "id": "de81fe5a-3c6b-4aee-8342-a8e8b2b90fe5",
   "metadata": {},
   "outputs": [],
   "source": [
    "# wap\n",
    "#a=[(1,3),(7,8),(2,6),(9,3)]\n",
    "#b=(5,9)\n",
    "# find the max and min distance points\n",
    "# a=[(1,3),(7,8),(2,6),(9,3),(2,9),(10,12)]\n",
    "# find all the distances among the points\n",
    "# (1,3) with all other data points\n",
    "# (7,8) with all\n",
    "# and so on"
   ]
  },
  {
   "cell_type": "code",
   "execution_count": 43,
   "id": "30bbdbcf-8338-4b59-b1b8-3dd44bf1b761",
   "metadata": {},
   "outputs": [
    {
     "data": {
      "text/plain": [
       "4.47213595499958"
      ]
     },
     "execution_count": 43,
     "metadata": {},
     "output_type": "execute_result"
    }
   ],
   "source": [
    "import math\n",
    "l1=[2,5]  \n",
    "l2=[4,9]\n",
    "#############################\n",
    "x1=l1[0]\n",
    "y1=l1[1]\n",
    "x2=l2[0]\n",
    "y2=l2[1]\n",
    "############################\n",
    "d1=(x2-x1)\n",
    "d2=(y2-y1)\n",
    "##############################\n",
    "d=d1**2+d2**2\n",
    "math.sqrt(d)"
   ]
  },
  {
   "cell_type": "code",
   "execution_count": 45,
   "id": "fdd74509-46ae-4d0f-9224-0f64676be71e",
   "metadata": {},
   "outputs": [
    {
     "data": {
      "text/plain": [
       "4.47213595499958"
      ]
     },
     "execution_count": 45,
     "metadata": {},
     "output_type": "execute_result"
    }
   ],
   "source": [
    "l1=[2,5]  \n",
    "l2=[4,9]\n",
    "math.sqrt((l2[0]-l1[0])**2+(l2[1]-l1[1])**2)"
   ]
  },
  {
   "cell_type": "code",
   "execution_count": 49,
   "id": "dfae9eb6-796c-444f-8889-8bb4291a163a",
   "metadata": {},
   "outputs": [
    {
     "name": "stdout",
     "output_type": "stream",
     "text": [
      "7.211102550927978\n",
      "2.23606797749979\n",
      "4.242640687119285\n",
      "7.211102550927978\n"
     ]
    }
   ],
   "source": [
    "a=[(1,3),(7,8),(2,6),(9,3)]\n",
    "b=(5,9)\n",
    "\n",
    "math.sqrt((b[0]-l1[0])**2+(b[1]-l1[1])**2)\n",
    "for i in a:\n",
    "    l1=i\n",
    "    print(math.sqrt((b[0]-l1[0])**2+(b[1]-l1[1])**2))"
   ]
  },
  {
   "cell_type": "code",
   "execution_count": 51,
   "id": "8f792df9-efc2-4fb0-a2f7-d78244595cf5",
   "metadata": {},
   "outputs": [
    {
     "name": "stdout",
     "output_type": "stream",
     "text": [
      "(1, 3)\n",
      "(1, 3) (7, 8)\n",
      "(1, 3) (2, 6)\n",
      "(1, 3) (9, 3)\n",
      "(1, 3) (2, 9)\n",
      "(1, 3) (10, 12)\n",
      "(7, 8)\n",
      "(7, 8) (7, 8)\n",
      "(7, 8) (2, 6)\n",
      "(7, 8) (9, 3)\n",
      "(7, 8) (2, 9)\n",
      "(7, 8) (10, 12)\n",
      "(2, 6)\n",
      "(2, 6) (7, 8)\n",
      "(2, 6) (2, 6)\n",
      "(2, 6) (9, 3)\n",
      "(2, 6) (2, 9)\n",
      "(2, 6) (10, 12)\n",
      "(9, 3)\n",
      "(9, 3) (7, 8)\n",
      "(9, 3) (2, 6)\n",
      "(9, 3) (9, 3)\n",
      "(9, 3) (2, 9)\n",
      "(9, 3) (10, 12)\n",
      "(2, 9)\n",
      "(2, 9) (7, 8)\n",
      "(2, 9) (2, 6)\n",
      "(2, 9) (9, 3)\n",
      "(2, 9) (2, 9)\n",
      "(2, 9) (10, 12)\n",
      "(10, 12)\n",
      "(10, 12) (7, 8)\n",
      "(10, 12) (2, 6)\n",
      "(10, 12) (9, 3)\n",
      "(10, 12) (2, 9)\n",
      "(10, 12) (10, 12)\n"
     ]
    }
   ],
   "source": [
    "a=[(1,3),(7,8),(2,6),(9,3),(2,9),(10,12)]\n",
    "a[1:] # (7,8),(2,6),(9,3),(2,9),(10,12)\n",
    "# we want 1,3  with 7,8\n",
    "#         1,3  with 2,6\n",
    "for i in a:\n",
    "    print(i)  # i = 1,3   7,8  2,6\n",
    "    for j in a[1:]:\n",
    "        print(i,j)\n",
    "\n",
    "# i=1,3    j=7,8\n",
    "# i=1,3    j=2,6"
   ]
  },
  {
   "cell_type": "code",
   "execution_count": null,
   "id": "b0d039b5-3e1f-41a4-9425-1ddbb7ee31b8",
   "metadata": {},
   "outputs": [],
   "source": []
  }
 ],
 "metadata": {
  "kernelspec": {
   "display_name": "Python 3 (ipykernel)",
   "language": "python",
   "name": "python3"
  },
  "language_info": {
   "codemirror_mode": {
    "name": "ipython",
    "version": 3
   },
   "file_extension": ".py",
   "mimetype": "text/x-python",
   "name": "python",
   "nbconvert_exporter": "python",
   "pygments_lexer": "ipython3",
   "version": "3.12.4"
  }
 },
 "nbformat": 4,
 "nbformat_minor": 5
}
