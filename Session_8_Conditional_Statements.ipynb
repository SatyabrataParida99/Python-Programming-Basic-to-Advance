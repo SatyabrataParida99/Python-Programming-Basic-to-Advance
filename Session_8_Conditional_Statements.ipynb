{
 "cells": [
  {
   "cell_type": "markdown",
   "id": "ee62a03d-0bc8-4428-9dff-819aa516b827",
   "metadata": {},
   "source": [
    "- Conditional statements refers to execute the code based on some conditions\n",
    "\n",
    "- mainly three types\n",
    "\n",
    " - if\n",
    "   \n",
    " - if else\n",
    "   \n",
    " - if elif else"
   ]
  },
  {
   "cell_type": "code",
   "execution_count": 6,
   "id": "b1763188-0493-4f13-9cef-7ddcbbc1ec9f",
   "metadata": {},
   "outputs": [
    {
     "name": "stdout",
     "output_type": "stream",
     "text": [
      "Hello good morning\n"
     ]
    }
   ],
   "source": [
    "print('Hello good morning')"
   ]
  },
  {
   "cell_type": "code",
   "execution_count": null,
   "id": "5f09283b-ef65-49b9-965b-2a22c8616656",
   "metadata": {},
   "outputs": [],
   "source": [
    "# i want to say good morning\n",
    "# if your name is python\n",
    "# Indentation is the mandatory"
   ]
  },
  {
   "cell_type": "markdown",
   "id": "62b1f6c1-2cb1-4520-bfd8-2c8be6b10525",
   "metadata": {},
   "source": [
    "**syntax**"
   ]
  },
  {
   "cell_type": "code",
   "execution_count": null,
   "id": "e8d1373c-f777-4ebc-9095-0b325a8e02bf",
   "metadata": {},
   "outputs": [],
   "source": [
    "if <condition>:\n",
    "    <write your code here>"
   ]
  },
  {
   "cell_type": "code",
   "execution_count": 12,
   "id": "c0d60832-6874-40e5-a636-673e110327bb",
   "metadata": {},
   "outputs": [
    {
     "name": "stdout",
     "output_type": "stream",
     "text": [
      "correct condition\n",
      "hello\n"
     ]
    }
   ],
   "source": [
    "num=10\n",
    "if num>0: # 10>0 True if True\n",
    "    print('correct condition')\n",
    "    print('hello')"
   ]
  },
  {
   "cell_type": "markdown",
   "id": "168bc926-81ff-4c90-8c08-69d8f84d5e0f",
   "metadata": {},
   "source": [
    "- We can write any condition\n",
    "\n",
    "- the condition should be valid\n",
    "\n",
    "- in order to execute the if statements"
   ]
  },
  {
   "cell_type": "code",
   "execution_count": null,
   "id": "039f198b-501d-42b1-aa13-c9315caf6fed",
   "metadata": {},
   "outputs": [],
   "source": [
    "if <condition>:\n",
    "    <code starts here>\n",
    "\n",
    "# the space we need to maintain it is called as indentation"
   ]
  },
  {
   "cell_type": "code",
   "execution_count": 16,
   "id": "26663454-b2da-4035-a400-b27ef868ea26",
   "metadata": {},
   "outputs": [
    {
     "data": {
      "text/plain": [
       "True"
      ]
     },
     "execution_count": 16,
     "metadata": {},
     "output_type": "execute_result"
    }
   ],
   "source": [
    "name='python'\n",
    "name=='python'"
   ]
  },
  {
   "cell_type": "code",
   "execution_count": 18,
   "id": "0eaccc8f-28cc-4729-870b-d98f2f1baeae",
   "metadata": {},
   "outputs": [
    {
     "data": {
      "text/plain": [
       "False"
      ]
     },
     "execution_count": 18,
     "metadata": {},
     "output_type": "execute_result"
    }
   ],
   "source": [
    "name!='python'"
   ]
  },
  {
   "cell_type": "code",
   "execution_count": 20,
   "id": "da8dd46e-eae9-4340-bd5d-d9c261729d38",
   "metadata": {},
   "outputs": [
    {
     "name": "stdout",
     "output_type": "stream",
     "text": [
      "Hello\n",
      "30\n"
     ]
    }
   ],
   "source": [
    "name='python'\n",
    "if name=='python':\n",
    "    print('Hello')\n",
    "    a=10\n",
    "    b=20\n",
    "    print(a+b)\n",
    "\n",
    "\n",
    "# step-1: name='python'\n",
    "# step-2: if name=='python' if 'python'=='python' if True\n",
    "# step-3: print hello\n",
    "# step-4: a=10\n",
    "# step-5: b=20\n",
    "# step-6: a+b 10+20=30"
   ]
  },
  {
   "cell_type": "code",
   "execution_count": 22,
   "id": "8ee52e8b-3a49-4a31-afd8-f8f2dcf37a31",
   "metadata": {},
   "outputs": [
    {
     "name": "stdout",
     "output_type": "stream",
     "text": [
      "correct\n",
      "bye\n"
     ]
    }
   ],
   "source": [
    "#################################\n",
    "if 100>10:\n",
    "    print('correct')\n",
    "#################################\n",
    "print('bye')"
   ]
  },
  {
   "cell_type": "code",
   "execution_count": 26,
   "id": "65f27fc5-e859-4cc8-bf6e-549eed034774",
   "metadata": {},
   "outputs": [
    {
     "name": "stdout",
     "output_type": "stream",
     "text": [
      "correct\n",
      "hai\n",
      "bye\n"
     ]
    }
   ],
   "source": [
    "#################################\n",
    "if 100>10:\n",
    "    print('correct')\n",
    "    print('hai')\n",
    "#################################\n",
    "print('bye')"
   ]
  },
  {
   "cell_type": "code",
   "execution_count": 28,
   "id": "1e6ba4ee-479c-43e8-b15b-d69b7d915406",
   "metadata": {},
   "outputs": [
    {
     "name": "stdout",
     "output_type": "stream",
     "text": [
      "hai\n",
      "hello\n",
      "wrong\n",
      "bye\n"
     ]
    }
   ],
   "source": [
    "print('hai')\n",
    "if 100>10:\n",
    "    print('hello')\n",
    "    print('wrong')\n",
    "#######################\n",
    "print('bye')"
   ]
  },
  {
   "cell_type": "markdown",
   "id": "898bfbf1-7a69-4857-b52b-44334251713f",
   "metadata": {},
   "source": [
    "**if-else**\n",
    "\n",
    "- whenever if condition fails automatically it goes to else part\n",
    "\n",
    "- so else does not require any condition\n",
    "\n",
    "- always maintain indentation for both if part and else part "
   ]
  },
  {
   "cell_type": "code",
   "execution_count": 32,
   "id": "37be0670-e1dd-4776-aaf0-2b8dcd658582",
   "metadata": {},
   "outputs": [
    {
     "name": "stdout",
     "output_type": "stream",
     "text": [
      "wrong condition\n"
     ]
    }
   ],
   "source": [
    "if 100<10:\n",
    "    print('correct condition')\n",
    "else:\n",
    "    print('wrong condition')"
   ]
  },
  {
   "cell_type": "code",
   "execution_count": 36,
   "id": "cc307328-0c8e-4d83-80eb-7184e3b396b9",
   "metadata": {},
   "outputs": [
    {
     "name": "stdout",
     "output_type": "stream",
     "text": [
      "10\n",
      "wrong condition\n",
      "20\n"
     ]
    }
   ],
   "source": [
    "print(10)\n",
    "###################\n",
    "if 100<10:\n",
    "    print('correct condition')\n",
    "################################\n",
    "else:\n",
    "    print('wrong condition')\n",
    "################################\n",
    "print(20)"
   ]
  },
  {
   "cell_type": "code",
   "execution_count": 44,
   "id": "64133e00-33cd-4518-8258-c05287f708c7",
   "metadata": {},
   "outputs": [
    {
     "ename": "SyntaxError",
     "evalue": "invalid syntax (353345913.py, line 7)",
     "output_type": "error",
     "traceback": [
      "\u001b[1;36m  Cell \u001b[1;32mIn[44], line 7\u001b[1;36m\u001b[0m\n\u001b[1;33m    else:\u001b[0m\n\u001b[1;37m    ^\u001b[0m\n\u001b[1;31mSyntaxError\u001b[0m\u001b[1;31m:\u001b[0m invalid syntax\n"
     ]
    }
   ],
   "source": [
    "print(10)\n",
    "if 100>10:\n",
    "    print('correct condition')\n",
    "    print('okay')\n",
    "print('why are you come in middle')\n",
    "\n",
    "else:\n",
    "    print('wrong condition')\n",
    "print(20)"
   ]
  },
  {
   "cell_type": "markdown",
   "id": "144e3e52-dbb2-4781-834b-d86693aa99bb",
   "metadata": {},
   "source": [
    "**if and else always together**"
   ]
  },
  {
   "cell_type": "code",
   "execution_count": null,
   "id": "3844b10a-d8cd-48f1-b4ac-579a9512274a",
   "metadata": {},
   "outputs": [],
   "source": [
    "# wap ask the user take two numbers\n",
    "# num1 and num2\n",
    "# if both numbers are matched then print we are won\n",
    "# otherwise print we lost\n",
    "\n",
    "# step-1: n1=eval(input('en'))\n",
    "# step-2: n2=eval(input('en'))\n",
    "# step-3: if <condition>:\n",
    "# step-4:    print('we won')\n",
    "# step-5: else:\n",
    "# step-6:     print('we lost')"
   ]
  },
  {
   "cell_type": "code",
   "execution_count": 51,
   "id": "7f143426-e68d-48bc-8f5b-5965ca069206",
   "metadata": {},
   "outputs": [
    {
     "name": "stdin",
     "output_type": "stream",
     "text": [
      "enter number1: 20\n",
      "enter number2: 20\n"
     ]
    },
    {
     "name": "stdout",
     "output_type": "stream",
     "text": [
      "we won\n"
     ]
    }
   ],
   "source": [
    "n1= eval(input('enter number1:'))\n",
    "n2= eval(input('enter number2:'))\n",
    "if n1==n2:\n",
    "    print('we won')\n",
    "else:\n",
    "    print('we lost')"
   ]
  },
  {
   "cell_type": "code",
   "execution_count": null,
   "id": "6d6370bc-486a-480e-a899-cda570b7df4f",
   "metadata": {},
   "outputs": [],
   "source": [
    "# wap ask the user take one number\n",
    "# another number comes as random integer between 1 to 10\n",
    "# num1 and num2\n",
    "# if both numbers are matched then print we are won\n",
    "# otherwise print we lost\n",
    "\n",
    "# step-1: n1=<random number>\n",
    "# step-2: n2=eval(input('en'))\n",
    "# step-3: if <condition>:\n",
    "# step-4:    print('we won')\n",
    "# step-5: else:\n",
    "# step-6:     print('we lost')"
   ]
  },
  {
   "cell_type": "code",
   "execution_count": 73,
   "id": "9106cb93-f123-4429-a578-93f0c301b31c",
   "metadata": {},
   "outputs": [
    {
     "name": "stdout",
     "output_type": "stream",
     "text": [
      "2\n"
     ]
    },
    {
     "name": "stdin",
     "output_type": "stream",
     "text": [
      "enter number2: 1\n"
     ]
    },
    {
     "name": "stdout",
     "output_type": "stream",
     "text": [
      "we lost\n"
     ]
    }
   ],
   "source": [
    "import random\n",
    "n1= random.randint(1,10)\n",
    "print(n1)\n",
    "n2= eval(input('enter number2:'))\n",
    "if n1==n2:\n",
    "    print('we won')\n",
    "else:\n",
    "    print('we lost')"
   ]
  },
  {
   "cell_type": "code",
   "execution_count": null,
   "id": "4a887ecc-23c0-41b2-923b-011d35c729f4",
   "metadata": {},
   "outputs": [],
   "source": [
    "# wap ask the user enter a number\n",
    "# print if the number is even or add\n",
    "\n",
    "# idea == reminder should be zero\n",
    "# step-1: num=eval(input())\n",
    "# step-2: if <con>:\n",
    "# step-3: print (the given number is even)\n",
    "# step-4: else:\n",
    "# step-5:  print(the given number is odd)"
   ]
  },
  {
   "cell_type": "code",
   "execution_count": 75,
   "id": "13fcf48d-8bd8-494d-8e79-9e143324e5a0",
   "metadata": {},
   "outputs": [
    {
     "data": {
      "text/plain": [
       "2.5"
      ]
     },
     "execution_count": 75,
     "metadata": {},
     "output_type": "execute_result"
    }
   ],
   "source": [
    "5/2 # division"
   ]
  },
  {
   "cell_type": "code",
   "execution_count": 77,
   "id": "f1335a04-95e5-4f2c-8594-ec7cac8ddb65",
   "metadata": {},
   "outputs": [
    {
     "data": {
      "text/plain": [
       "2"
      ]
     },
     "execution_count": 77,
     "metadata": {},
     "output_type": "execute_result"
    }
   ],
   "source": [
    "5//2  # floor division"
   ]
  },
  {
   "cell_type": "code",
   "execution_count": 79,
   "id": "181cec58-92c3-4b48-a101-3a4afd56ef2e",
   "metadata": {},
   "outputs": [
    {
     "data": {
      "text/plain": [
       "1"
      ]
     },
     "execution_count": 79,
     "metadata": {},
     "output_type": "execute_result"
    }
   ],
   "source": [
    "5%2  # modulus operator"
   ]
  },
  {
   "cell_type": "code",
   "execution_count": 9,
   "id": "e1fc86dd-4074-4a53-974b-37cf9dc11b56",
   "metadata": {},
   "outputs": [
    {
     "name": "stdin",
     "output_type": "stream",
     "text": [
      "enter a number: 24\n"
     ]
    },
    {
     "name": "stdout",
     "output_type": "stream",
     "text": [
      "the given number 24 is even\n"
     ]
    }
   ],
   "source": [
    "num=eval(input('enter a number:'))\n",
    "if num%2==0:\n",
    "    print(f'the given number {num} is even')\n",
    "else:\n",
    "    print(f'the given number {num} is odd')"
   ]
  },
  {
   "cell_type": "code",
   "execution_count": null,
   "id": "69077150-a508-406e-87e3-f1aeaaa2ca62",
   "metadata": {},
   "outputs": [],
   "source": [
    "# wap ask the user enter distance\n",
    "# if distance greater than 25\n",
    "# ask the charge\n",
    "# calculate the charge other than25km distance\n",
    "# else\n",
    "# print free ride\n",
    "# step-1: distance= eval(input(''))\n",
    "# step-2: if <>:\n",
    "# step-3: charge=eval(input(''))\n",
    "# step-4: total charge= (d-25)*\n",
    "# step-5: else:\n",
    "# step-6: print free ride"
   ]
  },
  {
   "cell_type": "code",
   "execution_count": 21,
   "id": "32003311-e2dc-45f1-be4a-ceb72b10c3fa",
   "metadata": {},
   "outputs": [
    {
     "name": "stdin",
     "output_type": "stream",
     "text": [
      "enter the distance 100\n",
      "govern cut off distace: 20\n"
     ]
    },
    {
     "name": "stdout",
     "output_type": "stream",
     "text": [
      "the charge applicable only on:80 kms\n"
     ]
    },
    {
     "name": "stdin",
     "output_type": "stream",
     "text": [
      "enter the charge: 50\n"
     ]
    },
    {
     "name": "stdout",
     "output_type": "stream",
     "text": [
      "the total charge is:4000 rs\n"
     ]
    }
   ],
   "source": [
    "distance=eval(input('enter the distance'))\n",
    "cutoff_dis=eval(input('govern cut off distace:'))\n",
    "if distance>cutoff_dis:\n",
    "    print(f'the charge applicable only on:{distance-cutoff_dis} kms')\n",
    "    charge=eval(input('enter the charge:'))\n",
    "    total_charge=(distance-cutoff_dis)*charge\n",
    "    print(f'the total charge is:{total_charge} rs')\n",
    "else:\n",
    "    print('enjoy free ride')"
   ]
  },
  {
   "cell_type": "code",
   "execution_count": null,
   "id": "5b387aac-24b7-4f2f-b2ff-03cf5c560204",
   "metadata": {},
   "outputs": [],
   "source": [
    "# Question/ # wap ask the user take two numbers\n",
    "# print which is greater number\n",
    "# step-1: n1= eval(input())\n",
    "# step-2: n2= eval(input())\n",
    "# step-3: if <cond>:\n",
    "# step-4: print()\n",
    "# step-5: else:\n",
    "# step-6: print()"
   ]
  },
  {
   "cell_type": "code",
   "execution_count": 25,
   "id": "83248937-2ded-4b8f-8937-35b7efe19ed1",
   "metadata": {},
   "outputs": [
    {
     "name": "stdin",
     "output_type": "stream",
     "text": [
      "enter the n1: 20\n",
      "enter the n2: 50\n"
     ]
    },
    {
     "name": "stdout",
     "output_type": "stream",
     "text": [
      "50 is greater\n"
     ]
    }
   ],
   "source": [
    "n1=eval(input('enter the n1:'))\n",
    "n2=eval(input('enter the n2:'))\n",
    "if n1>n2:\n",
    "    print(f\"{n1} is greater\")\n",
    "else:\n",
    "    print(f\"{n2} is greater\")"
   ]
  },
  {
   "cell_type": "code",
   "execution_count": 29,
   "id": "a4f4749a-131f-4c9c-aa06-f16eaacaa156",
   "metadata": {},
   "outputs": [
    {
     "name": "stdout",
     "output_type": "stream",
     "text": [
      "96 is greater\n"
     ]
    }
   ],
   "source": [
    "from random import randint\n",
    "n1=randint(1,100)\n",
    "n2=randint(1,100)\n",
    "if n1>n2:\n",
    "    print(f\"{n1} is greater\")\n",
    "else:\n",
    "    print(f\"{n2} is greater\")"
   ]
  },
  {
   "cell_type": "code",
   "execution_count": null,
   "id": "03daad97-c107-41ba-bf21-b306344bc8e5",
   "metadata": {},
   "outputs": [],
   "source": [
    "# wap ask the user\n",
    "# enter the course name\n",
    "# enter the institute name\n",
    "# if course name equal to data science\n",
    "# and institute name equal to naresh it\n",
    "# then print we are good\n",
    "# else print not good\n",
    "\n",
    "# step-1: course_name=input()\n",
    "# step-2: inst_name=input()\n",
    "# step-3: if <c1> and <c2>:\n",
    "# step-4: print\n",
    "# step-5: else:\n",
    "# step-6: print"
   ]
  },
  {
   "cell_type": "code",
   "execution_count": 37,
   "id": "a9aac97c-37e3-4c58-a247-ef0967128a81",
   "metadata": {},
   "outputs": [
    {
     "name": "stdin",
     "output_type": "stream",
     "text": [
      "Enter course name:  Data Science\n",
      "Enter institute name:  NareshIT\n"
     ]
    },
    {
     "name": "stdout",
     "output_type": "stream",
     "text": [
      "We are good\n"
     ]
    }
   ],
   "source": [
    "course_name = (input(\"Enter course name: \"))\n",
    "inst_name = (input(\"Enter institute name: \"))\n",
    "if course_name=='Data Science' or inst_name=='NareshIT':\n",
    "    print(\"We are good\")\n",
    "else:\n",
    "    print(\"We are not good\")"
   ]
  },
  {
   "cell_type": "code",
   "execution_count": 35,
   "id": "00007a0e-a186-4d23-9288-7dbafdf2535b",
   "metadata": {},
   "outputs": [
    {
     "data": {
      "text/plain": [
       "'data science'"
      ]
     },
     "execution_count": 35,
     "metadata": {},
     "output_type": "execute_result"
    }
   ],
   "source": [
    "'Data Science'.lower()"
   ]
  },
  {
   "cell_type": "markdown",
   "id": "2a5bd6f3-537d-4b1f-8bab-a25546f032c3",
   "metadata": {},
   "source": [
    "**if-elif-else**\n",
    "\n",
    "- when we have two solutions based on one condition\n",
    "\n",
    "- then we can go for if-else\n",
    "\n",
    "- when we have 3 solutions based on two conditions\n",
    "\n",
    "- then we go for if-elif-else\n",
    "\n",
    "- if needs condition\n",
    "\n",
    "- elif needs condition\n",
    "\n",
    "- if and elif both are wrong then will get else output"
   ]
  },
  {
   "cell_type": "code",
   "execution_count": null,
   "id": "31caf658-3c1c-4915-883b-8e442de8fee0",
   "metadata": {},
   "outputs": [],
   "source": [
    "two conditions: if elif else\n",
    "three cond : if elif elif else\n",
    "4 cond : if elif elif elif else\n",
    "# syntax\n",
    "if <condition>:\n",
    "<write your code>\n",
    "elif <condition>:\n",
    "<write your code>\n",
    "else:\n",
    "<write your code>"
   ]
  },
  {
   "cell_type": "code",
   "execution_count": 63,
   "id": "0148ff8c-9faa-4fb1-bc57-df2b8a68122e",
   "metadata": {},
   "outputs": [
    {
     "name": "stdin",
     "output_type": "stream",
     "text": [
      "enter a number: 78\n"
     ]
    },
    {
     "name": "stdout",
     "output_type": "stream",
     "text": [
      "enter a valid number\n"
     ]
    }
   ],
   "source": [
    "# wap ask the user enter a number\n",
    "# if the number equal to 1 then print one\n",
    "# if the number equal to 2 then print two\n",
    "# if the number equal to 3 then print three\n",
    "# otherwise print enter a valid number\n",
    "num=eval(input('enter a number:'))\n",
    "if num==1:\n",
    "    print(\"one\")\n",
    "elif num==2:\n",
    "    print('two')\n",
    "elif num==3:\n",
    "    print('three')\n",
    "else:\n",
    "    print('enter a valid number')"
   ]
  },
  {
   "cell_type": "code",
   "execution_count": null,
   "id": "21066592-0625-4f40-9732-ffdf0fba554d",
   "metadata": {},
   "outputs": [],
   "source": [
    "# wap ask the user enter percentage of marks\n",
    "# if marks greater than 75 then print A grade\n",
    "# if marks between 60 to 75 then print B grade \n",
    "# if marks between 45 to 60 then print C grade\n",
    "# if marks between 35 to 45 then print D grade\n",
    "# Otherwise print fail\n"
   ]
  },
  {
   "cell_type": "code",
   "execution_count": 75,
   "id": "cc460201-c9af-48fc-b5b9-688373f82eb5",
   "metadata": {},
   "outputs": [
    {
     "name": "stdin",
     "output_type": "stream",
     "text": [
      "enter the percentage: 30\n"
     ]
    },
    {
     "name": "stdout",
     "output_type": "stream",
     "text": [
      "fail\n"
     ]
    }
   ],
   "source": [
    "per=eval(input('enter the percentage:'))\n",
    "if per>=75:\n",
    "    print('A grade')\n",
    "elif per<75 and per>60:\n",
    "    print('B grade')\n",
    "elif per<60 and per>=45:\n",
    "    print('C grade')\n",
    "elif per<45 and per>35:\n",
    "    print('D grade')\n",
    "else:\n",
    "    print('fail')"
   ]
  },
  {
   "cell_type": "code",
   "execution_count": 89,
   "id": "5375f17b-0457-4822-a0d9-05d121b72880",
   "metadata": {},
   "outputs": [
    {
     "name": "stdin",
     "output_type": "stream",
     "text": [
      "enter the percentage: 62\n"
     ]
    },
    {
     "name": "stdout",
     "output_type": "stream",
     "text": [
      "B grade\n"
     ]
    }
   ],
   "source": [
    "per=eval(input('enter the percentage:'))\n",
    "if per>=75:\n",
    "    print('A grade')\n",
    "elif per>60:\n",
    "    print('B grade')\n",
    "elif per>45:\n",
    "    print('C grade')\n",
    "elif per>35:\n",
    "    print('D grade')\n",
    "else:\n",
    "    print('fail')\n",
    "\n",
    "# per = 55\n",
    "# if 95>75  ==== false \n",
    "# elif 95>=60 === False\n",
    "# elif 95>45 === True\n",
    "# elif 95>35 === True \n",
    "# what is the first True it will stop there only"
   ]
  },
  {
   "cell_type": "code",
   "execution_count": 95,
   "id": "1bbb9c0a-d82e-4718-9df9-e9323abeb9e2",
   "metadata": {},
   "outputs": [
    {
     "name": "stdin",
     "output_type": "stream",
     "text": [
      "enter the age: 27\n"
     ]
    },
    {
     "name": "stdout",
     "output_type": "stream",
     "text": [
      "MA\n"
     ]
    }
   ],
   "source": [
    "# wap ask the user enter age\n",
    "# if age greater than 100 print unlucky guy\n",
    "# if age between 80 to 100 print super senior citizen\n",
    "# if age between 60 to 80 print ss\n",
    "# if age between 40 to 60 print Aged\n",
    "# if age between 25 to 40 print MA\n",
    "# if age between 15 to 25 print young\n",
    "# otherwise print kid\n",
    "age=eval(input('enter the age:'))\n",
    "if age>=100:\n",
    "    print('unlucky')\n",
    "elif age>80:\n",
    "    print('ssc')\n",
    "elif age>60:\n",
    "    print('sc')\n",
    "elif age>40:\n",
    "    print('Aged')\n",
    "elif age>25:\n",
    "    print('MA')\n",
    "elif age>15:\n",
    "    print('youth')\n",
    "else:\n",
    "    print('kid')"
   ]
  },
  {
   "cell_type": "code",
   "execution_count": 111,
   "id": "90370474-fd2f-4c03-bd9e-c9c5e36a21f8",
   "metadata": {},
   "outputs": [
    {
     "name": "stdin",
     "output_type": "stream",
     "text": [
      "enter the distance: 25\n"
     ]
    },
    {
     "name": "stdout",
     "output_type": "stream",
     "text": [
      "charge is 20rs for more than 100km\n",
      "charge is 10rs for between 50km to 100km\n",
      "charge is 5rs for between 25km to 50km\n",
      "free ride for less than 25km\n"
     ]
    },
    {
     "name": "stdin",
     "output_type": "stream",
     "text": [
      "enter the charge: 10\n"
     ]
    },
    {
     "name": "stdout",
     "output_type": "stream",
     "text": [
      "the total charge is:250\n"
     ]
    }
   ],
   "source": [
    "# wap ask the user enter a distance\n",
    "# if the distance greater than 100\n",
    "# ask the user enter charge # 20rs\n",
    "# print the total charge\n",
    "# if the distance between 50 to 100\n",
    "# ask the user enter charge # 10rs\n",
    "# print the total charge\n",
    "#if the distance between 25 to 50\n",
    "# ask the user enter charge # 5rs\n",
    "# print the total charge\n",
    "# otherwise print free ride\n",
    "\n",
    "\n",
    "distance=eval(input('enter the distance:'))\n",
    "print(\"charge is 20rs for more than 100km\")\n",
    "print(\"charge is 10rs for between 50km to 100km\")\n",
    "print(\"charge is 5rs for between 25km to 50km\")\n",
    "print(\"free ride for less than 25km\")\n",
    "if distance>=100:\n",
    "    charge=eval(input(\"enter the charge:\"))\n",
    "    total_charge=distance*charge\n",
    "    print(f\"the total charge is:{total_charge}\")\n",
    "elif distance>=50:\n",
    "    charge=eval(input(\"enter the charge:\"))\n",
    "    total_charge=distance*charge\n",
    "    print(f\"the total charge is:{total_charge}\")\n",
    "elif distance>=25:\n",
    "    charge=eval(input(\"enter the charge:\"))\n",
    "    total_charge=distance*charge\n",
    "    print(f\"the total charge is:{total_charge}\")\n",
    "else:\n",
    "    print('free ride')"
   ]
  },
  {
   "cell_type": "code",
   "execution_count": null,
   "id": "a255db2c-fa54-4081-b65d-0298dd472efa",
   "metadata": {},
   "outputs": [],
   "source": [
    "# you need to print some statements\n",
    "# time.sleep(1)\n",
    "# print enter 1 for addition\n",
    "# time.sleep(1)\n",
    "# print enter 2 for sub\n",
    "# time.sleep(1)\n",
    "# print enter 3 for mul\n",
    "# time.sleep(1)\n",
    "# print enter 4 for div\n",
    "# n1=enter the number from keyboard\n",
    "# n2= enter the\n",
    "# operation=eval(input('enter the numbers between 1 to 4'))\n",
    "# if operation equla to 1:\n",
    "# print you choose addition opertaion\n",
    "# addition of n1+n2\n",
    "# if operation equal to 2:\n",
    "# print you choose subtraction opertaion\n",
    "# subtraction of n1-n2"
   ]
  },
  {
   "cell_type": "code",
   "execution_count": 126,
   "id": "2c3a2136-cd66-45ef-bf74-e2e1048e831b",
   "metadata": {},
   "outputs": [
    {
     "name": "stdout",
     "output_type": "stream",
     "text": [
      "For Addition press 1\n",
      "For Subtraction press 2\n",
      "For Multiplication press 3\n",
      "For Division press 4\n"
     ]
    },
    {
     "name": "stdin",
     "output_type": "stream",
     "text": [
      "Enter number between 1 to 4 4\n"
     ]
    },
    {
     "name": "stdout",
     "output_type": "stream",
     "text": [
      "you choose divi operation\n"
     ]
    },
    {
     "name": "stdin",
     "output_type": "stream",
     "text": [
      "enter number: 5\n",
      "enter number: 8\n"
     ]
    },
    {
     "name": "stdout",
     "output_type": "stream",
     "text": [
      "Divsion of number is: 0.625\n"
     ]
    }
   ],
   "source": [
    "from time import sleep\n",
    "print('For Addition press 1')\n",
    "sleep(1)\n",
    "print('For Subtraction press 2')\n",
    "sleep(1)\n",
    "print('For Multiplication press 3')\n",
    "sleep(1)\n",
    "print('For Division press 4')\n",
    "sleep(1)\n",
    "operation=eval(input('Enter number between 1 to 4'))\n",
    "if operation==1:\n",
    "    print('you choose addition operation')\n",
    "    num1=eval(input('enter number:'))\n",
    "    num2=eval(input('enter number:'))\n",
    "    add=num1+num2\n",
    "    print(f'Addition of number is: {add}')\n",
    "elif operation==2:\n",
    "    print('you choose subtraction operation')\n",
    "    num1=eval(input('enter number:'))\n",
    "    num2=eval(input('enter number:'))\n",
    "    sub=num1-num2\n",
    "    print(f'Subtraction of number is: {sub}')\n",
    "elif operation==3:\n",
    "    print('you choose mul operation')\n",
    "    num1=eval(input('enter number:'))\n",
    "    num2=eval(input('enter number:'))\n",
    "    mul=num1*num2\n",
    "    print(f'Mutiplication of number is: {mul}')\n",
    "elif operation==4:\n",
    "    print('you choose divi operation')\n",
    "    num1=eval(input('enter number:'))\n",
    "    num2=eval(input('enter number:'))\n",
    "    div=num1/num2\n",
    "    print(f'Divsion of number is: {div}')\n",
    "else:\n",
    "    print('No operation')"
   ]
  },
  {
   "cell_type": "code",
   "execution_count": 130,
   "id": "865d942d-8df4-472c-9610-7e4981678cdd",
   "metadata": {},
   "outputs": [
    {
     "name": "stdout",
     "output_type": "stream",
     "text": [
      "For Addition press 1\n",
      "For Subtraction press 2\n",
      "For Multiplication press 3\n",
      "For Division press 4\n"
     ]
    },
    {
     "name": "stdin",
     "output_type": "stream",
     "text": [
      "Enter number between 1 to 4 14\n",
      "enter number: 10\n",
      "enter number: 15\n"
     ]
    },
    {
     "name": "stdout",
     "output_type": "stream",
     "text": [
      "No operation\n"
     ]
    }
   ],
   "source": [
    " from time import sleep\n",
    " print('For Addition press 1')\n",
    " sleep(1)\n",
    " print('For Subtraction press 2')\n",
    " sleep(1)\n",
    " print('For Multiplication press 3')\n",
    " sleep(1)\n",
    " print('For Division press 4')\n",
    " sleep(1)\n",
    " operation=eval(input('Enter number between 1 to 4'))\n",
    " num1=eval(input('enter number:'))\n",
    " num2=eval(input('enter number:'))\n",
    " if operation==1:\n",
    "    print('you choose addition operation')\n",
    "    add=num1+num2\n",
    "    print(f'Additon of number is: {add}')\n",
    "elif operation==2:\n",
    "    print('you choose subtraction operation')\n",
    "    sub=num1-num2\n",
    "    print(f'Subtraction of number is: {sub}')\n",
    "elif operation==3:\n",
    "    print('you choose mul operation')\n",
    "    mul=num1*num2\n",
    "    print(f'Mutiplication of number is: {mul}')\n",
    "elif operation==4:\n",
    "    print('you choose divi operation')\n",
    "    div=num1/num2\n",
    "    print(f'Divsion of number is: {div}')\n",
    "else:\n",
    "    print('No operation')"
   ]
  },
  {
   "cell_type": "code",
   "execution_count": 132,
   "id": "08187025-d67a-4d70-a983-83d93a02d8d7",
   "metadata": {},
   "outputs": [
    {
     "name": "stdout",
     "output_type": "stream",
     "text": [
      "For Addition press 1\n",
      "For Subtraction press 2\n"
     ]
    }
   ],
   "source": [
    "print('For Addition press 1')\n",
    "sleep(2)\n",
    "print('For Subtraction press 2')"
   ]
  },
  {
   "cell_type": "code",
   "execution_count": 134,
   "id": "5a4c03a3-c0e4-459e-ab49-7371499a2e66",
   "metadata": {},
   "outputs": [
    {
     "name": "stdout",
     "output_type": "stream",
     "text": [
      "For Addition press 1\n",
      "For Subtraction press 2\n",
      "For Multiplication press 3\n",
      "For Division press 4\n"
     ]
    },
    {
     "name": "stdin",
     "output_type": "stream",
     "text": [
      "Enter number between 1 to 4 14\n"
     ]
    },
    {
     "name": "stdout",
     "output_type": "stream",
     "text": [
      "No operation\n"
     ]
    }
   ],
   "source": [
    " from time import sleep\n",
    " print('For Addition press 1')\n",
    " sleep(1)\n",
    " print('For Subtraction press 2')\n",
    " sleep(1)\n",
    " print('For Multiplication press 3')\n",
    " sleep(1)\n",
    " print('For Division press 4')\n",
    " sleep(1)\n",
    " operation=input('Enter number between 1 to 4')\n",
    "if operation=='1':\n",
    "    print('you choose addition operation')\n",
    "    num1=eval(input('enter number:'))\n",
    "    num2=eval(input('enter number:'))\n",
    "    add=num1+num2\n",
    "    print(f'Additon of number is: {add}')\n",
    "elif operation=='2':\n",
    "    print('you choose subtraction operation')\n",
    "    num1=eval(input('enter number:'))\n",
    "    num2=eval(input('enter number:'))\n",
    "    sub=num1-num2\n",
    "    print(f'Subtraction of number is: {sub}')\n",
    "elif operation=='3':\n",
    "    print('you choose mul operation')\n",
    "    num1=eval(input('enter number:'))\n",
    "    num2=eval(input('enter number:'))\n",
    "    mul=num1*num2\n",
    "    print(f'Mutiplication of number is: {mul}')\n",
    "elif operation=='4':\n",
    "    print('you choose divi operation')\n",
    "    num1=eval(input('enter number:'))\n",
    "    num2=eval(input('enter number:'))\n",
    "    div=num1/num2\n",
    "    print(f'Divsion of number is: {div}')\n",
    "else:\n",
    "    print('No operation')"
   ]
  },
  {
   "cell_type": "code",
   "execution_count": null,
   "id": "48cabb60-fa85-472e-926f-7c792f307280",
   "metadata": {},
   "outputs": [],
   "source": [
    " # nested if else\n",
    " # try-except\n",
    " # functons# loops \n",
    "===================="
   ]
  },
  {
   "cell_type": "markdown",
   "id": "38201bcb-653f-4553-b5be-20c4c94e4c68",
   "metadata": {},
   "source": [
    "**nested if else**"
   ]
  },
  {
   "cell_type": "code",
   "execution_count": null,
   "id": "22d3521f-fcf7-4944-a22e-9e8b223c61a1",
   "metadata": {},
   "outputs": [],
   "source": [
    "# if-elif-else\n",
    "# wap ask the user enter a number\n",
    "# if number greater than zero then print postive numbe\n",
    " # if number less than zero then print negative numbr\n",
    " # otherwise print it is a zero\n",
    "num=eval(input(\"enter the number:\"))\n",
    "if num>0:\n",
    "    print(f\"the given {num} is positive\")\n",
    "elif num<0:\n",
    "    print(f\"the given {num} is negative\")\n",
    "else:\n",
    "    print(\"it is a zero\") a zero\")"
   ]
  },
  {
   "cell_type": "code",
   "execution_count": 1,
   "id": "f7d4aa1d-dc6b-4862-b202-1f4a987c4186",
   "metadata": {},
   "outputs": [
    {
     "name": "stdin",
     "output_type": "stream",
     "text": [
      "enter the number: 0\n"
     ]
    },
    {
     "name": "stdout",
     "output_type": "stream",
     "text": [
      "it is a zero\n"
     ]
    }
   ],
   "source": [
    "num=eval(input(\"enter the number:\"))\n",
    "if num>0:\n",
    "    print(f\"the given {num} is positive\")\n",
    "elif num<0:\n",
    "    print(f\"the given {num} is negative\")\n",
    "else:\n",
    "    print(\"it is a zero\")"
   ]
  },
  {
   "cell_type": "code",
   "execution_count": null,
   "id": "715d42e1-4946-4e00-a7b0-b0a74f33f439",
   "metadata": {},
   "outputs": [],
   "source": [
    "# if-elif-else\n",
    "# wap ask the user enter a number\n",
    "# if number greater than or equal zero \n",
    "#      if num equal to zero then print zero\n",
    "#      otherwise print it is a postive\n",
    "# \n",
    "# otherwise print it is a negative\n",
    "\n",
    "num=eval(input(\"enter the number:\"))\n",
    "if num>=0:\n",
    "    if num==0:\n",
    "        print(\"it is a zero\")\n",
    "    else:\n",
    "        print(\"it is a positive\")\n",
    "else:\n",
    "    print(\"it is a negative number\")      "
   ]
  },
  {
   "cell_type": "code",
   "execution_count": 1,
   "id": "98ee4e39-cd6d-4e1f-9d86-eb061f7d5061",
   "metadata": {},
   "outputs": [
    {
     "name": "stdin",
     "output_type": "stream",
     "text": [
      "Enter the number:  0\n"
     ]
    },
    {
     "name": "stdout",
     "output_type": "stream",
     "text": [
      "It is a zero\n"
     ]
    }
   ],
   "source": [
    "# Ask the user to enter a number\n",
    "num = eval(input(\"Enter the number: \"))\n",
    "\n",
    "if num >= 0:\n",
    "    if num == 0:\n",
    "        print(\"It is a zero\")\n",
    "    else:\n",
    "        print(\"It is a positive\")\n",
    "else:\n",
    "    print(\"It is a negative number\")\n"
   ]
  },
  {
   "cell_type": "code",
   "execution_count": null,
   "id": "ae27bf69-0464-4769-862a-4cb1e6fd6615",
   "metadata": {},
   "outputs": [],
   "source": [
    "num=eval(input(\"enter the number:\"))\n",
    " if num>0:\n",
    "    print(f\"the given {num} is postive\")\n",
    " elif num<0:\n",
    "    print(f\"the given {num} is negative\")\n",
    " else:\n",
    "    print(\"it is a zero\")\n",
    " ################################################################\n",
    " num=eval(input(\"enter the number:\"))\n",
    " if num>=0:\n",
    "    if num==0:\n",
    "        print(\"it is a zero\")\n",
    "    else:\n",
    "        print('it is a postive')\n",
    " else:\n",
    "    print(\"it is a negative number\")"
   ]
  },
  {
   "cell_type": "code",
   "execution_count": null,
   "id": "457e8f1d-6331-43d7-b16f-1237bd6a7b11",
   "metadata": {},
   "outputs": [],
   "source": [
    "# wap ask the user enter a gender\n",
    " # if gender equal to male\n",
    " #    ask the user enter age\n",
    " #    if age greatet than or eqaul to 60 print SC\n",
    "#    if age between 30 to 60  print middale aged man\n",
    " #    if age between 10 to 30  print young man\n",
    " #    otherwise print a boy\n",
    " # if gender equal to female\n",
    " #    ask the user enter age\n",
    " #    if age greatet than or eqaul to 60 print SC\n",
    " #    if age between 30 to 60  print middale aged woman\n",
    " #    if age between 10 to 30  print young girl\n",
    " #    otherwise print a girl\n",
    " # otherwise enter a valid gender"
   ]
  },
  {
   "cell_type": "code",
   "execution_count": 15,
   "id": "23535fbf-7f3f-418e-b518-34eacdc61111",
   "metadata": {},
   "outputs": [
    {
     "name": "stdin",
     "output_type": "stream",
     "text": [
      "enter the gender: 65\n"
     ]
    },
    {
     "name": "stdout",
     "output_type": "stream",
     "text": [
      "enter a valid gender\n"
     ]
    }
   ],
   "source": [
    "gender=input('enter the gender:')\n",
    "if gender=='male':\n",
    "    age=eval(input(\"enter the age:\"))\n",
    "    if age>=60:\n",
    "        print(\"sc\")\n",
    "    elif age>=30:\n",
    "        print(\"mam\")\n",
    "    elif age>=10:\n",
    "        print(\"yb\")\n",
    "    else:\n",
    "        print(\"boy\")\n",
    "elif gender=='female':\n",
    "    age=aval(input(\"enter the age:\"))\n",
    "    if age>=60:\n",
    "        print('sc')\n",
    "    elif age>=30:\n",
    "        print(\"maw\")\n",
    "    elif age>=10:\n",
    "        print(\"yg\")\n",
    "    else:\n",
    "        print(\"girl\")\n",
    "else:\n",
    "    print(\"enter a valid gender\")"
   ]
  },
  {
   "cell_type": "code",
   "execution_count": 11,
   "id": "3c33dfbd-7329-44f3-9d0c-ce7f6bb0c8a6",
   "metadata": {},
   "outputs": [
    {
     "name": "stdout",
     "output_type": "stream",
     "text": [
      "hello\n",
      "good morning\n",
      "hello\n",
      "good morning\n"
     ]
    }
   ],
   "source": [
    "def greet():\n",
    "    print('hello')\n",
    "    print('good morning')\n",
    "greet() #if you need call multiple times \n",
    "\n",
    "def greet():\n",
    "    print('hello')\n",
    "    print('good morning')\n",
    "greet() #if you need call multiple times "
   ]
  },
  {
   "cell_type": "code",
   "execution_count": 17,
   "id": "03c7c19f-a6cb-4cff-bcf5-cb43ce7dd0ad",
   "metadata": {},
   "outputs": [
    {
     "name": "stdin",
     "output_type": "stream",
     "text": [
      "enter the gender: male\n",
      "enter the age: 65\n"
     ]
    },
    {
     "name": "stdout",
     "output_type": "stream",
     "text": [
      "sc\n"
     ]
    }
   ],
   "source": [
    "gender=input('enter the gender:')\n",
    "if gender=='male':\n",
    "    age=eval(input(\"enter the age:\"))\n",
    "    if age>=60:print(\"sc\")\n",
    "    elif age>=30:print(\"mam\")\n",
    "    elif age>=10:print(yb)\n",
    "    else:print(\"boy\")\n",
    "elif gender=='female':\n",
    "    age=eval(input(\"enter the age:\"))\n",
    "    if age>=60:print(\"sc\")\n",
    "    elif age>=30:print(\"maw\")\n",
    "    elif age>=10:print(\"yg\")\n",
    "    else:print(\"girl\")\n",
    "else:print(\"enter a valid gender\")"
   ]
  },
  {
   "cell_type": "code",
   "execution_count": null,
   "id": "7c20d30b-ac9d-4988-ad55-afd2b590a649",
   "metadata": {},
   "outputs": [],
   "source": [
    "aval means == evaluate -- math family"
   ]
  },
  {
   "cell_type": "code",
   "execution_count": 62,
   "id": "367cdaab-8363-4f43-8ca5-41e6334a7312",
   "metadata": {},
   "outputs": [
    {
     "name": "stdin",
     "output_type": "stream",
     "text": [
      "Enter the gender:  female\n",
      "Enter the age:  56\n"
     ]
    },
    {
     "name": "stdout",
     "output_type": "stream",
     "text": [
      "Middle-aged woman\n"
     ]
    }
   ],
   "source": [
    "# Prompt the user to enter their gender\n",
    "gender = input(\"Enter the gender: \").strip().lower()  # Normalize input by removing spaces and converting to lowercase\n",
    "\n",
    "# Check if the gender is male\n",
    "if gender == 'male':\n",
    "    # Prompt the user to enter their age\n",
    "    age = int(input(\"Enter the age: \"))  # Convert the input to an integer\n",
    "    # Determine age category for males\n",
    "    if age >= 60:\n",
    "        print(\"Senior citizen\")  # Male senior citizen\n",
    "    elif age >= 30:\n",
    "        print(\"Middle-aged man\")  # Male middle-aged\n",
    "    elif age >= 10:\n",
    "        print(\"Young man\")  # Male young adult/teenager\n",
    "    else:\n",
    "        print(\"Boy\")  # Male child\n",
    "# Check if the gender is female\n",
    "elif gender == 'female':\n",
    "    # Prompt the user to enter their age\n",
    "    age = int(input(\"Enter the age: \"))  # Convert the input to an integer\n",
    "    # Determine age category for females\n",
    "    if age >= 60:\n",
    "        print(\"Senior citizen\")  # Female senior citizen\n",
    "    elif age >= 30:\n",
    "        print(\"Middle-aged woman\")  # Female middle-aged\n",
    "    elif age >= 10:\n",
    "        print(\"Young girl\")  # Female young adult/teenager\n",
    "    else:\n",
    "        print(\"Girl\")  # Female child\n",
    "# Handle invalid gender input\n",
    "else:\n",
    "    print(\"Enter a valid gender\")  # Prompt for valid gender if input is not 'male' or 'female'\n"
   ]
  },
  {
   "cell_type": "markdown",
   "id": "df76f0b6-bc76-4791-8839-7b28eb1299b9",
   "metadata": {},
   "source": [
    "**Key Notes:**\n",
    "**Input Normalization:**\n",
    "- .strip().lower() ensures that inputs like \" MALE \" or \"Female\" are handled correctly.\n",
    "\n",
    "  \n",
    "**Age Handling:**\n",
    "- int() is used to safely convert age input to an integer.\n",
    "\n",
    "  \n",
    "**Comments:**\n",
    "- Added at key points to explain the purpose of each block and decision."
   ]
  },
  {
   "cell_type": "code",
   "execution_count": 74,
   "id": "dfa940a1-d6c7-4d16-926a-89f610a649e8",
   "metadata": {},
   "outputs": [
    {
     "name": "stdin",
     "output_type": "stream",
     "text": [
      "enter a num: 55\n"
     ]
    },
    {
     "name": "stdout",
     "output_type": "stream",
     "text": [
      "B\n"
     ]
    }
   ],
   "source": [
    "num=eval(input('enter a num:'))\n",
    "if num>=60:\n",
    "    print('A')\n",
    "elif num>=45:\n",
    "    print('B')"
   ]
  },
  {
   "cell_type": "code",
   "execution_count": 76,
   "id": "80f2ac81-159a-4fa9-b4dd-557e79f4a6b9",
   "metadata": {},
   "outputs": [
    {
     "name": "stdin",
     "output_type": "stream",
     "text": [
      "enter a num: 60\n"
     ]
    },
    {
     "name": "stdout",
     "output_type": "stream",
     "text": [
      "A\n",
      "B\n"
     ]
    }
   ],
   "source": [
    "num=eval(input('enter a num:'))\n",
    "if num>=60:\n",
    "    print('A')\n",
    "if num>=45:\n",
    "    print('B')"
   ]
  },
  {
   "cell_type": "code",
   "execution_count": 84,
   "id": "686b261c-8b27-497b-94d6-0b82db32fcb2",
   "metadata": {},
   "outputs": [
    {
     "name": "stdin",
     "output_type": "stream",
     "text": [
      "enter your gender: male\n",
      "enter the age 45\n"
     ]
    },
    {
     "name": "stdout",
     "output_type": "stream",
     "text": [
      "middle aged man\n"
     ]
    }
   ],
   "source": [
    "gender=input(\"enter your gender:\")\n",
    "if gender=='male':\n",
    "    age=eval(input(\"enter the age\"))\n",
    "    if age>=60:print('SC')\n",
    "    elif age>=30:print('middle aged man')\n",
    "    elif age>=10:print('young man')\n",
    "    else:print('Boy')\n",
    "elif gender=='female':\n",
    "    age=eval(input(\"enter age\"))\n",
    "    if age>=60:print('SC')\n",
    "    elif age>30:print('middle aged Woman')\n",
    "    elif age>10:print('young girl')         \n",
    "    else:print('girl')\n",
    "else:\n",
    "    print('enter valid gender')"
   ]
  },
  {
   "cell_type": "code",
   "execution_count": 89,
   "id": "f6c5fe93-4a59-41cc-b90a-b3d3f5137d29",
   "metadata": {},
   "outputs": [
    {
     "name": "stdin",
     "output_type": "stream",
     "text": [
      "enter the number1 75\n",
      "enter the number2 89\n",
      "enter the number3 100\n"
     ]
    },
    {
     "name": "stdout",
     "output_type": "stream",
     "text": [
      "100 is greater\n"
     ]
    }
   ],
   "source": [
    "# wap ask the user take three numbers\n",
    " # find the biggest number\n",
    "num1 = eval(input(\"enter the number1\"))\n",
    "num2 = eval(input(\"enter the number2\"))\n",
    "num3 = eval(input(\"enter the number3\"))\n",
    "if num1>num2:  \n",
    "    if num1>num3: \n",
    "        print(f'{num1} is greater')\n",
    "    else:\n",
    "        print(f\"{num3} is greater\")\n",
    "elif num2>num3:\n",
    "    print(f\"{num2}\")\n",
    "else:\n",
    "    print(f\"{num3} is greater\")"
   ]
  },
  {
   "cell_type": "code",
   "execution_count": 95,
   "id": "5ff9919e-164a-4f77-baad-1cf6b79bc2f6",
   "metadata": {},
   "outputs": [
    {
     "name": "stdin",
     "output_type": "stream",
     "text": [
      "enter the number1 78\n",
      "enter the number2 54\n",
      "enter the number3 98\n"
     ]
    },
    {
     "name": "stdout",
     "output_type": "stream",
     "text": [
      "98\n"
     ]
    }
   ],
   "source": [
    "num1 = eval(input(\"enter the number1\"))\n",
    "num2 = eval(input(\"enter the number2\"))\n",
    "num3 = eval(input(\"enter the number3\"))\n",
    "if num1>num2 and num1>num3:\n",
    "    print(f'{num1} is greater')\n",
    "elif num2>num3:\n",
    "    print(f\"{num2}\")\n",
    "else:\n",
    "    print(f\"{num3}\")"
   ]
  },
  {
   "cell_type": "code",
   "execution_count": 97,
   "id": "51382ad4-6b61-4834-a80e-59e648f0663c",
   "metadata": {},
   "outputs": [
    {
     "name": "stdin",
     "output_type": "stream",
     "text": [
      "Enter 1st Number:  98\n",
      "Enter 2nd Number:  100\n",
      "Enter 3rd Number:  38\n"
     ]
    },
    {
     "name": "stdout",
     "output_type": "stream",
     "text": [
      "Greatest Number is 100\n"
     ]
    }
   ],
   "source": [
    " a = int(input(\"Enter 1st Number: \"))\n",
    " b = int(input(\"Enter 2nd Number: \"))\n",
    " c = int(input(\"Enter 3rd Number: \"))\n",
    "if (a > b):\n",
    "    if(a > c):\n",
    "        print(f\"Greatest Number is {a}\")\n",
    "    else:\n",
    "        print(f\"Greatest Number is {c}\")\n",
    "else:\n",
    "    if(b > c):\n",
    "        print(f\"Greatest Number is {b}\")\n",
    "    else:\n",
    "        print(f\"Greatest Number is {c}\")"
   ]
  },
  {
   "cell_type": "code",
   "execution_count": 99,
   "id": "69e2b841-1cf6-4898-84aa-0973a3093bd7",
   "metadata": {},
   "outputs": [
    {
     "name": "stdin",
     "output_type": "stream",
     "text": [
      "enter the number1 78\n",
      "enter the number2 89\n",
      "enter the number3 98\n"
     ]
    },
    {
     "name": "stdout",
     "output_type": "stream",
     "text": [
      "89 is greater\n",
      "98\n"
     ]
    }
   ],
   "source": [
    "# Two type tricks\n",
    "\n",
    "num1 = eval(input(\"enter the number1\"))\n",
    "num2 = eval(input(\"enter the number2\"))\n",
    "num3 = eval(input(\"enter the number3\"))\n",
    "if num1>num2:  # 50>45\n",
    "    if num1>num3:# 50>75\n",
    "        print(f'{num1} is greater')\n",
    "    else:\n",
    "        print(f\"{num3} is greater\")       \n",
    "else:\n",
    "    print(f\"{num2} is greater\")\n",
    " ###################################################\n",
    "if num1>num2 and num1>num3:\n",
    "    print(f'{num1} is greater')\n",
    "elif num2>num3:\n",
    "    print(f\"{num2}\")\n",
    "else:\n",
    "    print(f\"{num3}\")"
   ]
  },
  {
   "cell_type": "code",
   "execution_count": 101,
   "id": "eb378819-2d52-45d9-9d78-8b9ac46800f2",
   "metadata": {},
   "outputs": [
    {
     "name": "stdin",
     "output_type": "stream",
     "text": [
      "enter a number: 100\n",
      "enter a number: 205\n",
      "enter a number: 300\n"
     ]
    },
    {
     "name": "stdout",
     "output_type": "stream",
     "text": [
      "300 is greater\n"
     ]
    }
   ],
   "source": [
    "num1=eval(input('enter a number:'))\n",
    "num2=eval(input('enter a number:'))\n",
    "num3=eval(input('enter a number:'))\n",
    "if num1>num2: \n",
    "    if num1>num3:\n",
    "        print(f'{num1} is greater')\n",
    "    else:\n",
    "        print(f'{num3} is greater')\n",
    "elif num2>num3:\n",
    "    print(f'{num2} is greater')\n",
    "else:\n",
    "    print(f'{num3} is greater')"
   ]
  },
  {
   "cell_type": "code",
   "execution_count": 103,
   "id": "de67b6b8-6eee-4d69-89a2-de9cb6b65d8a",
   "metadata": {},
   "outputs": [
    {
     "name": "stdin",
     "output_type": "stream",
     "text": [
      "enter the number1: 105\n",
      "enter the number2: 302\n",
      "enter the number3: 450\n"
     ]
    },
    {
     "name": "stdout",
     "output_type": "stream",
     "text": [
      "450 is biggest\n"
     ]
    }
   ],
   "source": [
    "a=eval(input('enter the number1:'))\n",
    "b=eval(input('enter the number2:'))\n",
    "c=eval(input('enter the number3:'))\n",
    "if a>b and a>c:\n",
    "    print(f'{a} is biggest')\n",
    "elif b>c and b>a:\n",
    "    print(f'{b} is biggest')\n",
    "elif c>a and c>b:\n",
    "    print(f'{c} is biggest')"
   ]
  },
  {
   "cell_type": "code",
   "execution_count": 124,
   "id": "9eb774f4-77e2-4c74-8982-551989b3d3f2",
   "metadata": {},
   "outputs": [
    {
     "name": "stdin",
     "output_type": "stream",
     "text": [
      "Enter the number1:  100\n",
      "Enter the number2:  150\n",
      "Enter the number3:  175\n"
     ]
    },
    {
     "name": "stdout",
     "output_type": "stream",
     "text": [
      "175 is the greatest\n"
     ]
    }
   ],
   "source": [
    "# Prompt the user to input three numbers\n",
    "num1 = eval(input(\"Enter the number1: \"))\n",
    "num2 = eval(input(\"Enter the number2: \"))\n",
    "num3 = eval(input(\"Enter the number3: \"))\n",
    "\n",
    "# Compare the numbers to find the greatest\n",
    "if num1 > num2:  # Add colon\n",
    "    if num1 > num3:  # Add colon\n",
    "        print(f\"{num1} is the greatest\")  # Proper indentation\n",
    "    else:\n",
    "        print(f\"{num3} is the greatest\")  # Proper indentation\n",
    "elif num2 > num3:  # Add colon\n",
    "    print(f\"{num2} is the greatest\")  # Proper indentation\n",
    "else:\n",
    "    print(f\"{num3} is the greatest\")  # Proper indentation\n"
   ]
  },
  {
   "cell_type": "markdown",
   "id": "8cd6e68c-2f4f-4dc9-aa99-ee9302cd6b82",
   "metadata": {},
   "source": [
    "**Key Fixes**\n",
    "**Colons (:):**\n",
    "\n",
    "- Colons were missing after the if and elif statements.\n",
    "- Example: if (num1 > num2) becomes if (num1 > num2):.\n",
    "\n",
    "**Indentation:**\n",
    "\n",
    "- All blocks under if, elif, and else must be indented by 4 spaces for proper nesting.\n",
    "                                                                  \n",
    "**Spelling Errors:**\n",
    "\n",
    "- Fixed the spelling of \"graeter\" to \"greatest\".\n",
    "                                                                  \n",
    "**Safety Enhancement:**\n",
    "\n",
    "- Although eval() works here, it is better to use int() for numeric input to avoid security risks."
   ]
  },
  {
   "cell_type": "markdown",
   "id": "7067ceb0-aa9a-4ba0-91cd-cbcdbb66e26d",
   "metadata": {},
   "source": [
    "**Improved Version (Without eval())**"
   ]
  },
  {
   "cell_type": "code",
   "execution_count": 128,
   "id": "8833bed6-7db0-462e-9c6c-a16f6ccdade4",
   "metadata": {},
   "outputs": [
    {
     "name": "stdin",
     "output_type": "stream",
     "text": [
      "Enter the number1:  105\n",
      "Enter the number2:  201\n",
      "Enter the number3:  179\n"
     ]
    },
    {
     "name": "stdout",
     "output_type": "stream",
     "text": [
      "201 is the greatest\n"
     ]
    }
   ],
   "source": [
    "# Prompt the user to input three numbers\n",
    "num1 = int(input(\"Enter the number1: \"))\n",
    "num2 = int(input(\"Enter the number2: \"))\n",
    "num3 = int(input(\"Enter the number3: \"))\n",
    "\n",
    "# Compare the numbers to find the greatest\n",
    "if num1 > num2:\n",
    "    if num1 > num3:\n",
    "        print(f\"{num1} is the greatest\")\n",
    "    else:\n",
    "        print(f\"{num3} is the greatest\")\n",
    "elif num2 > num3:\n",
    "    print(f\"{num2} is the greatest\")\n",
    "else:\n",
    "    print(f\"{num3} is the greatest\")"
   ]
  },
  {
   "cell_type": "code",
   "execution_count": null,
   "id": "e7b247d5-0503-4ecb-87d0-9b28b588bd83",
   "metadata": {},
   "outputs": [],
   "source": []
  }
 ],
 "metadata": {
  "kernelspec": {
   "display_name": "Python 3 (ipykernel)",
   "language": "python",
   "name": "python3"
  },
  "language_info": {
   "codemirror_mode": {
    "name": "ipython",
    "version": 3
   },
   "file_extension": ".py",
   "mimetype": "text/x-python",
   "name": "python",
   "nbconvert_exporter": "python",
   "pygments_lexer": "ipython3",
   "version": "3.12.4"
  }
 },
 "nbformat": 4,
 "nbformat_minor": 5
}
