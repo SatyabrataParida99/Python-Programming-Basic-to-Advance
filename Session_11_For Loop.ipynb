{
 "cells": [
  {
   "cell_type": "markdown",
   "id": "cd1e9b35-8793-4812-9b84-b8d41cc2742d",
   "metadata": {},
   "source": [
    "**For Loops**\n",
    "\n",
    "- A for loop in Python is used to iterate over a sequence (such as a list, tuple, dictionary, set, or string) and execute a block of code multiple times.\n",
    "- iterating code\n",
    "- repeating code\n",
    "    - For Loops\n",
    "    - While loop"
   ]
  },
  {
   "cell_type": "code",
   "execution_count": 7,
   "id": "30108d0d-eb04-45da-a1d5-1bfe8b50926c",
   "metadata": {},
   "outputs": [
    {
     "name": "stdout",
     "output_type": "stream",
     "text": [
      "100.0\n"
     ]
    }
   ],
   "source": [
    "# we want to calculate a tax of an employee\n",
    "\n",
    "def tax_cal(income,tax):\n",
    "    tax_amount=income*tax/100\n",
    "    print(tax_amount)\n",
    "\n",
    "tax_cal(1000,10)"
   ]
  },
  {
   "cell_type": "code",
   "execution_count": 9,
   "id": "e2a34ab6-a8d1-43a3-ad7a-8f2eb7747429",
   "metadata": {},
   "outputs": [],
   "source": [
    "income=50000\n",
    "tax=10\n",
    "tax_amount=income*tax/100\n",
    "\n",
    "# not created a function === 3\n",
    "# how many employees = 500\n",
    "# 500*3 = 1500\n",
    "\n",
    "# 3 lines ===== function\n",
    "# function === 500"
   ]
  },
  {
   "cell_type": "markdown",
   "id": "9e66059b-dd4c-40a5-b43c-56ba0d89a25b",
   "metadata": {},
   "source": [
    "- initialization (initial point to start the loop)\n",
    "\n",
    "- increment/decrement\n",
    "\n",
    "- condition to stop the loop"
   ]
  },
  {
   "cell_type": "code",
   "execution_count": null,
   "id": "5e550d4c-77bc-4569-8bf0-88f009185ebe",
   "metadata": {},
   "outputs": [],
   "source": [
    "# for <variable> in range(<value>):\n",
    "    #<write your code here>"
   ]
  },
  {
   "cell_type": "code",
   "execution_count": 12,
   "id": "2c3d7521-d932-45f2-b52c-330c3a6e0828",
   "metadata": {},
   "outputs": [
    {
     "name": "stdout",
     "output_type": "stream",
     "text": [
      "0\n",
      "1\n",
      "2\n",
      "3\n"
     ]
    }
   ],
   "source": [
    "for i in range(4):\n",
    "    print(i)"
   ]
  },
  {
   "cell_type": "code",
   "execution_count": 14,
   "id": "b0d2632b-4839-4ac8-9614-465b891b8870",
   "metadata": {},
   "outputs": [
    {
     "name": "stdout",
     "output_type": "stream",
     "text": [
      "0\n",
      "1\n",
      "2\n",
      "3\n"
     ]
    }
   ],
   "source": [
    "print(0)\n",
    "print(1)\n",
    "print(2)\n",
    "\n",
    "print(i)"
   ]
  },
  {
   "cell_type": "markdown",
   "id": "0cbb755f-07ce-4631-9f74-69bd293e5da9",
   "metadata": {},
   "source": [
    "**case-1:range(stop)**\n",
    "\n",
    "- start value = 0\n",
    "\n",
    "- step size = +1\n",
    "\n",
    "- last=stop-1\n",
    "\n",
    "- range(3)\n",
    "\n",
    "   - start value=0\n",
    "     \n",
    "   - increment=1\n",
    " \n",
    "   - last= stop-1=3-1=2"
   ]
  },
  {
   "cell_type": "code",
   "execution_count": 18,
   "id": "b3ed10a5-4ec1-4170-b912-a35e0cb08aea",
   "metadata": {},
   "outputs": [
    {
     "name": "stdout",
     "output_type": "stream",
     "text": [
      "0\n",
      "1\n",
      "2\n",
      "3\n",
      "4\n"
     ]
    }
   ],
   "source": [
    "for i in range(5):\n",
    "    print(i)\n",
    "\n",
    "# variable can be anything\n",
    "# start=0 step=1 stop=5-1=4"
   ]
  },
  {
   "cell_type": "code",
   "execution_count": 20,
   "id": "13f1eada-edf9-480d-bb3e-9d3f7ce187a0",
   "metadata": {},
   "outputs": [
    {
     "name": "stdout",
     "output_type": "stream",
     "text": [
      "good evening\n",
      "good evening\n",
      "good evening\n",
      "good evening\n",
      "good evening\n"
     ]
    }
   ],
   "source": [
    "for i in range(5):\n",
    "    print('good evening')"
   ]
  },
  {
   "cell_type": "code",
   "execution_count": 30,
   "id": "707e7c35-279b-42a8-9962-85fb68b45a15",
   "metadata": {},
   "outputs": [
    {
     "name": "stdout",
     "output_type": "stream",
     "text": [
      "0 1 2 3\n",
      "4 "
     ]
    }
   ],
   "source": [
    "print(0,end=' ')\n",
    "print(1,end=' ')\n",
    "print(2,end=' ')\n",
    "print(3)\n",
    "\n",
    "print(i,end=' ')"
   ]
  },
  {
   "cell_type": "code",
   "execution_count": 32,
   "id": "d8b9b925-c232-4ee6-9b10-9abba522da40",
   "metadata": {},
   "outputs": [
    {
     "name": "stdout",
     "output_type": "stream",
     "text": [
      "0 1 2 3 4 "
     ]
    }
   ],
   "source": [
    "for i in range(5):\n",
    "    print(i,end=' ')"
   ]
  },
  {
   "cell_type": "markdown",
   "id": "2efc354d-0592-4a13-9027-cc29611ad8e1",
   "metadata": {},
   "source": [
    "**Case-2: range (start,stop)**\n",
    "\n",
    "- start value = start\n",
    "\n",
    "- step = 1\n",
    "\n",
    "- last = stop-1\n",
    "\n",
    "- range(2,7)\n",
    "\n",
    "   - start=2\n",
    "\n",
    "   - step=1\n",
    "\n",
    "   - last=7-1=6"
   ]
  },
  {
   "cell_type": "code",
   "execution_count": 36,
   "id": "a4159209-d761-47ea-9b66-1e1a8716027b",
   "metadata": {},
   "outputs": [
    {
     "name": "stdout",
     "output_type": "stream",
     "text": [
      "2 3 4 5 6 "
     ]
    }
   ],
   "source": [
    "for i in range(2,7):\n",
    "    print(i,end=' ')"
   ]
  },
  {
   "cell_type": "code",
   "execution_count": 38,
   "id": "4d2d4e54-b7c9-4d60-845e-562e4214ad64",
   "metadata": {},
   "outputs": [
    {
     "name": "stdout",
     "output_type": "stream",
     "text": [
      "The square of 1 is 1\n",
      "The square of 2 is 4\n",
      "The square of 3 is 9\n",
      "The square of 4 is 16\n",
      "The square of 5 is 25\n"
     ]
    }
   ],
   "source": [
    "# wap ask the to print square of the first 5 numbers\n",
    "for i in range(1,6):\n",
    "    print(f'The square of {i} is {i*i}')"
   ]
  },
  {
   "cell_type": "code",
   "execution_count": 40,
   "id": "ca7ad9a1-8843-43ae-9944-6d02941356e9",
   "metadata": {},
   "outputs": [
    {
     "name": "stdin",
     "output_type": "stream",
     "text": [
      "enter the num: 2\n"
     ]
    },
    {
     "name": "stdout",
     "output_type": "stream",
     "text": [
      "The square of 2 is 4\n"
     ]
    },
    {
     "name": "stdin",
     "output_type": "stream",
     "text": [
      "enter the num: 3\n"
     ]
    },
    {
     "name": "stdout",
     "output_type": "stream",
     "text": [
      "The square of 3 is 9\n"
     ]
    },
    {
     "name": "stdin",
     "output_type": "stream",
     "text": [
      "enter the num: 6\n"
     ]
    },
    {
     "name": "stdout",
     "output_type": "stream",
     "text": [
      "The square of 6 is 36\n"
     ]
    },
    {
     "name": "stdin",
     "output_type": "stream",
     "text": [
      "enter the num: 7\n"
     ]
    },
    {
     "name": "stdout",
     "output_type": "stream",
     "text": [
      "The square of 7 is 49\n"
     ]
    },
    {
     "name": "stdin",
     "output_type": "stream",
     "text": [
      "enter the num: 9\n"
     ]
    },
    {
     "name": "stdout",
     "output_type": "stream",
     "text": [
      "The square of 9 is 81\n"
     ]
    }
   ],
   "source": [
    "# wap ask the user enter a number and get the square of the number\n",
    "# the user should enter 5 values one by one\n",
    "# the prompt should ask 5 times\n",
    "for i in range(1,6):\n",
    "    num=eval(input(\"enter the num:\"))\n",
    "    print(f\"The square of {num} is {num*num}\")"
   ]
  },
  {
   "cell_type": "code",
   "execution_count": 44,
   "id": "3108a0af-6ace-41ea-81aa-5975f003f1eb",
   "metadata": {},
   "outputs": [
    {
     "name": "stdout",
     "output_type": "stream",
     "text": [
      "The square of 49 is 2401\n",
      "The square of 48 is 2304\n",
      "The square of 26 is 676\n"
     ]
    }
   ],
   "source": [
    "import random\n",
    "for i in range(1,4):\n",
    "    num=random.randint(1,100)\n",
    "    print(f\"The square of {num} is {num*num}\")"
   ]
  },
  {
   "cell_type": "code",
   "execution_count": null,
   "id": "936f8f8e-5a78-4672-97aa-16341b36fe5b",
   "metadata": {},
   "outputs": [],
   "source": [
    "TypeError: 'int' object is not callable\n",
    "python jupyter notebook\n",
    "restart it ==== new jupyter notebook"
   ]
  },
  {
   "cell_type": "code",
   "execution_count": 48,
   "id": "5a7ddd76-830c-4943-8b40-f8e68e9e28ff",
   "metadata": {},
   "outputs": [
    {
     "name": "stdout",
     "output_type": "stream",
     "text": [
      "the square of 1 is 1\n",
      "the square of 2 is 4\n",
      "the square of 3 is 9\n",
      "the square of 4 is 16\n",
      "the square of 5 is 25\n"
     ]
    },
    {
     "name": "stdin",
     "output_type": "stream",
     "text": [
      "enter the num: 54\n"
     ]
    },
    {
     "name": "stdout",
     "output_type": "stream",
     "text": [
      "the square of 54 is 2916\n"
     ]
    },
    {
     "name": "stdin",
     "output_type": "stream",
     "text": [
      "enter the num: 65\n"
     ]
    },
    {
     "name": "stdout",
     "output_type": "stream",
     "text": [
      "the square of 65 is 4225\n"
     ]
    },
    {
     "name": "stdin",
     "output_type": "stream",
     "text": [
      "enter the num: 14\n"
     ]
    },
    {
     "name": "stdout",
     "output_type": "stream",
     "text": [
      "the square of 14 is 196\n"
     ]
    },
    {
     "name": "stdin",
     "output_type": "stream",
     "text": [
      "enter the num: 23\n"
     ]
    },
    {
     "name": "stdout",
     "output_type": "stream",
     "text": [
      "the square of 23 is 529\n"
     ]
    },
    {
     "name": "stdin",
     "output_type": "stream",
     "text": [
      "enter the num: 14\n"
     ]
    },
    {
     "name": "stdout",
     "output_type": "stream",
     "text": [
      "the square of 14 is 196\n",
      "the square of 92 is 8464\n",
      "the square of 32 is 1024\n",
      "the square of 76 is 5776\n"
     ]
    }
   ],
   "source": [
    " for i in range(1,6):\n",
    "    print(f'the square of {i} is {i*i}')\n",
    " ################################################\n",
    " for i in range(1,6):\n",
    "    num=eval(input(\"enter the num:\"))\n",
    "    print(f\"the s56\n",
    "    quare of {num} is {num*num}\")\n",
    " #####################################################\n",
    " import random\n",
    " for i in range(1,4):\n",
    "    num=random.randint(1,100)\n",
    "    print(f\"the square of {num} is {num*num}\")"
   ]
  },
  {
   "cell_type": "markdown",
   "id": "a79878e2-d040-4042-8496-8ab86324f924",
   "metadata": {},
   "source": [
    "**Case-3: range(start,stop,step)**\n",
    "\n",
    "- start value = start\n",
    "- step = positive means + sign\n",
    "    - gap = positive step size\n",
    "    - last = stop-1\n",
    "- step = negative means - sign\n",
    "     - gap = negative step size\n",
    "     - last = stop+1"
   ]
  },
  {
   "cell_type": "code",
   "execution_count": null,
   "id": "c7c08bd9-ce7d-4f92-9d96-c20b18596bbc",
   "metadata": {},
   "outputs": [],
   "source": [
    "range(2,20,2)\n",
    "range(start,stop,step)\n",
    "\n",
    "start = 2\n",
    "step =2 positive direction\n",
    "last = 20 - 1 = 19\n",
    "\n",
    "2 ===================with gap2======================19\n",
    "2 4 6 8 10 12 14 16 18 "
   ]
  },
  {
   "cell_type": "code",
   "execution_count": 55,
   "id": "250ee2e7-dbe1-4f97-ab62-dee0c89616df",
   "metadata": {},
   "outputs": [
    {
     "name": "stdout",
     "output_type": "stream",
     "text": [
      "2 4 6 8 10 12 14 16 18 "
     ]
    }
   ],
   "source": [
    "for i in range(2,20,2):\n",
    "    print(i,end=' ')"
   ]
  },
  {
   "cell_type": "code",
   "execution_count": null,
   "id": "d7203b62-3f7a-4dac-a2ab-69a590e4eed1",
   "metadata": {},
   "outputs": [],
   "source": [
    "range(-2,-20,-2)\n",
    "range(start,stop,step)\n",
    "start=-2\n",
    "step=-2  negative direction\n",
    "\n",
    "last= stop+1= -20+1=-19\n",
    "\n",
    "-2  -4  -6  -8  -10  -12  -14  -16  -18"
   ]
  },
  {
   "cell_type": "code",
   "execution_count": 57,
   "id": "a43a0512-3cae-444b-a469-9bffa604ba5e",
   "metadata": {},
   "outputs": [
    {
     "name": "stdout",
     "output_type": "stream",
     "text": [
      "-2 -4 -6 -8 -10 -12 -14 -16 -18 "
     ]
    }
   ],
   "source": [
    "for i in range(-2,-20,-2):\n",
    "    print(i,end=' ')"
   ]
  },
  {
   "cell_type": "raw",
   "id": "e8815758-aa8a-42e7-a2ab-4b386dfea9bf",
   "metadata": {},
   "source": [
    "range(2,-20,2)\n",
    "range(start,stop,step)\n",
    "start=2\n",
    "step=2 === positive\n",
    "last = stop-1=-20-1=-21"
   ]
  },
  {
   "cell_type": "code",
   "execution_count": null,
   "id": "1096bd9d-385f-4d69-bbd6-b14b6c0498ce",
   "metadata": {},
   "outputs": [],
   "source": [
    "for i in range(2,-20,2):\n",
    "        print(i)\n",
    "# Not possible \n",
    "# step positive direction\n",
    "# last value is negative direction"
   ]
  },
  {
   "cell_type": "code",
   "execution_count": 59,
   "id": "ef0394dd-0652-4cdd-8c16-d33dae452425",
   "metadata": {},
   "outputs": [],
   "source": [
    "for i in range(-2,20,-2):\n",
    "    print(i)"
   ]
  },
  {
   "cell_type": "code",
   "execution_count": null,
   "id": "e8bb77ed-dc51-437a-ba1a-0826c97fadb6",
   "metadata": {},
   "outputs": [],
   "source": [
    "range(3,15,3) # p\n",
    "range(3,15,-3) # np\n",
    "range(3,-15,3) # np\n",
    "range(-3,15,3) # p\n",
    "range(3,-15,-3) # p\n",
    "range(-3,-15,3) # np\n",
    "range(-3,15,-3) # np\n",
    "range(-3,-15,-3) #p\n",
    "range(15,3,3) # np\n",
    "range(15,3,-3) # p\n",
    "range(15,-3,3) # np\n",
    "range(15,-3,-3) # p\n",
    "range(-15,3,3) # p\n",
    "range(-15,3,-3) # np"
   ]
  },
  {
   "cell_type": "code",
   "execution_count": null,
   "id": "280f3ea9-d053-44d1-b378-b0f875fa242c",
   "metadata": {},
   "outputs": [],
   "source": [
    "range(-3,15,-3) #np\n",
    "range(-3,-15,-3) #p"
   ]
  },
  {
   "cell_type": "code",
   "execution_count": null,
   "id": "c280bf69-1805-41b1-a901-da54236265b7",
   "metadata": {},
   "outputs": [],
   "source": [
    "# wap ask the user enter 5 numbers\n",
    "# print it is a even number or odd\n",
    "# loop should run 5 times\n",
    "# code should ask 5 times enter the number\n",
    "\n",
    "# wap ask the user print 7th table\n",
    "# o/p\n",
    "#  7x1=7\n",
    "#  7x2=14\n",
    "\n",
    "# WAP ask the user enter the number and find the divisors of the number\n",
    "# 75 ====> 1,3,5,15,75 "
   ]
  },
  {
   "cell_type": "code",
   "execution_count": 1,
   "id": "6c70d82f-077b-4dd6-8d3a-22a71bd3d3a9",
   "metadata": {},
   "outputs": [
    {
     "name": "stdin",
     "output_type": "stream",
     "text": [
      "enter the number: 20\n"
     ]
    },
    {
     "name": "stdout",
     "output_type": "stream",
     "text": [
      "the 20 is an even\n"
     ]
    },
    {
     "name": "stdin",
     "output_type": "stream",
     "text": [
      "enter the number: 4\n"
     ]
    },
    {
     "name": "stdout",
     "output_type": "stream",
     "text": [
      "the 4 is an even\n"
     ]
    },
    {
     "name": "stdin",
     "output_type": "stream",
     "text": [
      "enter the number: 3\n"
     ]
    },
    {
     "name": "stdout",
     "output_type": "stream",
     "text": [
      "the 3 is an odd\n"
     ]
    },
    {
     "name": "stdin",
     "output_type": "stream",
     "text": [
      "enter the number: 15\n"
     ]
    },
    {
     "name": "stdout",
     "output_type": "stream",
     "text": [
      "the 15 is an odd\n"
     ]
    },
    {
     "name": "stdin",
     "output_type": "stream",
     "text": [
      "enter the number: 20\n"
     ]
    },
    {
     "name": "stdout",
     "output_type": "stream",
     "text": [
      "the 20 is an even\n"
     ]
    }
   ],
   "source": [
    "for i in range(5):\n",
    "    num=eval(input(\"enter the number:\"))\n",
    "    if num%2==0:\n",
    "        print(f\"the {num} is an even\")\n",
    "    else:\n",
    "        print(f\"the {num} is an odd\")"
   ]
  },
  {
   "cell_type": "code",
   "execution_count": 3,
   "id": "e090c1c8-fa94-4b92-9515-5eba55015826",
   "metadata": {},
   "outputs": [
    {
     "name": "stdout",
     "output_type": "stream",
     "text": [
      "7x1=7\n",
      "7x2=14\n",
      "7x3=21\n",
      "7x4=28\n",
      "7x5=35\n",
      "7x6=42\n",
      "7x7=49\n",
      "7x8=56\n",
      "7x9=63\n",
      "7x10=70\n"
     ]
    }
   ],
   "source": [
    "# wap ask the user 7th table\n",
    "# 7x1=7\n",
    "# 7x2=14\n",
    "# 7x3=21\n",
    "for i in range(1,11):\n",
    "    print(f\"7x{i}={7*i}\")"
   ]
  },
  {
   "cell_type": "code",
   "execution_count": 7,
   "id": "1cbe03ab-0836-4507-8d1b-89a00ffd5e44",
   "metadata": {},
   "outputs": [
    {
     "name": "stdin",
     "output_type": "stream",
     "text": [
      "enter which divisor you want 20\n"
     ]
    },
    {
     "name": "stdout",
     "output_type": "stream",
     "text": [
      "1 is a divisor for 20\n",
      "2 is a divisor for 20\n",
      "4 is a divisor for 20\n",
      "5 is a divisor for 20\n",
      "10 is a divisor for 20\n",
      "20 is a divisor for 20\n"
     ]
    }
   ],
   "source": [
    " # when a number divisible by another number\n",
    " # if the reminder is zero \n",
    "# 10 \n",
    "# 10%1==0  1  \n",
    "# 10/2==0  2\n",
    " # 10/3\n",
    " # 10/4\n",
    " # 10/5==0 2\n",
    " # 10/6\n",
    " # 10/10== 10\n",
    "\n",
    "num=eval(input(\"enter which divisor you want\"))\n",
    "for i in range(1,num+1):\n",
    "    if num%i==0:\n",
    "        print(f\"{i} is a divisor for {num}\")"
   ]
  },
  {
   "cell_type": "code",
   "execution_count": 11,
   "id": "c793261f-6501-4917-a65b-f931367fd563",
   "metadata": {},
   "outputs": [
    {
     "name": "stdin",
     "output_type": "stream",
     "text": [
      "enter which divisor you want 65\n"
     ]
    },
    {
     "name": "stdout",
     "output_type": "stream",
     "text": [
      "1 is a divisor for 65\n",
      "5 is a divisor for 65\n",
      "13 is a divisor for 65\n",
      "65 is a divisor for 65\n"
     ]
    }
   ],
   "source": [
    "def divisors():\n",
    "    num=eval(input(\"enter which divisor you want\"))\n",
    "    for i in range(1,num+1):\n",
    "        if num%i==0:\n",
    "            print(f\"{i} is a divisor for {num}\")\n",
    "\n",
    "divisors()"
   ]
  },
  {
   "cell_type": "code",
   "execution_count": 23,
   "id": "49765289-d543-4ab6-8e2f-ddda0b59dd2d",
   "metadata": {},
   "outputs": [
    {
     "name": "stdout",
     "output_type": "stream",
     "text": [
      "1 is a divisor for 90\n",
      "2 is a divisor for 90\n",
      "3 is a divisor for 90\n",
      "5 is a divisor for 90\n",
      "6 is a divisor for 90\n",
      "9 is a divisor for 90\n",
      "10 is a divisor for 90\n",
      "15 is a divisor for 90\n",
      "18 is a divisor for 90\n",
      "30 is a divisor for 90\n",
      "45 is a divisor for 90\n",
      "90 is a divisor for 90\n"
     ]
    }
   ],
   "source": [
    "def divisors1(num):\n",
    "    for i in range(1,num+1):\n",
    "        if num%i==0:\n",
    "            print(f\"{i} is a divisor for {num}\")\n",
    "\n",
    "divisors1(90)"
   ]
  },
  {
   "cell_type": "code",
   "execution_count": 27,
   "id": "afc81622-f5c0-4270-904f-f4b749343bc7",
   "metadata": {},
   "outputs": [
    {
     "name": "stdout",
     "output_type": "stream",
     "text": [
      "1 is a divisor for 99\n",
      "3 is a divisor for 99\n",
      "9 is a divisor for 99\n",
      "11 is a divisor for 99\n",
      "33 is a divisor for 99\n",
      "99 is a divisor for 99\n"
     ]
    },
    {
     "data": {
      "text/plain": [
       "99"
      ]
     },
     "execution_count": 27,
     "metadata": {},
     "output_type": "execute_result"
    }
   ],
   "source": [
    "def divisors3(num):\n",
    "    for i in range(1,num+1):\n",
    "        if num%i==0:\n",
    "            print(f\"{i} is a divisor for {num}\")\n",
    "    return(i)\n",
    "\n",
    "div=divisors3(99)\n",
    "div"
   ]
  },
  {
   "cell_type": "code",
   "execution_count": 29,
   "id": "68edae83-6af3-4794-bc50-b42302691aea",
   "metadata": {},
   "outputs": [
    {
     "name": "stdout",
     "output_type": "stream",
     "text": [
      "0 1 2 3 4 "
     ]
    }
   ],
   "source": [
    "for i in range(5):\n",
    "    print(i,end=' ')"
   ]
  },
  {
   "cell_type": "code",
   "execution_count": 31,
   "id": "e5fa1386-46dc-4f97-bf5e-daf09dd7e51f",
   "metadata": {},
   "outputs": [
    {
     "data": {
      "text/plain": [
       "4"
      ]
     },
     "execution_count": 31,
     "metadata": {},
     "output_type": "execute_result"
    }
   ],
   "source": [
    "i\n",
    " # i variable will give always last value\n",
    " # do not print i outside the for loop"
   ]
  },
  {
   "cell_type": "markdown",
   "id": "c025a0ac-b89e-4de7-845e-071a44829ae2",
   "metadata": {},
   "source": [
    "**Summation wrapper**\n",
    "  \n",
    "- always intialize the summ=0 before the loop\n",
    "  \n",
    "- inside loop summ=summ+i\n",
    "\n",
    "- then print summ value outside the loop"
   ]
  },
  {
   "cell_type": "code",
   "execution_count": null,
   "id": "fed19bf9-0148-4545-aeb5-19db249210f0",
   "metadata": {},
   "outputs": [],
   "source": [
    "# wap ask the user print first 10 natural numbers\n",
    "# 1+2+3+4+5+6+7+8+9+10=55\n",
    "summ=0\n",
    "\n",
    "summ+i=summ\n",
    "0+1=1\n",
    "1+2=3\n",
    "3+3=6\n",
    "6+4=10\n",
    "10+5=15\n",
    "15+6=21\n",
    "21+7=28\n",
    "28+8=36\n",
    "36+9=45\n",
    "45+10=55"
   ]
  },
  {
   "cell_type": "code",
   "execution_count": 46,
   "id": "94dc1ae2-7210-404b-aadd-5aa8ec41bcb9",
   "metadata": {},
   "outputs": [
    {
     "name": "stdout",
     "output_type": "stream",
     "text": [
      "3081\n"
     ]
    }
   ],
   "source": [
    "summ=0\n",
    "for i in range(1,79):\n",
    "    summ=summ+i\n",
    "    #summ+=i\n",
    "print(summ)"
   ]
  },
  {
   "cell_type": "markdown",
   "id": "01a37bdc-703c-4f9c-ad02-1a6d0d70777c",
   "metadata": {},
   "source": [
    "**counter wrapper**\n",
    "- Before the loop count=0\n",
    "  \n",
    "- inside the loop count=count+1, but this line under successful operation\n",
    "\n",
    "- print the count outside the loop"
   ]
  },
  {
   "cell_type": "code",
   "execution_count": 55,
   "id": "c18967d7-110e-4dad-a939-f881efbfdfa4",
   "metadata": {},
   "outputs": [
    {
     "name": "stdin",
     "output_type": "stream",
     "text": [
      "enter which divisor you want 35\n"
     ]
    },
    {
     "name": "stdout",
     "output_type": "stream",
     "text": [
      "The number of divisors are: 4\n"
     ]
    }
   ],
   "source": [
    "# wap ask the user find the count of divisors\n",
    "count=0\n",
    "num=eval(input(\"enter which divisor you want\"))\n",
    "for i in range(1,num+1):\n",
    "    if num%i==0:\n",
    "        count=count+1 # 2\n",
    "        # print(f\"{i} is a divisor for {num}\")\n",
    "\n",
    "print(\"The number of divisors are:\",count)\n",
    "\n",
    "# for i in range(1,10+1)\n",
    "# step-1: i=1   count=0+1=1  if 10%1==0  True  print\n",
    "# step-2: i=2  count=1+1=2  if 10%2==0   True  print\n",
    "# step-3: i=3  count=2+1=3  if 10%3==0   F"
   ]
  },
  {
   "cell_type": "code",
   "execution_count": 79,
   "id": "e7e48532-d0fc-4584-836f-5ca982a73b5a",
   "metadata": {},
   "outputs": [
    {
     "name": "stdout",
     "output_type": "stream",
     "text": [
      "even 68\n",
      "odd 27\n",
      "even 34\n",
      "even 64\n",
      "even 30\n",
      "The number of evens are: 4\n",
      "The number of odds are: 1\n"
     ]
    }
   ],
   "source": [
    "# wap ask the user to enter a number 5 times\n",
    "# the loop should ask 5 times\n",
    "# you should calculate even odd\n",
    "# get the count of even and count of odd number\n",
    "\n",
    "import random\n",
    "even_count,odd_count=0,0\n",
    "for i in range(5):\n",
    "    num= random.randint(1,100)\n",
    "    if num%2==0:\n",
    "        print(f\"even {num}\")\n",
    "        even_count=even_count+1\n",
    "    else:\n",
    "        print(f\"odd {num}\")\n",
    "        odd_count=odd_count+1\n",
    "\n",
    "print(\"The number of evens are:\",even_count)\n",
    "print(\"The number of odds are:\",odd_count)"
   ]
  },
  {
   "cell_type": "code",
   "execution_count": 85,
   "id": "af6fbc59-0de9-4fb4-a650-1353d711975e",
   "metadata": {},
   "outputs": [
    {
     "name": "stdin",
     "output_type": "stream",
     "text": [
      "enter which divisor you want 10\n"
     ]
    },
    {
     "name": "stdout",
     "output_type": "stream",
     "text": [
      "1 is a divisor for 10\n",
      "2 is a divisor for 10\n",
      "5 is a divisor for 10\n",
      "10 is a divisor for 10\n",
      "The number of divisors are: 4\n",
      "The divisors sum is: 18\n"
     ]
    }
   ],
   "source": [
    "count=0\n",
    "summ=0\n",
    "num=eval(input(\"enter which divisor you want\"))\n",
    "for i in range(1,num+1):\n",
    "    if num%i==0:\n",
    "        count=count+1 # 2\n",
    "        summ=summ+i\n",
    "        print(f\"{i} is a divisor for {num}\")\n",
    "\n",
    "print(\"The number of divisors are:\",count)\n",
    "print(\"The divisors sum is:\",summ)"
   ]
  },
  {
   "cell_type": "code",
   "execution_count": 91,
   "id": "d6bafa2e-d269-4092-8e66-6e478acc87ca",
   "metadata": {
    "scrolled": true
   },
   "outputs": [
    {
     "name": "stdout",
     "output_type": "stream",
     "text": [
      "odd 45\n",
      "odd 29\n",
      "even 60\n",
      "odd 23\n",
      "even 26\n",
      "The number of evens are: 2\n",
      "The number of odds are: 3\n",
      "The sum of evens are: 86\n",
      "The sum of odds are: 97\n"
     ]
    }
   ],
   "source": [
    "import random\n",
    "even_count,odd_count=0,0\n",
    "even_sum,odd_sum=0,0\n",
    "for i in range(5):\n",
    "    num= random.randint(1,100)\n",
    "    if num%2==0:\n",
    "        print(f\"even {num}\")\n",
    "        even_count=even_count+1\n",
    "        even_sum=even_sum+num\n",
    "    else:\n",
    "        print(f\"odd {num}\")\n",
    "        odd_count=odd_count+1\n",
    "        odd_sum=odd_sum+num\n",
    "\n",
    "print(\"The number of evens are:\",even_count)\n",
    "print(\"The number of odds are:\",odd_count)\n",
    "print(\"The sum of evens are:\",even_sum)\n",
    "print(\"The sum of odds are:\",odd_sum)"
   ]
  },
  {
   "cell_type": "code",
   "execution_count": 97,
   "id": "90a20b26-e9e1-4a1b-a464-81c1d083d363",
   "metadata": {},
   "outputs": [
    {
     "name": "stdout",
     "output_type": "stream",
     "text": [
      "4\n"
     ]
    },
    {
     "name": "stdin",
     "output_type": "stream",
     "text": [
      "enter the num: 4\n"
     ]
    },
    {
     "name": "stdout",
     "output_type": "stream",
     "text": [
      "won\n",
      "10\n"
     ]
    },
    {
     "name": "stdin",
     "output_type": "stream",
     "text": [
      "enter the num: 10\n"
     ]
    },
    {
     "name": "stdout",
     "output_type": "stream",
     "text": [
      "won\n",
      "5\n"
     ]
    },
    {
     "name": "stdin",
     "output_type": "stream",
     "text": [
      "enter the num: 5\n"
     ]
    },
    {
     "name": "stdout",
     "output_type": "stream",
     "text": [
      "won\n"
     ]
    }
   ],
   "source": [
    "# wap ask the user get a random number n1 1,10\n",
    "# ask the user enter a number n1\n",
    "# if both numbers are match print won\n",
    "# otherwise print lost\n",
    "# you should provide 3 time\n",
    "\n",
    "import random\n",
    "for i in range(3):\n",
    "    n1=random.randint(1,10)\n",
    "    print(n1)\n",
    "    n2=eval(input(\"enter the num:\"))\n",
    "    if n1==n2:\n",
    "        print('won')\n",
    "    else:\n",
    "        print('lost')"
   ]
  },
  {
   "cell_type": "code",
   "execution_count": 107,
   "id": "f8eb893d-bc7d-4164-9896-259a3eee823b",
   "metadata": {},
   "outputs": [
    {
     "name": "stdout",
     "output_type": "stream",
     "text": [
      "10\n"
     ]
    },
    {
     "name": "stdin",
     "output_type": "stream",
     "text": [
      "enter the num: 10\n"
     ]
    },
    {
     "name": "stdout",
     "output_type": "stream",
     "text": [
      "won\n"
     ]
    }
   ],
   "source": [
    "# Case-1\n",
    "import random\n",
    "for i in range(3):\n",
    "    n1=random.randint(1,10)\n",
    "    print(n1)\n",
    "    n2=eval(input(\"enter the num:\"))\n",
    "    if n1==n2:\n",
    "        print('won')\n",
    "        break\n",
    "    else:\n",
    "        print('lost')"
   ]
  },
  {
   "cell_type": "code",
   "execution_count": null,
   "id": "9b411531-f50f-420c-be9d-eb317c2c7b0f",
   "metadata": {},
   "outputs": [],
   "source": []
  }
 ],
 "metadata": {
  "kernelspec": {
   "display_name": "Python 3 (ipykernel)",
   "language": "python",
   "name": "python3"
  },
  "language_info": {
   "codemirror_mode": {
    "name": "ipython",
    "version": 3
   },
   "file_extension": ".py",
   "mimetype": "text/x-python",
   "name": "python",
   "nbconvert_exporter": "python",
   "pygments_lexer": "ipython3",
   "version": "3.12.4"
  }
 },
 "nbformat": 4,
 "nbformat_minor": 5
}
