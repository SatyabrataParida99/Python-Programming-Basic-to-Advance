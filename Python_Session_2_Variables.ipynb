{
 "cells": [
  {
   "cell_type": "code",
   "execution_count": 1,
   "id": "5c8d3eca-d6a3-4cf8-af4a-8973e335aa1a",
   "metadata": {},
   "outputs": [
    {
     "data": {
      "text/plain": [
       "'C:\\\\Users\\\\satyabrata\\\\Python Programming'"
      ]
     },
     "execution_count": 1,
     "metadata": {},
     "output_type": "execute_result"
    }
   ],
   "source": [
    "import os\n",
    "os.getcwd()\n",
    "\n",
    "# Get Current Working Directory (cwd) "
   ]
  },
  {
   "cell_type": "markdown",
   "id": "6b155873-39a1-4022-b5e4-a88622f06637",
   "metadata": {},
   "source": [
    "## Variables"
   ]
  },
  {
   "cell_type": "markdown",
   "id": "7d0084e0-0361-430f-a510-d6f3fd9ad8a9",
   "metadata": {},
   "source": [
    "1. Variables are used to store the values, and the values can be change\n",
    "2. Variable are case sensitive"
   ]
  },
  {
   "cell_type": "code",
   "execution_count": 15,
   "id": "b3e7dd2f-463c-44f3-bd02-ebaab7a475ab",
   "metadata": {},
   "outputs": [
    {
     "name": "stdout",
     "output_type": "stream",
     "text": [
      "100\n"
     ]
    }
   ],
   "source": [
    "num = 100\n",
    "# esc+m\n",
    "# shift+enter\n",
    "# Value 100 store in a variable called : num\n",
    "print(num)"
   ]
  },
  {
   "cell_type": "code",
   "execution_count": 17,
   "id": "ec5f41b9-9cfd-4e2a-b4b3-a4936bcccb0b",
   "metadata": {},
   "outputs": [
    {
     "name": "stdout",
     "output_type": "stream",
     "text": [
      "200\n"
     ]
    }
   ],
   "source": [
    "num = 200\n",
    "print(num)"
   ]
  },
  {
   "cell_type": "code",
   "execution_count": 19,
   "id": "d798ead9-e93b-49de-ad16-dda94a0b5ee8",
   "metadata": {},
   "outputs": [
    {
     "data": {
      "text/plain": [
       "200"
      ]
     },
     "execution_count": 19,
     "metadata": {},
     "output_type": "execute_result"
    }
   ],
   "source": [
    "NUMBER = 200\n",
    "NUMBER "
   ]
  },
  {
   "cell_type": "code",
   "execution_count": 21,
   "id": "de9a85a3-f5c0-4c47-b224-5c4202d43f26",
   "metadata": {},
   "outputs": [
    {
     "data": {
      "text/plain": [
       "300"
      ]
     },
     "execution_count": 21,
     "metadata": {},
     "output_type": "execute_result"
    }
   ],
   "source": [
    "number = 300\n",
    "number "
   ]
  },
  {
   "cell_type": "code",
   "execution_count": 23,
   "id": "1b7e8100-dd6c-4ed1-a0d9-a18b493a377c",
   "metadata": {},
   "outputs": [
    {
     "data": {
      "text/plain": [
       "(300, 200)"
      ]
     },
     "execution_count": 23,
     "metadata": {},
     "output_type": "execute_result"
    }
   ],
   "source": [
    "number,NUMBER"
   ]
  },
  {
   "cell_type": "code",
   "execution_count": 28,
   "id": "ff80067e-9606-410b-8273-184976c8a6cc",
   "metadata": {},
   "outputs": [
    {
     "data": {
      "text/plain": [
       "300"
      ]
     },
     "execution_count": 28,
     "metadata": {},
     "output_type": "execute_result"
    }
   ],
   "source": [
    "number123=300\n",
    "number123"
   ]
  },
  {
   "cell_type": "code",
   "execution_count": 30,
   "id": "09e58706-578a-41aa-98c2-dc1be498ebec",
   "metadata": {},
   "outputs": [
    {
     "ename": "SyntaxError",
     "evalue": "invalid decimal literal (359278068.py, line 1)",
     "output_type": "error",
     "traceback": [
      "\u001b[1;36m  Cell \u001b[1;32mIn[30], line 1\u001b[1;36m\u001b[0m\n\u001b[1;33m    123number=400\u001b[0m\n\u001b[1;37m      ^\u001b[0m\n\u001b[1;31mSyntaxError\u001b[0m\u001b[1;31m:\u001b[0m invalid decimal literal\n"
     ]
    }
   ],
   "source": [
    "123number=400\n",
    "123number"
   ]
  },
  {
   "cell_type": "code",
   "execution_count": 36,
   "id": "7acb3654-2e52-4a48-8889-6a761dedc45a",
   "metadata": {},
   "outputs": [
    {
     "data": {
      "text/plain": [
       "300"
      ]
     },
     "execution_count": 36,
     "metadata": {},
     "output_type": "execute_result"
    }
   ],
   "source": [
    "number # Work \n",
    "NUMBER # work\n",
    "number123 # work\n",
    "123number # Notwork\n",
    "number$one # NW\n",
    "number&one # NW\n",
    "number*one # NW\n",
    "number_one # work \n",
    "if = 100 # NW\n",
    "_=200 # # work"
   ]
  },
  {
   "cell_type": "code",
   "execution_count": 42,
   "id": "6669a7b1-da58-488d-a5b8-e6a0e0884c6c",
   "metadata": {},
   "outputs": [
    {
     "data": {
      "text/plain": [
       "500"
      ]
     },
     "execution_count": 42,
     "metadata": {},
     "output_type": "execute_result"
    }
   ],
   "source": [
    "NUMBERone = 500\n",
    "NUMBERone"
   ]
  },
  {
   "cell_type": "code",
   "execution_count": 44,
   "id": "7dc8e8d6-d2bf-4aab-9887-da6c4728b56d",
   "metadata": {},
   "outputs": [
    {
     "ename": "SyntaxError",
     "evalue": "invalid syntax (4227115244.py, line 1)",
     "output_type": "error",
     "traceback": [
      "\u001b[1;36m  Cell \u001b[1;32mIn[44], line 1\u001b[1;36m\u001b[0m\n\u001b[1;33m    number$one = 600\u001b[0m\n\u001b[1;37m          ^\u001b[0m\n\u001b[1;31mSyntaxError\u001b[0m\u001b[1;31m:\u001b[0m invalid syntax\n"
     ]
    }
   ],
   "source": [
    "number$one = 600\n",
    "number$one"
   ]
  },
  {
   "cell_type": "code",
   "execution_count": 48,
   "id": "3de6f6c3-c45b-407d-9968-b8effb82be25",
   "metadata": {},
   "outputs": [
    {
     "ename": "SyntaxError",
     "evalue": "cannot assign to expression here. Maybe you meant '==' instead of '='? (1679305489.py, line 1)",
     "output_type": "error",
     "traceback": [
      "\u001b[1;36m  Cell \u001b[1;32mIn[48], line 1\u001b[1;36m\u001b[0m\n\u001b[1;33m    number&one = 600\u001b[0m\n\u001b[1;37m    ^\u001b[0m\n\u001b[1;31mSyntaxError\u001b[0m\u001b[1;31m:\u001b[0m cannot assign to expression here. Maybe you meant '==' instead of '='?\n"
     ]
    }
   ],
   "source": [
    "number&one = 600\n",
    "number&one"
   ]
  },
  {
   "cell_type": "code",
   "execution_count": 50,
   "id": "8b675f51-8857-4394-b2ec-8be9837b0ac4",
   "metadata": {},
   "outputs": [
    {
     "ename": "SyntaxError",
     "evalue": "cannot assign to expression here. Maybe you meant '==' instead of '='? (1987472248.py, line 1)",
     "output_type": "error",
     "traceback": [
      "\u001b[1;36m  Cell \u001b[1;32mIn[50], line 1\u001b[1;36m\u001b[0m\n\u001b[1;33m    number*one=900\u001b[0m\n\u001b[1;37m    ^\u001b[0m\n\u001b[1;31mSyntaxError\u001b[0m\u001b[1;31m:\u001b[0m cannot assign to expression here. Maybe you meant '==' instead of '='?\n"
     ]
    }
   ],
   "source": [
    "number*one=900\n",
    "number*one"
   ]
  },
  {
   "cell_type": "code",
   "execution_count": 52,
   "id": "d4d88b5d-98b6-49c6-adda-e7f952185d11",
   "metadata": {},
   "outputs": [
    {
     "data": {
      "text/plain": [
       "1000"
      ]
     },
     "execution_count": 52,
     "metadata": {},
     "output_type": "execute_result"
    }
   ],
   "source": [
    "number_one = 1000\n",
    "number_one"
   ]
  },
  {
   "cell_type": "code",
   "execution_count": 54,
   "id": "8bd65c1a-1607-4d48-b18e-5f76ab1fd2ba",
   "metadata": {},
   "outputs": [
    {
     "ename": "SyntaxError",
     "evalue": "invalid syntax (570416339.py, line 1)",
     "output_type": "error",
     "traceback": [
      "\u001b[1;36m  Cell \u001b[1;32mIn[54], line 1\u001b[1;36m\u001b[0m\n\u001b[1;33m    if =600\u001b[0m\n\u001b[1;37m       ^\u001b[0m\n\u001b[1;31mSyntaxError\u001b[0m\u001b[1;31m:\u001b[0m invalid syntax\n"
     ]
    }
   ],
   "source": [
    "if =600\n",
    "if"
   ]
  },
  {
   "cell_type": "code",
   "execution_count": null,
   "id": "c621823b-782a-4089-8825-3a8604f169de",
   "metadata": {},
   "outputs": [],
   "source": [
    "if\n",
    "else\n",
    "True\n",
    "False\n",
    "for\n",
    "while"
   ]
  },
  {
   "cell_type": "markdown",
   "id": "211a27be-2eb2-4976-a08d-5c75f113075e",
   "metadata": {},
   "source": [
    "- variables can be capital letters\n",
    "- variables can be a small letter\n",
    "- variables can be a mix of both capital and small letters\n",
    "- variables can be a mix of letter and numbers as **suffix**\n",
    "- variables can not be a mix of letters and numbers as **prefix**\n",
    "- variables can not be include special characters except **underscore**\n",
    "- variables can not be include a **space between words**\n",
    "- only underscore also consider as variables \n",
    "- inbuilt keywords can not be a variables "
   ]
  },
  {
   "cell_type": "code",
   "execution_count": 57,
   "id": "1ed46c0d-75ac-4f63-be94-4b4f72601875",
   "metadata": {},
   "outputs": [
    {
     "data": {
      "text/plain": [
       "600"
      ]
     },
     "execution_count": 57,
     "metadata": {},
     "output_type": "execute_result"
    }
   ],
   "source": [
    "_=600\n",
    "_"
   ]
  },
  {
   "cell_type": "code",
   "execution_count": 59,
   "id": "9aaf2874-fb29-4377-8528-e3e83577b38d",
   "metadata": {},
   "outputs": [],
   "source": [
    "IF = 200"
   ]
  },
  {
   "cell_type": "code",
   "execution_count": 61,
   "id": "8f77bf86-0c12-4edf-aa4b-585bf70db624",
   "metadata": {},
   "outputs": [
    {
     "data": {
      "text/plain": [
       "200"
      ]
     },
     "execution_count": 61,
     "metadata": {},
     "output_type": "execute_result"
    }
   ],
   "source": [
    "IF"
   ]
  },
  {
   "cell_type": "code",
   "execution_count": 63,
   "id": "e5190bb4-7db2-4727-aa3d-55a7a417ff4a",
   "metadata": {},
   "outputs": [
    {
     "data": {
      "text/plain": [
       "0.6"
      ]
     },
     "execution_count": 63,
     "metadata": {},
     "output_type": "execute_result"
    }
   ],
   "source": [
    "model_accuracy_data=0.6\n",
    "model_accuracy_data"
   ]
  },
  {
   "cell_type": "code",
   "execution_count": null,
   "id": "8caaa5dc-039c-418b-85b7-173d4dfeba14",
   "metadata": {},
   "outputs": [],
   "source": []
  }
 ],
 "metadata": {
  "kernelspec": {
   "display_name": "Python 3 (ipykernel)",
   "language": "python",
   "name": "python3"
  },
  "language_info": {
   "codemirror_mode": {
    "name": "ipython",
    "version": 3
   },
   "file_extension": ".py",
   "mimetype": "text/x-python",
   "name": "python",
   "nbconvert_exporter": "python",
   "pygments_lexer": "ipython3",
   "version": "3.12.4"
  }
 },
 "nbformat": 4,
 "nbformat_minor": 5
}
