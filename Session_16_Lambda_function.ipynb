{
 "cells": [
  {
   "cell_type": "code",
   "execution_count": null,
   "id": "36bc87f2-b345-4d6e-875b-0c21479909bc",
   "metadata": {},
   "outputs": [],
   "source": [
    "Method-1: [output forloop]\n",
    "Method-2:  [if_output forloop ifcon]\n",
    "Method-3: [ifoutput ifcond else elseoutput forloop]\n",
    "Method-4: [ifout ifcond else ifout ifcon else elseout forloop]"
   ]
  },
  {
   "cell_type": "code",
   "execution_count": 1,
   "id": "0c213c1e-2dd3-423d-a890-4bc44925bc1a",
   "metadata": {},
   "outputs": [
    {
     "data": {
      "text/plain": [
       "100"
      ]
     },
     "execution_count": 1,
     "metadata": {},
     "output_type": "execute_result"
    }
   ],
   "source": [
    "def mul(a):\n",
    "    return(a*a)\n",
    "\n",
    "ans=mul(10)\n",
    "ans"
   ]
  },
  {
   "cell_type": "markdown",
   "id": "8c9fc109-7191-4686-a13e-9dfee9bdd7a2",
   "metadata": {},
   "source": [
    "- lambda is a keyword used to write functions in a single line\n",
    "\n",
    "- in list comprehension we will write in single line\n",
    "\n",
    "- it is same analogy\n",
    "\n",
    "- it will reduce the time complexity"
   ]
  },
  {
   "cell_type": "markdown",
   "id": "073e78bb-86d2-4adb-9d72-55ac8483d894",
   "metadata": {},
   "source": [
    "**pattern−1**\n",
    "\n",
    "- function with one argument"
   ]
  },
  {
   "cell_type": "code",
   "execution_count": null,
   "id": "82056330-8573-46c2-88a6-1e909c9f3d91",
   "metadata": {},
   "outputs": [],
   "source": [
    "# syntax\n",
    "\n",
    "# function name= lambda <argument name>:<return output>\n",
    "# in above \n",
    "# function name : mul\n",
    "# argument name : a\n",
    "# return output : a*a"
   ]
  },
  {
   "cell_type": "code",
   "execution_count": 3,
   "id": "76afd51d-dbb2-43b4-bb7d-37df56cc13ef",
   "metadata": {},
   "outputs": [
    {
     "data": {
      "text/plain": [
       "1000000"
      ]
     },
     "execution_count": 3,
     "metadata": {},
     "output_type": "execute_result"
    }
   ],
   "source": [
    "mul= lambda a : a*a \n",
    "mul(1000)"
   ]
  },
  {
   "cell_type": "code",
   "execution_count": 9,
   "id": "aaea4817-b0e4-4316-9007-20d0b42eb46a",
   "metadata": {},
   "outputs": [
    {
     "data": {
      "text/plain": [
       "100"
      ]
     },
     "execution_count": 9,
     "metadata": {},
     "output_type": "execute_result"
    }
   ],
   "source": [
    "def mul1(a):\n",
    "    return(a*a)\n",
    "\n",
    "mul1(10)"
   ]
  },
  {
   "cell_type": "code",
   "execution_count": 11,
   "id": "219ebe6c-f3b4-4b88-9836-2bf4d4a9e299",
   "metadata": {},
   "outputs": [
    {
     "data": {
      "text/plain": [
       "1000"
      ]
     },
     "execution_count": 11,
     "metadata": {},
     "output_type": "execute_result"
    }
   ],
   "source": [
    "def cube(x):\n",
    "    return(x**3)\n",
    "cube(10)"
   ]
  },
  {
   "cell_type": "code",
   "execution_count": 13,
   "id": "8f63c7ec-86d7-4e0a-9f45-20f1ecf0caaa",
   "metadata": {},
   "outputs": [
    {
     "data": {
      "text/plain": [
       "8000"
      ]
     },
     "execution_count": 13,
     "metadata": {},
     "output_type": "execute_result"
    }
   ],
   "source": [
    "cub1= lambda x:x**3\n",
    "cub1(20)"
   ]
  },
  {
   "cell_type": "markdown",
   "id": "427fdea3-78c9-4c14-99bf-a6302db1047c",
   "metadata": {},
   "source": [
    "**pattern−2**\n",
    "\n",
    "- function with two arguments"
   ]
  },
  {
   "cell_type": "code",
   "execution_count": null,
   "id": "3c6a8a48-d6f2-4172-95bc-d60c81764c3e",
   "metadata": {},
   "outputs": [],
   "source": [
    "# syntax\n",
    "# <function name>= lambda <arg1>,<arg2>: return(output)"
   ]
  },
  {
   "cell_type": "code",
   "execution_count": 16,
   "id": "08414ec9-0596-4b0f-ac51-d2e8dc1dbf34",
   "metadata": {},
   "outputs": [
    {
     "data": {
      "text/plain": [
       "300"
      ]
     },
     "execution_count": 16,
     "metadata": {},
     "output_type": "execute_result"
    }
   ],
   "source": [
    "def add(a,b):\n",
    "    return(a+b)\n",
    "add(100,200)"
   ]
  },
  {
   "cell_type": "code",
   "execution_count": 18,
   "id": "83a83faf-e092-4a42-85ee-44752089c17f",
   "metadata": {},
   "outputs": [
    {
     "data": {
      "text/plain": [
       "130"
      ]
     },
     "execution_count": 18,
     "metadata": {},
     "output_type": "execute_result"
    }
   ],
   "source": [
    "add1=lambda x,y:x+y\n",
    "add1(100,30)"
   ]
  },
  {
   "cell_type": "code",
   "execution_count": 20,
   "id": "b02ebf1a-76ee-4195-bbb5-55d8efffe1ee",
   "metadata": {},
   "outputs": [
    {
     "data": {
      "text/plain": [
       "35.0"
      ]
     },
     "execution_count": 20,
     "metadata": {},
     "output_type": "execute_result"
    }
   ],
   "source": [
    "def avg(a,b,c):\n",
    "    return(round((a+b+c)/3,2))\n",
    "avg(25,35,45)"
   ]
  },
  {
   "cell_type": "code",
   "execution_count": 22,
   "id": "009a5609-1863-4d18-9025-8b929483c753",
   "metadata": {},
   "outputs": [
    {
     "data": {
      "text/plain": [
       "65.0"
      ]
     },
     "execution_count": 22,
     "metadata": {},
     "output_type": "execute_result"
    }
   ],
   "source": [
    "avg1= lambda a,b,c : round((a+b+c)/3,3)\n",
    "avg1(55,65,75)"
   ]
  },
  {
   "cell_type": "code",
   "execution_count": 24,
   "id": "254b43b2-7675-4747-86bb-d87dae1a85f6",
   "metadata": {},
   "outputs": [
    {
     "data": {
      "text/plain": [
       "15.0"
      ]
     },
     "execution_count": 24,
     "metadata": {},
     "output_type": "execute_result"
    }
   ],
   "source": [
    "avg=lambda a,b,c:(a+b+c)/3\n",
    "avg(5,15,25)"
   ]
  },
  {
   "cell_type": "markdown",
   "id": "f6c1608b-3fa9-4575-ba05-521d31488855",
   "metadata": {},
   "source": [
    "**pattern−3**\n",
    "\n",
    "- **default argument**"
   ]
  },
  {
   "cell_type": "code",
   "execution_count": 27,
   "id": "5f951318-32b9-4171-bb64-96906fe3467b",
   "metadata": {},
   "outputs": [
    {
     "data": {
      "text/plain": [
       "209.667"
      ]
     },
     "execution_count": 27,
     "metadata": {},
     "output_type": "execute_result"
    }
   ],
   "source": [
    "avg2= lambda a,b,c=500 : round((a+b+c)/3,3)\n",
    "avg2(100,29)"
   ]
  },
  {
   "cell_type": "markdown",
   "id": "c5282702-bc3e-4227-931f-f380d397a6db",
   "metadata": {},
   "source": [
    "**pattern−4**\n",
    "\n",
    "- **if else**"
   ]
  },
  {
   "cell_type": "code",
   "execution_count": 36,
   "id": "8b4cb77a-1aad-449e-9cc5-6e7b6aacb5ec",
   "metadata": {},
   "outputs": [
    {
     "data": {
      "text/plain": [
       "55"
      ]
     },
     "execution_count": 36,
     "metadata": {},
     "output_type": "execute_result"
    }
   ],
   "source": [
    "def max(a,b):\n",
    "    if a>b:\n",
    "        return(a)\n",
    "    else:\n",
    "        return(b)\n",
    "max(35,55)"
   ]
  },
  {
   "cell_type": "code",
   "execution_count": null,
   "id": "a21eb9d6-d420-49e9-a608-dfe3d7df172e",
   "metadata": {},
   "outputs": [],
   "source": [
    "# syntax\n",
    "# function name= lambda <arg1>,<arg2>: <if out> <if con> else <elseout>"
   ]
  },
  {
   "cell_type": "code",
   "execution_count": 38,
   "id": "7e7332e1-1763-41c0-9291-c78748278a80",
   "metadata": {},
   "outputs": [
    {
     "data": {
      "text/plain": [
       "125"
      ]
     },
     "execution_count": 38,
     "metadata": {},
     "output_type": "execute_result"
    }
   ],
   "source": [
    "maximum= lambda a,b: a if a>b else b\n",
    "maximum(100,125)"
   ]
  },
  {
   "cell_type": "markdown",
   "id": "4c93ec8f-0016-4b34-a2c0-54dfdf97cd28",
   "metadata": {},
   "source": [
    "**pattern−5**\n",
    "\n",
    "- List cases"
   ]
  },
  {
   "cell_type": "code",
   "execution_count": 41,
   "id": "bdc876c7-2be1-491b-9f3f-ee048e304300",
   "metadata": {},
   "outputs": [
    {
     "data": {
      "text/plain": [
       "['Hyd', 'Mumbai', 'Pune']"
      ]
     },
     "execution_count": 41,
     "metadata": {},
     "output_type": "execute_result"
    }
   ],
   "source": [
    "list1=['hyd','mumbai','pune']\n",
    "# ans= ['Hyd','Mumbai','Pune']\n",
    "ans=[]\n",
    "for i in list1:\n",
    "    ans.append(i.capitalize())\n",
    "ans"
   ]
  },
  {
   "cell_type": "code",
   "execution_count": null,
   "id": "7eb739db-34ba-4d07-8600-201bd349f60f",
   "metadata": {},
   "outputs": [],
   "source": [
    "lambda <variable>: <op>\n",
    "lambda i : i.capitalize()"
   ]
  },
  {
   "cell_type": "code",
   "execution_count": 43,
   "id": "dd40503a-4876-436b-9cb8-10787256e820",
   "metadata": {},
   "outputs": [
    {
     "data": {
      "text/plain": [
       "<function __main__.<lambda>(i)>"
      ]
     },
     "execution_count": 43,
     "metadata": {},
     "output_type": "execute_result"
    }
   ],
   "source": [
    "lambda i : i.capitalize()"
   ]
  },
  {
   "cell_type": "code",
   "execution_count": null,
   "id": "98de52cc-fabc-4fe7-9864-614c46ad5bc3",
   "metadata": {},
   "outputs": [],
   "source": [
    "lambda <variable>: <op>,<iterator>"
   ]
  },
  {
   "cell_type": "code",
   "execution_count": 47,
   "id": "179f3531-26e0-4ac8-9b83-07fddf99a6da",
   "metadata": {},
   "outputs": [
    {
     "data": {
      "text/plain": [
       "(<function __main__.<lambda>(i)>, ['hyd', 'mumbai', 'pune'])"
      ]
     },
     "execution_count": 47,
     "metadata": {},
     "output_type": "execute_result"
    }
   ],
   "source": [
    "lambda i : i.capitalize(),list1"
   ]
  },
  {
   "cell_type": "code",
   "execution_count": 49,
   "id": "fa59acfb-5e4d-4866-a981-901864e8cb3c",
   "metadata": {},
   "outputs": [
    {
     "data": {
      "text/plain": [
       "(<function __main__.<lambda>(i)>, ['hyd', 'mumbai', 'pune'])"
      ]
     },
     "execution_count": 49,
     "metadata": {},
     "output_type": "execute_result"
    }
   ],
   "source": [
    "# step-1: lambda <variable>: <op>\n",
    "lambda i : i.capitalize()\n",
    "# step-2: lambda <variable>: <op>,<iterator>\n",
    "lambda i : i.capitalize(),list1"
   ]
  },
  {
   "cell_type": "markdown",
   "id": "4a1f8f2f-99d3-4bff-8ba7-f7e04610fd23",
   "metadata": {},
   "source": [
    "**map**\n",
    "\n",
    "- map is used to combine the function and iterator"
   ]
  },
  {
   "cell_type": "code",
   "execution_count": 52,
   "id": "83281b85-8be5-404d-b291-c739451b0c0a",
   "metadata": {},
   "outputs": [
    {
     "data": {
      "text/plain": [
       "<map at 0x144a4905120>"
      ]
     },
     "execution_count": 52,
     "metadata": {},
     "output_type": "execute_result"
    }
   ],
   "source": [
    "# step-3:\n",
    "# map(lambda <variable>: <op>,<iterator>)\n",
    "map(lambda i:i.capitalize(),list1)"
   ]
  },
  {
   "cell_type": "code",
   "execution_count": 54,
   "id": "3491c9aa-68a6-43b5-912b-fb81ed2aceed",
   "metadata": {},
   "outputs": [
    {
     "data": {
      "text/plain": [
       "['Hyd', 'Mumbai', 'Pune']"
      ]
     },
     "execution_count": 54,
     "metadata": {},
     "output_type": "execute_result"
    }
   ],
   "source": [
    "# step-4: when we apply the output will store at address\n",
    "# so apply the list or tuple to see the answer\n",
    "# list(map(lambda <variable>: <op>,<iterator>))\n",
    "list(map(lambda i:i.capitalize(),list1))"
   ]
  },
  {
   "cell_type": "code",
   "execution_count": 56,
   "id": "f894f6a6-7f53-45f1-a1d7-5d8da8a0e8fa",
   "metadata": {},
   "outputs": [
    {
     "data": {
      "text/plain": [
       "('Hyd', 'Mumbai', 'Pune')"
      ]
     },
     "execution_count": 56,
     "metadata": {},
     "output_type": "execute_result"
    }
   ],
   "source": [
    "tuple(map(lambda i:i.capitalize(),list1))"
   ]
  },
  {
   "cell_type": "code",
   "execution_count": null,
   "id": "26a9ed2e-7199-41e3-a8bb-9d06a6da952a",
   "metadata": {},
   "outputs": [],
   "source": [
    "# step-1: lambda <variable>: <op>\n",
    "# step-2: lambda <variable>: <op>,<iteartor>\n",
    "# step-3: map(lambda <variable>: <op>,<iteartor>)\n",
    "# step-4: list(map(lambda <variable>: <op>,<iteartor>))"
   ]
  },
  {
   "cell_type": "code",
   "execution_count": 58,
   "id": "382e1aa4-4be2-4852-9c36-559a75a2f02b",
   "metadata": {},
   "outputs": [
    {
     "data": {
      "text/plain": [
       "['Hyd', 'Mumbai', 'Pune']"
      ]
     },
     "execution_count": 58,
     "metadata": {},
     "output_type": "execute_result"
    }
   ],
   "source": [
    "lambda i : i.capitalize()\n",
    "lambda i : i.capitalize(),list1\n",
    "map(lambda i : i.capitalize(),list1)\n",
    "list(map(lambda i : i.capitalize(),list1))"
   ]
  },
  {
   "cell_type": "code",
   "execution_count": null,
   "id": "58ae185f-fb00-48df-bba9-bbb0072af13e",
   "metadata": {},
   "outputs": [],
   "source": [
    "#  l1=['hyd','chennai','mumbai','pune']\n",
    "#     ans=['HYD','CHENNAI','MUMBAI','PUNE']\n",
    "\n",
    "#   l1=['hyd','chennai','mumbai','pune']\n",
    "#     ans=[0,10,20,30]\n",
    "\n",
    "# str1= 'hello hai how are you'\n",
    "#    ans=['Hello','Hai','How','Are','You']\n",
    "\n",
    "#  l1=['hyd','chen#ai','mu#bai','pune']\n",
    "#     ans=['chen#ai','mu#bai']\n",
    "\n",
    "#  l1=['hyd','chen#ai','mu#bai','pune']\n",
    "#     ans=['hyd','pune']"
   ]
  },
  {
   "cell_type": "code",
   "execution_count": 60,
   "id": "523decfc-8ead-41eb-b329-ad056e122392",
   "metadata": {},
   "outputs": [
    {
     "data": {
      "text/plain": [
       "['HYD', 'CHENNAI', 'MUMBAI', 'PUNE']"
      ]
     },
     "execution_count": 60,
     "metadata": {},
     "output_type": "execute_result"
    }
   ],
   "source": [
    "#  l1=['hyd','chennai','mumbai','pune']\n",
    "#     ans=['HYD','CHENNAI','MUMBAI','PUNE']\n",
    "l1=['hyd','chennai','mumbai','pune']\n",
    "ans=list(map(lambda i : i.upper(),l1))\n",
    "ans"
   ]
  },
  {
   "cell_type": "code",
   "execution_count": 62,
   "id": "8124fe5a-104e-4bd8-a1c2-c8f65a7cecc5",
   "metadata": {},
   "outputs": [
    {
     "data": {
      "text/plain": [
       "[0, 10, 20, 30]"
      ]
     },
     "execution_count": 62,
     "metadata": {},
     "output_type": "execute_result"
    }
   ],
   "source": [
    "#   l1=['hyd','chennai','mumbai','pune']\n",
    "#     ans=[0,10,20,30]\n",
    "l1=['hyd','chennai','mumbai','pune']\n",
    "ans=list(map(lambda i : l1.index(i)*10,l1))\n",
    "ans"
   ]
  },
  {
   "cell_type": "code",
   "execution_count": 64,
   "id": "99872faa-b181-49f4-833a-8a4a8a7ae61d",
   "metadata": {},
   "outputs": [
    {
     "data": {
      "text/plain": [
       "['Hello', 'Hai', 'How', 'Are', 'You']"
      ]
     },
     "execution_count": 64,
     "metadata": {},
     "output_type": "execute_result"
    }
   ],
   "source": [
    "# str1= 'hello hai how are you'\n",
    "#    ans=['Hello','Hai','How','Are','You']\n",
    "str1= 'hello hai how are you'\n",
    "ans=list(map(lambda i : i.title(),str1.split()))\n",
    "ans"
   ]
  },
  {
   "cell_type": "code",
   "execution_count": 66,
   "id": "bc0a7c79-2083-44fa-860b-8545c284246b",
   "metadata": {},
   "outputs": [
    {
     "data": {
      "text/plain": [
       "['chen#ai', 'mu#bai']"
      ]
     },
     "execution_count": 66,
     "metadata": {},
     "output_type": "execute_result"
    }
   ],
   "source": [
    "#  l1=['hyd','chen#ai','mu#bai','pune']\n",
    "#     ans=['chen#ai','mu#bai']\n",
    "l1=['hyd','chen#ai','mu#bai','pune']\n",
    "ans=[]\n",
    "for i in l1:\n",
    "    if '#' in i:\n",
    "        ans.append(i)\n",
    "ans"
   ]
  },
  {
   "cell_type": "code",
   "execution_count": null,
   "id": "224b585b-7ceb-4335-b742-056c5945e91c",
   "metadata": {},
   "outputs": [],
   "source": [
    "lambda <variable> : <condition>\n",
    "# dont write if\n",
    "# dont write i"
   ]
  },
  {
   "cell_type": "code",
   "execution_count": 70,
   "id": "30a79814-4536-440f-9e40-8bf606ebf936",
   "metadata": {},
   "outputs": [
    {
     "data": {
      "text/plain": [
       "[False, True, True, False]"
      ]
     },
     "execution_count": 70,
     "metadata": {},
     "output_type": "execute_result"
    }
   ],
   "source": [
    "l1=['hyd','chen#ai','mu#bai','pune']\n",
    "list(map(lambda i:'#' in i,l1))"
   ]
  },
  {
   "cell_type": "markdown",
   "id": "9ecb8d3f-9149-451a-bbeb-b3548701a49a",
   "metadata": {},
   "source": [
    "**filter**\n",
    "\n",
    "- whenever condition statements\n",
    "\n",
    "- which means we are filtering the answers based on condition\n",
    "\n",
    "- map will give boolean outputs, True or False\n",
    "\n",
    "- True answers we can see by applying filter only"
   ]
  },
  {
   "cell_type": "code",
   "execution_count": 73,
   "id": "6cbbc517-9542-43cc-9b02-233d3a0d1571",
   "metadata": {},
   "outputs": [
    {
     "data": {
      "text/plain": [
       "['chen#ai', 'mu#bai']"
      ]
     },
     "execution_count": 73,
     "metadata": {},
     "output_type": "execute_result"
    }
   ],
   "source": [
    "l1=['hyd','chen#ai','mu#bai','pune']\n",
    "list(filter(lambda i:'#' in i,l1))"
   ]
  },
  {
   "cell_type": "code",
   "execution_count": null,
   "id": "91072aa1-ce56-4013-92be-f50ba94a9b74",
   "metadata": {},
   "outputs": [],
   "source": [
    "# mistake-1:  [dont write if]\n",
    "# list(filter(lambda i:if '#' in i,l1))\n",
    "\n",
    "# mistake-2: [dont write the output i]\n",
    "# list(filter(lambda i:i if '#' in i,l1))"
   ]
  },
  {
   "cell_type": "code",
   "execution_count": 75,
   "id": "0ea81a64-8de3-4c8b-b5fc-adf6f1ea2d62",
   "metadata": {},
   "outputs": [
    {
     "name": "stdout",
     "output_type": "stream",
     "text": [
      "15\n"
     ]
    }
   ],
   "source": [
    "l1=[1,2,3,4,5]\n",
    "summ=0\n",
    "for i in l1:\n",
    "    summ=summ+i\n",
    "print(summ)"
   ]
  },
  {
   "cell_type": "markdown",
   "id": "d1581822-e8c1-4d4a-959f-0b0d0d8346ab",
   "metadata": {},
   "source": [
    "**reduce**\n",
    "\n",
    "- reduce is a method to write all inbulit functions using lambda method\n",
    "\n",
    "- it is available in a package called **func tools**\n",
    "\n",
    "- Level-1: reduce(lambda sum,i : sum+i,list1)\n",
    "\n",
    "- Level-2: reduce(lambda sum,i : sum+i,list1,value)\n",
    "\n",
    "- in level-1 by defulat sum=0\n",
    "\n",
    "- in level-2 the sum starts with some value"
   ]
  },
  {
   "cell_type": "code",
   "execution_count": 78,
   "id": "c561db93-d5cf-4419-9a22-54a8416adea5",
   "metadata": {},
   "outputs": [],
   "source": [
    "import functools"
   ]
  },
  {
   "cell_type": "code",
   "execution_count": 80,
   "id": "daa0e54f-fb4f-4131-9686-5639e58ba26f",
   "metadata": {},
   "outputs": [
    {
     "data": {
      "text/plain": [
       "['GenericAlias',\n",
       " 'RLock',\n",
       " 'WRAPPER_ASSIGNMENTS',\n",
       " 'WRAPPER_UPDATES',\n",
       " '_CacheInfo',\n",
       " '_HashedSeq',\n",
       " '_NOT_FOUND',\n",
       " '__all__',\n",
       " '__builtins__',\n",
       " '__cached__',\n",
       " '__doc__',\n",
       " '__file__',\n",
       " '__loader__',\n",
       " '__name__',\n",
       " '__package__',\n",
       " '__spec__',\n",
       " '_c3_merge',\n",
       " '_c3_mro',\n",
       " '_compose_mro',\n",
       " '_convert',\n",
       " '_find_impl',\n",
       " '_ge_from_gt',\n",
       " '_ge_from_le',\n",
       " '_ge_from_lt',\n",
       " '_gt_from_ge',\n",
       " '_gt_from_le',\n",
       " '_gt_from_lt',\n",
       " '_initial_missing',\n",
       " '_le_from_ge',\n",
       " '_le_from_gt',\n",
       " '_le_from_lt',\n",
       " '_lru_cache_wrapper',\n",
       " '_lt_from_ge',\n",
       " '_lt_from_gt',\n",
       " '_lt_from_le',\n",
       " '_make_key',\n",
       " '_unwrap_partial',\n",
       " 'cache',\n",
       " 'cached_property',\n",
       " 'cmp_to_key',\n",
       " 'get_cache_token',\n",
       " 'lru_cache',\n",
       " 'namedtuple',\n",
       " 'partial',\n",
       " 'partialmethod',\n",
       " 'recursive_repr',\n",
       " 'reduce',\n",
       " 'singledispatch',\n",
       " 'singledispatchmethod',\n",
       " 'total_ordering',\n",
       " 'update_wrapper',\n",
       " 'wraps']"
      ]
     },
     "execution_count": 80,
     "metadata": {},
     "output_type": "execute_result"
    }
   ],
   "source": [
    "dir(functools)"
   ]
  },
  {
   "cell_type": "code",
   "execution_count": 82,
   "id": "456b99ce-cf9c-490a-9a12-167bbe5cda79",
   "metadata": {},
   "outputs": [
    {
     "data": {
      "text/plain": [
       "15"
      ]
     },
     "execution_count": 82,
     "metadata": {},
     "output_type": "execute_result"
    }
   ],
   "source": [
    "import functools\n",
    "list1=[1,2,3,4,5]\n",
    "functools.reduce(lambda summ,i: summ+i,list1)"
   ]
  },
  {
   "cell_type": "code",
   "execution_count": 84,
   "id": "99820932-e551-4643-b68b-51598a015143",
   "metadata": {},
   "outputs": [
    {
     "data": {
      "text/plain": [
       "215"
      ]
     },
     "execution_count": 84,
     "metadata": {},
     "output_type": "execute_result"
    }
   ],
   "source": [
    "import functools\n",
    "list1=[1,2,3,4,5]\n",
    "functools.reduce(lambda summ,i: summ+i,list1,200)"
   ]
  },
  {
   "cell_type": "code",
   "execution_count": 86,
   "id": "57d489ef-cfda-45bb-89cd-29999cdd37a6",
   "metadata": {},
   "outputs": [
    {
     "data": {
      "text/plain": [
       "120"
      ]
     },
     "execution_count": 86,
     "metadata": {},
     "output_type": "execute_result"
    }
   ],
   "source": [
    "import functools\n",
    "list1=[1,2,3,4,5]\n",
    "functools.reduce(lambda val,i: val*i,list1)"
   ]
  },
  {
   "cell_type": "code",
   "execution_count": null,
   "id": "c9a8265c-0b48-4b22-920f-cee41a7bb65e",
   "metadata": {},
   "outputs": [],
   "source": [
    "import functools\n",
    "list1=[1,2,3,4,5]\n",
    "functools.reduce(lambda summ,i: summ+i,list1)\n",
    "\n",
    "from functools import reduce\n",
    "list1=[1,2,3,4,5]\n",
    "reduce(lambda summ,i: summ+i,list1)\n",
    "\n",
    "import functools as ft\n",
    "list1=[1,2,3,4,5]\n",
    "ft.reduce(lambda summ,i: summ+i,list1)"
   ]
  },
  {
   "cell_type": "code",
   "execution_count": 90,
   "id": "d8da8b21-aad3-42b7-8ab1-d8cd69d098df",
   "metadata": {},
   "outputs": [
    {
     "data": {
      "text/plain": [
       "<module 'functools' from 'C:\\\\Users\\\\satyabrata\\\\anaconda3\\\\Lib\\\\functools.py'>"
      ]
     },
     "execution_count": 90,
     "metadata": {},
     "output_type": "execute_result"
    }
   ],
   "source": [
    "import functools\n",
    "functools"
   ]
  },
  {
   "cell_type": "code",
   "execution_count": null,
   "id": "093e276b-36a6-4174-9b90-6836fc1763bd",
   "metadata": {},
   "outputs": [],
   "source": [
    "lambda <variable>:<op>\n",
    "lambda <variable>: <if op> <if con> else <else>\n",
    "map(lambda <variable>: <op>,iterator)\n",
    "filter(lambda <variable>: <con>,<iterator>)\n",
    "reduce(lambda <var1>,<var2>: var1+var2,<iterator>)"
   ]
  }
 ],
 "metadata": {
  "kernelspec": {
   "display_name": "Python 3 (ipykernel)",
   "language": "python",
   "name": "python3"
  },
  "language_info": {
   "codemirror_mode": {
    "name": "ipython",
    "version": 3
   },
   "file_extension": ".py",
   "mimetype": "text/x-python",
   "name": "python",
   "nbconvert_exporter": "python",
   "pygments_lexer": "ipython3",
   "version": "3.12.4"
  }
 },
 "nbformat": 4,
 "nbformat_minor": 5
}
