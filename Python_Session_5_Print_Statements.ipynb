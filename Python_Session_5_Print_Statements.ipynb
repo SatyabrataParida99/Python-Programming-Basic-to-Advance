{
 "cells": [
  {
   "cell_type": "markdown",
   "id": "70d403b7-7ec3-475b-a9d5-1d2ef4bc3f1f",
   "metadata": {},
   "source": [
    "# Print Statements"
   ]
  },
  {
   "cell_type": "code",
   "execution_count": 2,
   "id": "b69fff55-4954-4fb2-bc5f-38b59358c135",
   "metadata": {},
   "outputs": [
    {
     "data": {
      "text/plain": [
       "30"
      ]
     },
     "execution_count": 2,
     "metadata": {},
     "output_type": "execute_result"
    }
   ],
   "source": [
    "num1=30\n",
    "num2=30\n",
    "num1\n",
    "num2"
   ]
  },
  {
   "cell_type": "code",
   "execution_count": 6,
   "id": "c5f82457-dc0a-4ce1-916e-6355e1951ad6",
   "metadata": {},
   "outputs": [
    {
     "name": "stdout",
     "output_type": "stream",
     "text": [
      "30\n",
      "20\n"
     ]
    }
   ],
   "source": [
    "num1=30\n",
    "num2=20\n",
    "print(num1)\n",
    "print(num2)"
   ]
  },
  {
   "cell_type": "code",
   "execution_count": 12,
   "id": "62f0b96e-e4d7-4339-83c9-bfd7f60f207e",
   "metadata": {},
   "outputs": [
    {
     "name": "stdout",
     "output_type": "stream",
     "text": [
      "40\n",
      "45\n"
     ]
    },
    {
     "data": {
      "text/plain": [
       "(40, 45)"
      ]
     },
     "execution_count": 12,
     "metadata": {},
     "output_type": "execute_result"
    }
   ],
   "source": [
    "num1=40\n",
    "num2=45\n",
    "print(num1),print(num2)\n",
    "num1,num2"
   ]
  },
  {
   "cell_type": "code",
   "execution_count": 10,
   "id": "db2a5eab-fd9d-4906-81ab-021b27b1e8c4",
   "metadata": {},
   "outputs": [
    {
     "name": "stdout",
     "output_type": "stream",
     "text": [
      "30 20\n"
     ]
    }
   ],
   "source": [
    "num1=30\n",
    "num2=20\n",
    "print(num1,num2)"
   ]
  },
  {
   "cell_type": "code",
   "execution_count": 17,
   "id": "728f0872-3561-45d9-a1d1-878fccaa602b",
   "metadata": {},
   "outputs": [
    {
     "data": {
      "text/plain": [
       "(30, 20)"
      ]
     },
     "execution_count": 17,
     "metadata": {},
     "output_type": "execute_result"
    }
   ],
   "source": [
    "num1=30\n",
    "num2=20\n",
    "num1,num2"
   ]
  },
  {
   "cell_type": "code",
   "execution_count": 19,
   "id": "bf7fbd40-bf6c-478d-97f9-780a5e034292",
   "metadata": {},
   "outputs": [
    {
     "name": "stdout",
     "output_type": "stream",
     "text": [
      "30\n",
      "20\n"
     ]
    }
   ],
   "source": [
    "num1=30\n",
    "num2=20\n",
    "print(num1)\n",
    "print(num2)"
   ]
  },
  {
   "cell_type": "code",
   "execution_count": 21,
   "id": "be2e4dea-5ffd-421f-ad47-747cf94161c1",
   "metadata": {},
   "outputs": [
    {
     "data": {
      "text/plain": [
       "50"
      ]
     },
     "execution_count": 21,
     "metadata": {},
     "output_type": "execute_result"
    }
   ],
   "source": [
    "num1+num2"
   ]
  },
  {
   "cell_type": "code",
   "execution_count": 23,
   "id": "571bcc2d-d9df-4d23-adce-38d5ac12a4fb",
   "metadata": {},
   "outputs": [
    {
     "name": "stdout",
     "output_type": "stream",
     "text": [
      "30 20 python\n"
     ]
    }
   ],
   "source": [
    "print(30,20,'python')"
   ]
  },
  {
   "cell_type": "code",
   "execution_count": 27,
   "id": "3c5ceb7b-682a-4e6b-8e4a-70344e545a9f",
   "metadata": {},
   "outputs": [
    {
     "name": "stdout",
     "output_type": "stream",
     "text": [
      "the addition of 100 and 200 is 300\n"
     ]
    }
   ],
   "source": [
    "a = 100\n",
    "b = 200\n",
    "c = a+b\n",
    "# the addition of 100 and 200 is 300\n",
    "print('the addition of',a,'and',b,'is',c)"
   ]
  },
  {
   "cell_type": "code",
   "execution_count": 31,
   "id": "050b01ed-e0be-4d65-b5b3-d3797774ab4d",
   "metadata": {},
   "outputs": [
    {
     "name": "stdout",
     "output_type": "stream",
     "text": [
      "My name is python im 10 years old and from Hyd\n"
     ]
    }
   ],
   "source": [
    "name='python'\n",
    "age=10\n",
    "city='Hyd'\n",
    "# My name is python i'm 10 years old and from Hyd\n",
    "print('My name is',name,'im',age,'years old and from',city)"
   ]
  },
  {
   "cell_type": "markdown",
   "id": "13a1d2ea-57d2-4e8a-90c8-7d281f765d4b",
   "metadata": {},
   "source": [
    "# Format methon"
   ]
  },
  {
   "cell_type": "code",
   "execution_count": 39,
   "id": "bfc2f47b-8eef-4832-bb44-17c608e3ffc5",
   "metadata": {},
   "outputs": [
    {
     "name": "stdout",
     "output_type": "stream",
     "text": [
      "the addition of 100 and 200 is 300\n",
      "the addition of 100 and 200 is 300\n"
     ]
    }
   ],
   "source": [
    "a = 100\n",
    "b = 200\n",
    "c = a+b\n",
    "# the addition of 100 and 200 is 300\n",
    "print('the addition of 100 and 200 is 300')\n",
    "print('the addition of {} and {} is {}'.format(a,b,c))"
   ]
  },
  {
   "cell_type": "code",
   "execution_count": 47,
   "id": "ceb29511-6c19-4de8-a1a2-bea2dda26737",
   "metadata": {},
   "outputs": [
    {
     "name": "stdout",
     "output_type": "stream",
     "text": [
      "My name is python im 10 years old and from Hyd\n",
      "My name is python im 10 years old and from Hyd\n",
      "My name is Hyd im 10 years old and from python\n"
     ]
    }
   ],
   "source": [
    "name='python'\n",
    "age=10\n",
    "city='Hyd'\n",
    "# My name is python i'm 10 years old and from Hyd\n",
    "print('My name is',name,'im',age,'years old and from',city)\n",
    "print('My name is {} im {} years old and from {}'.format(name,age,city))\n",
    "print('My name is {} im {} years old and from {}'.format(city,age,name))"
   ]
  },
  {
   "cell_type": "code",
   "execution_count": 51,
   "id": "7d5a5577-e4f2-4b93-aa44-2ad04499e1b8",
   "metadata": {},
   "outputs": [
    {
     "name": "stdout",
     "output_type": "stream",
     "text": [
      "the addition of 100 and 200 is 300\n",
      "the substraction of 100 and 200 is -100\n",
      "the multiplication of 100 and 200 is 20000\n",
      "the division of 100 and 200 is 0.5\n"
     ]
    }
   ],
   "source": [
    "n1=100\n",
    "n2=200\n",
    "add=n1+n2\n",
    "sub=n1-n2\n",
    "mul1=n1*n2\n",
    "div=n1/n2\n",
    "print('the addition of {} and {} is {}'.format(n1,n2,n1+n2))\n",
    "print('the substraction of {} and {} is {}'.format(n1,n2,n1-n2))\n",
    "print('the multiplication of {} and {} is {}'.format(n1,n2,n1*n2))\n",
    "print('the division of {} and {} is {}'.format(n1,n2,n1/n2))"
   ]
  },
  {
   "cell_type": "markdown",
   "id": "56637827-8fce-4591-bf3d-5e1d5d58a982",
   "metadata": {},
   "source": [
    "# F string"
   ]
  },
  {
   "cell_type": "code",
   "execution_count": 55,
   "id": "f9826bbb-c643-4c38-b65b-634a6edb3b25",
   "metadata": {},
   "outputs": [
    {
     "name": "stdout",
     "output_type": "stream",
     "text": [
      "the addition of 100 and 200 is 300\n",
      "the addition of 100 and 200 is 300\n",
      "the addition of 100 and 200 is 300.\n"
     ]
    }
   ],
   "source": [
    "a = 100\n",
    "b = 200\n",
    "c = a+b\n",
    "# the addition of 100 and 200 is 300\n",
    "print('the addition of',a,'and',b,'is',c)\n",
    "print('the addition of {} and {} is {}'.format(a,b,c))\n",
    "print(f'the addition of {a} and {b} is {c}.')"
   ]
  },
  {
   "cell_type": "code",
   "execution_count": 58,
   "id": "30614319-ccdf-41e9-b1a9-45f41ca4b92b",
   "metadata": {},
   "outputs": [
    {
     "name": "stdout",
     "output_type": "stream",
     "text": [
      "the addition of 100 and 200 is 300\n",
      "the substraction of 100 and 200 is -100\n",
      "the multiplication of 100 and 200 is 20000\n",
      "the division of 100 and 200 is 0.5\n"
     ]
    }
   ],
   "source": [
    "n1=100\n",
    "n2=200\n",
    "add=n1+n2\n",
    "sub=n1-n2\n",
    "mul1=n1*n2\n",
    "div=n1/n2\n",
    "print(f'the addition of {n1} and {n2} is {n1+n2}')\n",
    "print(f'the substraction of {n1} and {n2} is {n1-n2}')\n",
    "print(f'the multiplication of {n1} and {n2} is {n1*n2}')\n",
    "print(f'the division of {n1} and {n2} is {n1/n2}')"
   ]
  },
  {
   "cell_type": "markdown",
   "id": "52801bd4-09bf-4fa6-8387-96b51daa2665",
   "metadata": {},
   "source": [
    "- we have a situation wants to combine two print statements"
   ]
  },
  {
   "cell_type": "code",
   "execution_count": 63,
   "id": "1d8ecd33-f307-4ca6-9522-6619e18862b7",
   "metadata": {},
   "outputs": [
    {
     "name": "stdout",
     "output_type": "stream",
     "text": [
      "Hello\n",
      "good morning\n",
      "Hai\n"
     ]
    }
   ],
   "source": [
    "print('Hello')\n",
    "print('good morning')\n",
    "print('Hai')\n",
    "\n",
    "# Hello good morning"
   ]
  },
  {
   "cell_type": "code",
   "execution_count": 65,
   "id": "60cb526a-4eeb-4f24-95ea-9d83fc408508",
   "metadata": {},
   "outputs": [
    {
     "name": "stdout",
     "output_type": "stream",
     "text": [
      "Hello good morning\n"
     ]
    }
   ],
   "source": [
    "print('Hello good morning')"
   ]
  },
  {
   "cell_type": "markdown",
   "id": "6257b06f-d812-408c-a7d9-8f5c85b8f828",
   "metadata": {},
   "source": [
    "$end$"
   ]
  },
  {
   "cell_type": "code",
   "execution_count": 82,
   "id": "2bb0eab2-d601-47c7-ba8e-a35043a490a2",
   "metadata": {},
   "outputs": [
    {
     "name": "stdout",
     "output_type": "stream",
     "text": [
      "20***30\n",
      "30\n"
     ]
    }
   ],
   "source": [
    "print(20,end='***')\n",
    "a=30\n",
    "print(30)\n",
    "print(a)"
   ]
  },
  {
   "cell_type": "code",
   "execution_count": 85,
   "id": "bb9fbf4d-0f70-4859-a02b-681d16602c59",
   "metadata": {},
   "outputs": [
    {
     "name": "stdout",
     "output_type": "stream",
     "text": [
      "1 2 3\n"
     ]
    }
   ],
   "source": [
    "print(1,end=' ')\n",
    "print(2,end=' ')\n",
    "print(3)"
   ]
  },
  {
   "cell_type": "code",
   "execution_count": 89,
   "id": "c0e320a4-9f89-419b-afcf-ab8c1a32f13b",
   "metadata": {},
   "outputs": [
    {
     "name": "stdout",
     "output_type": "stream",
     "text": [
      "20 **** 30\n"
     ]
    }
   ],
   "source": [
    "print(20,'****',30)"
   ]
  },
  {
   "cell_type": "code",
   "execution_count": 91,
   "id": "9e63cd00-fd31-4fe0-9e63-84859809775b",
   "metadata": {},
   "outputs": [
    {
     "name": "stdout",
     "output_type": "stream",
     "text": [
      "20****30\n"
     ]
    }
   ],
   "source": [
    "print(20,end='****')\n",
    "print(30)"
   ]
  },
  {
   "cell_type": "markdown",
   "id": "092bfb78-1aa6-4d8c-9d91-e2f483dfa3d7",
   "metadata": {},
   "source": [
    "- We want to separate the multiple variables in one print statement"
   ]
  },
  {
   "cell_type": "code",
   "execution_count": 98,
   "id": "95df16fd-18db-4945-ab81-5ad8cb9b8902",
   "metadata": {},
   "outputs": [
    {
     "name": "stdout",
     "output_type": "stream",
     "text": [
      "20 ----> 30\n"
     ]
    }
   ],
   "source": [
    "print(20,'---->',30)"
   ]
  },
  {
   "cell_type": "markdown",
   "id": "d7ebc957-2ae4-478a-8138-c23df2837923",
   "metadata": {},
   "source": [
    "$sep$"
   ]
  },
  {
   "cell_type": "code",
   "execution_count": 107,
   "id": "92bd95b4-ca3d-428b-bb1d-d044f6f73d25",
   "metadata": {},
   "outputs": [
    {
     "name": "stdout",
     "output_type": "stream",
     "text": [
      "20=30=50\n"
     ]
    }
   ],
   "source": [
    "print(20,30,50,sep='=')"
   ]
  },
  {
   "cell_type": "markdown",
   "id": "829beb6e-b8e9-4465-b3a2-4e8e92e0e307",
   "metadata": {},
   "source": [
    "- end operator used to combine multiple print statements\n",
    "\n",
    "- sep operator used to separate the multiple variables in a single print statements"
   ]
  },
  {
   "cell_type": "code",
   "execution_count": 110,
   "id": "90e966f1-2c52-46e4-a2b2-86c4e76c96e8",
   "metadata": {},
   "outputs": [
    {
     "name": "stdout",
     "output_type": "stream",
     "text": [
      "the addition of 3+4 is 7 .\n"
     ]
    }
   ],
   "source": [
    "print('the addition of 3+4 is',3+4,'.')"
   ]
  },
  {
   "cell_type": "code",
   "execution_count": 114,
   "id": "90a9697c-4070-4c06-a87e-f904b1e8444e",
   "metadata": {},
   "outputs": [
    {
     "name": "stdout",
     "output_type": "stream",
     "text": [
      "the addition of 7 is 7\n"
     ]
    }
   ],
   "source": [
    "print(f'the addition of {3+4} is {7}')"
   ]
  },
  {
   "cell_type": "code",
   "execution_count": 120,
   "id": "573793b3-205d-439a-b809-5b389070c145",
   "metadata": {},
   "outputs": [
    {
     "ename": "SyntaxError",
     "evalue": "invalid syntax. Perhaps you forgot a comma? (2531781535.py, line 1)",
     "output_type": "error",
     "traceback": [
      "\u001b[1;36m  Cell \u001b[1;32mIn[120], line 1\u001b[1;36m\u001b[0m\n\u001b[1;33m    print(the addition of,sep='3+4')\u001b[0m\n\u001b[1;37m          ^\u001b[0m\n\u001b[1;31mSyntaxError\u001b[0m\u001b[1;31m:\u001b[0m invalid syntax. Perhaps you forgot a comma?\n"
     ]
    }
   ],
   "source": [
    "print(the addition of,sep='3+4')"
   ]
  },
  {
   "cell_type": "code",
   "execution_count": null,
   "id": "d24c358c-8ccb-460b-bf50-57933d96a3ae",
   "metadata": {},
   "outputs": [],
   "source": []
  }
 ],
 "metadata": {
  "kernelspec": {
   "display_name": "Python 3 (ipykernel)",
   "language": "python",
   "name": "python3"
  },
  "language_info": {
   "codemirror_mode": {
    "name": "ipython",
    "version": 3
   },
   "file_extension": ".py",
   "mimetype": "text/x-python",
   "name": "python",
   "nbconvert_exporter": "python",
   "pygments_lexer": "ipython3",
   "version": "3.12.4"
  }
 },
 "nbformat": 4,
 "nbformat_minor": 5
}
