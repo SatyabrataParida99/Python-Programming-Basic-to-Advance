{
 "cells": [
  {
   "cell_type": "markdown",
   "id": "94a1b031-a576-47f1-8666-4e23e92f3eae",
   "metadata": {},
   "source": [
    "- List comprehension is a way to write the code line in a single line\n",
    "\n",
    "- whenever we use for loops and if conditions the time will be increase\n",
    "\n",
    "- list comprehension will able to write for loop and if condition in a single line\n",
    "\n",
    "- which reduce the time to get the output"
   ]
  },
  {
   "cell_type": "code",
   "execution_count": 2,
   "id": "b7c7b1e3-0957-4b7f-9aeb-e0b598973f38",
   "metadata": {},
   "outputs": [
    {
     "name": "stdout",
     "output_type": "stream",
     "text": [
      "0 1 2 3 4 5 6 7 8 9 "
     ]
    }
   ],
   "source": [
    "for i in range(10):\n",
    "    print(i,end=' ')"
   ]
  },
  {
   "cell_type": "code",
   "execution_count": 4,
   "id": "e94cc912-4c24-4cdb-8269-883ea53ecc17",
   "metadata": {},
   "outputs": [
    {
     "data": {
      "text/plain": [
       "[0, 1, 2, 3, 4, 5, 6, 7, 8, 9]"
      ]
     },
     "execution_count": 4,
     "metadata": {},
     "output_type": "execute_result"
    }
   ],
   "source": [
    "list1=[]\n",
    "for i in range(10):\n",
    "    list1.append(i)\n",
    "list1"
   ]
  },
  {
   "cell_type": "markdown",
   "id": "3fe5a249-9045-48b9-9951-36ff26439f5c",
   "metadata": {},
   "source": [
    "**Method-1: Only for loop**"
   ]
  },
  {
   "cell_type": "code",
   "execution_count": null,
   "id": "9cad1d7d-da5f-4050-ae84-41fa2bf9f8f2",
   "metadata": {},
   "outputs": [],
   "source": [
    "#list1=[<code here>]\n",
    "#list1=[<output> <for loop>]"
   ]
  },
  {
   "cell_type": "code",
   "execution_count": 7,
   "id": "2dbaff34-5c91-476b-8e86-c0d0a9c4ce89",
   "metadata": {},
   "outputs": [
    {
     "data": {
      "text/plain": [
       "[0, 1, 2, 3, 4, 5, 6, 7, 8, 9]"
      ]
     },
     "execution_count": 7,
     "metadata": {},
     "output_type": "execute_result"
    }
   ],
   "source": [
    "list1=[i for i in range(10)]\n",
    "list1"
   ]
  },
  {
   "cell_type": "code",
   "execution_count": null,
   "id": "3cf5093a-c307-46a7-b569-6130d68450f1",
   "metadata": {},
   "outputs": [],
   "source": [
    "# Q1)  l1=['hyd','chennai','mumbai','pune']\n",
    "#     ans=['Hyd','Chennai','Mumabi','Pune']\n",
    "\n",
    "#Q2)  l1=['hyd','chennai','mumbai','pune']\n",
    "#     ans=['HYD','CHENNAI','MUMBAI','PUNE']\n",
    "\n",
    "#Q3)  l1=['hyd','chennai','mumbai','pune']\n",
    "#     ans=[0,10,20,30]  multiply index with 10\n",
    "\n",
    "#Q4)  l1=['hyd','chennai','mumbai','pune']\n",
    "#     ans=[6]  sum of the indexes"
   ]
  },
  {
   "cell_type": "code",
   "execution_count": 13,
   "id": "39469208-a9d7-4f61-bf3c-260673c9bf55",
   "metadata": {},
   "outputs": [
    {
     "data": {
      "text/plain": [
       "['Hyd', 'Chennai', 'Mumbai', 'Pune']"
      ]
     },
     "execution_count": 13,
     "metadata": {},
     "output_type": "execute_result"
    }
   ],
   "source": [
    "# Q1)  l1=['hyd','chennai','mumbai','pune']\n",
    "#     ans=['Hyd','Chennai','Mumabi','Pune']\n",
    "\n",
    "l1=['hyd','chennai','mumbai','pune']\n",
    "ans=[]\n",
    "for i in l1:\n",
    "    ans.append(i.capitalize())\n",
    "ans"
   ]
  },
  {
   "cell_type": "code",
   "execution_count": 11,
   "id": "bbf05be3-9d2e-410f-9f98-85238053e14d",
   "metadata": {},
   "outputs": [
    {
     "data": {
      "text/plain": [
       "['Hyd', 'Chennai', 'Mumbai', 'Pune']"
      ]
     },
     "execution_count": 11,
     "metadata": {},
     "output_type": "execute_result"
    }
   ],
   "source": [
    "l1=['hyd','chennai','mumbai','pune']\n",
    "ans=[i.capitalize() for i in l1]\n",
    "ans"
   ]
  },
  {
   "cell_type": "code",
   "execution_count": 15,
   "id": "063dfc58-bc04-405b-bc26-feb00ac8ab47",
   "metadata": {},
   "outputs": [
    {
     "data": {
      "text/plain": [
       "['Hyd', 'Chennai', 'Mumbai', 'Pune']"
      ]
     },
     "execution_count": 15,
     "metadata": {},
     "output_type": "execute_result"
    }
   ],
   "source": [
    "ans==[i.capitalize() for i in ['hyd','chennai','mumbai','pune']]\n",
    "ans"
   ]
  },
  {
   "cell_type": "code",
   "execution_count": 17,
   "id": "0eceadda-10fb-42d2-9840-782de361871f",
   "metadata": {},
   "outputs": [
    {
     "data": {
      "text/plain": [
       "['HYD', 'CHENNAI', 'MUMBAI', 'PUNE']"
      ]
     },
     "execution_count": 17,
     "metadata": {},
     "output_type": "execute_result"
    }
   ],
   "source": [
    "#Q2)  l1=['hyd','chennai','mumbai','pune']\n",
    "#     ans=['HYD','CHENNAI','MUMBAI','PUNE']\n",
    "\n",
    "l1=['hyd','chennai','mumbai','pune']\n",
    "ans=[]\n",
    "for i in l1:\n",
    "    ans.append(i.upper())\n",
    "ans"
   ]
  },
  {
   "cell_type": "code",
   "execution_count": 19,
   "id": "764d4a30-f31a-4cd3-bfad-b68eb23707d3",
   "metadata": {},
   "outputs": [
    {
     "data": {
      "text/plain": [
       "['HYD', 'CHENNAI', 'MUMBAI', 'PUNE']"
      ]
     },
     "execution_count": 19,
     "metadata": {},
     "output_type": "execute_result"
    }
   ],
   "source": [
    "l1=['hyd','chennai','mumbai','pune']\n",
    "ans=[i.upper() for i in l1]\n",
    "ans"
   ]
  },
  {
   "cell_type": "code",
   "execution_count": 21,
   "id": "22f295ec-1015-4901-942b-fcbfe7302178",
   "metadata": {},
   "outputs": [
    {
     "data": {
      "text/plain": [
       "[0, 10, 20, 30]"
      ]
     },
     "execution_count": 21,
     "metadata": {},
     "output_type": "execute_result"
    }
   ],
   "source": [
    "#Q3)  l1=['hyd','chennai','mumbai','pune']\n",
    "#     ans=[0,10,20,30]  multiply index with 10\n",
    "\n",
    "l1=['hyd','chennai','mumbai','pune']\n",
    "#    0       1        2        3\n",
    "ans=[]\n",
    "for i in l1:\n",
    "    ans.append(l1.index(i)*10)\n",
    "ans"
   ]
  },
  {
   "cell_type": "code",
   "execution_count": 23,
   "id": "3f0a53ce-32e4-4a31-8904-87d011a98c6b",
   "metadata": {},
   "outputs": [
    {
     "data": {
      "text/plain": [
       "[0, 10, 20, 30]"
      ]
     },
     "execution_count": 23,
     "metadata": {},
     "output_type": "execute_result"
    }
   ],
   "source": [
    "ans=[l1.index(i)*10 for i in l1]\n",
    "ans"
   ]
  },
  {
   "cell_type": "code",
   "execution_count": 25,
   "id": "627d1fa0-cbc9-4643-b20a-175e63c4e353",
   "metadata": {},
   "outputs": [
    {
     "data": {
      "text/plain": [
       "6"
      ]
     },
     "execution_count": 25,
     "metadata": {},
     "output_type": "execute_result"
    }
   ],
   "source": [
    "#Q4)  l1=['hyd','chennai','mumbai','pune']\n",
    "#    ans=[6]  sum of the indexes\n",
    "\n",
    "l1=['hyd','chennai','mumbai','pune']\n",
    "summ=0\n",
    "ans=[l1.index(i) for i in l1]\n",
    "sum(ans)"
   ]
  },
  {
   "cell_type": "code",
   "execution_count": 33,
   "id": "e0450761-973a-4dfb-9e5a-493bb68a3bd0",
   "metadata": {},
   "outputs": [
    {
     "name": "stdout",
     "output_type": "stream",
     "text": [
      "0\n",
      "2\n",
      "6\n",
      "12\n"
     ]
    }
   ],
   "source": [
    "summ=0\n",
    "for i in l1:\n",
    "    summ=summ+l1.index(i)\n",
    "    summ+=l1.index(i)\n",
    "    print(summ)"
   ]
  },
  {
   "cell_type": "code",
   "execution_count": 35,
   "id": "42f4ef1a-84ba-4144-8e4c-e75613e98695",
   "metadata": {},
   "outputs": [
    {
     "data": {
      "text/plain": [
       "[0, 1, 2, 3]"
      ]
     },
     "execution_count": 35,
     "metadata": {},
     "output_type": "execute_result"
    }
   ],
   "source": [
    "l1=['hyd','chennai','mumbai','pune']\n",
    "summ=0\n",
    "ans=[i for i in range(len(l1))]\n",
    "ans"
   ]
  },
  {
   "cell_type": "markdown",
   "id": "bd3a9f56-6bd0-4722-a4fe-6d648eed27a1",
   "metadata": {},
   "source": [
    "**Method-2**\n",
    "\n",
    "- for loop with if condition"
   ]
  },
  {
   "cell_type": "code",
   "execution_count": 38,
   "id": "ffddfc5a-3e06-4759-b056-4f1adbb97acf",
   "metadata": {},
   "outputs": [
    {
     "data": {
      "text/plain": [
       "['chen#ai', 'mu#bai']"
      ]
     },
     "execution_count": 38,
     "metadata": {},
     "output_type": "execute_result"
    }
   ],
   "source": [
    "#Q6)  l1=['hyd','chen#ai','mu#bai','pune']\n",
    "#     ans=['chen#ai','mu#bai']\n",
    "\n",
    "l1=['hyd','chen#ai','mu#bai','pune']\n",
    "ans=[]\n",
    "for i in l1:\n",
    "    if '#' in i:\n",
    "        ans.append(i)\n",
    "\n",
    "ans"
   ]
  },
  {
   "cell_type": "code",
   "execution_count": 40,
   "id": "fcf2b93a-89b4-4016-93c3-97055b22c454",
   "metadata": {},
   "outputs": [
    {
     "ename": "SyntaxError",
     "evalue": "expected 'else' after 'if' expression (1016266204.py, line 4)",
     "output_type": "error",
     "traceback": [
      "\u001b[1;36m  Cell \u001b[1;32mIn[40], line 4\u001b[1;36m\u001b[0m\n\u001b[1;33m    [i if '#' in i for i in l1]\u001b[0m\n\u001b[1;37m     ^\u001b[0m\n\u001b[1;31mSyntaxError\u001b[0m\u001b[1;31m:\u001b[0m expected 'else' after 'if' expression\n"
     ]
    }
   ],
   "source": [
    "#[<output> <forloop>]\n",
    "#[<output> <if condition> <forloop>]\n",
    "\n",
    "[i if '#' in i for i in l1]"
   ]
  },
  {
   "cell_type": "code",
   "execution_count": 42,
   "id": "bf208cfc-242d-4773-9449-10072b567745",
   "metadata": {},
   "outputs": [
    {
     "data": {
      "text/plain": [
       "['chen#ai', 'mu#bai']"
      ]
     },
     "execution_count": 42,
     "metadata": {},
     "output_type": "execute_result"
    }
   ],
   "source": [
    "[i for i in l1 if '#' in i]"
   ]
  },
  {
   "cell_type": "code",
   "execution_count": null,
   "id": "b7baa0ee-6347-48f3-a1da-9de992ee7350",
   "metadata": {},
   "outputs": [],
   "source": [
    "#[<output> <for loop> <if condition>]\n",
    "\n",
    "#Q7)  l1=['hyd','chen#ai','mu#bai','pune']\n",
    "#     ans=['hyd','pune']\n",
    "# Q3) dont give if and else\n",
    "#    write two answers both will use if only\n",
    "#   evenlist=[<write your code here>]\n",
    "#   oddlist=[<write your code here>]\n",
    "#  list1=[100,20,27,38,47,52,87]\n",
    "# using this we need to extract even and odd numbers\n",
    "# even_list=[20.38,52,100] the output should be sorted\n",
    "# odd_list=[27,47,38,87] the output should be sorted"
   ]
  },
  {
   "cell_type": "code",
   "execution_count": 44,
   "id": "ba5482cf-18fd-4901-a212-bfa0010f73a7",
   "metadata": {},
   "outputs": [
    {
     "data": {
      "text/plain": [
       "([100, 20, 38, 52], [27, 47, 87])"
      ]
     },
     "execution_count": 44,
     "metadata": {},
     "output_type": "execute_result"
    }
   ],
   "source": [
    "list1=[100,20,27,38,47,52,87]\n",
    "even_list=[i for i in list1 if i%2==0]\n",
    "odd_list=[i for i in list1 if i%2!=0]\n",
    "even_list,odd_list\n",
    "([100, 20, 38, 52], [27, 47, 87])"
   ]
  },
  {
   "cell_type": "markdown",
   "id": "015fda85-d16d-4b5c-80b3-601f25d48491",
   "metadata": {},
   "source": [
    "**Method-3: for loop - if -else**"
   ]
  },
  {
   "cell_type": "code",
   "execution_count": null,
   "id": "013836a5-79dd-483a-8126-4568bc33192b",
   "metadata": {},
   "outputs": [],
   "source": [
    "method-1: for loop [<output> <forloop>]\n",
    "method-2: for loop-if [<output> <forloop> <if condtion>]\n",
    "method-3: for-if-else: [<if output> <if condition> else <else output> <forloop> "
   ]
  },
  {
   "cell_type": "code",
   "execution_count": 47,
   "id": "08490d94-7564-46e5-934a-3807d51ad820",
   "metadata": {},
   "outputs": [
    {
     "data": {
      "text/plain": [
       "['even:100', 'even:20', 'odd:27', 'even:38', 'odd:47', 'even:52', 'odd:87']"
      ]
     },
     "execution_count": 47,
     "metadata": {},
     "output_type": "execute_result"
    }
   ],
   "source": [
    "list1=[100,20,27,38,47,52,87]\n",
    "[f'even:{i}' if i%2==0 else f'odd:{i}' for i in list1]"
   ]
  },
  {
   "cell_type": "code",
   "execution_count": 49,
   "id": "2e23535d-7b63-4bd8-ac75-758376a8a60f",
   "metadata": {},
   "outputs": [],
   "source": [
    "l=[45,76,89,53,67,90,82,49,33,99]\n",
    "# 1. filter the students who pass marks>=50\n",
    "# 2. calculate grades of all students\n",
    "#        A: 85+, B: 70-84  C : 50-69  D:<50\n",
    "#        4 lists will come\n",
    "# 3. Add 5 grace marks to students who failed <50\n",
    "# 4. find the average marks of the class"
   ]
  },
  {
   "cell_type": "code",
   "execution_count": 51,
   "id": "95da15a1-2266-4290-93d7-7b0d85fab99e",
   "metadata": {},
   "outputs": [
    {
     "data": {
      "text/plain": [
       "[76, 89, 53, 67, 90, 82, 99]"
      ]
     },
     "execution_count": 51,
     "metadata": {},
     "output_type": "execute_result"
    }
   ],
   "source": [
    "l=[45,76,89,53,67,90,82,49,33,99]\n",
    "# 1. filter the students who pass marks>=50\n",
    "[i for i in l if i>=50]"
   ]
  },
  {
   "cell_type": "code",
   "execution_count": 55,
   "id": "361685c3-f8dd-487b-9603-cc70ca5c5dd8",
   "metadata": {},
   "outputs": [
    {
     "data": {
      "text/plain": [
       "['D:45',\n",
       " 'B:76',\n",
       " 'A:89',\n",
       " 'C:53',\n",
       " 'C:67',\n",
       " 'A:90',\n",
       " 'B:82',\n",
       " 'D:49',\n",
       " 'D:33',\n",
       " 'A:99']"
      ]
     },
     "execution_count": 55,
     "metadata": {},
     "output_type": "execute_result"
    }
   ],
   "source": [
    "# 2. calculate grades of all students\n",
    "#        A: 85+, B: 70-84  C : 50-69  D:<50\n",
    "grade_list=[]\n",
    "for i in l:\n",
    "    if i>85:\n",
    "        grade_list.append(f'A:{i}')\n",
    "    elif i>=70:\n",
    "        grade_list.append(f'B:{i}')\n",
    "    elif i>=50:\n",
    "        grade_list.append(f'C:{i}')\n",
    "    else:\n",
    "        grade_list.append(f'D:{i}')\n",
    "grade_list"
   ]
  },
  {
   "cell_type": "markdown",
   "id": "861da869-310f-4f44-8960-6e9f36396e6c",
   "metadata": {},
   "source": [
    " **Method-4: for if elif else**\n",
    "\n",
    "- there is no elif in list comprehension\n",
    "\n",
    "- elif also we can write : else+if\n",
    "\n",
    "- method-3: [<if output> <if cond> else <elseoutut>]\n",
    "\n",
    "- method-4: [<if output> <if cond> else <elif out> <elif con> else <elseoutut>"
   ]
  },
  {
   "cell_type": "code",
   "execution_count": 59,
   "id": "10c081cf-5401-4b28-87d5-77cfa5eb19b7",
   "metadata": {},
   "outputs": [
    {
     "ename": "SyntaxError",
     "evalue": "expected 'else' after 'if' expression (2110799149.py, line 11)",
     "output_type": "error",
     "traceback": [
      "\u001b[1;36m  Cell \u001b[1;32mIn[59], line 11\u001b[1;36m\u001b[0m\n\u001b[1;33m    f'A{i}' if i>=85\u001b[0m\n\u001b[1;37m    ^\u001b[0m\n\u001b[1;31mSyntaxError\u001b[0m\u001b[1;31m:\u001b[0m expected 'else' after 'if' expression\n"
     ]
    }
   ],
   "source": [
    "grade_list=[]\n",
    "for i in l:\n",
    "    if i>85:\n",
    "        grade_list.append(f'A:{i}')\n",
    "    elif i>=70:\n",
    "        grade_list.append(f'B:{i}')\n",
    "    else:\n",
    "        grade_list.append(f'C:{i}')\n",
    "grade_list\n",
    "\n",
    "f'A{i}' if i>=85\n",
    "else f'B:{i}' if i>=70  :  else+if = elif\n",
    "else f'C:{i}' if i>=50  : else+if=elif\n",
    "else f'D:{i}'\n",
    "\n",
    "[f'A:{i}' if i>85 else f'B:{i}' if i>=70 else  f'C:{i}' for i in l]"
   ]
  },
  {
   "cell_type": "code",
   "execution_count": 71,
   "id": "0d02845c-597a-41e8-9100-8d25ab447292",
   "metadata": {},
   "outputs": [
    {
     "ename": "SyntaxError",
     "evalue": "invalid syntax (3998236995.py, line 12)",
     "output_type": "error",
     "traceback": [
      "\u001b[1;36m  Cell \u001b[1;32mIn[71], line 12\u001b[1;36m\u001b[0m\n\u001b[1;33m    else f'B:{i}' if i>=70  :  else+if = elif\u001b[0m\n\u001b[1;37m    ^\u001b[0m\n\u001b[1;31mSyntaxError\u001b[0m\u001b[1;31m:\u001b[0m invalid syntax\n"
     ]
    }
   ],
   "source": [
    "grade_list=[]\n",
    "for i in l:\n",
    "    if i>85:\n",
    "        grade_list.append(f'A:{i}')\n",
    "    elif i>=70:\n",
    "        grade_list.append(f'B:{i}')\n",
    "    else:\n",
    "        grade_list.append(f'C:{i}')\n",
    "grade_list\n",
    "\n",
    "f'A{i}' if i >= 85 else 'SomeOtherValue'\n",
    "else f'B:{i}' if i>=70  :  else+if = elif\n",
    "else f'C:{i}' if i>=50  :  else+if=elif\n",
    "else f'D:{i}'\n",
    "\n",
    "grade_list = [f'A:{i}' if i > 85 else f'B:{i}' if i >= 70 else f'C:{i}' if i >= 50 else f'D:{i}' for i in l]"
   ]
  },
  {
   "cell_type": "code",
   "execution_count": null,
   "id": "ddd8bdbd-804f-4596-b2c9-cb5c382dcd42",
   "metadata": {},
   "outputs": [],
   "source": [
    "method-1: for loop [<output> <forloop>]\n",
    "method-2: for loop-if [<output> <forloop> <if condtion>]\n",
    "method-3: for-if-else: [<if output> <if condition> else <else output> <forloop> \n",
    "method-4: [<if output> <if cond> else <elif out> <elif con> else <elseoutut> <fo"
   ]
  },
  {
   "cell_type": "code",
   "execution_count": 65,
   "id": "0c499019-b652-4d9a-9fb1-849866a867ac",
   "metadata": {},
   "outputs": [
    {
     "data": {
      "text/plain": [
       "68.3"
      ]
     },
     "execution_count": 65,
     "metadata": {},
     "output_type": "execute_result"
    }
   ],
   "source": [
    "l=[45,76,89,53,67,90,82,49,33,99]\n",
    "sum(l)/len(l)"
   ]
  },
  {
   "cell_type": "code",
   "execution_count": 73,
   "id": "8dff9a46-88e5-4fad-aa33-76404b582261",
   "metadata": {},
   "outputs": [
    {
     "name": "stdout",
     "output_type": "stream",
     "text": [
      "683\n",
      "avg: 68.3\n"
     ]
    }
   ],
   "source": [
    "summ=0\n",
    "for i in l:\n",
    "    summ=summ+i\n",
    "print(summ)\n",
    "print('avg:',summ/len(l))"
   ]
  },
  {
   "cell_type": "markdown",
   "id": "53aab923-22b1-48ce-bde2-454c0055ba26",
   "metadata": {},
   "source": [
    "**walrus operator**\n",
    "\n",
    "- in list comprehension = will not work\n",
    "\n",
    "- if you want to write equal to (=) , then will use walrus operator :="
   ]
  },
  {
   "cell_type": "code",
   "execution_count": 78,
   "id": "82abbe6b-d314-4805-a134-efa6d8133e78",
   "metadata": {},
   "outputs": [
    {
     "data": {
      "text/plain": [
       "68.3"
      ]
     },
     "execution_count": 78,
     "metadata": {},
     "output_type": "execute_result"
    }
   ],
   "source": [
    "total=0\n",
    "ans=[total:=total+i for i in l]\n",
    "total/len(ans)"
   ]
  },
  {
   "cell_type": "code",
   "execution_count": null,
   "id": "01abba1c-330d-424b-8689-9eb3f579809e",
   "metadata": {},
   "outputs": [],
   "source": []
  }
 ],
 "metadata": {
  "kernelspec": {
   "display_name": "Python 3 (ipykernel)",
   "language": "python",
   "name": "python3"
  },
  "language_info": {
   "codemirror_mode": {
    "name": "ipython",
    "version": 3
   },
   "file_extension": ".py",
   "mimetype": "text/x-python",
   "name": "python",
   "nbconvert_exporter": "python",
   "pygments_lexer": "ipython3",
   "version": "3.12.4"
  }
 },
 "nbformat": 4,
 "nbformat_minor": 5
}
