{
 "cells": [
  {
   "cell_type": "markdown",
   "id": "5c65ff72-6280-4b5f-9744-d3e953d5aec8",
   "metadata": {},
   "source": [
    "**Type cast**"
   ]
  },
  {
   "cell_type": "markdown",
   "id": "ea5a7d74-9464-4114-bc8b-d2d57736a404",
   "metadata": {},
   "source": [
    "- Changing one data type to another data type is called type casting."
   ]
  },
  {
   "cell_type": "markdown",
   "id": "751fa8fc-0fb3-4a3c-aeab-bda3a915118c",
   "metadata": {},
   "source": [
    "- int to float \n",
    "- int to str\n",
    "- int to boolean"
   ]
  },
  {
   "cell_type": "code",
   "execution_count": 7,
   "id": "4547700f-d080-4901-be0c-bd0a94b96388",
   "metadata": {},
   "outputs": [
    {
     "data": {
      "text/plain": [
       "int"
      ]
     },
     "execution_count": 7,
     "metadata": {},
     "output_type": "execute_result"
    }
   ],
   "source": [
    "number=100\n",
    "type(number)"
   ]
  },
  {
   "cell_type": "code",
   "execution_count": 13,
   "id": "b32f3904-78a8-41f9-bedd-044d761f64d3",
   "metadata": {},
   "outputs": [
    {
     "data": {
      "text/plain": [
       "(100.0, float)"
      ]
     },
     "execution_count": 13,
     "metadata": {},
     "output_type": "execute_result"
    }
   ],
   "source": [
    "# int to float\n",
    "float_number=float(number)\n",
    "float_number,type(float_number)"
   ]
  },
  {
   "cell_type": "code",
   "execution_count": 15,
   "id": "0e67d37e-6343-4d1c-b330-09f9277100ad",
   "metadata": {},
   "outputs": [
    {
     "data": {
      "text/plain": [
       "'100'"
      ]
     },
     "execution_count": 15,
     "metadata": {},
     "output_type": "execute_result"
    }
   ],
   "source": [
    "# int to string\n",
    "string_num=str(number)\n",
    "string_num"
   ]
  },
  {
   "cell_type": "code",
   "execution_count": 17,
   "id": "0f380a18-5c56-4126-9f11-ed2a35fa897c",
   "metadata": {},
   "outputs": [
    {
     "data": {
      "text/plain": [
       "True"
      ]
     },
     "execution_count": 17,
     "metadata": {},
     "output_type": "execute_result"
    }
   ],
   "source": [
    "bool(number)"
   ]
  },
  {
   "cell_type": "code",
   "execution_count": 21,
   "id": "d1d00e91-eeaf-4d98-8ad8-2cda4c8ef208",
   "metadata": {},
   "outputs": [
    {
     "name": "stdout",
     "output_type": "stream",
     "text": [
      "100.0\n",
      "100\n",
      "True\n"
     ]
    }
   ],
   "source": [
    "print(float(100))\n",
    "print(str(100))\n",
    "print(bool(100))"
   ]
  },
  {
   "cell_type": "code",
   "execution_count": 23,
   "id": "09da7135-50dc-4009-a035-d6e96e452d70",
   "metadata": {},
   "outputs": [
    {
     "name": "stdout",
     "output_type": "stream",
     "text": [
      "-100.0\n",
      "-100\n",
      "True\n"
     ]
    }
   ],
   "source": [
    "print(float(-100))\n",
    "print(str(-100))\n",
    "print(bool(-100))"
   ]
  },
  {
   "cell_type": "code",
   "execution_count": 25,
   "id": "b32465d0-336f-4c3d-9b1e-e75f09d7f1ab",
   "metadata": {},
   "outputs": [
    {
     "name": "stdout",
     "output_type": "stream",
     "text": [
      "0.0\n",
      "0\n",
      "False\n"
     ]
    }
   ],
   "source": [
    "print(float(0)) # 0.0\n",
    "print(str(0)) # '0'\n",
    "print(bool(0)) # False"
   ]
  },
  {
   "cell_type": "markdown",
   "id": "464ab2bf-edb5-46bc-a892-6625a18a5a4e",
   "metadata": {},
   "source": [
    "**Note**\n",
    "\n",
    "- Boolean conversion of any integer value other than zero becomes True\n",
    "- Boolean conversion of Zero is False "
   ]
  },
  {
   "cell_type": "markdown",
   "id": "7f04262b-4c0b-403f-8e0e-35303489ec72",
   "metadata": {},
   "source": [
    "**Float to other data types**"
   ]
  },
  {
   "cell_type": "code",
   "execution_count": 29,
   "id": "61f98995-9d79-46ed-8c2a-9377109f93a8",
   "metadata": {},
   "outputs": [
    {
     "name": "stdout",
     "output_type": "stream",
     "text": [
      "100\n",
      "100.25\n",
      "True\n"
     ]
    }
   ],
   "source": [
    "print(int(100.25))\n",
    "print(str(100.25))\n",
    "print(bool(100.25))"
   ]
  },
  {
   "cell_type": "code",
   "execution_count": 31,
   "id": "1b47a222-3d4d-4afc-8841-3c6aea2c91d5",
   "metadata": {},
   "outputs": [
    {
     "name": "stdout",
     "output_type": "stream",
     "text": [
      "-100\n",
      "-100.25\n",
      "True\n"
     ]
    }
   ],
   "source": [
    "print(int(-100.25))\n",
    "print(str(-100.25))\n",
    "print(bool(-100.25))"
   ]
  },
  {
   "cell_type": "code",
   "execution_count": 33,
   "id": "15771e44-8537-475d-9a32-7408102a1072",
   "metadata": {},
   "outputs": [
    {
     "name": "stdout",
     "output_type": "stream",
     "text": [
      "0\n",
      "0.0\n",
      "False\n"
     ]
    }
   ],
   "source": [
    "print(int(0.0))\n",
    "print(str(0.0))\n",
    "print(bool(0.0))"
   ]
  },
  {
   "cell_type": "code",
   "execution_count": 35,
   "id": "4cd0a965-139a-4ed0-b8f0-2bc1a895362e",
   "metadata": {},
   "outputs": [
    {
     "name": "stdout",
     "output_type": "stream",
     "text": [
      "python\n"
     ]
    }
   ],
   "source": [
    "name='python'\n",
    "print(name)"
   ]
  },
  {
   "cell_type": "code",
   "execution_count": 37,
   "id": "36a7d50c-69dc-46cd-8db0-56fff9638ad8",
   "metadata": {},
   "outputs": [
    {
     "data": {
      "text/plain": [
       "'python'"
      ]
     },
     "execution_count": 37,
     "metadata": {},
     "output_type": "execute_result"
    }
   ],
   "source": [
    "name"
   ]
  },
  {
   "cell_type": "markdown",
   "id": "d70a696b-61c9-4a7c-9ad7-8019fe86497a",
   "metadata": {},
   "source": [
    "**String to other data types**"
   ]
  },
  {
   "cell_type": "code",
   "execution_count": 48,
   "id": "c4a3580c-3f9e-4f1d-966b-df76142604d1",
   "metadata": {},
   "outputs": [
    {
     "data": {
      "text/plain": [
       "True"
      ]
     },
     "execution_count": 48,
     "metadata": {},
     "output_type": "execute_result"
    }
   ],
   "source": [
    "int('Apple')\n",
    "float('Apple')\n",
    "bool('Apple')"
   ]
  },
  {
   "cell_type": "code",
   "execution_count": 44,
   "id": "a97ba3b0-6427-4bac-a6fe-d29a93ad0b8e",
   "metadata": {},
   "outputs": [
    {
     "data": {
      "text/plain": [
       "False"
      ]
     },
     "execution_count": 44,
     "metadata": {},
     "output_type": "execute_result"
    }
   ],
   "source": [
    "bool('')"
   ]
  },
  {
   "cell_type": "code",
   "execution_count": 52,
   "id": "cce808e2-26e6-4f56-9786-2128cef602f9",
   "metadata": {},
   "outputs": [
    {
     "data": {
      "text/plain": [
       "10"
      ]
     },
     "execution_count": 52,
     "metadata": {},
     "output_type": "execute_result"
    }
   ],
   "source": [
    "int('10')"
   ]
  },
  {
   "cell_type": "code",
   "execution_count": 54,
   "id": "502fd53b-373b-43ee-aff2-3bba8da6b4cb",
   "metadata": {},
   "outputs": [
    {
     "data": {
      "text/plain": [
       "10.0"
      ]
     },
     "execution_count": 54,
     "metadata": {},
     "output_type": "execute_result"
    }
   ],
   "source": [
    "float('10')"
   ]
  },
  {
   "cell_type": "code",
   "execution_count": 56,
   "id": "0923d5be-b710-43b8-a3e7-d7639753d33a",
   "metadata": {},
   "outputs": [
    {
     "data": {
      "text/plain": [
       "True"
      ]
     },
     "execution_count": 56,
     "metadata": {},
     "output_type": "execute_result"
    }
   ],
   "source": [
    "bool('Apple')\n",
    "# '10' is not a integer\n",
    "# True == ON\n",
    "# False === Off === 0 === ''"
   ]
  },
  {
   "cell_type": "code",
   "execution_count": 58,
   "id": "65a2e269-d1e7-44bd-97b0-bb4422758d86",
   "metadata": {},
   "outputs": [
    {
     "ename": "ValueError",
     "evalue": "invalid literal for int() with base 10: '10.5'",
     "output_type": "error",
     "traceback": [
      "\u001b[1;31m---------------------------------------------------------------------------\u001b[0m",
      "\u001b[1;31mValueError\u001b[0m                                Traceback (most recent call last)",
      "Cell \u001b[1;32mIn[58], line 1\u001b[0m\n\u001b[1;32m----> 1\u001b[0m \u001b[38;5;28mint\u001b[39m(\u001b[38;5;124m'\u001b[39m\u001b[38;5;124m10.5\u001b[39m\u001b[38;5;124m'\u001b[39m)\n\u001b[0;32m      2\u001b[0m \u001b[38;5;28mfloat\u001b[39m(\u001b[38;5;124m'\u001b[39m\u001b[38;5;124m10.5\u001b[39m\u001b[38;5;124m'\u001b[39m)\n\u001b[0;32m      3\u001b[0m \u001b[38;5;28mbool\u001b[39m(\u001b[38;5;124m'\u001b[39m\u001b[38;5;124m10.5\u001b[39m\u001b[38;5;124m'\u001b[39m)\n",
      "\u001b[1;31mValueError\u001b[0m: invalid literal for int() with base 10: '10.5'"
     ]
    }
   ],
   "source": [
    "int('10.5')\n",
    "float('10.5')\n",
    "bool('10.5')"
   ]
  },
  {
   "cell_type": "code",
   "execution_count": 60,
   "id": "a6bce12d-47cd-40f7-8106-727b111c23d4",
   "metadata": {},
   "outputs": [
    {
     "data": {
      "text/plain": [
       "10.5"
      ]
     },
     "execution_count": 60,
     "metadata": {},
     "output_type": "execute_result"
    }
   ],
   "source": [
    "float('10')\n",
    "float('10.5')"
   ]
  },
  {
   "cell_type": "code",
   "execution_count": 62,
   "id": "fac7e263-a5b2-488a-83c5-ca975044c393",
   "metadata": {},
   "outputs": [
    {
     "data": {
      "text/plain": [
       "10.0"
      ]
     },
     "execution_count": 62,
     "metadata": {},
     "output_type": "execute_result"
    }
   ],
   "source": [
    "100/10"
   ]
  },
  {
   "cell_type": "code",
   "execution_count": 66,
   "id": "f8019126-3294-4a02-ac8a-485c2d6a046b",
   "metadata": {},
   "outputs": [
    {
     "data": {
      "text/plain": [
       "10"
      ]
     },
     "execution_count": 66,
     "metadata": {},
     "output_type": "execute_result"
    }
   ],
   "source": [
    "int(float('10.5'))"
   ]
  },
  {
   "cell_type": "code",
   "execution_count": 68,
   "id": "75c4b711-c7ad-4bed-b10e-54d1075b94b6",
   "metadata": {},
   "outputs": [
    {
     "data": {
      "text/plain": [
       "False"
      ]
     },
     "execution_count": 68,
     "metadata": {},
     "output_type": "execute_result"
    }
   ],
   "source": [
    "bool(10)\n",
    "bool('10.5')\n",
    "bool('10')\n",
    "bool(10.5)\n",
    "bool(0)\n",
    "bool(0.0)\n",
    "bool('0')\n",
    "bool('0.0')\n",
    "bool('apple')\n",
    "bool('')"
   ]
  },
  {
   "cell_type": "code",
   "execution_count": null,
   "id": "9c5b2bea-f100-43a5-a893-35f99b9104e0",
   "metadata": {},
   "outputs": [],
   "source": []
  }
 ],
 "metadata": {
  "kernelspec": {
   "display_name": "Python 3 (ipykernel)",
   "language": "python",
   "name": "python3"
  },
  "language_info": {
   "codemirror_mode": {
    "name": "ipython",
    "version": 3
   },
   "file_extension": ".py",
   "mimetype": "text/x-python",
   "name": "python",
   "nbconvert_exporter": "python",
   "pygments_lexer": "ipython3",
   "version": "3.12.4"
  }
 },
 "nbformat": 4,
 "nbformat_minor": 5
}
