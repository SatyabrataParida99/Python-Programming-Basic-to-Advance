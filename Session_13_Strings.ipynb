{
 "cells": [
  {
   "cell_type": "markdown",
   "id": "eeed02a1-f0c7-4513-95c9-e0699680f60f",
   "metadata": {},
   "source": [
    "**Strings**\n",
    " =================== PART-1==========================\n",
    "- How to intialize the strings\n",
    "  \n",
    "- in built functions\n",
    "\n",
    "  \n",
    "    - type\n",
    "      \n",
    "    - print\n",
    " \n",
    "      \n",
    "    - len\n",
    " \n",
    "      \n",
    "    - max\n",
    " \n",
    "      \n",
    "    - min\n",
    " \n",
    "      \n",
    "    - reversed\n",
    " \n",
    "      \n",
    "    - sorted\n",
    " \n",
    "    - index operation\n",
    " \n",
    "    - concatenation\n",
    " \n",
    "    - mutable vs immutable\n",
    " \n",
    "    - slicing\n",
    " \n",
    "===================== PART-2 =====================\n",
    "- string methods"
   ]
  },
  {
   "cell_type": "code",
   "execution_count": null,
   "id": "5ccf176b-ce46-4d7b-87a8-c89b94c370ad",
   "metadata": {},
   "outputs": [],
   "source": [
    "## swap two variables using third variable\n",
    "## swap two variables without using third  variable"
   ]
  },
  {
   "cell_type": "markdown",
   "id": "de992d1a-9441-4e9f-a278-b56dafe9d1e2",
   "metadata": {},
   "source": [
    "**Initialization**\n",
    "\n",
    "- strings represnt with single quotes\n",
    "\n",
    "- strings represnt with double quotes\n",
    "\n",
    "- strings represnt with triple quotes\n",
    "\n",
    "- when you print a string , the output shows as with out quotes\n",
    "\n",
    "- A string represent with triple quotes : **Doc string**\n",
    "\n",
    "- If you want highlite any word in entire string\n",
    "\n",
    "    - provide the entire string in double quotes and highlight the word with single\n",
    "      quotes vice versa"
   ]
  },
  {
   "cell_type": "code",
   "execution_count": 1,
   "id": "150dc2a8-21f5-465e-b084-8a16464137b4",
   "metadata": {},
   "outputs": [],
   "source": [
    "str1='python'"
   ]
  },
  {
   "cell_type": "code",
   "execution_count": 3,
   "id": "2f519272-e666-47d5-9366-a06a6a4603a3",
   "metadata": {},
   "outputs": [
    {
     "data": {
      "text/plain": [
       "str"
      ]
     },
     "execution_count": 3,
     "metadata": {},
     "output_type": "execute_result"
    }
   ],
   "source": [
    "type(str1)"
   ]
  },
  {
   "cell_type": "code",
   "execution_count": 5,
   "id": "ab9d4198-e927-438c-800f-a4850fc46094",
   "metadata": {},
   "outputs": [
    {
     "data": {
      "text/plain": [
       "'python'"
      ]
     },
     "execution_count": 5,
     "metadata": {},
     "output_type": "execute_result"
    }
   ],
   "source": [
    "str2=\"python\"\n",
    "str2"
   ]
  },
  {
   "cell_type": "code",
   "execution_count": 7,
   "id": "79a51267-f9fa-4d60-bbfb-9aad62b82bcc",
   "metadata": {},
   "outputs": [
    {
     "data": {
      "text/plain": [
       "str"
      ]
     },
     "execution_count": 7,
     "metadata": {},
     "output_type": "execute_result"
    }
   ],
   "source": [
    "type(str2)"
   ]
  },
  {
   "cell_type": "markdown",
   "id": "9d274760-79f4-4e6c-9351-4fc3da677eab",
   "metadata": {},
   "source": [
    "**doc string**"
   ]
  },
  {
   "cell_type": "code",
   "execution_count": 10,
   "id": "f6a82f13-3437-442f-b96c-036bb8801ea8",
   "metadata": {},
   "outputs": [
    {
     "name": "stdout",
     "output_type": "stream",
     "text": [
      "Hello python\n",
      "many student not practicing python\n",
      "if you are not practice you never crack a job\n"
     ]
    }
   ],
   "source": [
    "str3=\"\"\"Hello python\n",
    "many student not practicing python\n",
    "if you are not practice you never crack a job\"\"\"\n",
    "\n",
    "print(str3)"
   ]
  },
  {
   "cell_type": "code",
   "execution_count": 3,
   "id": "3badc99c-e4b9-44c9-9a9d-6996770e98ea",
   "metadata": {},
   "outputs": [
    {
     "data": {
      "text/plain": [
       "\"I like 'python'\""
      ]
     },
     "execution_count": 3,
     "metadata": {},
     "output_type": "execute_result"
    }
   ],
   "source": [
    "str4=\"I like 'python'\"\n",
    "str4"
   ]
  },
  {
   "cell_type": "code",
   "execution_count": 5,
   "id": "65df8f7b-517d-478c-9c16-93552e32e6bf",
   "metadata": {},
   "outputs": [
    {
     "data": {
      "text/plain": [
       "'I like \"python\"'"
      ]
     },
     "execution_count": 5,
     "metadata": {},
     "output_type": "execute_result"
    }
   ],
   "source": [
    "str5='I like \"python\"'\n",
    "str5"
   ]
  },
  {
   "cell_type": "code",
   "execution_count": 7,
   "id": "6430ef13-f92c-4306-8055-a9a1075e9ac4",
   "metadata": {},
   "outputs": [
    {
     "name": "stdout",
     "output_type": "stream",
     "text": [
      "I like \"python\"\n"
     ]
    }
   ],
   "source": [
    "print(str5)"
   ]
  },
  {
   "cell_type": "markdown",
   "id": "8d7dbd89-afa5-42dd-8aff-66de678a333d",
   "metadata": {},
   "source": [
    "**some inbuilt function**"
   ]
  },
  {
   "cell_type": "code",
   "execution_count": null,
   "id": "e9ec9bad-c7a4-476f-a2be-963d944c60a3",
   "metadata": {},
   "outputs": [],
   "source": [
    "max()\n",
    "min()\n",
    "len()\n",
    "print(\"python\")\n",
    "type(\"python\")\n",
    "reveresd()\n",
    "sorted()"
   ]
  },
  {
   "cell_type": "code",
   "execution_count": 10,
   "id": "5aeab0e0-d181-428d-a47d-dce05a29bfd9",
   "metadata": {},
   "outputs": [],
   "source": [
    "str1='python'"
   ]
  },
  {
   "cell_type": "code",
   "execution_count": 12,
   "id": "590e424c-2d2e-4db5-b7b5-3fd07229feac",
   "metadata": {},
   "outputs": [
    {
     "data": {
      "text/plain": [
       "'y'"
      ]
     },
     "execution_count": 12,
     "metadata": {},
     "output_type": "execute_result"
    }
   ],
   "source": [
    "max(str1)\n",
    "# Because of ASCII"
   ]
  },
  {
   "cell_type": "code",
   "execution_count": 16,
   "id": "aff2455b-41fd-400d-95d2-1785968d51c0",
   "metadata": {},
   "outputs": [
    {
     "name": "stdout",
     "output_type": "stream",
     "text": [
      "p 112\n",
      "y 121\n",
      "t 116\n",
      "h 104\n",
      "o 111\n",
      "n 110\n"
     ]
    }
   ],
   "source": [
    "for i in str1:\n",
    "    print(i,ord(i))"
   ]
  },
  {
   "cell_type": "code",
   "execution_count": null,
   "id": "bd5ba6dc-a1fe-4acc-8e67-258ccb604b98",
   "metadata": {},
   "outputs": [],
   "source": [
    "max= 121===='y'\n",
    "min= 32== ''\n",
    "32,104,110,111,112,116,121\n",
    "'' h n o p t y (ascending order)"
   ]
  },
  {
   "cell_type": "code",
   "execution_count": 20,
   "id": "838865b7-e5c9-4796-919b-e08d36d2e52e",
   "metadata": {},
   "outputs": [
    {
     "data": {
      "text/plain": [
       "'h'"
      ]
     },
     "execution_count": 20,
     "metadata": {},
     "output_type": "execute_result"
    }
   ],
   "source": [
    "min(str1)"
   ]
  },
  {
   "cell_type": "code",
   "execution_count": 22,
   "id": "d48dd4b3-12b0-4629-a24e-7ce8b5a2c3cf",
   "metadata": {},
   "outputs": [
    {
     "data": {
      "text/plain": [
       "'h'"
      ]
     },
     "execution_count": 22,
     "metadata": {},
     "output_type": "execute_result"
    }
   ],
   "source": [
    "min('python')"
   ]
  },
  {
   "cell_type": "code",
   "execution_count": 1,
   "id": "90e36e2e-7a5f-4ca2-9903-9e45ec348f8f",
   "metadata": {},
   "outputs": [
    {
     "data": {
      "text/plain": [
       "'S'"
      ]
     },
     "execution_count": 1,
     "metadata": {},
     "output_type": "execute_result"
    }
   ],
   "source": [
    "min('Satya')"
   ]
  },
  {
   "cell_type": "code",
   "execution_count": 3,
   "id": "ebc08de2-cb1a-49b9-9821-a4e45cb8f3ea",
   "metadata": {},
   "outputs": [
    {
     "data": {
      "text/plain": [
       "6"
      ]
     },
     "execution_count": 3,
     "metadata": {},
     "output_type": "execute_result"
    }
   ],
   "source": [
    "str1='python'\n",
    "len(str1)"
   ]
  },
  {
   "cell_type": "code",
   "execution_count": 5,
   "id": "ad48b85f-fe2e-4af4-9d8b-48238d87062d",
   "metadata": {},
   "outputs": [
    {
     "data": {
      "text/plain": [
       "2"
      ]
     },
     "execution_count": 5,
     "metadata": {},
     "output_type": "execute_result"
    }
   ],
   "source": [
    "str2='  '\n",
    "len(str2)"
   ]
  },
  {
   "cell_type": "code",
   "execution_count": 7,
   "id": "dc2d6a08-66ec-4da2-a145-0b75362f6b6d",
   "metadata": {},
   "outputs": [
    {
     "name": "stdout",
     "output_type": "stream",
     "text": [
      "  \n"
     ]
    }
   ],
   "source": [
    "print(str2)"
   ]
  },
  {
   "cell_type": "code",
   "execution_count": 9,
   "id": "bd200dbe-ee21-40bf-b8eb-c2768cfecab0",
   "metadata": {},
   "outputs": [
    {
     "name": "stdout",
     "output_type": "stream",
     "text": [
      "python\n",
      " python\n"
     ]
    }
   ],
   "source": [
    "print('python')\n",
    "print(' python')"
   ]
  },
  {
   "cell_type": "code",
   "execution_count": 11,
   "id": "203e85e2-2a2e-44e9-80a6-e27692da2f67",
   "metadata": {},
   "outputs": [
    {
     "data": {
      "text/plain": [
       "<function len(obj, /)>"
      ]
     },
     "execution_count": 11,
     "metadata": {},
     "output_type": "execute_result"
    }
   ],
   "source": [
    "max\n",
    "\n",
    "min\n",
    "\n",
    "len"
   ]
  },
  {
   "cell_type": "markdown",
   "id": "a3b88297-f690-490d-9832-e744bdea3c7e",
   "metadata": {},
   "source": [
    "**sorted**\n",
    "\n",
    "- sorted means sorting the letters based on ascii number\n",
    "\n",
    "- there two possible sortings available\n",
    "\n",
    "   - ascending : small to high\n",
    " \n",
    "   - descending : high to small"
   ]
  },
  {
   "cell_type": "code",
   "execution_count": 14,
   "id": "f48555e5-b61b-45a0-8882-a4fa5bdb553f",
   "metadata": {},
   "outputs": [
    {
     "data": {
      "text/plain": [
       "['h', 'n', 'o', 'p', 't', 'y']"
      ]
     },
     "execution_count": 14,
     "metadata": {},
     "output_type": "execute_result"
    }
   ],
   "source": [
    "str1='python'\n",
    "sorted(str1)  # by default ascending order"
   ]
  },
  {
   "cell_type": "markdown",
   "id": "ac20c2dd-8b79-4141-8b6c-fed54f69ce69",
   "metadata": {},
   "source": [
    "- when you apply the shift tab\n",
    "\n",
    "- there is some arguments will be available\n",
    "\n",
    "- Focus on two arguments\n",
    "\n",
    "    - iterable\n",
    " \n",
    "    - reverse=False\n",
    " \n",
    "- because reverse is a default argument by default ascending order is coming\n",
    "\n",
    "- if you want to change the order then change the default parameter value "
   ]
  },
  {
   "cell_type": "code",
   "execution_count": 18,
   "id": "518f659b-56ac-47f1-8a87-4a33166de91a",
   "metadata": {},
   "outputs": [
    {
     "data": {
      "text/plain": [
       "['y', 't', 'p', 'o', 'n', 'h']"
      ]
     },
     "execution_count": 18,
     "metadata": {},
     "output_type": "execute_result"
    }
   ],
   "source": [
    "sorted(str1,reverse=True)"
   ]
  },
  {
   "cell_type": "code",
   "execution_count": null,
   "id": "54accead-dde0-49a1-925c-e56010ec3701",
   "metadata": {},
   "outputs": [],
   "source": [
    "sorted(iterable=str1,reverse=False) # Fail\n",
    "sorted(iterable=str1,False) # Fail\n",
    "sorted(str1,False) # Fail\n",
    "sorted(str1,reverse=True) # Working"
   ]
  },
  {
   "cell_type": "code",
   "execution_count": 20,
   "id": "7ed59102-1476-4dc8-8006-048b01e1c26a",
   "metadata": {},
   "outputs": [
    {
     "data": {
      "text/plain": [
       "['y', 't', 'p', 'o', 'n', 'h']"
      ]
     },
     "execution_count": 20,
     "metadata": {},
     "output_type": "execute_result"
    }
   ],
   "source": [
    "sorted(str1,reverse=True)"
   ]
  },
  {
   "cell_type": "markdown",
   "id": "63b965b6-efe7-4dfb-819b-2c20d72cd562",
   "metadata": {},
   "source": [
    "- We should not allowed to use iterable argument name while provide the value\n",
    "\n",
    "- We should use the argument names while provide the value after '/'\n",
    "\n",
    "- We should not use the argument names before '/'\n",
    "\n",
    "   - iterable argument name is there before '/'\n",
    "\n",
    "   - so do not use iterable name\n",
    " \n",
    "- any function indicates * means\n",
    "\n",
    "- you can use any variable after *\n",
    "\n",
    "- after * there are two arguments are there\n",
    "\n",
    "   - key\n",
    " \n",
    "   - reverse\n",
    " \n",
    "- you can use both\n",
    "\n",
    "- you can use anyone\n",
    "\n",
    "- you no need to use anything"
   ]
  },
  {
   "cell_type": "code",
   "execution_count": null,
   "id": "5003c479-c00b-45d0-b91c-ce67cbe1a5c8",
   "metadata": {},
   "outputs": [],
   "source": [
    "sorted('hello') # Works\n",
    "sorted(iterable='hello') # Fail"
   ]
  },
  {
   "cell_type": "code",
   "execution_count": 25,
   "id": "15946085-d128-4315-a487-421202fd8a97",
   "metadata": {},
   "outputs": [
    {
     "data": {
      "text/plain": [
       "['e', 'h', 'l', 'l', 'o']"
      ]
     },
     "execution_count": 25,
     "metadata": {},
     "output_type": "execute_result"
    }
   ],
   "source": [
    "sorted('hello')"
   ]
  },
  {
   "cell_type": "code",
   "execution_count": 27,
   "id": "e6c29f65-d98c-413f-b436-ea9252de6271",
   "metadata": {},
   "outputs": [
    {
     "data": {
      "text/plain": [
       "['o', 'l', 'l', 'h', 'e']"
      ]
     },
     "execution_count": 27,
     "metadata": {},
     "output_type": "execute_result"
    }
   ],
   "source": [
    "sorted('hello',reverse=True)"
   ]
  },
  {
   "cell_type": "code",
   "execution_count": null,
   "id": "27b04f99-ea02-4e53-94bb-7080f4443e7f",
   "metadata": {},
   "outputs": [],
   "source": [
    "# ascii value it is giving the order"
   ]
  },
  {
   "cell_type": "code",
   "execution_count": 29,
   "id": "c0e4c618-1846-4f1e-be31-65d0787ae077",
   "metadata": {},
   "outputs": [
    {
     "data": {
      "text/plain": [
       "['h', 'e', 'l', 'l', 'o']"
      ]
     },
     "execution_count": 29,
     "metadata": {},
     "output_type": "execute_result"
    }
   ],
   "source": [
    "sorted('hello',key=len) # you will not understand now"
   ]
  },
  {
   "cell_type": "code",
   "execution_count": 31,
   "id": "1dd41d06-9938-43ae-b827-e3e18471928d",
   "metadata": {},
   "outputs": [
    {
     "data": {
      "text/plain": [
       "['h', 'e', 'l', 'l', 'o']"
      ]
     },
     "execution_count": 31,
     "metadata": {},
     "output_type": "execute_result"
    }
   ],
   "source": [
    "sorted('hello',reverse=True,key=len)"
   ]
  },
  {
   "cell_type": "code",
   "execution_count": 34,
   "id": "96e16055-f437-4464-bd91-6c1c6b687300",
   "metadata": {},
   "outputs": [
    {
     "name": "stdout",
     "output_type": "stream",
     "text": [
      "3000\n",
      "4000\n",
      "5100\n",
      "6200\n",
      "300\n"
     ]
    }
   ],
   "source": [
    "def add(a=100,b=200):\n",
    "    print(a+b)\n",
    "\n",
    "add(a=1000,b=2000)\n",
    "add(b=3000,a=1000)\n",
    "add(b=5000)\n",
    "add(a=6000)\n",
    "add()"
   ]
  },
  {
   "cell_type": "markdown",
   "id": "479dd0f3-19aa-4d34-a70b-f8112e172807",
   "metadata": {},
   "source": [
    "**reversed**"
   ]
  },
  {
   "cell_type": "code",
   "execution_count": null,
   "id": "e82d3fed-6d2c-4a30-9fe8-570a0eb9426f",
   "metadata": {},
   "outputs": [],
   "source": [
    "vscode ===== we dont have markdown\n",
    "if you want to write any information\n",
    "then we can use triple quotes "
   ]
  },
  {
   "cell_type": "code",
   "execution_count": 4,
   "id": "0f393dfc-0f4d-4321-b996-e1aeb4316645",
   "metadata": {},
   "outputs": [],
   "source": [
    "str1='python'\n",
    "ans=reversed(str1)"
   ]
  },
  {
   "cell_type": "code",
   "execution_count": 6,
   "id": "8696f676-507d-416d-957e-2311b5201b55",
   "metadata": {},
   "outputs": [
    {
     "data": {
      "text/plain": [
       "reversed"
      ]
     },
     "execution_count": 6,
     "metadata": {},
     "output_type": "execute_result"
    }
   ],
   "source": [
    "type(ans)"
   ]
  },
  {
   "cell_type": "code",
   "execution_count": 10,
   "id": "7e6705d2-8339-4b15-8a74-cb68521f81f8",
   "metadata": {},
   "outputs": [],
   "source": [
    "ans=reversed(str1)\n",
    "# the output is stored a memory location\n",
    "# whenever you want to see the output\n",
    "# use a list or for loop"
   ]
  },
  {
   "cell_type": "code",
   "execution_count": 24,
   "id": "dd92db9f-d16d-40ee-9a49-524984a72583",
   "metadata": {},
   "outputs": [
    {
     "name": "stdout",
     "output_type": "stream",
     "text": [
      "a\n",
      "t\n",
      "a\n",
      "r\n",
      "b\n",
      "a\n",
      "y\n",
      "t\n",
      "a\n",
      "S\n"
     ]
    }
   ],
   "source": [
    "str1='Satyabrata'\n",
    "ans=reversed(str1)\n",
    "for i in ans:\n",
    "    print(i)"
   ]
  },
  {
   "cell_type": "code",
   "execution_count": 26,
   "id": "412b530e-e311-4626-8fdc-be3a5686817d",
   "metadata": {},
   "outputs": [
    {
     "data": {
      "text/plain": [
       "['a', 't', 'a', 'r', 'b', 'a', 'y', 't', 'a', 'S']"
      ]
     },
     "execution_count": 26,
     "metadata": {},
     "output_type": "execute_result"
    }
   ],
   "source": [
    "ans=reversed(str1)\n",
    "list(ans)"
   ]
  },
  {
   "cell_type": "markdown",
   "id": "0fe60cba-d187-4206-81ef-6947a1369f6d",
   "metadata": {},
   "source": [
    "**concatenation**"
   ]
  },
  {
   "cell_type": "code",
   "execution_count": null,
   "id": "387d6c90-6a03-4668-8d00-80a334a57db8",
   "metadata": {},
   "outputs": [],
   "source": [
    "str1='hello'\n",
    "str2='python'\n",
    "str1+str2\n",
    "str1*str2\n",
    "str1-str2\n",
    "str1/str2"
   ]
  },
  {
   "cell_type": "code",
   "execution_count": 31,
   "id": "5117a239-d284-4dbc-86c0-abfbf4cc387c",
   "metadata": {},
   "outputs": [
    {
     "data": {
      "text/plain": [
       "'hellopython'"
      ]
     },
     "execution_count": 31,
     "metadata": {},
     "output_type": "execute_result"
    }
   ],
   "source": [
    "str1+str2"
   ]
  },
  {
   "cell_type": "code",
   "execution_count": 33,
   "id": "45480ab7-1fbb-49d0-929c-c16ab6b10119",
   "metadata": {},
   "outputs": [
    {
     "ename": "TypeError",
     "evalue": "unsupported operand type(s) for -: 'str' and 'str'",
     "output_type": "error",
     "traceback": [
      "\u001b[1;31m---------------------------------------------------------------------------\u001b[0m",
      "\u001b[1;31mTypeError\u001b[0m                                 Traceback (most recent call last)",
      "Cell \u001b[1;32mIn[33], line 1\u001b[0m\n\u001b[1;32m----> 1\u001b[0m str1\u001b[38;5;241m-\u001b[39mstr2\n",
      "\u001b[1;31mTypeError\u001b[0m: unsupported operand type(s) for -: 'str' and 'str'"
     ]
    }
   ],
   "source": [
    "str1-str2"
   ]
  },
  {
   "cell_type": "code",
   "execution_count": 35,
   "id": "9d7453be-3baa-4827-81c6-80f176dd1de3",
   "metadata": {},
   "outputs": [
    {
     "ename": "TypeError",
     "evalue": "unsupported operand type(s) for /: 'str' and 'str'",
     "output_type": "error",
     "traceback": [
      "\u001b[1;31m---------------------------------------------------------------------------\u001b[0m",
      "\u001b[1;31mTypeError\u001b[0m                                 Traceback (most recent call last)",
      "Cell \u001b[1;32mIn[35], line 1\u001b[0m\n\u001b[1;32m----> 1\u001b[0m str1\u001b[38;5;241m/\u001b[39mstr2\n",
      "\u001b[1;31mTypeError\u001b[0m: unsupported operand type(s) for /: 'str' and 'str'"
     ]
    }
   ],
   "source": [
    "str1/str2"
   ]
  },
  {
   "cell_type": "code",
   "execution_count": 37,
   "id": "db41a139-2fa7-42f1-a31b-d56864175469",
   "metadata": {},
   "outputs": [
    {
     "ename": "TypeError",
     "evalue": "can't multiply sequence by non-int of type 'str'",
     "output_type": "error",
     "traceback": [
      "\u001b[1;31m---------------------------------------------------------------------------\u001b[0m",
      "\u001b[1;31mTypeError\u001b[0m                                 Traceback (most recent call last)",
      "Cell \u001b[1;32mIn[37], line 1\u001b[0m\n\u001b[1;32m----> 1\u001b[0m str1\u001b[38;5;241m*\u001b[39mstr2\n",
      "\u001b[1;31mTypeError\u001b[0m: can't multiply sequence by non-int of type 'str'"
     ]
    }
   ],
   "source": [
    "str1*str2"
   ]
  },
  {
   "cell_type": "code",
   "execution_count": null,
   "id": "5d34f70d-9951-4157-a35e-3e6ee7fb9f7e",
   "metadata": {},
   "outputs": [],
   "source": [
    "TypeError: unsupported operand type(s) for -: 'str' and 'str'\n",
    "TypeError: unsupported operand type(s) for /: 'str' and 'str'\n",
    "TypeError: can't multiply sequence by non-int of type 'str'"
   ]
  },
  {
   "cell_type": "code",
   "execution_count": 39,
   "id": "c6a726d6-9bce-4d90-8e2f-5bdb5d8d8b22",
   "metadata": {},
   "outputs": [
    {
     "data": {
      "text/plain": [
       "'pythonpython'"
      ]
     },
     "execution_count": 39,
     "metadata": {},
     "output_type": "execute_result"
    }
   ],
   "source": [
    "'python' * 2"
   ]
  },
  {
   "cell_type": "code",
   "execution_count": 41,
   "id": "8ade3e1f-c092-4184-a311-da38d1c51c90",
   "metadata": {},
   "outputs": [
    {
     "data": {
      "text/plain": [
       "'pythonpython'"
      ]
     },
     "execution_count": 41,
     "metadata": {},
     "output_type": "execute_result"
    }
   ],
   "source": [
    "'python'+'python'"
   ]
  },
  {
   "cell_type": "markdown",
   "id": "8e06980a-1121-4fde-9387-bb53ed15cfe1",
   "metadata": {},
   "source": [
    "**index**"
   ]
  },
  {
   "cell_type": "code",
   "execution_count": 44,
   "id": "44e388e8-bf3f-4f6e-b00a-2a5910dae553",
   "metadata": {},
   "outputs": [],
   "source": [
    "str1='python'\n",
    "#-6    -5    -4    -3     -2    -1\n",
    "#'p'   'y'   't'   'h'   'o'   'n'\n",
    "#0      1     2     3     4     5"
   ]
  },
  {
   "cell_type": "code",
   "execution_count": 46,
   "id": "b74dd224-474e-4803-8cd8-d11d0852aaab",
   "metadata": {},
   "outputs": [
    {
     "data": {
      "text/plain": [
       "('p', 'p')"
      ]
     },
     "execution_count": 46,
     "metadata": {},
     "output_type": "execute_result"
    }
   ],
   "source": [
    "str1[0],str1[-6]"
   ]
  },
  {
   "cell_type": "code",
   "execution_count": 48,
   "id": "4523c236-a14d-4c59-aa28-96ddc108ac93",
   "metadata": {},
   "outputs": [],
   "source": [
    "str1='hello python'"
   ]
  },
  {
   "cell_type": "code",
   "execution_count": null,
   "id": "eda59c62-a4d6-4af3-8f62-8bf8c2367af5",
   "metadata": {},
   "outputs": [],
   "source": [
    "-12  -11  -10  -9  -8  -7  -6  -5  -4  -3  -2  -1\n",
    "h     e    l    l   o       p   y   t   h   o   n\n",
    "0     1    2    3   4   5   6   7   8   9   10  11"
   ]
  },
  {
   "cell_type": "code",
   "execution_count": 50,
   "id": "eba31d3c-6f39-467d-a6f8-3a891c69d7d6",
   "metadata": {},
   "outputs": [
    {
     "data": {
      "text/plain": [
       "(' ', 'h')"
      ]
     },
     "execution_count": 50,
     "metadata": {},
     "output_type": "execute_result"
    }
   ],
   "source": [
    "str1[5],str1[9]"
   ]
  },
  {
   "cell_type": "code",
   "execution_count": 52,
   "id": "7f3e1609-5004-4b0c-95f4-10bb824ac9d3",
   "metadata": {},
   "outputs": [
    {
     "data": {
      "text/plain": [
       "'h'"
      ]
     },
     "execution_count": 52,
     "metadata": {},
     "output_type": "execute_result"
    }
   ],
   "source": [
    "str1[-3]"
   ]
  },
  {
   "cell_type": "code",
   "execution_count": null,
   "id": "08321790-3cdb-4abf-81d8-6dd3f42ab7c2",
   "metadata": {},
   "outputs": [],
   "source": [
    "str1='python'\n",
    "\n",
    "#-6    -5    -4    -3     -2    -1\n",
    "#'p'   'y'   't'   'h'   'o'   'n'\n",
    "#0      1     2     3     4     5\n",
    "\n",
    "str1[0]\n",
    "str1[1]\n",
    "str1[2]\n",
    "str1[3]\n",
    "str1[4]\n",
    "str1[5]\n",
    "\n",
    "str1[i]  # i is a number  i =0  and ends =5"
   ]
  },
  {
   "cell_type": "code",
   "execution_count": 56,
   "id": "121d0f01-8748-4ea0-b17a-bf59fe5bb2bb",
   "metadata": {},
   "outputs": [
    {
     "name": "stdout",
     "output_type": "stream",
     "text": [
      "0 H\n",
      "1 e\n",
      "2 l\n",
      "3 l\n",
      "4 o\n",
      "5  \n",
      "6 P\n",
      "7 y\n",
      "8 t\n",
      "9 h\n",
      "10 o\n",
      "11 n\n"
     ]
    }
   ],
   "source": [
    "str1='Hello Python'\n",
    "for i in range(len(str1)):\n",
    "    print(i,str1[i])\n",
    "# i=0    str1[0]    p\n",
    "# i=1    str1[1]    y"
   ]
  },
  {
   "cell_type": "code",
   "execution_count": 58,
   "id": "6f3f8750-d516-4546-abd1-78a16d9e3c43",
   "metadata": {},
   "outputs": [
    {
     "name": "stdout",
     "output_type": "stream",
     "text": [
      "The positive index of p is : 0\n",
      "The positive index of y is : 1\n",
      "The positive index of t is : 2\n",
      "The positive index of h is : 3\n",
      "The positive index of o is : 4\n",
      "The positive index of n is : 5\n"
     ]
    }
   ],
   "source": [
    "str1='python'\n",
    "for i in range(len(str1)):\n",
    "    print(f\"The positive index of {str1[i]} is : {i}\")"
   ]
  },
  {
   "cell_type": "code",
   "execution_count": 60,
   "id": "1a068dea-c480-420e-92af-e068ff5c13eb",
   "metadata": {},
   "outputs": [
    {
     "name": "stdout",
     "output_type": "stream",
     "text": [
      "The negative index of p is : -6\n",
      "The negative index of y is : -5\n",
      "The negative index of t is : -4\n",
      "The negative index of h is : -3\n",
      "The negative index of o is : -2\n",
      "The negative index of n is : -1\n"
     ]
    }
   ],
   "source": [
    "n=len(str1)\n",
    "for i in range(n):\n",
    "    print(f\"The negative index of {str1[i]} is : {i-n}\")"
   ]
  },
  {
   "cell_type": "code",
   "execution_count": 62,
   "id": "8ec88aa8-f5d7-4063-a476-ba5501586f8a",
   "metadata": {},
   "outputs": [
    {
     "name": "stdout",
     "output_type": "stream",
     "text": [
      "-6 is (-) index and 0 is (+)ve index of p\n",
      "-5 is (-) index and 1 is (+)ve index of y\n",
      "-4 is (-) index and 2 is (+)ve index of t\n",
      "-3 is (-) index and 3 is (+)ve index of h\n",
      "-2 is (-) index and 4 is (+)ve index of o\n",
      "-1 is (-) index and 5 is (+)ve index of n\n"
     ]
    }
   ],
   "source": [
    "# -6 is negative index , 0 is positive index for a letter p\n",
    "n=len(str1)\n",
    "for i in range(n):\n",
    "    print(f\"{i-n} is (-) index and {i} is (+)ve index of {str1[i]}\")"
   ]
  },
  {
   "cell_type": "markdown",
   "id": "36e137ba-5979-4e95-b53a-1230db7ddf02",
   "metadata": {},
   "source": [
    "**when to use range - when to use in operator**\n",
    "\n",
    "- any problem if we work with index use range operator\n",
    "\n",
    "- range operator will give index as well as character\n",
    "\n",
    "- any problem if index is not use ful, only chracter is useful then go with **in**\n",
    "\n",
    "-  with **in** operator we can not get index"
   ]
  },
  {
   "cell_type": "code",
   "execution_count": null,
   "id": "518a07ce-4857-4bf6-bd40-4a8cdc82ccb7",
   "metadata": {},
   "outputs": [],
   "source": [
    "#Q4) write a program count the number of 'a' letters in a given string\n",
    "#  str1='ola ola ola'\n",
    "\n",
    "#Q5) write a program to find the index of 'a' letters in a given string\n",
    "#  str1='ola ola ola'\n",
    "\n",
    "#Q6) write a program to get sum of all the indexes of 'a' letters in a given str\n",
    "#  str1='ola ola ola'\n",
    "\n",
    "#Q7) write a program to find the number of vowels in a given string\n",
    "#   str1='hello how are you'\n",
    "\n",
    "#Q8) wap to find the non repeated vowels in a given string\n",
    "#  str1='hello how are you'"
   ]
  },
  {
   "cell_type": "code",
   "execution_count": 65,
   "id": "2d6154d3-a371-4ec9-ab5c-975d500cd457",
   "metadata": {},
   "outputs": [
    {
     "name": "stdout",
     "output_type": "stream",
     "text": [
      "The total 'a' are: 3\n"
     ]
    }
   ],
   "source": [
    "# Q4) write a program count the number of 'a' letters in a given string\n",
    "\n",
    "str1='ola ola ola'\n",
    "count=0\n",
    "for i in str1:\n",
    "    if i=='a':\n",
    "        count=count+1\n",
    "\n",
    "print(\"The total 'a' are:\",count)"
   ]
  },
  {
   "cell_type": "code",
   "execution_count": 67,
   "id": "4ff495aa-e326-4b8c-a6e0-e4eaad21d9db",
   "metadata": {},
   "outputs": [
    {
     "name": "stdout",
     "output_type": "stream",
     "text": [
      "a has index at 2\n",
      "a has index at 6\n",
      "a has index at 10\n"
     ]
    }
   ],
   "source": [
    "# write a program to find the index of 'a' letters in a given string\n",
    "str1='ola ola ola'\n",
    "for i in range(len(str1)):\n",
    "    if str1[i]=='a':\n",
    "        print(f\"{str1[i]} has index at {i}\")"
   ]
  },
  {
   "cell_type": "code",
   "execution_count": 73,
   "id": "c3f548c6-b514-417f-85e7-707d66fd2ed3",
   "metadata": {},
   "outputs": [
    {
     "name": "stdout",
     "output_type": "stream",
     "text": [
      "The total summ is: 0\n",
      "The total summ is: 0\n",
      "The total summ is: 2\n",
      "The total summ is: 2\n",
      "The total summ is: 2\n",
      "The total summ is: 2\n",
      "The total summ is: 8\n",
      "The total summ is: 8\n",
      "The total summ is: 8\n",
      "The total summ is: 8\n",
      "The total summ is: 18\n"
     ]
    }
   ],
   "source": [
    "#Q6) write a program to get sum of all the indexes of 'a' letters in a given str\n",
    "str1='ola ola ola'\n",
    "summ=0\n",
    "for i in range(len(str1)):\n",
    "    if str1[i]=='a':\n",
    "        summ=summ+i\n",
    "    print(\"The total summ is:\",summ)"
   ]
  },
  {
   "cell_type": "code",
   "execution_count": 75,
   "id": "4fece0c4-8a8a-44bc-89ab-d212cfea6b3c",
   "metadata": {},
   "outputs": [
    {
     "name": "stdout",
     "output_type": "stream",
     "text": [
      "e\n",
      "o\n",
      "o\n",
      "a\n",
      "e\n",
      "o\n",
      "u\n",
      "The number of vowels are: 7\n"
     ]
    }
   ],
   "source": [
    "# Q7) write a program to find the number of vowels in a given string\n",
    "\n",
    "str1='Hello how are you'\n",
    "count=0\n",
    "for i in str1:\n",
    "    if i in 'aeiou':\n",
    "        print(i)\n",
    "        count+=1\n",
    "print(\"The number of vowels are:\",count)"
   ]
  },
  {
   "cell_type": "code",
   "execution_count": 77,
   "id": "2a8224e7-013b-4d2d-8a9e-69ff34391656",
   "metadata": {},
   "outputs": [
    {
     "name": "stdout",
     "output_type": "stream",
     "text": [
      "e\n",
      "o\n",
      "a\n",
      "u\n",
      "The total count is: 4\n"
     ]
    }
   ],
   "source": [
    "# Q8) we need avoid the repeatition\n",
    "# take empty string s1=''\n",
    "# take another vowel string s2='aeiou'\n",
    "# iterate each letter\n",
    "# con1= the letter in s2\n",
    "# con2= the letter not in s1\n",
    "# than that is our desired vowel them immediately push that letter into s1\n",
    "# s1=s1+<letter>\n",
    "# every vowel should come but we need to avoid the repeatition\n",
    "\n",
    "# non reapeating ===== a (try today)\n",
    "\n",
    "s1=''\n",
    "s2='aeiou'\n",
    "str1='Hello how are you'\n",
    "count=0\n",
    "for i in str1:\n",
    "    if i in s2 and i not in s1:\n",
    "        print(i)\n",
    "        s1=s1+i\n",
    "        count=count+1\n",
    "print(\"The total count is:\",count)"
   ]
  },
  {
   "cell_type": "code",
   "execution_count": 3,
   "id": "ae4180f5-e964-4836-8ce7-00caddc7c2e9",
   "metadata": {},
   "outputs": [
    {
     "data": {
      "text/plain": [
       "['9', '8', '7', '6', '5', '4', '3', '2', '1', 'D', 'C', 'B', 'A']"
      ]
     },
     "execution_count": 3,
     "metadata": {},
     "output_type": "execute_result"
    }
   ],
   "source": [
    "# slicing \n",
    "# methods strings\n",
    "# functions\n",
    "# strings === list dic\n",
    "\n",
    "\n",
    "str2=\"ABCD123456789\"\n",
    "ans= reversed(str2)\n",
    "# Below loop is commented\n",
    "# for i in ans:\n",
    "    # print(i,end=' ')\n",
    "list(ans)"
   ]
  },
  {
   "cell_type": "code",
   "execution_count": 5,
   "id": "4a1d4f64-4b88-4ab2-8cf3-4d51a57404c6",
   "metadata": {},
   "outputs": [
    {
     "data": {
      "text/plain": [
       "['2', '6', '1', '2', '4', '9', '0', '8', '4', '8', 'A', 'Y', 'T', 'A', 'S']"
      ]
     },
     "execution_count": 5,
     "metadata": {},
     "output_type": "execute_result"
    }
   ],
   "source": [
    "str3=\"SATYA8480942162\"\n",
    "ans= reversed(str3)\n",
    "list(ans)"
   ]
  },
  {
   "cell_type": "markdown",
   "id": "fc737283-97b6-4868-84b0-6cbe56b85c87",
   "metadata": {},
   "source": [
    "**Mutable-Immutable**"
   ]
  },
  {
   "cell_type": "code",
   "execution_count": 8,
   "id": "f0183cb0-d6ac-44ba-9c73-cfbdcdde4f86",
   "metadata": {},
   "outputs": [],
   "source": [
    "# Mutable : Change\n",
    "# Immutable : No Change\n",
    "\n",
    "str1='welcome'\n",
    "\n",
    "# i want to change 'l' with 'L'\n",
    "# can we change 'l' with 'L' ?"
   ]
  },
  {
   "cell_type": "code",
   "execution_count": 10,
   "id": "f652d1bb-9ba5-4304-ac4b-684b2c3f78cb",
   "metadata": {},
   "outputs": [
    {
     "ename": "TypeError",
     "evalue": "'str' object does not support item assignment",
     "output_type": "error",
     "traceback": [
      "\u001b[1;31m---------------------------------------------------------------------------\u001b[0m",
      "\u001b[1;31mTypeError\u001b[0m                                 Traceback (most recent call last)",
      "Cell \u001b[1;32mIn[10], line 1\u001b[0m\n\u001b[1;32m----> 1\u001b[0m str1[\u001b[38;5;241m2\u001b[39m]\u001b[38;5;241m=\u001b[39m\u001b[38;5;124m'\u001b[39m\u001b[38;5;124mL\u001b[39m\u001b[38;5;124m'\u001b[39m\n",
      "\u001b[1;31mTypeError\u001b[0m: 'str' object does not support item assignment"
     ]
    }
   ],
   "source": [
    "str1[2]='L'"
   ]
  },
  {
   "cell_type": "code",
   "execution_count": 12,
   "id": "2721c6a2-aae1-40e4-8091-4287d12124e5",
   "metadata": {},
   "outputs": [
    {
     "data": {
      "text/plain": [
       "[11, 22, 300, 44]"
      ]
     },
     "execution_count": 12,
     "metadata": {},
     "output_type": "execute_result"
    }
   ],
   "source": [
    "l=[11,22,33,44]\n",
    "l[2]=300\n",
    "l"
   ]
  },
  {
   "cell_type": "markdown",
   "id": "ac2cb48c-cf60-43d1-a306-712309c2266e",
   "metadata": {},
   "source": [
    "- if the elements will change using indexing is called as mutable\n",
    "\n",
    "- otherwise immutable"
   ]
  },
  {
   "cell_type": "markdown",
   "id": "ce15b1b8-84ba-4670-a05b-f53bb1a1bf2c",
   "metadata": {},
   "source": [
    "**slicing**\n",
    "\n",
    "- slice : piece of the string\n",
    "\n",
    "- it is similar to for loop start:stop:step\n"
   ]
  },
  {
   "cell_type": "code",
   "execution_count": 17,
   "id": "ce9a4091-8218-40f5-9d25-da0702a72422",
   "metadata": {},
   "outputs": [],
   "source": [
    "str1='Hello how are you'"
   ]
  },
  {
   "cell_type": "code",
   "execution_count": 19,
   "id": "26f1f421-da73-4902-bbf1-7785c9aed156",
   "metadata": {},
   "outputs": [
    {
     "data": {
      "text/plain": [
       "17"
      ]
     },
     "execution_count": 19,
     "metadata": {},
     "output_type": "execute_result"
    }
   ],
   "source": [
    "len(str1)"
   ]
  },
  {
   "cell_type": "code",
   "execution_count": null,
   "id": "e9420505-fb57-47f2-84dc-c36a0b94c9ae",
   "metadata": {},
   "outputs": [],
   "source": [
    "-17  -16  -15  -14  -13  -12  -11  -10  -9  -8  -7  -6  -5  -4  -3  -2  -1\n",
    " h     e    l    l    o         h    o    w       a   r   e       y   o   u\n",
    " 0     1    2    3    4    5    6    7    8   9   10  11  12  13  14  15  16"
   ]
  },
  {
   "cell_type": "markdown",
   "id": "9a0c2eca-97f0-4dec-8feb-f9a974377637",
   "metadata": {},
   "source": [
    "**case-1:str1[start:]**\n",
    "\n",
    "- str[start:]\n",
    "\n",
    "- start= start value only\n",
    "\n",
    "- last not mentioned means it will go to till last"
   ]
  },
  {
   "cell_type": "code",
   "execution_count": 22,
   "id": "6d2f8956-9630-4a10-9a3d-59c8df21c6a1",
   "metadata": {},
   "outputs": [
    {
     "data": {
      "text/plain": [
       "' how are you'"
      ]
     },
     "execution_count": 22,
     "metadata": {},
     "output_type": "execute_result"
    }
   ],
   "source": [
    "str1[5:]"
   ]
  },
  {
   "cell_type": "code",
   "execution_count": 24,
   "id": "62450def-8088-442d-8718-3976a9418de3",
   "metadata": {},
   "outputs": [
    {
     "data": {
      "text/plain": [
       "'e you'"
      ]
     },
     "execution_count": 24,
     "metadata": {},
     "output_type": "execute_result"
    }
   ],
   "source": [
    "str1[-5:]"
   ]
  },
  {
   "cell_type": "code",
   "execution_count": 26,
   "id": "d61b6de5-3f91-441e-8491-948a2190d4a1",
   "metadata": {},
   "outputs": [
    {
     "data": {
      "text/plain": [
       "'r'"
      ]
     },
     "execution_count": 26,
     "metadata": {},
     "output_type": "execute_result"
    }
   ],
   "source": [
    "str1[-6]"
   ]
  },
  {
   "cell_type": "markdown",
   "id": "e9366a17-1763-406f-8128-b0b7ef711a4a",
   "metadata": {},
   "source": [
    "**case:str1[start:stop]**\n",
    "\n",
    "- start= start value\n",
    "\n",
    "- step is not mentioned means = positive one\n",
    "\n",
    "- last= stop-1"
   ]
  },
  {
   "cell_type": "code",
   "execution_count": 30,
   "id": "455fdd6e-e652-4bce-be35-79f00b11f2bf",
   "metadata": {},
   "outputs": [
    {
     "data": {
      "text/plain": [
       "'llo how are yo'"
      ]
     },
     "execution_count": 30,
     "metadata": {},
     "output_type": "execute_result"
    }
   ],
   "source": [
    "str1[2:16]\n",
    "# start=2\n",
    "# last=16-1-15"
   ]
  },
  {
   "cell_type": "code",
   "execution_count": null,
   "id": "55c3eb26-992e-4f7b-bf58-181028a8c530",
   "metadata": {},
   "outputs": [],
   "source": [
    "The history saving thread hit an unexpected error (OperationalError('database or \n",
    "disk is full')).History will not be written to the database."
   ]
  },
  {
   "cell_type": "code",
   "execution_count": 34,
   "id": "6802df5b-dbf8-4acb-a313-e96f9ac4e662",
   "metadata": {},
   "outputs": [
    {
     "data": {
      "text/plain": [
       "' how are y'"
      ]
     },
     "execution_count": 34,
     "metadata": {},
     "output_type": "execute_result"
    }
   ],
   "source": [
    "#-17  -16  -15  -14  -13  -12  -11  -10  -9  -8  -7  -6  -5  -4  -3  -2  -1\n",
    "#h     e    l    l    o         h    o    w       a   r   e       y   o   u\n",
    "#0     1    2    3    4    5    6    7    8   9   10  11  12  13  14  15  16\n",
    "str1[-12:-2]\n",
    "# start=-12\n",
    "# step= postive one\n",
    "# last= stop-1= -2-1=-3"
   ]
  },
  {
   "cell_type": "code",
   "execution_count": 36,
   "id": "92d581f3-8262-4f92-a430-c8b4c9119cd2",
   "metadata": {},
   "outputs": [
    {
     "data": {
      "text/plain": [
       "''"
      ]
     },
     "execution_count": 36,
     "metadata": {},
     "output_type": "execute_result"
    }
   ],
   "source": [
    "str1[-2:-12]"
   ]
  },
  {
   "cell_type": "code",
   "execution_count": 38,
   "id": "b5537a61-824a-47aa-81c6-eb0711482524",
   "metadata": {},
   "outputs": [
    {
     "data": {
      "text/plain": [
       "' h'"
      ]
     },
     "execution_count": 38,
     "metadata": {},
     "output_type": "execute_result"
    }
   ],
   "source": [
    "str1[5:-10]"
   ]
  },
  {
   "cell_type": "markdown",
   "id": "e2db2d1e-d344-4828-8735-cdabb0e0bd84",
   "metadata": {},
   "source": [
    "**Case-3:str1[start:stop:step]**"
   ]
  },
  {
   "cell_type": "code",
   "execution_count": null,
   "id": "36c98835-72ba-4bae-883f-bf24598d2a53",
   "metadata": {},
   "outputs": [],
   "source": [
    "#-17  -16  -15  -14  -13  -12  -11  -10  -9  -8  -7  -6  -5  -4  -3  -2  -1\n",
    "#h     e    l    l    o         h    o    w       a   r   e       y   o   u\n",
    "#0     1    2    3    4    5    6    7    8   9   10  11  12  13  14  15  16\n",
    "str1[2:15:2] # P\n",
    "str1[2:15:-2] # NP\n",
    "str1[2:-15:2]#  .......NP\n",
    "str1[-2:15:2] # ...... NP\n",
    "str1[-2:-15:2] # NP\n",
    "str1[-2:-15:-2] # p\n",
    "str1[15:2:2]  # NP\n",
    "str1[15:2:-2] # P\n",
    "str1[15:-2:2] # ..... \n",
    "str1[15:-2:-2] # .....\n",
    "str1[-15:2:2] # ....\n",
    "str1[-15:-2:2] # P\n",
    "str1[-15:-2:-2] # NP"
   ]
  },
  {
   "cell_type": "code",
   "execution_count": 41,
   "id": "024755a6-0136-4820-aeb3-b8881c4ad3eb",
   "metadata": {},
   "outputs": [
    {
     "data": {
      "text/plain": [
       "'l'"
      ]
     },
     "execution_count": 41,
     "metadata": {},
     "output_type": "execute_result"
    }
   ],
   "source": [
    "str1[2:3:1]\n",
    "str1[2:-14:2]\n",
    "# start=2 last=-14-1=-15"
   ]
  },
  {
   "cell_type": "code",
   "execution_count": 43,
   "id": "72d654b7-d8fc-4ad9-97b9-85c09d520502",
   "metadata": {},
   "outputs": [
    {
     "data": {
      "text/plain": [
       "'llo how are you'"
      ]
     },
     "execution_count": 43,
     "metadata": {},
     "output_type": "execute_result"
    }
   ],
   "source": [
    "str1[2:250]"
   ]
  },
  {
   "cell_type": "code",
   "execution_count": 45,
   "id": "45ab47b3-0b30-4ced-8478-131e0134e1f2",
   "metadata": {},
   "outputs": [
    {
     "ename": "IndexError",
     "evalue": "string index out of range",
     "output_type": "error",
     "traceback": [
      "\u001b[1;31m---------------------------------------------------------------------------\u001b[0m",
      "\u001b[1;31mIndexError\u001b[0m                                Traceback (most recent call last)",
      "Cell \u001b[1;32mIn[45], line 1\u001b[0m\n\u001b[1;32m----> 1\u001b[0m str1[\u001b[38;5;241m25\u001b[39m]\n",
      "\u001b[1;31mIndexError\u001b[0m: string index out of range"
     ]
    }
   ],
   "source": [
    "str1[25]"
   ]
  },
  {
   "cell_type": "code",
   "execution_count": 47,
   "id": "1ec7be6d-2231-4009-b7ba-d326b539a467",
   "metadata": {},
   "outputs": [
    {
     "data": {
      "text/plain": [
       "'uoy era woh olleH'"
      ]
     },
     "execution_count": 47,
     "metadata": {},
     "output_type": "execute_result"
    }
   ],
   "source": [
    "#str1[start:stop:step]\n",
    "str1[:]  # str1[start:stop]\n",
    "str1[::] # str1[start:stop:step]\n",
    "str1[::-1]"
   ]
  },
  {
   "cell_type": "code",
   "execution_count": 49,
   "id": "ee9d8714-3295-4a60-b938-8ccdbd66c7ae",
   "metadata": {},
   "outputs": [
    {
     "data": {
      "text/plain": [
       "'e'"
      ]
     },
     "execution_count": 49,
     "metadata": {},
     "output_type": "execute_result"
    }
   ],
   "source": [
    "min('hello')"
   ]
  },
  {
   "cell_type": "code",
   "execution_count": 51,
   "id": "a1496229-e310-47cb-8102-46b09d344e51",
   "metadata": {},
   "outputs": [
    {
     "data": {
      "text/plain": [
       "10"
      ]
     },
     "execution_count": 51,
     "metadata": {},
     "output_type": "execute_result"
    }
   ],
   "source": [
    "min([10,20,30])"
   ]
  },
  {
   "cell_type": "markdown",
   "id": "1d24bb28-5988-41d2-a2f1-2b43cb608b74",
   "metadata": {},
   "source": [
    "**Methods**"
   ]
  },
  {
   "cell_type": "code",
   "execution_count": 54,
   "id": "920210ef-9f85-4052-8e65-ea41fc98bb2b",
   "metadata": {},
   "outputs": [
    {
     "data": {
      "text/plain": [
       "0"
      ]
     },
     "execution_count": 54,
     "metadata": {},
     "output_type": "execute_result"
    }
   ],
   "source": [
    "len('')"
   ]
  },
  {
   "cell_type": "code",
   "execution_count": 56,
   "id": "d39939f8-95c6-4b09-8123-b7d4c98e26b4",
   "metadata": {},
   "outputs": [
    {
     "data": {
      "text/plain": [
       "1"
      ]
     },
     "execution_count": 56,
     "metadata": {},
     "output_type": "execute_result"
    }
   ],
   "source": [
    "len(' ')"
   ]
  },
  {
   "cell_type": "code",
   "execution_count": 58,
   "id": "c518b560-dd02-4b36-912e-9f5b3d9290c2",
   "metadata": {},
   "outputs": [],
   "source": [
    "import random"
   ]
  },
  {
   "cell_type": "code",
   "execution_count": 60,
   "id": "a3005b85-b378-4395-ade5-bcaa0d996ab6",
   "metadata": {},
   "outputs": [
    {
     "data": {
      "text/plain": [
       "['BPF',\n",
       " 'LOG4',\n",
       " 'NV_MAGICCONST',\n",
       " 'RECIP_BPF',\n",
       " 'Random',\n",
       " 'SG_MAGICCONST',\n",
       " 'SystemRandom',\n",
       " 'TWOPI',\n",
       " '_ONE',\n",
       " '_Sequence',\n",
       " '__all__',\n",
       " '__builtins__',\n",
       " '__cached__',\n",
       " '__doc__',\n",
       " '__file__',\n",
       " '__loader__',\n",
       " '__name__',\n",
       " '__package__',\n",
       " '__spec__',\n",
       " '_accumulate',\n",
       " '_acos',\n",
       " '_bisect',\n",
       " '_ceil',\n",
       " '_cos',\n",
       " '_e',\n",
       " '_exp',\n",
       " '_fabs',\n",
       " '_floor',\n",
       " '_index',\n",
       " '_inst',\n",
       " '_isfinite',\n",
       " '_lgamma',\n",
       " '_log',\n",
       " '_log2',\n",
       " '_os',\n",
       " '_pi',\n",
       " '_random',\n",
       " '_repeat',\n",
       " '_sha512',\n",
       " '_sin',\n",
       " '_sqrt',\n",
       " '_test',\n",
       " '_test_generator',\n",
       " '_urandom',\n",
       " '_warn',\n",
       " 'betavariate',\n",
       " 'binomialvariate',\n",
       " 'choice',\n",
       " 'choices',\n",
       " 'expovariate',\n",
       " 'gammavariate',\n",
       " 'gauss',\n",
       " 'getrandbits',\n",
       " 'getstate',\n",
       " 'lognormvariate',\n",
       " 'normalvariate',\n",
       " 'paretovariate',\n",
       " 'randbytes',\n",
       " 'randint',\n",
       " 'random',\n",
       " 'randrange',\n",
       " 'sample',\n",
       " 'seed',\n",
       " 'setstate',\n",
       " 'shuffle',\n",
       " 'triangular',\n",
       " 'uniform',\n",
       " 'vonmisesvariate',\n",
       " 'weibullvariate']"
      ]
     },
     "execution_count": 60,
     "metadata": {},
     "output_type": "execute_result"
    }
   ],
   "source": [
    "dir(random)"
   ]
  },
  {
   "cell_type": "code",
   "execution_count": 62,
   "id": "86b85e60-834f-4752-b4dd-5c5476f0a885",
   "metadata": {},
   "outputs": [
    {
     "data": {
      "text/plain": [
       "['__add__',\n",
       " '__class__',\n",
       " '__contains__',\n",
       " '__delattr__',\n",
       " '__dir__',\n",
       " '__doc__',\n",
       " '__eq__',\n",
       " '__format__',\n",
       " '__ge__',\n",
       " '__getattribute__',\n",
       " '__getitem__',\n",
       " '__getnewargs__',\n",
       " '__getstate__',\n",
       " '__gt__',\n",
       " '__hash__',\n",
       " '__init__',\n",
       " '__init_subclass__',\n",
       " '__iter__',\n",
       " '__le__',\n",
       " '__len__',\n",
       " '__lt__',\n",
       " '__mod__',\n",
       " '__mul__',\n",
       " '__ne__',\n",
       " '__new__',\n",
       " '__reduce__',\n",
       " '__reduce_ex__',\n",
       " '__repr__',\n",
       " '__rmod__',\n",
       " '__rmul__',\n",
       " '__setattr__',\n",
       " '__sizeof__',\n",
       " '__str__',\n",
       " '__subclasshook__',\n",
       " 'capitalize',\n",
       " 'casefold',\n",
       " 'center',\n",
       " 'count',\n",
       " 'encode',\n",
       " 'endswith',\n",
       " 'expandtabs',\n",
       " 'find',\n",
       " 'format',\n",
       " 'format_map',\n",
       " 'index',\n",
       " 'isalnum',\n",
       " 'isalpha',\n",
       " 'isascii',\n",
       " 'isdecimal',\n",
       " 'isdigit',\n",
       " 'isidentifier',\n",
       " 'islower',\n",
       " 'isnumeric',\n",
       " 'isprintable',\n",
       " 'isspace',\n",
       " 'istitle',\n",
       " 'isupper',\n",
       " 'join',\n",
       " 'ljust',\n",
       " 'lower',\n",
       " 'lstrip',\n",
       " 'maketrans',\n",
       " 'partition',\n",
       " 'removeprefix',\n",
       " 'removesuffix',\n",
       " 'replace',\n",
       " 'rfind',\n",
       " 'rindex',\n",
       " 'rjust',\n",
       " 'rpartition',\n",
       " 'rsplit',\n",
       " 'rstrip',\n",
       " 'split',\n",
       " 'splitlines',\n",
       " 'startswith',\n",
       " 'strip',\n",
       " 'swapcase',\n",
       " 'title',\n",
       " 'translate',\n",
       " 'upper',\n",
       " 'zfill']"
      ]
     },
     "execution_count": 62,
     "metadata": {},
     "output_type": "execute_result"
    }
   ],
   "source": [
    "name='python'\n",
    "dir(name)"
   ]
  },
  {
   "cell_type": "code",
   "execution_count": 64,
   "id": "12ad258a-f271-4bca-b978-90aa51d796ea",
   "metadata": {},
   "outputs": [
    {
     "data": {
      "text/plain": [
       "['__add__',\n",
       " '__class__',\n",
       " '__contains__',\n",
       " '__delattr__',\n",
       " '__dir__',\n",
       " '__doc__',\n",
       " '__eq__',\n",
       " '__format__',\n",
       " '__ge__',\n",
       " '__getattribute__',\n",
       " '__getitem__',\n",
       " '__getnewargs__',\n",
       " '__getstate__',\n",
       " '__gt__',\n",
       " '__hash__',\n",
       " '__init__',\n",
       " '__init_subclass__',\n",
       " '__iter__',\n",
       " '__le__',\n",
       " '__len__',\n",
       " '__lt__',\n",
       " '__mod__',\n",
       " '__mul__',\n",
       " '__ne__',\n",
       " '__new__',\n",
       " '__reduce__',\n",
       " '__reduce_ex__',\n",
       " '__repr__',\n",
       " '__rmod__',\n",
       " '__rmul__',\n",
       " '__setattr__',\n",
       " '__sizeof__',\n",
       " '__str__',\n",
       " '__subclasshook__',\n",
       " 'capitalize',\n",
       " 'casefold',\n",
       " 'center',\n",
       " 'count',\n",
       " 'encode',\n",
       " 'endswith',\n",
       " 'expandtabs',\n",
       " 'find',\n",
       " 'format',\n",
       " 'format_map',\n",
       " 'index',\n",
       " 'isalnum',\n",
       " 'isalpha',\n",
       " 'isascii',\n",
       " 'isdecimal',\n",
       " 'isdigit',\n",
       " 'isidentifier',\n",
       " 'islower',\n",
       " 'isnumeric',\n",
       " 'isprintable',\n",
       " 'isspace',\n",
       " 'istitle',\n",
       " 'isupper',\n",
       " 'join',\n",
       " 'ljust',\n",
       " 'lower',\n",
       " 'lstrip',\n",
       " 'maketrans',\n",
       " 'partition',\n",
       " 'removeprefix',\n",
       " 'removesuffix',\n",
       " 'replace',\n",
       " 'rfind',\n",
       " 'rindex',\n",
       " 'rjust',\n",
       " 'rpartition',\n",
       " 'rsplit',\n",
       " 'rstrip',\n",
       " 'split',\n",
       " 'splitlines',\n",
       " 'startswith',\n",
       " 'strip',\n",
       " 'swapcase',\n",
       " 'title',\n",
       " 'translate',\n",
       " 'upper',\n",
       " 'zfill']"
      ]
     },
     "execution_count": 64,
     "metadata": {},
     "output_type": "execute_result"
    }
   ],
   "source": [
    "dir('')"
   ]
  },
  {
   "cell_type": "code",
   "execution_count": null,
   "id": "d46920d6-fde9-40b6-874e-9cfd1639f5cf",
   "metadata": {},
   "outputs": [],
   "source": [
    "dir(random)\n",
    "    randint\n",
    "\n",
    "random.randint()"
   ]
  },
  {
   "cell_type": "markdown",
   "id": "138b136a-9296-4bf1-be7f-11ee1ddd4a42",
   "metadata": {},
   "source": [
    "**upper**"
   ]
  },
  {
   "cell_type": "code",
   "execution_count": 69,
   "id": "be377e40-a2f3-4011-9c10-7405c137f431",
   "metadata": {},
   "outputs": [
    {
     "data": {
      "text/plain": [
       "'PYTHON'"
      ]
     },
     "execution_count": 69,
     "metadata": {},
     "output_type": "execute_result"
    }
   ],
   "source": [
    "name='python'\n",
    "dir(name)\n",
    "# upper\n",
    "name.upper()"
   ]
  },
  {
   "cell_type": "code",
   "execution_count": null,
   "id": "00a4b05c-43fd-44be-9166-a583259bc0ac",
   "metadata": {},
   "outputs": [],
   "source": [
    "<package_name>.<method_name>"
   ]
  },
  {
   "cell_type": "code",
   "execution_count": 73,
   "id": "39862cff-f6b9-4b0e-b7b8-8f351475f8e7",
   "metadata": {},
   "outputs": [
    {
     "data": {
      "text/plain": [
       "'PYTHON'"
      ]
     },
     "execution_count": 73,
     "metadata": {},
     "output_type": "execute_result"
    }
   ],
   "source": [
    "name.upper()"
   ]
  },
  {
   "cell_type": "code",
   "execution_count": 75,
   "id": "deef6e4b-c5f7-492b-8ac2-0065019aec47",
   "metadata": {},
   "outputs": [
    {
     "data": {
      "text/plain": [
       "'python'"
      ]
     },
     "execution_count": 75,
     "metadata": {},
     "output_type": "execute_result"
    }
   ],
   "source": [
    "name"
   ]
  },
  {
   "cell_type": "markdown",
   "id": "eebf1f82-a316-4214-a384-c59b0c4fde5f",
   "metadata": {},
   "source": [
    "**output will not overwrite**\n",
    "\n",
    "- whenever we apply the function\n",
    "\n",
    "- always apply shift+tab\n",
    "\n",
    "- then if any arguments are there try to understand those\n",
    "\n",
    "- in that one argument name is called as **inplace**\n",
    "\n",
    "- inplace=True the result will be overwrite in original variable\n",
    "\n",
    "- if inplace not avaialbe or inplace=False\n",
    "\n",
    "- then the output will not overwrite\n",
    "\n",
    "- in the upper case there is no arguments\n",
    "\n",
    "- so when we apply upper the output will not overwrite"
   ]
  },
  {
   "cell_type": "code",
   "execution_count": 2,
   "id": "4c08cfb7-1809-4521-893c-a53b8892787d",
   "metadata": {},
   "outputs": [],
   "source": [
    "name='python'\n",
    "name_upper=name.upper()"
   ]
  },
  {
   "cell_type": "code",
   "execution_count": 4,
   "id": "f837f392-cad7-43d0-abcb-1d02ce939051",
   "metadata": {},
   "outputs": [
    {
     "name": "stdout",
     "output_type": "stream",
     "text": [
      "python\n",
      "PYTHON\n"
     ]
    }
   ],
   "source": [
    "print(name)\n",
    "print(name_upper)"
   ]
  },
  {
   "cell_type": "code",
   "execution_count": 6,
   "id": "74f5151d-5f44-4da0-a1ef-59e13956bfca",
   "metadata": {},
   "outputs": [
    {
     "data": {
      "text/plain": [
       "'python'"
      ]
     },
     "execution_count": 6,
     "metadata": {},
     "output_type": "execute_result"
    }
   ],
   "source": [
    "name.lower()"
   ]
  },
  {
   "cell_type": "code",
   "execution_count": 8,
   "id": "ef1ade49-61ef-4bec-a4c2-06c7dcfe4918",
   "metadata": {},
   "outputs": [
    {
     "data": {
      "text/plain": [
       "'python'"
      ]
     },
     "execution_count": 8,
     "metadata": {},
     "output_type": "execute_result"
    }
   ],
   "source": [
    "'PYTHON'.lower()"
   ]
  },
  {
   "cell_type": "code",
   "execution_count": null,
   "id": "7326d50f-acb9-43fb-9b85-d9a74bdb5714",
   "metadata": {},
   "outputs": [],
   "source": [
    "PYTHON.lower() # error \n",
    "lower('PYTHON') # error\n",
    "min('Python')\n",
    "max('Python')\n",
    "len('Python')"
   ]
  },
  {
   "cell_type": "markdown",
   "id": "8c1d03f8-3f9d-49b0-8a54-a6e710627827",
   "metadata": {},
   "source": [
    "**Methods vs inbuilt function**\n",
    "\n",
    "- inbuilt functions applicable for all python data types\n",
    "\n",
    "- ex: print, type, min,max ..\n",
    "\n",
    "- access: inbuilt_function()\n",
    "\n",
    "- method is a specific use for different data types\n",
    "\n",
    "- access: package.methodname()\n",
    "\n",
    "- access: element.methodname()"
   ]
  },
  {
   "cell_type": "code",
   "execution_count": 13,
   "id": "30c3c9fb-f5b0-4dd7-a82f-bbe2474aa62b",
   "metadata": {},
   "outputs": [
    {
     "data": {
      "text/plain": [
       "'python'"
      ]
     },
     "execution_count": 13,
     "metadata": {},
     "output_type": "execute_result"
    }
   ],
   "source": [
    "'python'.casefold()"
   ]
  },
  {
   "cell_type": "code",
   "execution_count": 15,
   "id": "3b73089b-cb54-4b04-b3cd-680d7338db9e",
   "metadata": {},
   "outputs": [
    {
     "data": {
      "text/plain": [
       "'python'"
      ]
     },
     "execution_count": 15,
     "metadata": {},
     "output_type": "execute_result"
    }
   ],
   "source": [
    "'python'.casefold()"
   ]
  },
  {
   "cell_type": "code",
   "execution_count": 17,
   "id": "6d2c99eb-c171-4587-841d-c706f7c85bf1",
   "metadata": {},
   "outputs": [
    {
     "data": {
      "text/plain": [
       "'python'"
      ]
     },
     "execution_count": 17,
     "metadata": {},
     "output_type": "execute_result"
    }
   ],
   "source": [
    "'PYTHON'.casefold()"
   ]
  },
  {
   "cell_type": "markdown",
   "id": "f54a4f63-1f61-469c-8739-c45bbd530c90",
   "metadata": {},
   "source": [
    "**Capitalize**"
   ]
  },
  {
   "cell_type": "code",
   "execution_count": 20,
   "id": "aa8ee533-6531-497f-951b-baf7a56d5259",
   "metadata": {},
   "outputs": [
    {
     "data": {
      "text/plain": [
       "'Welcome'"
      ]
     },
     "execution_count": 20,
     "metadata": {},
     "output_type": "execute_result"
    }
   ],
   "source": [
    "str1='welcome'\n",
    "str1.capitalize()"
   ]
  },
  {
   "cell_type": "code",
   "execution_count": 22,
   "id": "b9c6dcd4-c4f3-4933-84b3-209952b6d3bf",
   "metadata": {},
   "outputs": [
    {
     "data": {
      "text/plain": [
       "'Hello how are you'"
      ]
     },
     "execution_count": 22,
     "metadata": {},
     "output_type": "execute_result"
    }
   ],
   "source": [
    "str1='Hello how are you'\n",
    "str1.capitalize()"
   ]
  },
  {
   "cell_type": "markdown",
   "id": "f57265ee-230b-4239-a270-e32131807272",
   "metadata": {},
   "source": [
    "**Title**"
   ]
  },
  {
   "cell_type": "code",
   "execution_count": 25,
   "id": "3b6feb4b-294d-43e6-946b-fad9fca7cb94",
   "metadata": {},
   "outputs": [
    {
     "data": {
      "text/plain": [
       "'Welcome'"
      ]
     },
     "execution_count": 25,
     "metadata": {},
     "output_type": "execute_result"
    }
   ],
   "source": [
    "str1='welcome'\n",
    "str1.title()"
   ]
  },
  {
   "cell_type": "code",
   "execution_count": 27,
   "id": "c4aab8c9-4d7a-48f2-8a37-ed529b81d684",
   "metadata": {},
   "outputs": [
    {
     "data": {
      "text/plain": [
       "'Hello How Are You'"
      ]
     },
     "execution_count": 27,
     "metadata": {},
     "output_type": "execute_result"
    }
   ],
   "source": [
    "str1='Hello how are you'\n",
    "str1.title()"
   ]
  },
  {
   "cell_type": "code",
   "execution_count": 29,
   "id": "d062b637-7b29-4775-96aa-868838950056",
   "metadata": {},
   "outputs": [
    {
     "data": {
      "text/plain": [
       "'Welcome'"
      ]
     },
     "execution_count": 29,
     "metadata": {},
     "output_type": "execute_result"
    }
   ],
   "source": [
    "'welcome'.title()"
   ]
  },
  {
   "cell_type": "markdown",
   "id": "1ccc9c68-ce59-4449-9e53-ba57541b3227",
   "metadata": {},
   "source": [
    "**center**"
   ]
  },
  {
   "cell_type": "code",
   "execution_count": 38,
   "id": "be6f4e53-c9f4-4968-a0f9-de4e230c9428",
   "metadata": {},
   "outputs": [
    {
     "data": {
      "text/plain": [
       "' python'"
      ]
     },
     "execution_count": 38,
     "metadata": {},
     "output_type": "execute_result"
    }
   ],
   "source": [
    "str1='python'\n",
    "str1.center(7)"
   ]
  },
  {
   "cell_type": "code",
   "execution_count": 40,
   "id": "3d4d1944-5cbe-44fa-96a2-270e3acea7cf",
   "metadata": {},
   "outputs": [
    {
     "data": {
      "text/plain": [
       "'********python*******'"
      ]
     },
     "execution_count": 40,
     "metadata": {},
     "output_type": "execute_result"
    }
   ],
   "source": [
    "str1.center(21,'*')"
   ]
  },
  {
   "cell_type": "markdown",
   "id": "6e97599d-ebdb-4ab8-9c64-eece830594ca",
   "metadata": {},
   "source": [
    "**replace**"
   ]
  },
  {
   "cell_type": "code",
   "execution_count": 43,
   "id": "2d75cb23-bd6b-4ab7-abb3-68a095deab87",
   "metadata": {},
   "outputs": [
    {
     "data": {
      "text/plain": [
       "'weLcome'"
      ]
     },
     "execution_count": 43,
     "metadata": {},
     "output_type": "execute_result"
    }
   ],
   "source": [
    "str1='welcome'\n",
    "# replace 'l' with 'l'\n",
    "str1.replace('l','L')"
   ]
  },
  {
   "cell_type": "code",
   "execution_count": 45,
   "id": "428319bc-2f8d-4b4f-86d6-a9c6021d2b96",
   "metadata": {},
   "outputs": [
    {
     "data": {
      "text/plain": [
       "'weLLLcome'"
      ]
     },
     "execution_count": 45,
     "metadata": {},
     "output_type": "execute_result"
    }
   ],
   "source": [
    "str1='welllcome'\n",
    "str1.replace('l','L')"
   ]
  },
  {
   "cell_type": "code",
   "execution_count": 51,
   "id": "decc20da-3126-4b88-a7bf-b8944456ed49",
   "metadata": {},
   "outputs": [
    {
     "data": {
      "text/plain": [
       "'weLllcome'"
      ]
     },
     "execution_count": 51,
     "metadata": {},
     "output_type": "execute_result"
    }
   ],
   "source": [
    "str1='welllcome'\n",
    "str1.replace('l','L',1)"
   ]
  },
  {
   "cell_type": "code",
   "execution_count": 57,
   "id": "4eee97ae-86d7-4728-aa4b-e65fffcc65f7",
   "metadata": {},
   "outputs": [
    {
     "data": {
      "text/plain": [
       "'weLLlcome'"
      ]
     },
     "execution_count": 57,
     "metadata": {},
     "output_type": "execute_result"
    }
   ],
   "source": [
    "str1='welllcome'\n",
    "str1.replace('l','L',2)"
   ]
  },
  {
   "cell_type": "code",
   "execution_count": 59,
   "id": "1ab270ff-3707-478d-83b1-ed29fa656d80",
   "metadata": {},
   "outputs": [
    {
     "data": {
      "text/plain": [
       "'weLLLcome'"
      ]
     },
     "execution_count": 59,
     "metadata": {},
     "output_type": "execute_result"
    }
   ],
   "source": [
    "str1='welllcome'\n",
    "str1.replace('l','L',4)"
   ]
  },
  {
   "cell_type": "code",
   "execution_count": 61,
   "id": "e862b72c-ef03-49c3-a013-8ac10209a924",
   "metadata": {},
   "outputs": [
    {
     "data": {
      "text/plain": [
       "'welllcome'"
      ]
     },
     "execution_count": 61,
     "metadata": {},
     "output_type": "execute_result"
    }
   ],
   "source": [
    "str1.replace('z','Z')"
   ]
  },
  {
   "cell_type": "code",
   "execution_count": 63,
   "id": "8e0af83d-cc90-4ada-aa52-dffbeb3e50c2",
   "metadata": {},
   "outputs": [
    {
     "data": {
      "text/plain": [
       "'heLLo'"
      ]
     },
     "execution_count": 63,
     "metadata": {},
     "output_type": "execute_result"
    }
   ],
   "source": [
    "str1='hello'\n",
    "str1.replace('l','L') # count"
   ]
  },
  {
   "cell_type": "code",
   "execution_count": 65,
   "id": "d5772220-6ae5-4314-a9cd-1df7c227d7b9",
   "metadata": {},
   "outputs": [
    {
     "data": {
      "text/plain": [
       "'heLlo'"
      ]
     },
     "execution_count": 65,
     "metadata": {},
     "output_type": "execute_result"
    }
   ],
   "source": [
    "str1.replace('l','L',1)"
   ]
  },
  {
   "cell_type": "markdown",
   "id": "69e495c0-b4ee-410b-9248-e3943dbbc73e",
   "metadata": {},
   "source": [
    "**How to replace the only second letter**"
   ]
  },
  {
   "cell_type": "code",
   "execution_count": 68,
   "id": "6f58d10f-a230-4c25-8548-e77f22d91b74",
   "metadata": {},
   "outputs": [
    {
     "data": {
      "text/plain": [
       "'resta$t'"
      ]
     },
     "execution_count": 68,
     "metadata": {},
     "output_type": "execute_result"
    }
   ],
   "source": [
    "str1='restart'\n",
    "# ans: 'resta$t'\n",
    "str1.replace('rt','$t') # wrong"
   ]
  },
  {
   "cell_type": "markdown",
   "id": "da95fa43-ee7a-45cc-a63e-6057348c8994",
   "metadata": {},
   "source": [
    "- till first 'r' is the one string\n",
    "\n",
    "- after first 'r' is the another string"
   ]
  },
  {
   "cell_type": "code",
   "execution_count": 71,
   "id": "a0378f53-e0aa-4770-80fe-af24a8686abe",
   "metadata": {},
   "outputs": [
    {
     "data": {
      "text/plain": [
       "'resta$t'"
      ]
     },
     "execution_count": 71,
     "metadata": {},
     "output_type": "execute_result"
    }
   ],
   "source": [
    "str1='restart'\n",
    "s1=str1[0] # indexing\n",
    "s2=str1[1:] # slicing\n",
    "s3=s2.replace('r','$') # replace\n",
    "s1+s3 # concatenation"
   ]
  },
  {
   "cell_type": "code",
   "execution_count": 73,
   "id": "8771dfb4-c57c-4886-806d-937a1af66dfc",
   "metadata": {},
   "outputs": [
    {
     "data": {
      "text/plain": [
       "'resta$t'"
      ]
     },
     "execution_count": 73,
     "metadata": {},
     "output_type": "execute_result"
    }
   ],
   "source": [
    "str1='restart'\n",
    "str1[::-1].replace('r','$',1)[::-1]"
   ]
  },
  {
   "cell_type": "code",
   "execution_count": null,
   "id": "1ed30383-2521-47cc-b6f4-d6373430f144",
   "metadata": {},
   "outputs": [],
   "source": [
    "str1='restart restart'\n",
    "\n",
    "# i want to replace the third 'r'\n",
    "# third 'r' means we have alreday 'r's\n",
    "# we need to slice the sentence\n",
    "# till second 'r' : one string\n",
    "# after second 'r' : one string\n",
    "\n",
    "# but here the drawback is we need to find the index of second 'r'\n",
    "# we are manually counting\n",
    "\n",
    "# Next qn: is there any method to give automatically the index of letter"
   ]
  },
  {
   "cell_type": "markdown",
   "id": "00afc176-cbbd-4930-8dc0-3ff08c94b119",
   "metadata": {},
   "source": [
    "**index**"
   ]
  },
  {
   "cell_type": "code",
   "execution_count": 82,
   "id": "81b8e20d-03da-49b1-891d-8efc86fd8086",
   "metadata": {},
   "outputs": [
    {
     "data": {
      "text/plain": [
       "0"
      ]
     },
     "execution_count": 82,
     "metadata": {},
     "output_type": "execute_result"
    }
   ],
   "source": [
    "str1='hello hai how are you'\n",
    "str1.index('h')"
   ]
  },
  {
   "cell_type": "code",
   "execution_count": 84,
   "id": "842ff029-f3cb-47b5-97fa-0318b89e6a2d",
   "metadata": {},
   "outputs": [
    {
     "data": {
      "text/plain": [
       "(12, 4)"
      ]
     },
     "execution_count": 84,
     "metadata": {},
     "output_type": "execute_result"
    }
   ],
   "source": [
    "str1.index('w'),str1.index('o')"
   ]
  },
  {
   "cell_type": "code",
   "execution_count": 90,
   "id": "faccb699-0812-4748-99dd-42bb4e5f152a",
   "metadata": {},
   "outputs": [
    {
     "data": {
      "text/plain": [
       "6"
      ]
     },
     "execution_count": 90,
     "metadata": {},
     "output_type": "execute_result"
    }
   ],
   "source": [
    "# hello hai\n",
    "#012345678\n",
    "str1='welho hai how are you'\n",
    "str1.index('h',3+1)"
   ]
  },
  {
   "cell_type": "code",
   "execution_count": 96,
   "id": "a61ec2fc-2368-4bae-bed1-0f3229b664b9",
   "metadata": {},
   "outputs": [
    {
     "data": {
      "text/plain": [
       "(0, 4, 8, 12)"
      ]
     },
     "execution_count": 96,
     "metadata": {},
     "output_type": "execute_result"
    }
   ],
   "source": [
    "str1='hai hai hai hai'\n",
    "i1=str1.index('h')\n",
    "i2=str1.index('h',i1+1)  # we are searching for 'h' from i1+1(0+1=1) index onward\n",
    "i3=str1.index('h',i2+1)  # # we are searching for 'h' from i2+1(4+1=5) index onwa\n",
    "i4=str1.index('h',i3+1)\n",
    "# i5=str1.index('h',i4+1)\n",
    "i1,i2,i3,i4"
   ]
  },
  {
   "cell_type": "code",
   "execution_count": 94,
   "id": "a1244660-4091-45d3-a3e4-d19bb201abe9",
   "metadata": {},
   "outputs": [
    {
     "data": {
      "text/plain": [
       "(0, 4, 8, 12)"
      ]
     },
     "execution_count": 94,
     "metadata": {},
     "output_type": "execute_result"
    }
   ],
   "source": [
    "str1='hai hai hai hai'\n",
    "i1=str1.index('h')\n",
    "i2=str1.index('h',i1+1) # we are searching for 'h' from i1+1(0+1=1) index onward\n",
    "i3=str1.index('h',i2+1) # # we are searching for 'h' from i2+1(4+1=5) index onwa\n",
    "i4=str1.index('h',i3+1)\n",
    "#i5=str1.index('h',i4+1)\n",
    "i1,i2,i3,i4"
   ]
  },
  {
   "cell_type": "code",
   "execution_count": 98,
   "id": "dc060172-aa39-4fd9-ade8-016e035930fb",
   "metadata": {},
   "outputs": [
    {
     "data": {
      "text/plain": [
       "8"
      ]
     },
     "execution_count": 98,
     "metadata": {},
     "output_type": "execute_result"
    }
   ],
   "source": [
    "str1.index('h',str1.index('h',str1.index('h')+1)+1)"
   ]
  },
  {
   "cell_type": "code",
   "execution_count": 102,
   "id": "fa07f6e4-b44f-478c-95ee-4a985491b7a6",
   "metadata": {},
   "outputs": [
    {
     "data": {
      "text/plain": [
       "'i hai '"
      ]
     },
     "execution_count": 102,
     "metadata": {},
     "output_type": "execute_result"
    }
   ],
   "source": [
    "str1='hai hai hai hai'\n",
    "str1.index('a',2,8)\n",
    "\n",
    "str1[2:8]"
   ]
  },
  {
   "cell_type": "code",
   "execution_count": 104,
   "id": "126a85b8-52d0-4e27-b4c4-b75254e6dafe",
   "metadata": {},
   "outputs": [
    {
     "ename": "ValueError",
     "evalue": "substring not found",
     "output_type": "error",
     "traceback": [
      "\u001b[1;31m---------------------------------------------------------------------------\u001b[0m",
      "\u001b[1;31mValueError\u001b[0m                                Traceback (most recent call last)",
      "Cell \u001b[1;32mIn[104], line 2\u001b[0m\n\u001b[0;32m      1\u001b[0m str1\u001b[38;5;241m=\u001b[39m\u001b[38;5;124m'\u001b[39m\u001b[38;5;124mhai hai hai hai\u001b[39m\u001b[38;5;124m'\u001b[39m\n\u001b[1;32m----> 2\u001b[0m str1\u001b[38;5;241m.\u001b[39mindex(\u001b[38;5;124m'\u001b[39m\u001b[38;5;124mz\u001b[39m\u001b[38;5;124m'\u001b[39m,\u001b[38;5;241m2\u001b[39m,\u001b[38;5;241m8\u001b[39m)\n",
      "\u001b[1;31mValueError\u001b[0m: substring not found"
     ]
    }
   ],
   "source": [
    "str1='hai hai hai hai'\n",
    "str1.index('z',2,8)"
   ]
  },
  {
   "cell_type": "code",
   "execution_count": 106,
   "id": "9d9f1322-e213-4a5b-9092-93c2a23d377b",
   "metadata": {},
   "outputs": [
    {
     "data": {
      "text/plain": [
       "'restart $estart'"
      ]
     },
     "execution_count": 106,
     "metadata": {},
     "output_type": "execute_result"
    }
   ],
   "source": [
    "str1='restart restart'\n",
    "i1=str1.index('r')\n",
    "i2=str1.index('r',i1+1)\n",
    "s1=str1[:i2+1] # restar : starting : second_r_index+1\n",
    "s2=str1[i2+1:] # t restart : second_r_index+1 : last\n",
    "s3=s2.replace('r','$',1)\n",
    "s1+s3"
   ]
  },
  {
   "cell_type": "markdown",
   "id": "2d775b7b-ec4c-4788-9db0-6d6658a293fb",
   "metadata": {},
   "source": [
    "**find**\n",
    "\n",
    "- just replace index with find\n",
    "\n",
    "- tell me the different between index and find"
   ]
  },
  {
   "cell_type": "code",
   "execution_count": 109,
   "id": "17f7189b-e511-4645-8674-acdea0ba0c3a",
   "metadata": {},
   "outputs": [
    {
     "data": {
      "text/plain": [
       "(0, 4, 8, 12, -1)"
      ]
     },
     "execution_count": 109,
     "metadata": {},
     "output_type": "execute_result"
    }
   ],
   "source": [
    "str1='hai hai hai hai'\n",
    "i1=str1.find('h')\n",
    "i2=str1.find('h',i1+1) # # we are searching for 'h' from i1+1(0+1=1) index onwards\n",
    "i3=str1.find('h',i2+1) # # we are searching for 'h' from i2+1(4+1=5) index onwar\n",
    "i4=str1.find('h',i3+1)\n",
    "i5=str1.find('h',i4+1)\n",
    "i1,i2,i3,i4,i5"
   ]
  },
  {
   "cell_type": "markdown",
   "id": "eb48cec6-2a72-4e1b-b79d-4c3a9ac8bd4f",
   "metadata": {},
   "source": [
    "- index and find both are working for same to find the index of a letter\n",
    "\n",
    "- if any substring not found index will through error\n",
    "\n",
    "- but find method will give-1"
   ]
  },
  {
   "cell_type": "markdown",
   "id": "134ca86a-45d7-4065-bd22-8db1b0c6ff18",
   "metadata": {},
   "source": [
    "**count**"
   ]
  },
  {
   "cell_type": "code",
   "execution_count": 113,
   "id": "21a3b55e-d308-4567-8b4c-e5a3f55e73f2",
   "metadata": {},
   "outputs": [
    {
     "name": "stdout",
     "output_type": "stream",
     "text": [
      "4\n"
     ]
    }
   ],
   "source": [
    "str1='hai hai hai hai'\n",
    "count=0\n",
    "for i in str1:\n",
    "    if i=='a':\n",
    "        count=count+1\n",
    "print(count)"
   ]
  },
  {
   "cell_type": "code",
   "execution_count": 115,
   "id": "4d112e74-dc57-4a67-995c-d04c9d02b68b",
   "metadata": {},
   "outputs": [
    {
     "data": {
      "text/plain": [
       "4"
      ]
     },
     "execution_count": 115,
     "metadata": {},
     "output_type": "execute_result"
    }
   ],
   "source": [
    "str1='hai hai hai hai'\n",
    "str1.count('a')"
   ]
  },
  {
   "cell_type": "code",
   "execution_count": 117,
   "id": "4fdfe780-01ec-4e58-bcc1-50b52b92caaa",
   "metadata": {},
   "outputs": [
    {
     "data": {
      "text/plain": [
       "1"
      ]
     },
     "execution_count": 117,
     "metadata": {},
     "output_type": "execute_result"
    }
   ],
   "source": [
    "str1.count('a',2,7)\n",
    "# count the number of 'a' between 2 to 6 index"
   ]
  },
  {
   "cell_type": "code",
   "execution_count": 119,
   "id": "3dd8d786-cc62-45e8-9ca5-b2e638e33b03",
   "metadata": {},
   "outputs": [
    {
     "data": {
      "text/plain": [
       "1"
      ]
     },
     "execution_count": 119,
     "metadata": {},
     "output_type": "execute_result"
    }
   ],
   "source": [
    "str1='hai hai hai'\n",
    "str1.count('hai hai hai')"
   ]
  },
  {
   "cell_type": "code",
   "execution_count": 121,
   "id": "e11b53e3-f062-4d3b-830c-5d95d9ae520e",
   "metadata": {},
   "outputs": [
    {
     "data": {
      "text/plain": [
       "1"
      ]
     },
     "execution_count": 121,
     "metadata": {},
     "output_type": "execute_result"
    }
   ],
   "source": [
    "str1='hai hai hai'\n",
    "str1.count(str1)"
   ]
  },
  {
   "cell_type": "code",
   "execution_count": 123,
   "id": "36541962-3676-44fc-ad57-bda1a62a7db3",
   "metadata": {},
   "outputs": [
    {
     "data": {
      "text/plain": [
       "3"
      ]
     },
     "execution_count": 123,
     "metadata": {},
     "output_type": "execute_result"
    }
   ],
   "source": [
    "str1='hai hai hai'\n",
    "str1.count('hai')"
   ]
  },
  {
   "cell_type": "markdown",
   "id": "04fbec18-6969-4d52-a8f4-c673bb891fe3",
   "metadata": {},
   "source": [
    "**sliding window approach** "
   ]
  },
  {
   "cell_type": "code",
   "execution_count": 127,
   "id": "327ef62e-ea30-4560-b516-5b6526830b2c",
   "metadata": {},
   "outputs": [
    {
     "name": "stdout",
     "output_type": "stream",
     "text": [
      "4\n"
     ]
    }
   ],
   "source": [
    "str1='hai hai hai hai'\n",
    "count=0\n",
    "for i in range(len(str1)):\n",
    "    if str1[i:i+3]=='hai':\n",
    "        count=count+1\n",
    "print(count)\n",
    "\n",
    "# step-1:  i=0  if str1[0:3] : hai==hai      T\n",
    "# step-2:  i=1  if str1[1:4] : 'ai '=='hai'  F\n",
    "# step-3:  i=2  if str1[2:5] : 'i h'=='hai'  F"
   ]
  },
  {
   "cell_type": "code",
   "execution_count": 129,
   "id": "e9ea6e84-4186-4abf-bd33-5f12f8a81ee6",
   "metadata": {},
   "outputs": [
    {
     "data": {
      "text/plain": [
       "'ai '"
      ]
     },
     "execution_count": 129,
     "metadata": {},
     "output_type": "execute_result"
    }
   ],
   "source": [
    "str1='hai hai hai hai'\n",
    "str1[1:4]"
   ]
  },
  {
   "cell_type": "code",
   "execution_count": 131,
   "id": "0f28aca7-e15d-4dbd-b234-78a0547c8718",
   "metadata": {},
   "outputs": [
    {
     "name": "stdout",
     "output_type": "stream",
     "text": [
      "a b c\n"
     ]
    }
   ],
   "source": [
    "str1='satya.datascientist@rcb.com'\n",
    "str2='rohit.sharma@mi.com'\n",
    "str3='m.dhoni@chennai.com'\n",
    "str4='omkar.nallagoni@cts.com'\n",
    "str5='Nandu.kishore@google.com'\n",
    "# Derive the code to get\n",
    "# first name, second name, Cname\n",
    "\n",
    "# idea\n",
    "# find the first dot index\n",
    "# find the # index\n",
    "# find the second dot index\n",
    "# fname : available from starting to first_dot\n",
    "# sname : availabe from firt_dot to @symbol\n",
    "# cname : available from @symbol to second_dot\n",
    "\n",
    "def extrcation(str1):\n",
    "    first_dot=str1.index('.')\n",
    "    second_dot=str1.index('.',first_dot+1)\n",
    "    at_symbol=str1.index('@')\n",
    "    fname=str1[:first_dot]\n",
    "    sname=str1[first_dot+1:at_symbol]\n",
    "    cname=str1[at_symbol+1:second_dot]\n",
    "    print(fname,sname,cname)\n",
    "\n",
    "extrcation('a.b@c.com')"
   ]
  },
  {
   "cell_type": "code",
   "execution_count": 133,
   "id": "f9ae27e0-1945-49ab-b1f8-c9bc0403ca06",
   "metadata": {},
   "outputs": [
    {
     "data": {
      "text/plain": [
       "['__add__',\n",
       " '__class__',\n",
       " '__contains__',\n",
       " '__delattr__',\n",
       " '__dir__',\n",
       " '__doc__',\n",
       " '__eq__',\n",
       " '__format__',\n",
       " '__ge__',\n",
       " '__getattribute__',\n",
       " '__getitem__',\n",
       " '__getnewargs__',\n",
       " '__getstate__',\n",
       " '__gt__',\n",
       " '__hash__',\n",
       " '__init__',\n",
       " '__init_subclass__',\n",
       " '__iter__',\n",
       " '__le__',\n",
       " '__len__',\n",
       " '__lt__',\n",
       " '__mod__',\n",
       " '__mul__',\n",
       " '__ne__',\n",
       " '__new__',\n",
       " '__reduce__',\n",
       " '__reduce_ex__',\n",
       " '__repr__',\n",
       " '__rmod__',\n",
       " '__rmul__',\n",
       " '__setattr__',\n",
       " '__sizeof__',\n",
       " '__str__',\n",
       " '__subclasshook__',\n",
       " 'capitalize',\n",
       " 'casefold',\n",
       " 'center',\n",
       " 'count',\n",
       " 'encode',\n",
       " 'endswith',\n",
       " 'expandtabs',\n",
       " 'find',\n",
       " 'format',\n",
       " 'format_map',\n",
       " 'index',\n",
       " 'isalnum',\n",
       " 'isalpha',\n",
       " 'isascii',\n",
       " 'isdecimal',\n",
       " 'isdigit',\n",
       " 'isidentifier',\n",
       " 'islower',\n",
       " 'isnumeric',\n",
       " 'isprintable',\n",
       " 'isspace',\n",
       " 'istitle',\n",
       " 'isupper',\n",
       " 'join',\n",
       " 'ljust',\n",
       " 'lower',\n",
       " 'lstrip',\n",
       " 'maketrans',\n",
       " 'partition',\n",
       " 'removeprefix',\n",
       " 'removesuffix',\n",
       " 'replace',\n",
       " 'rfind',\n",
       " 'rindex',\n",
       " 'rjust',\n",
       " 'rpartition',\n",
       " 'rsplit',\n",
       " 'rstrip',\n",
       " 'split',\n",
       " 'splitlines',\n",
       " 'startswith',\n",
       " 'strip',\n",
       " 'swapcase',\n",
       " 'title',\n",
       " 'translate',\n",
       " 'upper',\n",
       " 'zfill']"
      ]
     },
     "execution_count": 133,
     "metadata": {},
     "output_type": "execute_result"
    }
   ],
   "source": [
    "dir('')"
   ]
  },
  {
   "cell_type": "code",
   "execution_count": 135,
   "id": "5a11c46c-9250-4e0f-b5e7-333416f21927",
   "metadata": {},
   "outputs": [
    {
     "data": {
      "text/plain": [
       "False"
      ]
     },
     "execution_count": 135,
     "metadata": {},
     "output_type": "execute_result"
    }
   ],
   "source": [
    "str1='python'\n",
    "str1.isupper()"
   ]
  },
  {
   "cell_type": "markdown",
   "id": "50461821-cd75-4c4f-a3b8-64e9732d1195",
   "metadata": {},
   "source": [
    "**Istrip-strip-rstrip**\n",
    "\n",
    "- lstrip : we can remove some letters from left side of string\n",
    "\n",
    "- rstrip : we can remove some letters from right side of string\n",
    "\n",
    "- strip : we can remove some letters from both side of string"
   ]
  },
  {
   "cell_type": "code",
   "execution_count": 139,
   "id": "9eb66edb-e5c6-4a64-b95d-374e8d774ee2",
   "metadata": {},
   "outputs": [],
   "source": [
    "s1= 'hai how are you'\n",
    "s2= 'hai how are you '\n",
    "s3= 'hai how are you'"
   ]
  },
  {
   "cell_type": "code",
   "execution_count": 141,
   "id": "98c62838-bed6-4370-8229-ffc248f181f9",
   "metadata": {},
   "outputs": [
    {
     "data": {
      "text/plain": [
       "('hai how are you', 'hai how are you', 'hai how are you')"
      ]
     },
     "execution_count": 141,
     "metadata": {},
     "output_type": "execute_result"
    }
   ],
   "source": [
    "s1.lstrip(),s1.rstrip(),s1.strip()"
   ]
  },
  {
   "cell_type": "code",
   "execution_count": 143,
   "id": "6a90de4f-2f17-41c2-948a-82f0b31e94e6",
   "metadata": {},
   "outputs": [
    {
     "data": {
      "text/plain": [
       "('hai how are you ', 'hai how are you', 'hai how are you')"
      ]
     },
     "execution_count": 143,
     "metadata": {},
     "output_type": "execute_result"
    }
   ],
   "source": [
    "s2.lstrip(),s2.rstrip(),s2.strip()"
   ]
  },
  {
   "cell_type": "code",
   "execution_count": 145,
   "id": "a434d0a6-82a5-4f89-9951-b3028dd7789b",
   "metadata": {},
   "outputs": [
    {
     "data": {
      "text/plain": [
       "'hai how are you'"
      ]
     },
     "execution_count": 145,
     "metadata": {},
     "output_type": "execute_result"
    }
   ],
   "source": [
    "s1='***hai how are you'\n",
    "s1.lstrip('*')"
   ]
  },
  {
   "cell_type": "code",
   "execution_count": 147,
   "id": "991a52da-ce33-4763-a9b0-a96aacb89c8c",
   "metadata": {},
   "outputs": [
    {
     "data": {
      "text/plain": [
       "'hai how are you'"
      ]
     },
     "execution_count": 147,
     "metadata": {},
     "output_type": "execute_result"
    }
   ],
   "source": [
    "s11=' hai how are you'\n",
    "s22='hai how are you '\n",
    "s33=' hai how are you '\n",
    "s11.lstrip()"
   ]
  },
  {
   "cell_type": "markdown",
   "id": "69ffed15-c052-442c-aefd-a1e2be49dc73",
   "metadata": {},
   "source": [
    "**startswith-endswith**"
   ]
  },
  {
   "cell_type": "code",
   "execution_count": 150,
   "id": "cf0d5fec-1321-4074-b917-0392ed2efc88",
   "metadata": {},
   "outputs": [
    {
     "data": {
      "text/plain": [
       "True"
      ]
     },
     "execution_count": 150,
     "metadata": {},
     "output_type": "execute_result"
    }
   ],
   "source": [
    "str1='hai how are you'\n",
    "str1.startswith('hai how are you')"
   ]
  },
  {
   "cell_type": "code",
   "execution_count": 154,
   "id": "875d7cd8-1c1a-44f7-ae4c-e558251c2a5b",
   "metadata": {},
   "outputs": [
    {
     "data": {
      "text/plain": [
       "True"
      ]
     },
     "execution_count": 154,
     "metadata": {},
     "output_type": "execute_result"
    }
   ],
   "source": [
    "str1='hai how are you'\n",
    "str1.startswith(str1)"
   ]
  },
  {
   "cell_type": "code",
   "execution_count": 158,
   "id": "7df08f43-c97f-4143-b473-13cba1130854",
   "metadata": {},
   "outputs": [
    {
     "data": {
      "text/plain": [
       "True"
      ]
     },
     "execution_count": 158,
     "metadata": {},
     "output_type": "execute_result"
    }
   ],
   "source": [
    "str1='hai how are you'\n",
    "str1.endswith('hai how are you')"
   ]
  },
  {
   "cell_type": "markdown",
   "id": "8afd957f-34d8-404a-9903-03823683e2e7",
   "metadata": {},
   "source": [
    "**split**"
   ]
  },
  {
   "cell_type": "code",
   "execution_count": 161,
   "id": "09ebe6aa-a56e-45ec-9d83-aaab3df61def",
   "metadata": {},
   "outputs": [
    {
     "data": {
      "text/plain": [
       "['', 'ello ', 'ow are you']"
      ]
     },
     "execution_count": 161,
     "metadata": {},
     "output_type": "execute_result"
    }
   ],
   "source": [
    "str1='hello how are you'\n",
    "str1.split('h')\n",
    "# 'ello' ow are you"
   ]
  },
  {
   "cell_type": "code",
   "execution_count": 163,
   "id": "5918edaf-11a2-4ba9-a596-f115a6be3c2c",
   "metadata": {},
   "outputs": [
    {
     "data": {
      "text/plain": [
       "['h', 'i h', 'i h', 'i h', 'i']"
      ]
     },
     "execution_count": 163,
     "metadata": {},
     "output_type": "execute_result"
    }
   ],
   "source": [
    "str1='hai hai hai hai'\n",
    "str1.split('a')\n",
    "# 'h', 'i h', 'i h'.'i h'.i"
   ]
  },
  {
   "cell_type": "code",
   "execution_count": null,
   "id": "7c732522-278f-4c69-9843-c9afb9107ea4",
   "metadata": {},
   "outputs": [],
   "source": [
    "# in a given sentence find the most repetaed word\n",
    "# in a given senetence find min and max len of word\n",
    "# in a given stentence most occured second max length of word\n",
    "# sliding window\n",
    "# strings ===list vise versa\n",
    "# hai how are you : Hai  How  Are You (with out method)"
   ]
  }
 ],
 "metadata": {
  "kernelspec": {
   "display_name": "Python 3 (ipykernel)",
   "language": "python",
   "name": "python3"
  },
  "language_info": {
   "codemirror_mode": {
    "name": "ipython",
    "version": 3
   },
   "file_extension": ".py",
   "mimetype": "text/x-python",
   "name": "python",
   "nbconvert_exporter": "python",
   "pygments_lexer": "ipython3",
   "version": "3.12.4"
  }
 },
 "nbformat": 4,
 "nbformat_minor": 5
}
